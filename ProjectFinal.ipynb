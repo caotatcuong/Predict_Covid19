{
 "cells": [
  {
   "cell_type": "markdown",
   "metadata": {
    "id": "nZe79UMqTsHr"
   },
   "source": [
    "<h1 align=\"center\">Data Science - Final Project</h1>\n",
    "<p align=\"center\">\n",
    "  <a href=\"https://github.com/cuong091200\">\n",
    "    <img src=\"https://img.shields.io/badge/18120296-cuong091200-brightgreen.svg\">\n",
    "  </a>\n",
    "  <a href=\"https://github.com/viplazylmht\">\n",
    "    <img src=\"https://img.shields.io/badge/18120339-viplazylmht-brightgreen.svg\">\n",
    "  </a>\n",
    "  <a href=\"https://colab.research.google.com/github/cuong091200/DoAnCuoiKy_KHDL/blob/main/ProjectFinal.ipynb\">\n",
    "    <img src=\"https://colab.research.google.com/assets/colab-badge.svg\">\n",
    "  </a>\n",
    "\n",
    "  <a href=\"https://github.com/cuong091200/DoAnCuoiKy_KHDL\">\n",
    "    <img src=\"https://img.shields.io/badge/Github-131313?logo=github&logoColor=white\">\n",
    "  </a>\n",
    "</p>\n",
    "\n",
    "<p align=\"center\">Danh sách thành viên</p>\n",
    "\n",
    "|MSSV|Họ và Tên\n",
    "|:---|:-\n",
    "|18120296|Cao Tất Cường\n",
    "|18120339|Hà Văn Duy\n",
    "\n",
    " "
   ]
  },
  {
   "cell_type": "markdown",
   "metadata": {
    "id": "ceAa59HzV1V0"
   },
   "source": [
    "## Tổng quan"
   ]
  },
  {
   "cell_type": "markdown",
   "metadata": {
    "id": "PnUcD9P6XM5H"
   },
   "source": [
    "**COVID-19**\n",
    "\n",
    "Đây là đại dịch bệnh tryền nhiễm nguy hiểm, phát hiện lần đầu tiên ở Trung Quốc sau đó nhanh chóng lan rộng ra toàn thế giới.  \n",
    "Người mắc phải virus gây bệnh (SARS-CoV-2) thường sẽ có một khoảng thời gian ủ bệnh từ **2 - 14 ngày**, sau đó xuất hiện triệu chứng, một vài trường hợp có thể diễn tiến rất nhanh trở thành ca bệnh nặng, có thể dẫn đến tử vong.\n",
    "\n",
    "Thời điểm hiện tại, vacxin vẫn chưa được phân phối rộng rãi và kiểm định kết quả, đồng thời vẫn chưa có thuốc chữa đặc hiệu. Vì vậy, các bệnh nhân cần được chăm sóc y tế hồi sức để cơ thể tự sản sinh ra đề kháng và khỏi bệnh.  \n",
    "Đây là một dịch bệnh nghiêm trọng, vì vậy việc theo dõi sự tác động của nó với xã hội là điều cực kì cần thiết nhằm đưa ra các chính sách, giải pháp phù hợp để cải thiện tình hình, tiến tới xóa bỏ đại dịch trong tương lai gần.\n",
    "\n"
   ]
  },
  {
   "cell_type": "markdown",
   "metadata": {
    "id": "yCYR0inN8j9h"
   },
   "source": [
    "## Cài đặt và import các thư viện cần thiết"
   ]
  },
  {
   "cell_type": "code",
   "execution_count": 1,
   "metadata": {
    "id": "AjRkjKXAen5R"
   },
   "outputs": [],
   "source": [
    "# handle output to /dev/null to ignore text outputs xD\n",
    "!pip install sodapy > /dev/null\n",
    "\n",
    "# update sklearn to support set_config attr (see this answer: https://stackoverflow.com/a/62481510)\n",
    "!pip install --upgrade scikit-learn > /dev/null"
   ]
  },
  {
   "cell_type": "code",
   "execution_count": 2,
   "metadata": {
    "id": "iMVk87OoeOcJ"
   },
   "outputs": [],
   "source": [
    "import pandas as pd\n",
    "import numpy as np\n",
    "import matplotlib.pyplot as plt\n",
    "import seaborn as sns\n",
    "from sklearn.model_selection import train_test_split\n",
    "from sklearn.linear_model import Ridge\n",
    "from sklearn.neural_network import MLPRegressor\n",
    "from sklearn.linear_model import LinearRegression\n",
    "from sklearn.preprocessing import StandardScaler\n",
    "from sklearn.impute import SimpleImputer\n",
    "from sklearn.base import BaseEstimator, TransformerMixin\n",
    "from sklearn.pipeline import Pipeline, make_pipeline\n",
    "from sklearn.compose import ColumnTransformer, make_column_transformer\n",
    "from sklearn.svm import SVR\n",
    "from sklearn import set_config\n",
    "set_config(display='diagram')\n",
    "\n",
    "from sodapy import Socrata\n",
    "\n",
    "import regex as re\n",
    "from sklearn.metrics import r2_score"
   ]
  },
  {
   "cell_type": "markdown",
   "metadata": {
    "id": "tUC8uafS8VxZ"
   },
   "source": [
    "## Thu thập dữ liệu"
   ]
  },
  {
   "cell_type": "markdown",
   "metadata": {
    "id": "5Pb534S6anEm"
   },
   "source": [
    "\n",
    "Nguồn cấp dữ liệu: <a href=\"https://cdc.gov\">CDC</a> thông qua API.\n",
    "\n",
    "<img style=\"vertical-align:middle\" src=\"https://raw.githubusercontent.com/cuong091200/DoAnCuoiKy_KHDL/main/cdc_logo.svg\"></img>\n",
    "\n",
    "Theo mô tả của API, bộ dữ liệu này chứa danh sách các thông tin bao gồm số ca mắc và số ca tử vong mỗi ngày của các bang tại Mỹ. Cụ thể hơn, mỗi dòng dữ liệu là số liệu thống kê của một ngày của mỗi bang.  \n",
    "\n",
    "---\n",
    "\n",
    "Ta thu thập dữ liệu về và lưu vào `data_df`."
   ]
  },
  {
   "cell_type": "code",
   "execution_count": 3,
   "metadata": {
    "colab": {
     "base_uri": "https://localhost:8080/"
    },
    "id": "JEGm9zy18GIK",
    "outputId": "5373051c-39b4-46b9-9a3d-475c10969852"
   },
   "outputs": [
    {
     "name": "stderr",
     "output_type": "stream",
     "text": [
      "WARNING:root:Requests made without an app_token will be subject to strict throttling limits.\n"
     ]
    }
   ],
   "source": [
    "client = Socrata(\"data.cdc.gov\", None)\n",
    " \n",
    "results = client.get(\"9mfq-cb36\", limit=30000)\n",
    " \n",
    "data_df = pd.json_normalize(results)"
   ]
  },
  {
   "cell_type": "markdown",
   "metadata": {
    "id": "gr8RX2JwWCvH"
   },
   "source": [
    "## Khám phá dữ liệu (đủ để có thể xác định câu hỏi)"
   ]
  },
  {
   "cell_type": "code",
   "execution_count": 4,
   "metadata": {
    "colab": {
     "base_uri": "https://localhost:8080/",
     "height": 299
    },
    "id": "0fLtd0wMrIBr",
    "outputId": "a9de35bf-5ff3-40b3-e6bb-0dd81be5576e"
   },
   "outputs": [
    {
     "data": {
      "text/html": [
       "<div>\n",
       "<style scoped>\n",
       "    .dataframe tbody tr th:only-of-type {\n",
       "        vertical-align: middle;\n",
       "    }\n",
       "\n",
       "    .dataframe tbody tr th {\n",
       "        vertical-align: top;\n",
       "    }\n",
       "\n",
       "    .dataframe thead th {\n",
       "        text-align: right;\n",
       "    }\n",
       "</style>\n",
       "<table border=\"1\" class=\"dataframe\">\n",
       "  <thead>\n",
       "    <tr style=\"text-align: right;\">\n",
       "      <th></th>\n",
       "      <th>submission_date</th>\n",
       "      <th>state</th>\n",
       "      <th>tot_cases</th>\n",
       "      <th>conf_cases</th>\n",
       "      <th>prob_cases</th>\n",
       "      <th>new_case</th>\n",
       "      <th>pnew_case</th>\n",
       "      <th>tot_death</th>\n",
       "      <th>conf_death</th>\n",
       "      <th>prob_death</th>\n",
       "      <th>new_death</th>\n",
       "      <th>pnew_death</th>\n",
       "      <th>created_at</th>\n",
       "      <th>consent_cases</th>\n",
       "      <th>consent_deaths</th>\n",
       "    </tr>\n",
       "  </thead>\n",
       "  <tbody>\n",
       "    <tr>\n",
       "      <th>0</th>\n",
       "      <td>2020-05-04T00:00:00.000</td>\n",
       "      <td>KY</td>\n",
       "      <td>5245</td>\n",
       "      <td>5245.0</td>\n",
       "      <td>0</td>\n",
       "      <td>115.0</td>\n",
       "      <td>0</td>\n",
       "      <td>261</td>\n",
       "      <td>261.0</td>\n",
       "      <td>0</td>\n",
       "      <td>8.0</td>\n",
       "      <td>0</td>\n",
       "      <td>2020-05-05T17:25:08.000</td>\n",
       "      <td>Agree</td>\n",
       "      <td>Agree</td>\n",
       "    </tr>\n",
       "    <tr>\n",
       "      <th>1</th>\n",
       "      <td>2020-12-08T00:00:00.000</td>\n",
       "      <td>OK</td>\n",
       "      <td>205999</td>\n",
       "      <td>171497.0</td>\n",
       "      <td>34502</td>\n",
       "      <td>0.0</td>\n",
       "      <td>0</td>\n",
       "      <td>1752</td>\n",
       "      <td>1680.0</td>\n",
       "      <td>72</td>\n",
       "      <td>0.0</td>\n",
       "      <td>0</td>\n",
       "      <td>2020-12-09T14:45:40.234</td>\n",
       "      <td>Agree</td>\n",
       "      <td>Agree</td>\n",
       "    </tr>\n",
       "    <tr>\n",
       "      <th>2</th>\n",
       "      <td>2020-04-30T00:00:00.000</td>\n",
       "      <td>IA</td>\n",
       "      <td>7145</td>\n",
       "      <td>NaN</td>\n",
       "      <td>NaN</td>\n",
       "      <td>302.0</td>\n",
       "      <td>0</td>\n",
       "      <td>162</td>\n",
       "      <td>NaN</td>\n",
       "      <td>NaN</td>\n",
       "      <td>14.0</td>\n",
       "      <td>0</td>\n",
       "      <td>2020-05-01T21:00:19.025</td>\n",
       "      <td>Not agree</td>\n",
       "      <td>Not agree</td>\n",
       "    </tr>\n",
       "    <tr>\n",
       "      <th>3</th>\n",
       "      <td>2020-06-25T00:00:00.000</td>\n",
       "      <td>NE</td>\n",
       "      <td>18346</td>\n",
       "      <td>NaN</td>\n",
       "      <td>NaN</td>\n",
       "      <td>125.0</td>\n",
       "      <td>0</td>\n",
       "      <td>260</td>\n",
       "      <td>NaN</td>\n",
       "      <td>NaN</td>\n",
       "      <td>3.0</td>\n",
       "      <td>0</td>\n",
       "      <td>2020-06-26T19:18:27.809</td>\n",
       "      <td>Not agree</td>\n",
       "      <td>Not agree</td>\n",
       "    </tr>\n",
       "    <tr>\n",
       "      <th>4</th>\n",
       "      <td>2020-02-24T00:00:00.000</td>\n",
       "      <td>CA</td>\n",
       "      <td>10</td>\n",
       "      <td>NaN</td>\n",
       "      <td>NaN</td>\n",
       "      <td>0.0</td>\n",
       "      <td>NaN</td>\n",
       "      <td>0</td>\n",
       "      <td>NaN</td>\n",
       "      <td>NaN</td>\n",
       "      <td>0.0</td>\n",
       "      <td>NaN</td>\n",
       "      <td>2020-03-26T16:22:39.452</td>\n",
       "      <td>Not agree</td>\n",
       "      <td>Not agree</td>\n",
       "    </tr>\n",
       "  </tbody>\n",
       "</table>\n",
       "</div>"
      ],
      "text/plain": [
       "           submission_date state tot_cases conf_cases prob_cases new_case  \\\n",
       "0  2020-05-04T00:00:00.000    KY      5245     5245.0          0    115.0   \n",
       "1  2020-12-08T00:00:00.000    OK    205999   171497.0      34502      0.0   \n",
       "2  2020-04-30T00:00:00.000    IA      7145        NaN        NaN    302.0   \n",
       "3  2020-06-25T00:00:00.000    NE     18346        NaN        NaN    125.0   \n",
       "4  2020-02-24T00:00:00.000    CA        10        NaN        NaN      0.0   \n",
       "\n",
       "  pnew_case tot_death conf_death prob_death new_death pnew_death  \\\n",
       "0         0       261      261.0          0       8.0          0   \n",
       "1         0      1752     1680.0         72       0.0          0   \n",
       "2         0       162        NaN        NaN      14.0          0   \n",
       "3         0       260        NaN        NaN       3.0          0   \n",
       "4       NaN         0        NaN        NaN       0.0        NaN   \n",
       "\n",
       "                created_at consent_cases consent_deaths  \n",
       "0  2020-05-05T17:25:08.000         Agree          Agree  \n",
       "1  2020-12-09T14:45:40.234         Agree          Agree  \n",
       "2  2020-05-01T21:00:19.025     Not agree      Not agree  \n",
       "3  2020-06-26T19:18:27.809     Not agree      Not agree  \n",
       "4  2020-03-26T16:22:39.452     Not agree      Not agree  "
      ]
     },
     "execution_count": 4,
     "metadata": {},
     "output_type": "execute_result"
    }
   ],
   "source": [
    "data_df.head()"
   ]
  },
  {
   "cell_type": "markdown",
   "metadata": {
    "id": "p58_wPwV_kSm"
   },
   "source": [
    "### Dữ liệu có bao nhiêu dòng và bao nhiêu cột?"
   ]
  },
  {
   "cell_type": "code",
   "execution_count": 5,
   "metadata": {
    "colab": {
     "base_uri": "https://localhost:8080/"
    },
    "id": "uJO6unIWS6Zg",
    "outputId": "3e755387-01ae-498a-9746-ab2416d4cdbb"
   },
   "outputs": [
    {
     "data": {
      "text/plain": [
       "(20640, 15)"
      ]
     },
     "execution_count": 5,
     "metadata": {},
     "output_type": "execute_result"
    }
   ],
   "source": [
    "data_df.shape"
   ]
  },
  {
   "cell_type": "markdown",
   "metadata": {
    "id": "qvGvE3UyAEdA"
   },
   "source": [
    "### Mỗi dòng có ý nghĩa gì? Có vấn đề các dòng có ý nghĩa khác nhau không?"
   ]
  },
  {
   "cell_type": "markdown",
   "metadata": {
    "id": "BXRnapckAVc3"
   },
   "source": [
    "Quan sát sơ bộ dữ liệu ta thấy mỗi dòng chứa các thông tin về số tổng ca nhiễm, số ca nhiễm mới, sô ca tử vong,... của của 1 bang trong một ngày cụ thể."
   ]
  },
  {
   "cell_type": "markdown",
   "metadata": {
    "id": "8dfVmbj4BOEI"
   },
   "source": [
    "### Dữ liệu có các dòng bị lặp không?"
   ]
  },
  {
   "cell_type": "code",
   "execution_count": 6,
   "metadata": {
    "colab": {
     "base_uri": "https://localhost:8080/"
    },
    "id": "fW-b1zEYgoMH",
    "outputId": "6d3044ab-7a07-4654-f8c2-cecf5a9ff299"
   },
   "outputs": [
    {
     "data": {
      "text/plain": [
       "0"
      ]
     },
     "execution_count": 6,
     "metadata": {},
     "output_type": "execute_result"
    }
   ],
   "source": [
    "data_df.index.duplicated().sum()"
   ]
  },
  {
   "cell_type": "markdown",
   "metadata": {
    "id": "iRl1cKEBB6wY"
   },
   "source": [
    "### Mỗi cột có ý nghĩa gì?"
   ]
  },
  {
   "cell_type": "markdown",
   "metadata": {
    "id": "26fsqNq_CAf5"
   },
   "source": [
    "|VARIABLE|DESCRIPTION|TYPE|\n",
    "|---|----------------|------|\n",
    "|submission_date|Date of counts|Date & Time|      \n",
    "|state|Jurisdiction|Plain Text|  \n",
    "|tot_cases|Total number of cases|Number| \n",
    "|conf_cases|Total confirmed cases|Number|\n",
    "|prob_cases|Total probable cases|Number|\n",
    "|new_case|Number of new cases|Number|\n",
    "|pnew_case|Number of new probable cases|Number|\n",
    "|tot_death|Total number of deaths|Number|\n",
    "|conf_death|Total number of confirmed deaths|Number|\n",
    "|prob_death|Total number of probable deaths|Number|\n",
    "|new_death|Number of new deaths|Number|\n",
    "|pnew_death|Number of new probable deaths|Number|\n",
    "|created_at|Date and time record was created|Date & Time|\n",
    "|consent_cases|If Agree, then confirmed and probable cases are included. If Not Agree, then only total cases are included|Plain Text|\n",
    "|consent_deaths|If Agree, then confirmed and probable deaths are included. If Not Agree, then only total deaths are included|Plain Text|\n",
    "\n",
    "\n",
    "\t\n",
    "\n",
    "\n",
    "\t\n",
    "\n",
    "\n",
    "\t\n",
    "\n",
    "\n",
    "\t\n",
    "\n",
    "\n"
   ]
  },
  {
   "cell_type": "markdown",
   "metadata": {
    "id": "rzEtRDvItWdS"
   },
   "source": [
    "## Đưa ra câu hỏi cần trả lời"
   ]
  },
  {
   "cell_type": "markdown",
   "metadata": {
    "id": "KrCPbO-lI1NS"
   },
   "source": [
    "Số ca mắc mới trong một ngày bất kì (hợp lệ) là bao nhiêu? Nó phụ thuộc như thế nào vào số ca mắc của những ngày trước đó?\n",
    "\n"
   ]
  },
  {
   "cell_type": "markdown",
   "metadata": {
    "id": "94hMNdFsxVi-"
   },
   "source": [
    "### Ý nghĩa của việc trả lời câu hỏi trên\n",
    "\n",
    "- Ta sẽ thấy được sự phụ thuộc của số ca mắc mới trong một ngày với số ca mắc của những ngày trước đó.\n",
    "- Thấy được khả năng và tần suất lây lan của dịch bệnh trên người.\n",
    "- Đưa ra dự đoán trong tương lai gần nhằm giúp chính phủ và ngành Y tế có thể tăng khả năng y tế dự phòng và triển khai các biện pháp ứng phó phù hợp với tình hình.\n",
    "- Ước lượng được các làn sóng dịch tiếp theo trong một khu vực.\n"
   ]
  },
  {
   "cell_type": "markdown",
   "metadata": {
    "id": "TImwCkBGycX5"
   },
   "source": [
    "### Cảm hứng đặt câu hỏi\n",
    "\n",
    "Cảm hứng để nhóm đặt câu hỏi này bắt nguồn từ thực trạng hiện nay, khi mà diễn biến dịch bệnh vẫn đang rất phức tạp tại nhiều quốc gia trên thế giới, đồng thời với tấm gương sự hành động cứng rắn của chính phủ Việt Nam dựa trên số liệu giúp đạt được kết quả phòng chống dịch tốt như hiện tại."
   ]
  },
  {
   "cell_type": "markdown",
   "metadata": {
    "id": "Qq_N6u1GJkse"
   },
   "source": [
    "## Tiền xử lý dữ liệu để phù hợp với bài toán"
   ]
  },
  {
   "cell_type": "markdown",
   "metadata": {
    "id": "plLvTjmk7InY"
   },
   "source": [
    "### Thêm thuộc tính cho mỗi dòng dữ liệu"
   ]
  },
  {
   "cell_type": "markdown",
   "metadata": {
    "id": "qbMVmuc-0Vbu"
   },
   "source": [
    "Bộ dữ liệu thô phía trên chưa có sự kết nối giữa những ngày liền kề nhau. Vì vậy ta sẽ tiền xử lý một chút để, đối với mỗi dòng dữ liệu, nó sẽ chứa thêm thông tin của số ca mắc mới của `callback_days` ngày liền trước đó. \n",
    "\n",
    "Hàm `add_row_df` sẽ làm nhiệm vụ trên: số ca mắc của `i` ngày trước của mỗi dòng dữ liệu sẽ được thêm vào cột `new_case_his_i`. "
   ]
  },
  {
   "cell_type": "code",
   "execution_count": 7,
   "metadata": {
    "id": "G4PLTmaop3N3"
   },
   "outputs": [],
   "source": [
    "# number of records will be collected\n",
    "callback_days = 28\n",
    "\n",
    "def add_row_df(df):\n",
    "    df = df.sort_values('submission_date', ascending=True)\n",
    "\n",
    "    # Validation raw data\n",
    "    for g in df.groupby('submission_date'):\n",
    "        if g[1].shape[0] > 1:\n",
    "            raise Exception(\"Error, please groupby dataset by date before pass to this func\")\n",
    "    \n",
    "    # MAGIC\n",
    "    new_case_data = df['new_case']\n",
    "    \n",
    "    l = None\n",
    "\n",
    "    for j in range(len(new_case_data)):\n",
    "        if j >= callback_days:\n",
    "            t = new_case_data.iloc[j - callback_days: j]\n",
    "            \n",
    "            # append row\n",
    "            l = np.r_[l, [np.flip(t)]]\n",
    "        else:\n",
    "            t = new_case_data.iloc[0: j + 1]\n",
    "            fill = np.r_[np.array(['0' for i in range(callback_days - len(t))]), t]\n",
    "\n",
    "            # append row\n",
    "            if l is None:\n",
    "                l = np.array([np.flip(fill)])\n",
    "            else:\n",
    "                l = np.r_[l, [np.flip(fill)]]\n",
    "    \n",
    "    df2 = pd.DataFrame(l, index=df.index, columns=[f\"new_case_his_{i}\" for i in range(1, callback_days + 1)])\n",
    "    \n",
    "    return pd.concat([df, df2], axis=1)"
   ]
  },
  {
   "cell_type": "code",
   "execution_count": 8,
   "metadata": {
    "id": "y6bIL6l4JeCG"
   },
   "outputs": [],
   "source": [
    "whitelist = ['submission_date', 'state', 'created_at','consent_cases','consent_deaths']\n",
    "usa_collected_df = add_row_df(data_df.transform(lambda x: x if (x.name in whitelist) else pd.to_numeric(x, errors='coerce')).groupby('submission_date').sum())\n",
    "usa_collected_df = usa_collected_df.transform(lambda x: x if (x.name in whitelist) else pd.to_numeric(x, errors='coerce'))"
   ]
  },
  {
   "cell_type": "code",
   "execution_count": 9,
   "metadata": {
    "colab": {
     "base_uri": "https://localhost:8080/",
     "height": 329
    },
    "id": "Zq0TYyZiL3eD",
    "outputId": "fa721abc-8a9c-4104-dc8d-51fa36f3db72"
   },
   "outputs": [
    {
     "data": {
      "text/html": [
       "<div>\n",
       "<style scoped>\n",
       "    .dataframe tbody tr th:only-of-type {\n",
       "        vertical-align: middle;\n",
       "    }\n",
       "\n",
       "    .dataframe tbody tr th {\n",
       "        vertical-align: top;\n",
       "    }\n",
       "\n",
       "    .dataframe thead th {\n",
       "        text-align: right;\n",
       "    }\n",
       "</style>\n",
       "<table border=\"1\" class=\"dataframe\">\n",
       "  <thead>\n",
       "    <tr style=\"text-align: right;\">\n",
       "      <th></th>\n",
       "      <th>tot_cases</th>\n",
       "      <th>conf_cases</th>\n",
       "      <th>prob_cases</th>\n",
       "      <th>new_case</th>\n",
       "      <th>pnew_case</th>\n",
       "      <th>tot_death</th>\n",
       "      <th>conf_death</th>\n",
       "      <th>prob_death</th>\n",
       "      <th>new_death</th>\n",
       "      <th>pnew_death</th>\n",
       "      <th>...</th>\n",
       "      <th>new_case_his_19</th>\n",
       "      <th>new_case_his_20</th>\n",
       "      <th>new_case_his_21</th>\n",
       "      <th>new_case_his_22</th>\n",
       "      <th>new_case_his_23</th>\n",
       "      <th>new_case_his_24</th>\n",
       "      <th>new_case_his_25</th>\n",
       "      <th>new_case_his_26</th>\n",
       "      <th>new_case_his_27</th>\n",
       "      <th>new_case_his_28</th>\n",
       "    </tr>\n",
       "    <tr>\n",
       "      <th>submission_date</th>\n",
       "      <th></th>\n",
       "      <th></th>\n",
       "      <th></th>\n",
       "      <th></th>\n",
       "      <th></th>\n",
       "      <th></th>\n",
       "      <th></th>\n",
       "      <th></th>\n",
       "      <th></th>\n",
       "      <th></th>\n",
       "      <th></th>\n",
       "      <th></th>\n",
       "      <th></th>\n",
       "      <th></th>\n",
       "      <th></th>\n",
       "      <th></th>\n",
       "      <th></th>\n",
       "      <th></th>\n",
       "      <th></th>\n",
       "      <th></th>\n",
       "      <th></th>\n",
       "    </tr>\n",
       "  </thead>\n",
       "  <tbody>\n",
       "    <tr>\n",
       "      <th>2020-12-26T00:00:00.000</th>\n",
       "      <td>18909910</td>\n",
       "      <td>8666714.0</td>\n",
       "      <td>888223.0</td>\n",
       "      <td>179104.0</td>\n",
       "      <td>12912.0</td>\n",
       "      <td>330901</td>\n",
       "      <td>181604.0</td>\n",
       "      <td>19347.0</td>\n",
       "      <td>1309.0</td>\n",
       "      <td>127.0</td>\n",
       "      <td>...</td>\n",
       "      <td>186815.0</td>\n",
       "      <td>176194.0</td>\n",
       "      <td>209445.0</td>\n",
       "      <td>217196.0</td>\n",
       "      <td>222300.0</td>\n",
       "      <td>199025.0</td>\n",
       "      <td>180796.0</td>\n",
       "      <td>152909.0</td>\n",
       "      <td>153454.0</td>\n",
       "      <td>143634.0</td>\n",
       "    </tr>\n",
       "    <tr>\n",
       "      <th>2020-12-27T00:00:00.000</th>\n",
       "      <td>19055869</td>\n",
       "      <td>8712179.0</td>\n",
       "      <td>896065.0</td>\n",
       "      <td>145959.0</td>\n",
       "      <td>14704.0</td>\n",
       "      <td>332246</td>\n",
       "      <td>182188.0</td>\n",
       "      <td>19417.0</td>\n",
       "      <td>1345.0</td>\n",
       "      <td>228.0</td>\n",
       "      <td>...</td>\n",
       "      <td>222606.0</td>\n",
       "      <td>186815.0</td>\n",
       "      <td>176194.0</td>\n",
       "      <td>209445.0</td>\n",
       "      <td>217196.0</td>\n",
       "      <td>222300.0</td>\n",
       "      <td>199025.0</td>\n",
       "      <td>180796.0</td>\n",
       "      <td>152909.0</td>\n",
       "      <td>153454.0</td>\n",
       "    </tr>\n",
       "    <tr>\n",
       "      <th>2020-12-28T00:00:00.000</th>\n",
       "      <td>19232843</td>\n",
       "      <td>8793726.0</td>\n",
       "      <td>908269.0</td>\n",
       "      <td>176974.0</td>\n",
       "      <td>17620.0</td>\n",
       "      <td>334029</td>\n",
       "      <td>183189.0</td>\n",
       "      <td>19575.0</td>\n",
       "      <td>1783.0</td>\n",
       "      <td>252.0</td>\n",
       "      <td>...</td>\n",
       "      <td>233824.0</td>\n",
       "      <td>222606.0</td>\n",
       "      <td>186815.0</td>\n",
       "      <td>176194.0</td>\n",
       "      <td>209445.0</td>\n",
       "      <td>217196.0</td>\n",
       "      <td>222300.0</td>\n",
       "      <td>199025.0</td>\n",
       "      <td>180796.0</td>\n",
       "      <td>152909.0</td>\n",
       "    </tr>\n",
       "    <tr>\n",
       "      <th>2020-12-29T00:00:00.000</th>\n",
       "      <td>19433639</td>\n",
       "      <td>8857372.0</td>\n",
       "      <td>931940.0</td>\n",
       "      <td>200796.0</td>\n",
       "      <td>37394.0</td>\n",
       "      <td>337435</td>\n",
       "      <td>184795.0</td>\n",
       "      <td>19853.0</td>\n",
       "      <td>3406.0</td>\n",
       "      <td>292.0</td>\n",
       "      <td>...</td>\n",
       "      <td>206066.0</td>\n",
       "      <td>233824.0</td>\n",
       "      <td>222606.0</td>\n",
       "      <td>186815.0</td>\n",
       "      <td>176194.0</td>\n",
       "      <td>209445.0</td>\n",
       "      <td>217196.0</td>\n",
       "      <td>222300.0</td>\n",
       "      <td>199025.0</td>\n",
       "      <td>180796.0</td>\n",
       "    </tr>\n",
       "    <tr>\n",
       "      <th>2020-12-30T00:00:00.000</th>\n",
       "      <td>19663976</td>\n",
       "      <td>8946883.0</td>\n",
       "      <td>959423.0</td>\n",
       "      <td>230337.0</td>\n",
       "      <td>41729.0</td>\n",
       "      <td>341199</td>\n",
       "      <td>186390.0</td>\n",
       "      <td>20184.0</td>\n",
       "      <td>3764.0</td>\n",
       "      <td>323.0</td>\n",
       "      <td>...</td>\n",
       "      <td>246716.0</td>\n",
       "      <td>206066.0</td>\n",
       "      <td>233824.0</td>\n",
       "      <td>222606.0</td>\n",
       "      <td>186815.0</td>\n",
       "      <td>176194.0</td>\n",
       "      <td>209445.0</td>\n",
       "      <td>217196.0</td>\n",
       "      <td>222300.0</td>\n",
       "      <td>199025.0</td>\n",
       "    </tr>\n",
       "  </tbody>\n",
       "</table>\n",
       "<p>5 rows × 38 columns</p>\n",
       "</div>"
      ],
      "text/plain": [
       "                         tot_cases  conf_cases  prob_cases  new_case  \\\n",
       "submission_date                                                        \n",
       "2020-12-26T00:00:00.000   18909910   8666714.0    888223.0  179104.0   \n",
       "2020-12-27T00:00:00.000   19055869   8712179.0    896065.0  145959.0   \n",
       "2020-12-28T00:00:00.000   19232843   8793726.0    908269.0  176974.0   \n",
       "2020-12-29T00:00:00.000   19433639   8857372.0    931940.0  200796.0   \n",
       "2020-12-30T00:00:00.000   19663976   8946883.0    959423.0  230337.0   \n",
       "\n",
       "                         pnew_case  tot_death  conf_death  prob_death  \\\n",
       "submission_date                                                         \n",
       "2020-12-26T00:00:00.000    12912.0     330901    181604.0     19347.0   \n",
       "2020-12-27T00:00:00.000    14704.0     332246    182188.0     19417.0   \n",
       "2020-12-28T00:00:00.000    17620.0     334029    183189.0     19575.0   \n",
       "2020-12-29T00:00:00.000    37394.0     337435    184795.0     19853.0   \n",
       "2020-12-30T00:00:00.000    41729.0     341199    186390.0     20184.0   \n",
       "\n",
       "                         new_death  pnew_death  ...  new_case_his_19  \\\n",
       "submission_date                                 ...                    \n",
       "2020-12-26T00:00:00.000     1309.0       127.0  ...         186815.0   \n",
       "2020-12-27T00:00:00.000     1345.0       228.0  ...         222606.0   \n",
       "2020-12-28T00:00:00.000     1783.0       252.0  ...         233824.0   \n",
       "2020-12-29T00:00:00.000     3406.0       292.0  ...         206066.0   \n",
       "2020-12-30T00:00:00.000     3764.0       323.0  ...         246716.0   \n",
       "\n",
       "                         new_case_his_20  new_case_his_21  new_case_his_22  \\\n",
       "submission_date                                                              \n",
       "2020-12-26T00:00:00.000         176194.0         209445.0         217196.0   \n",
       "2020-12-27T00:00:00.000         186815.0         176194.0         209445.0   \n",
       "2020-12-28T00:00:00.000         222606.0         186815.0         176194.0   \n",
       "2020-12-29T00:00:00.000         233824.0         222606.0         186815.0   \n",
       "2020-12-30T00:00:00.000         206066.0         233824.0         222606.0   \n",
       "\n",
       "                         new_case_his_23  new_case_his_24  new_case_his_25  \\\n",
       "submission_date                                                              \n",
       "2020-12-26T00:00:00.000         222300.0         199025.0         180796.0   \n",
       "2020-12-27T00:00:00.000         217196.0         222300.0         199025.0   \n",
       "2020-12-28T00:00:00.000         209445.0         217196.0         222300.0   \n",
       "2020-12-29T00:00:00.000         176194.0         209445.0         217196.0   \n",
       "2020-12-30T00:00:00.000         186815.0         176194.0         209445.0   \n",
       "\n",
       "                         new_case_his_26  new_case_his_27  new_case_his_28  \n",
       "submission_date                                                             \n",
       "2020-12-26T00:00:00.000         152909.0         153454.0         143634.0  \n",
       "2020-12-27T00:00:00.000         180796.0         152909.0         153454.0  \n",
       "2020-12-28T00:00:00.000         199025.0         180796.0         152909.0  \n",
       "2020-12-29T00:00:00.000         222300.0         199025.0         180796.0  \n",
       "2020-12-30T00:00:00.000         217196.0         222300.0         199025.0  \n",
       "\n",
       "[5 rows x 38 columns]"
      ]
     },
     "execution_count": 9,
     "metadata": {},
     "output_type": "execute_result"
    }
   ],
   "source": [
    "usa_collected_df.tail()"
   ]
  },
  {
   "cell_type": "code",
   "execution_count": 10,
   "metadata": {
    "id": "r1fenCy5NQCv"
   },
   "outputs": [],
   "source": [
    "usa_X_df = usa_collected_df.drop('new_case', axis=1)\n",
    "usa_y_sr = usa_collected_df['new_case']"
   ]
  },
  {
   "cell_type": "markdown",
   "metadata": {
    "id": "ZGoy0jpH3ZN8"
   },
   "source": [
    "Ta sẽ áp dụng phương pháp trên đối với mỗi bang (bằng cách gom nhóm), nhằm đảm bảo dữ liệu nhất quán và chính xác. Kết quả bộ dữ liệu mới sẽ được lưu vào `collected_df`."
   ]
  },
  {
   "cell_type": "code",
   "execution_count": 11,
   "metadata": {
    "id": "khQt7rPN1dO0"
   },
   "outputs": [],
   "source": [
    "collected_df = data_df.groupby('state').apply(add_row_df).reset_index(level='state', drop=True)"
   ]
  },
  {
   "cell_type": "code",
   "execution_count": 12,
   "metadata": {
    "id": "ZP2eB894Nvu6"
   },
   "outputs": [],
   "source": [
    "# incorrect? test this cell\n",
    "#collected_df.groupby('state').get_group('AK').sort_values('submission_date', ascending=True).tail(10) "
   ]
  },
  {
   "cell_type": "markdown",
   "metadata": {
    "id": "oUeJGTih1J0F"
   },
   "source": [
    "### Ép về đúng kiểu dữ liệu\n",
    "\n",
    "Ta sẽ ép về dữ liệu số đối với các cột có kiểu là số."
   ]
  },
  {
   "cell_type": "code",
   "execution_count": 13,
   "metadata": {
    "id": "FmamzkPv1I7F"
   },
   "outputs": [],
   "source": [
    "whitelist = ['submission_date', 'state', 'created_at','consent_cases','consent_deaths']\n",
    "\n",
    "collected_df = collected_df.transform(lambda x: x if (x.name in whitelist) else pd.to_numeric(x, errors='coerce'))"
   ]
  },
  {
   "cell_type": "markdown",
   "metadata": {
    "id": "a7FdbL1s0RvS"
   },
   "source": [
    "### Loại bỏ các dòng dữ liệu chắc chắn là nhiễu\n",
    "\n",
    "Một dòng được coi là dữ liệu nhiễu khi cho tới ngày đó chưa ghi nhận ca mắc nào (`tot_cases = 0`).\n",
    "\n",
    "Ngoài ra, nhóm còn quy định dòng dữ liệu có thông số `new_case` âm là nhiễu."
   ]
  },
  {
   "cell_type": "code",
   "execution_count": 14,
   "metadata": {
    "colab": {
     "base_uri": "https://localhost:8080/",
     "height": 299
    },
    "id": "9eeEiEA3gDpJ",
    "outputId": "a5da47e1-b2f4-423f-b27c-a61568ac0392"
   },
   "outputs": [
    {
     "data": {
      "text/html": [
       "<div>\n",
       "<style scoped>\n",
       "    .dataframe tbody tr th:only-of-type {\n",
       "        vertical-align: middle;\n",
       "    }\n",
       "\n",
       "    .dataframe tbody tr th {\n",
       "        vertical-align: top;\n",
       "    }\n",
       "\n",
       "    .dataframe thead th {\n",
       "        text-align: right;\n",
       "    }\n",
       "</style>\n",
       "<table border=\"1\" class=\"dataframe\">\n",
       "  <thead>\n",
       "    <tr style=\"text-align: right;\">\n",
       "      <th></th>\n",
       "      <th>submission_date</th>\n",
       "      <th>state</th>\n",
       "      <th>tot_cases</th>\n",
       "      <th>conf_cases</th>\n",
       "      <th>prob_cases</th>\n",
       "      <th>new_case</th>\n",
       "      <th>pnew_case</th>\n",
       "      <th>tot_death</th>\n",
       "      <th>conf_death</th>\n",
       "      <th>prob_death</th>\n",
       "      <th>...</th>\n",
       "      <th>new_case_his_19</th>\n",
       "      <th>new_case_his_20</th>\n",
       "      <th>new_case_his_21</th>\n",
       "      <th>new_case_his_22</th>\n",
       "      <th>new_case_his_23</th>\n",
       "      <th>new_case_his_24</th>\n",
       "      <th>new_case_his_25</th>\n",
       "      <th>new_case_his_26</th>\n",
       "      <th>new_case_his_27</th>\n",
       "      <th>new_case_his_28</th>\n",
       "    </tr>\n",
       "  </thead>\n",
       "  <tbody>\n",
       "    <tr>\n",
       "      <th>8286</th>\n",
       "      <td>2020-03-13T00:00:00.000</td>\n",
       "      <td>AK</td>\n",
       "      <td>1</td>\n",
       "      <td>NaN</td>\n",
       "      <td>NaN</td>\n",
       "      <td>1.0</td>\n",
       "      <td>NaN</td>\n",
       "      <td>0</td>\n",
       "      <td>NaN</td>\n",
       "      <td>NaN</td>\n",
       "      <td>...</td>\n",
       "      <td>0.0</td>\n",
       "      <td>0.0</td>\n",
       "      <td>0.0</td>\n",
       "      <td>0.0</td>\n",
       "      <td>0.0</td>\n",
       "      <td>0.0</td>\n",
       "      <td>0.0</td>\n",
       "      <td>0.0</td>\n",
       "      <td>0.0</td>\n",
       "      <td>0.0</td>\n",
       "    </tr>\n",
       "    <tr>\n",
       "      <th>18091</th>\n",
       "      <td>2020-03-17T00:00:00.000</td>\n",
       "      <td>AK</td>\n",
       "      <td>3</td>\n",
       "      <td>NaN</td>\n",
       "      <td>NaN</td>\n",
       "      <td>2.0</td>\n",
       "      <td>NaN</td>\n",
       "      <td>0</td>\n",
       "      <td>NaN</td>\n",
       "      <td>NaN</td>\n",
       "      <td>...</td>\n",
       "      <td>0.0</td>\n",
       "      <td>0.0</td>\n",
       "      <td>0.0</td>\n",
       "      <td>0.0</td>\n",
       "      <td>0.0</td>\n",
       "      <td>0.0</td>\n",
       "      <td>0.0</td>\n",
       "      <td>0.0</td>\n",
       "      <td>0.0</td>\n",
       "      <td>0.0</td>\n",
       "    </tr>\n",
       "    <tr>\n",
       "      <th>17969</th>\n",
       "      <td>2020-03-18T00:00:00.000</td>\n",
       "      <td>AK</td>\n",
       "      <td>6</td>\n",
       "      <td>NaN</td>\n",
       "      <td>NaN</td>\n",
       "      <td>3.0</td>\n",
       "      <td>NaN</td>\n",
       "      <td>0</td>\n",
       "      <td>NaN</td>\n",
       "      <td>NaN</td>\n",
       "      <td>...</td>\n",
       "      <td>0.0</td>\n",
       "      <td>0.0</td>\n",
       "      <td>0.0</td>\n",
       "      <td>0.0</td>\n",
       "      <td>0.0</td>\n",
       "      <td>0.0</td>\n",
       "      <td>0.0</td>\n",
       "      <td>0.0</td>\n",
       "      <td>0.0</td>\n",
       "      <td>0.0</td>\n",
       "    </tr>\n",
       "    <tr>\n",
       "      <th>19972</th>\n",
       "      <td>2020-03-19T00:00:00.000</td>\n",
       "      <td>AK</td>\n",
       "      <td>9</td>\n",
       "      <td>NaN</td>\n",
       "      <td>NaN</td>\n",
       "      <td>3.0</td>\n",
       "      <td>NaN</td>\n",
       "      <td>0</td>\n",
       "      <td>NaN</td>\n",
       "      <td>NaN</td>\n",
       "      <td>...</td>\n",
       "      <td>0.0</td>\n",
       "      <td>0.0</td>\n",
       "      <td>0.0</td>\n",
       "      <td>0.0</td>\n",
       "      <td>0.0</td>\n",
       "      <td>0.0</td>\n",
       "      <td>0.0</td>\n",
       "      <td>0.0</td>\n",
       "      <td>0.0</td>\n",
       "      <td>0.0</td>\n",
       "    </tr>\n",
       "    <tr>\n",
       "      <th>19368</th>\n",
       "      <td>2020-03-20T00:00:00.000</td>\n",
       "      <td>AK</td>\n",
       "      <td>12</td>\n",
       "      <td>NaN</td>\n",
       "      <td>NaN</td>\n",
       "      <td>3.0</td>\n",
       "      <td>NaN</td>\n",
       "      <td>0</td>\n",
       "      <td>NaN</td>\n",
       "      <td>NaN</td>\n",
       "      <td>...</td>\n",
       "      <td>0.0</td>\n",
       "      <td>0.0</td>\n",
       "      <td>0.0</td>\n",
       "      <td>0.0</td>\n",
       "      <td>0.0</td>\n",
       "      <td>0.0</td>\n",
       "      <td>0.0</td>\n",
       "      <td>0.0</td>\n",
       "      <td>0.0</td>\n",
       "      <td>0.0</td>\n",
       "    </tr>\n",
       "  </tbody>\n",
       "</table>\n",
       "<p>5 rows × 43 columns</p>\n",
       "</div>"
      ],
      "text/plain": [
       "               submission_date state  tot_cases  conf_cases  prob_cases  \\\n",
       "8286   2020-03-13T00:00:00.000    AK          1         NaN         NaN   \n",
       "18091  2020-03-17T00:00:00.000    AK          3         NaN         NaN   \n",
       "17969  2020-03-18T00:00:00.000    AK          6         NaN         NaN   \n",
       "19972  2020-03-19T00:00:00.000    AK          9         NaN         NaN   \n",
       "19368  2020-03-20T00:00:00.000    AK         12         NaN         NaN   \n",
       "\n",
       "       new_case  pnew_case  tot_death  conf_death  prob_death  ...  \\\n",
       "8286        1.0        NaN          0         NaN         NaN  ...   \n",
       "18091       2.0        NaN          0         NaN         NaN  ...   \n",
       "17969       3.0        NaN          0         NaN         NaN  ...   \n",
       "19972       3.0        NaN          0         NaN         NaN  ...   \n",
       "19368       3.0        NaN          0         NaN         NaN  ...   \n",
       "\n",
       "       new_case_his_19  new_case_his_20 new_case_his_21 new_case_his_22  \\\n",
       "8286               0.0              0.0             0.0             0.0   \n",
       "18091              0.0              0.0             0.0             0.0   \n",
       "17969              0.0              0.0             0.0             0.0   \n",
       "19972              0.0              0.0             0.0             0.0   \n",
       "19368              0.0              0.0             0.0             0.0   \n",
       "\n",
       "      new_case_his_23  new_case_his_24  new_case_his_25  new_case_his_26  \\\n",
       "8286              0.0              0.0              0.0              0.0   \n",
       "18091             0.0              0.0              0.0              0.0   \n",
       "17969             0.0              0.0              0.0              0.0   \n",
       "19972             0.0              0.0              0.0              0.0   \n",
       "19368             0.0              0.0              0.0              0.0   \n",
       "\n",
       "       new_case_his_27  new_case_his_28  \n",
       "8286               0.0              0.0  \n",
       "18091              0.0              0.0  \n",
       "17969              0.0              0.0  \n",
       "19972              0.0              0.0  \n",
       "19368              0.0              0.0  \n",
       "\n",
       "[5 rows x 43 columns]"
      ]
     },
     "execution_count": 14,
     "metadata": {},
     "output_type": "execute_result"
    }
   ],
   "source": [
    "collected_df = collected_df[(collected_df['tot_cases'] > 0) & (collected_df['new_case'] > 0)]\n",
    "collected_df.head()"
   ]
  },
  {
   "cell_type": "code",
   "execution_count": 15,
   "metadata": {
    "colab": {
     "base_uri": "https://localhost:8080/"
    },
    "id": "RJylU4DBuDzE",
    "outputId": "1c8cca76-002a-4af2-ec70-eb0da38d305f"
   },
   "outputs": [
    {
     "data": {
      "text/plain": [
       "(15285, 43)"
      ]
     },
     "execution_count": 15,
     "metadata": {},
     "output_type": "execute_result"
    }
   ],
   "source": [
    "collected_df.shape"
   ]
  },
  {
   "cell_type": "markdown",
   "metadata": {
    "id": "7Ds7VtHBavXk"
   },
   "source": [
    "Đến đây, từ dữ liệu thô, ta đã thu thập đủ dữ liệu (được lưu trong `collected_df`) để có thể khai thác để trả lời câu hỏi."
   ]
  },
  {
   "cell_type": "markdown",
   "metadata": {
    "id": "uUoZnG8hXzMv"
   },
   "source": [
    "## Tiền xử lý (tách tập)"
   ]
  },
  {
   "cell_type": "markdown",
   "metadata": {
    "id": "gAFrHaY28I3i"
   },
   "source": [
    "Input của bài toán sẽ bao gồm một số cột trong dữ liệu. Output chính là cột `new_case`. "
   ]
  },
  {
   "cell_type": "code",
   "execution_count": 16,
   "metadata": {
    "id": "00vcVoi9XaWu"
   },
   "outputs": [],
   "source": [
    "sorted_df = collected_df.sort_values('submission_date', ascending=True)\n",
    "X_df = sorted_df.drop('new_case', axis=1)\n",
    "y_sr = sorted_df['new_case']"
   ]
  },
  {
   "cell_type": "markdown",
   "metadata": {
    "id": "h1Hse-XISNpP"
   },
   "source": [
    "Tách theo tỉ lệ: 80% 10% 10% lần lượt cho bộ train, bộ validation, bộ test."
   ]
  },
  {
   "cell_type": "code",
   "execution_count": 17,
   "metadata": {
    "id": "DMmn7hdgWx2o"
   },
   "outputs": [],
   "source": [
    "# tách bộ (train, validation) và bộ test\n",
    "\n",
    "new_X_df, test_X_df, new_y_sr, test_y_sr = train_test_split(X_df, y_sr, train_size = 0.9, \n",
    "                                                             shuffle=False, random_state=0)"
   ]
  },
  {
   "cell_type": "markdown",
   "metadata": {
    "id": "-l8pE224R4YS"
   },
   "source": [
    "Tách bộ tran và bộ validation."
   ]
  },
  {
   "cell_type": "code",
   "execution_count": 18,
   "metadata": {
    "id": "iWbMUPOtR20r"
   },
   "outputs": [],
   "source": [
    "train_X_df, val_X_df, train_y_sr, val_y_sr = train_test_split(new_X_df, new_y_sr, train_size=(8/9), \n",
    "                                                              random_state=0)"
   ]
  },
  {
   "cell_type": "code",
   "execution_count": 19,
   "metadata": {
    "colab": {
     "base_uri": "https://localhost:8080/"
    },
    "id": "OlIspXe4o0Fq",
    "outputId": "7e768e73-7848-4a9b-f21b-27db63a3be32"
   },
   "outputs": [
    {
     "data": {
      "text/plain": [
       "(12227, 42)"
      ]
     },
     "execution_count": 19,
     "metadata": {},
     "output_type": "execute_result"
    }
   ],
   "source": [
    "train_X_df.shape"
   ]
  },
  {
   "cell_type": "markdown",
   "metadata": {
    "id": "0a01Uxt2Tj7M"
   },
   "source": [
    "## Khám phá dữ liệu (tập huấn luyện)"
   ]
  },
  {
   "cell_type": "markdown",
   "metadata": {
    "id": "LQjYUVgvTsjt"
   },
   "source": [
    "### Mỗi cột input hiện đang có kiểu dữ liệu gì? Có cột nào có kiểu dữ liệu chưa phù hợp để có thể xử lý tiếp không?"
   ]
  },
  {
   "cell_type": "code",
   "execution_count": 20,
   "metadata": {
    "colab": {
     "base_uri": "https://localhost:8080/"
    },
    "id": "g4s5R4ZETpMZ",
    "outputId": "748a1d2e-0e7d-40ff-b1d1-16f8baeb04f0"
   },
   "outputs": [
    {
     "data": {
      "text/plain": [
       "submission_date     object\n",
       "state               object\n",
       "tot_cases            int64\n",
       "conf_cases         float64\n",
       "prob_cases         float64\n",
       "pnew_case          float64\n",
       "tot_death            int64\n",
       "conf_death         float64\n",
       "prob_death         float64\n",
       "new_death          float64\n",
       "pnew_death         float64\n",
       "created_at          object\n",
       "consent_cases       object\n",
       "consent_deaths      object\n",
       "new_case_his_1     float64\n",
       "new_case_his_2     float64\n",
       "new_case_his_3     float64\n",
       "new_case_his_4     float64\n",
       "new_case_his_5     float64\n",
       "new_case_his_6     float64\n",
       "new_case_his_7     float64\n",
       "new_case_his_8     float64\n",
       "new_case_his_9     float64\n",
       "new_case_his_10    float64\n",
       "new_case_his_11    float64\n",
       "new_case_his_12    float64\n",
       "new_case_his_13    float64\n",
       "new_case_his_14    float64\n",
       "new_case_his_15    float64\n",
       "new_case_his_16    float64\n",
       "new_case_his_17    float64\n",
       "new_case_his_18    float64\n",
       "new_case_his_19    float64\n",
       "new_case_his_20    float64\n",
       "new_case_his_21    float64\n",
       "new_case_his_22    float64\n",
       "new_case_his_23    float64\n",
       "new_case_his_24    float64\n",
       "new_case_his_25    float64\n",
       "new_case_his_26    float64\n",
       "new_case_his_27    float64\n",
       "new_case_his_28    float64\n",
       "dtype: object"
      ]
     },
     "execution_count": 20,
     "metadata": {},
     "output_type": "execute_result"
    }
   ],
   "source": [
    "train_X_df.dtypes"
   ]
  },
  {
   "cell_type": "markdown",
   "metadata": {
    "id": "ZMGt8nni-kgh"
   },
   "source": [
    "TODO: NHẬN XÉT"
   ]
  },
  {
   "cell_type": "markdown",
   "metadata": {
    "id": "MbPT8ehLT9yr"
   },
   "source": [
    "### Với mỗi cột input có kiểu dữ liệu dạng số, các giá trị được phân bố như thế nào?"
   ]
  },
  {
   "cell_type": "code",
   "execution_count": 21,
   "metadata": {
    "colab": {
     "base_uri": "https://localhost:8080/",
     "height": 245
    },
    "id": "9AmzF6cYUS-o",
    "outputId": "6ddea70e-3cce-493d-89be-b3611828038a"
   },
   "outputs": [
    {
     "data": {
      "text/html": [
       "<div>\n",
       "<style scoped>\n",
       "    .dataframe tbody tr th:only-of-type {\n",
       "        vertical-align: middle;\n",
       "    }\n",
       "\n",
       "    .dataframe tbody tr th {\n",
       "        vertical-align: top;\n",
       "    }\n",
       "\n",
       "    .dataframe thead th {\n",
       "        text-align: right;\n",
       "    }\n",
       "</style>\n",
       "<table border=\"1\" class=\"dataframe\">\n",
       "  <thead>\n",
       "    <tr style=\"text-align: right;\">\n",
       "      <th></th>\n",
       "      <th>new_case_his_20</th>\n",
       "      <th>conf_death</th>\n",
       "      <th>new_case_his_19</th>\n",
       "      <th>new_case_his_14</th>\n",
       "      <th>new_case_his_2</th>\n",
       "      <th>new_case_his_23</th>\n",
       "      <th>new_case_his_9</th>\n",
       "      <th>new_case_his_11</th>\n",
       "      <th>new_case_his_7</th>\n",
       "      <th>new_case_his_5</th>\n",
       "      <th>...</th>\n",
       "      <th>new_case_his_22</th>\n",
       "      <th>prob_cases</th>\n",
       "      <th>new_case_his_27</th>\n",
       "      <th>new_case_his_12</th>\n",
       "      <th>tot_death</th>\n",
       "      <th>new_case_his_1</th>\n",
       "      <th>new_case_his_25</th>\n",
       "      <th>new_case_his_28</th>\n",
       "      <th>new_case_his_18</th>\n",
       "      <th>conf_cases</th>\n",
       "    </tr>\n",
       "  </thead>\n",
       "  <tbody>\n",
       "    <tr>\n",
       "      <th>missing_ratio</th>\n",
       "      <td>0.0</td>\n",
       "      <td>49.4</td>\n",
       "      <td>0.0</td>\n",
       "      <td>0.0</td>\n",
       "      <td>0.0</td>\n",
       "      <td>0.0</td>\n",
       "      <td>0.0</td>\n",
       "      <td>0.0</td>\n",
       "      <td>0.0</td>\n",
       "      <td>0.0</td>\n",
       "      <td>...</td>\n",
       "      <td>0.0</td>\n",
       "      <td>52.9</td>\n",
       "      <td>0.0</td>\n",
       "      <td>0.0</td>\n",
       "      <td>0.0</td>\n",
       "      <td>0.0</td>\n",
       "      <td>0.0</td>\n",
       "      <td>0.0</td>\n",
       "      <td>0.0</td>\n",
       "      <td>52.9</td>\n",
       "    </tr>\n",
       "    <tr>\n",
       "      <th>min</th>\n",
       "      <td>-33355.0</td>\n",
       "      <td>0.0</td>\n",
       "      <td>-33355.0</td>\n",
       "      <td>-33355.0</td>\n",
       "      <td>-30134.0</td>\n",
       "      <td>-33355.0</td>\n",
       "      <td>-33355.0</td>\n",
       "      <td>-33355.0</td>\n",
       "      <td>-33355.0</td>\n",
       "      <td>-33355.0</td>\n",
       "      <td>...</td>\n",
       "      <td>-33355.0</td>\n",
       "      <td>0.0</td>\n",
       "      <td>-4755.0</td>\n",
       "      <td>-33355.0</td>\n",
       "      <td>0.0</td>\n",
       "      <td>-33355.0</td>\n",
       "      <td>-10427.0</td>\n",
       "      <td>-10427.0</td>\n",
       "      <td>-33355.0</td>\n",
       "      <td>1.0</td>\n",
       "    </tr>\n",
       "    <tr>\n",
       "      <th>lower_quartile</th>\n",
       "      <td>34.0</td>\n",
       "      <td>401.0</td>\n",
       "      <td>36.0</td>\n",
       "      <td>52.0</td>\n",
       "      <td>71.0</td>\n",
       "      <td>29.0</td>\n",
       "      <td>56.0</td>\n",
       "      <td>49.0</td>\n",
       "      <td>67.0</td>\n",
       "      <td>63.0</td>\n",
       "      <td>...</td>\n",
       "      <td>30.0</td>\n",
       "      <td>93.5</td>\n",
       "      <td>23.0</td>\n",
       "      <td>49.0</td>\n",
       "      <td>105.0</td>\n",
       "      <td>71.0</td>\n",
       "      <td>25.0</td>\n",
       "      <td>26.0</td>\n",
       "      <td>35.5</td>\n",
       "      <td>11127.0</td>\n",
       "    </tr>\n",
       "    <tr>\n",
       "      <th>median</th>\n",
       "      <td>280.0</td>\n",
       "      <td>1517.0</td>\n",
       "      <td>288.0</td>\n",
       "      <td>318.0</td>\n",
       "      <td>369.0</td>\n",
       "      <td>269.0</td>\n",
       "      <td>332.0</td>\n",
       "      <td>321.0</td>\n",
       "      <td>356.0</td>\n",
       "      <td>354.0</td>\n",
       "      <td>...</td>\n",
       "      <td>270.0</td>\n",
       "      <td>1470.0</td>\n",
       "      <td>250.0</td>\n",
       "      <td>319.0</td>\n",
       "      <td>681.0</td>\n",
       "      <td>365.0</td>\n",
       "      <td>262.0</td>\n",
       "      <td>255.0</td>\n",
       "      <td>290.0</td>\n",
       "      <td>45392.0</td>\n",
       "    </tr>\n",
       "    <tr>\n",
       "      <th>upper_quartile</th>\n",
       "      <td>817.0</td>\n",
       "      <td>3728.0</td>\n",
       "      <td>841.5</td>\n",
       "      <td>897.5</td>\n",
       "      <td>1001.0</td>\n",
       "      <td>807.5</td>\n",
       "      <td>938.0</td>\n",
       "      <td>917.5</td>\n",
       "      <td>971.0</td>\n",
       "      <td>986.0</td>\n",
       "      <td>...</td>\n",
       "      <td>804.0</td>\n",
       "      <td>5493.0</td>\n",
       "      <td>763.0</td>\n",
       "      <td>912.0</td>\n",
       "      <td>2994.5</td>\n",
       "      <td>1008.0</td>\n",
       "      <td>785.5</td>\n",
       "      <td>776.0</td>\n",
       "      <td>847.0</td>\n",
       "      <td>121411.5</td>\n",
       "    </tr>\n",
       "    <tr>\n",
       "      <th>max</th>\n",
       "      <td>71734.0</td>\n",
       "      <td>19603.0</td>\n",
       "      <td>71734.0</td>\n",
       "      <td>49458.0</td>\n",
       "      <td>71734.0</td>\n",
       "      <td>71734.0</td>\n",
       "      <td>71734.0</td>\n",
       "      <td>49458.0</td>\n",
       "      <td>71734.0</td>\n",
       "      <td>71734.0</td>\n",
       "      <td>...</td>\n",
       "      <td>71734.0</td>\n",
       "      <td>49430.0</td>\n",
       "      <td>71734.0</td>\n",
       "      <td>71734.0</td>\n",
       "      <td>24297.0</td>\n",
       "      <td>71734.0</td>\n",
       "      <td>71734.0</td>\n",
       "      <td>71734.0</td>\n",
       "      <td>71734.0</td>\n",
       "      <td>738846.0</td>\n",
       "    </tr>\n",
       "  </tbody>\n",
       "</table>\n",
       "<p>6 rows × 37 columns</p>\n",
       "</div>"
      ],
      "text/plain": [
       "                new_case_his_20  conf_death  new_case_his_19  new_case_his_14  \\\n",
       "missing_ratio               0.0        49.4              0.0              0.0   \n",
       "min                    -33355.0         0.0         -33355.0         -33355.0   \n",
       "lower_quartile             34.0       401.0             36.0             52.0   \n",
       "median                    280.0      1517.0            288.0            318.0   \n",
       "upper_quartile            817.0      3728.0            841.5            897.5   \n",
       "max                     71734.0     19603.0          71734.0          49458.0   \n",
       "\n",
       "                new_case_his_2  new_case_his_23  new_case_his_9  \\\n",
       "missing_ratio              0.0              0.0             0.0   \n",
       "min                   -30134.0         -33355.0        -33355.0   \n",
       "lower_quartile            71.0             29.0            56.0   \n",
       "median                   369.0            269.0           332.0   \n",
       "upper_quartile          1001.0            807.5           938.0   \n",
       "max                    71734.0          71734.0         71734.0   \n",
       "\n",
       "                new_case_his_11  new_case_his_7  new_case_his_5  ...  \\\n",
       "missing_ratio               0.0             0.0             0.0  ...   \n",
       "min                    -33355.0        -33355.0        -33355.0  ...   \n",
       "lower_quartile             49.0            67.0            63.0  ...   \n",
       "median                    321.0           356.0           354.0  ...   \n",
       "upper_quartile            917.5           971.0           986.0  ...   \n",
       "max                     49458.0         71734.0         71734.0  ...   \n",
       "\n",
       "                new_case_his_22  prob_cases  new_case_his_27  new_case_his_12  \\\n",
       "missing_ratio               0.0        52.9              0.0              0.0   \n",
       "min                    -33355.0         0.0          -4755.0         -33355.0   \n",
       "lower_quartile             30.0        93.5             23.0             49.0   \n",
       "median                    270.0      1470.0            250.0            319.0   \n",
       "upper_quartile            804.0      5493.0            763.0            912.0   \n",
       "max                     71734.0     49430.0          71734.0          71734.0   \n",
       "\n",
       "                tot_death  new_case_his_1  new_case_his_25  new_case_his_28  \\\n",
       "missing_ratio         0.0             0.0              0.0              0.0   \n",
       "min                   0.0        -33355.0         -10427.0         -10427.0   \n",
       "lower_quartile      105.0            71.0             25.0             26.0   \n",
       "median              681.0           365.0            262.0            255.0   \n",
       "upper_quartile     2994.5          1008.0            785.5            776.0   \n",
       "max               24297.0         71734.0          71734.0          71734.0   \n",
       "\n",
       "                new_case_his_18  conf_cases  \n",
       "missing_ratio               0.0        52.9  \n",
       "min                    -33355.0         1.0  \n",
       "lower_quartile             35.5     11127.0  \n",
       "median                    290.0     45392.0  \n",
       "upper_quartile            847.0    121411.5  \n",
       "max                     71734.0    738846.0  \n",
       "\n",
       "[6 rows x 37 columns]"
      ]
     },
     "execution_count": 21,
     "metadata": {},
     "output_type": "execute_result"
    }
   ],
   "source": [
    "num_cols = list(set(train_X_df.columns) - set(whitelist))\n",
    "df = train_X_df[num_cols]\n",
    "def missing_ratio(df):\n",
    "    return (df.isna().mean() * 100).round(1)\n",
    "def lower_quartile(df):\n",
    "    return df.quantile(0.25).round(1)\n",
    "def median(df):\n",
    "    return df.quantile(0.5).round(1)\n",
    "def upper_quartile(df):\n",
    "    return df.quantile(0.75).round(1)\n",
    "df.agg([missing_ratio, 'min', lower_quartile, median, upper_quartile, 'max'])"
   ]
  },
  {
   "cell_type": "markdown",
   "metadata": {
    "id": "MRACWC3v-ep4"
   },
   "source": [
    "TODO: NHẬN XÉT\n",
    "\n",
    "Ta thấy những thuộc tính pnew_case, new_death"
   ]
  },
  {
   "cell_type": "markdown",
   "metadata": {
    "id": "L3ibuXMOVMAk"
   },
   "source": [
    "### Với mỗi cột input có kiểu dữ liệu không phải dạng số, các giá trị được phân bố như thế nào?"
   ]
  },
  {
   "cell_type": "code",
   "execution_count": 22,
   "metadata": {
    "colab": {
     "base_uri": "https://localhost:8080/",
     "height": 220
    },
    "id": "o_WxpobyVirb",
    "outputId": "a31002ea-630d-46eb-92f5-5a6d8d2e8443"
   },
   "outputs": [
    {
     "data": {
      "text/html": [
       "<div>\n",
       "<style scoped>\n",
       "    .dataframe tbody tr th:only-of-type {\n",
       "        vertical-align: middle;\n",
       "    }\n",
       "\n",
       "    .dataframe tbody tr th {\n",
       "        vertical-align: top;\n",
       "    }\n",
       "\n",
       "    .dataframe thead th {\n",
       "        text-align: right;\n",
       "    }\n",
       "</style>\n",
       "<table border=\"1\" class=\"dataframe\">\n",
       "  <thead>\n",
       "    <tr style=\"text-align: right;\">\n",
       "      <th></th>\n",
       "      <th>submission_date</th>\n",
       "      <th>state</th>\n",
       "      <th>consent_deaths</th>\n",
       "      <th>created_at</th>\n",
       "      <th>consent_cases</th>\n",
       "    </tr>\n",
       "  </thead>\n",
       "  <tbody>\n",
       "    <tr>\n",
       "      <th>missing_ratio</th>\n",
       "      <td>0</td>\n",
       "      <td>0</td>\n",
       "      <td>4.9</td>\n",
       "      <td>0</td>\n",
       "      <td>4.9</td>\n",
       "    </tr>\n",
       "    <tr>\n",
       "      <th>num_values</th>\n",
       "      <td>287</td>\n",
       "      <td>58</td>\n",
       "      <td>3</td>\n",
       "      <td>456</td>\n",
       "      <td>3</td>\n",
       "    </tr>\n",
       "    <tr>\n",
       "      <th>value_ratios</th>\n",
       "      <td>{'2020-04-11T00:00:00.000': 0.4, '2020-09-30T00:00:00.000': 0.4, '2020-04-04T00:00:00.000': 0.4, '2020-08-13T00:00:00.000': 0.4, '2020-04-09T00:00:00.000': 0.4, '2020-04-23T00:00:00.000': 0.4, '20...</td>\n",
       "      <td>{'NY': 2.1, 'MA': 2.0, 'CA': 2.0, 'PA': 2.0, 'IN': 2.0, 'WI': 2.0, 'NJ': 2.0, 'OR': 2.0, 'IA': 2.0, 'NV': 2.0, 'IL': 1.9, 'CO': 1.9, 'NE': 1.9, 'NM': 1.9, 'AR': 1.9, 'GA': 1.9, 'OH': 1.9, 'NC': 1....</td>\n",
       "      <td>{'Agree': 62.2, 'Not agree': 31.2, 'N/A': 6.6}</td>\n",
       "      <td>{'2020-03-26T16:22:39.452': 6.4, '2020-05-25T15:38:40.000': 1.8, '2020-11-13T19:10:12.893': 1.6, '2020-03-28T16:22:39.452': 0.8, '2020-04-03T16:22:39.452': 0.8, '2020-04-07T16:22:39.452': 0.7, '20...</td>\n",
       "      <td>{'Agree': 57.6, 'Not agree': 30.9, 'N/A': 11.5}</td>\n",
       "    </tr>\n",
       "  </tbody>\n",
       "</table>\n",
       "</div>"
      ],
      "text/plain": [
       "                                                                                                                                                                                                       submission_date  \\\n",
       "missing_ratio                                                                                                                                                                                                        0   \n",
       "num_values                                                                                                                                                                                                         287   \n",
       "value_ratios   {'2020-04-11T00:00:00.000': 0.4, '2020-09-30T00:00:00.000': 0.4, '2020-04-04T00:00:00.000': 0.4, '2020-08-13T00:00:00.000': 0.4, '2020-04-09T00:00:00.000': 0.4, '2020-04-23T00:00:00.000': 0.4, '20...   \n",
       "\n",
       "                                                                                                                                                                                                                 state  \\\n",
       "missing_ratio                                                                                                                                                                                                        0   \n",
       "num_values                                                                                                                                                                                                          58   \n",
       "value_ratios   {'NY': 2.1, 'MA': 2.0, 'CA': 2.0, 'PA': 2.0, 'IN': 2.0, 'WI': 2.0, 'NJ': 2.0, 'OR': 2.0, 'IA': 2.0, 'NV': 2.0, 'IL': 1.9, 'CO': 1.9, 'NE': 1.9, 'NM': 1.9, 'AR': 1.9, 'GA': 1.9, 'OH': 1.9, 'NC': 1....   \n",
       "\n",
       "                                               consent_deaths  \\\n",
       "missing_ratio                                             4.9   \n",
       "num_values                                                  3   \n",
       "value_ratios   {'Agree': 62.2, 'Not agree': 31.2, 'N/A': 6.6}   \n",
       "\n",
       "                                                                                                                                                                                                            created_at  \\\n",
       "missing_ratio                                                                                                                                                                                                        0   \n",
       "num_values                                                                                                                                                                                                         456   \n",
       "value_ratios   {'2020-03-26T16:22:39.452': 6.4, '2020-05-25T15:38:40.000': 1.8, '2020-11-13T19:10:12.893': 1.6, '2020-03-28T16:22:39.452': 0.8, '2020-04-03T16:22:39.452': 0.8, '2020-04-07T16:22:39.452': 0.7, '20...   \n",
       "\n",
       "                                                 consent_cases  \n",
       "missing_ratio                                              4.9  \n",
       "num_values                                                   3  \n",
       "value_ratios   {'Agree': 57.6, 'Not agree': 30.9, 'N/A': 11.5}  "
      ]
     },
     "execution_count": 22,
     "metadata": {},
     "output_type": "execute_result"
    }
   ],
   "source": [
    "pd.set_option('display.max_colwidth', 200) # Để nhìn rõ hơn\n",
    "cat_cols = list(set(train_X_df.columns) - set(num_cols))\n",
    "df = train_X_df[cat_cols]\n",
    "def missing_ratio(df):\n",
    "    return (df.isna().mean() * 100).round(1)\n",
    "def num_values(df):\n",
    "    return df.nunique()\n",
    "def value_ratios(c):\n",
    "    return dict((c.value_counts(normalize=True) * 100).round(1))\n",
    "df.agg([missing_ratio, num_values, value_ratios])"
   ]
  },
  {
   "cell_type": "markdown",
   "metadata": {
    "id": "vU2y7ngq-wQE"
   },
   "source": [
    "TODO: NHẬN XÉT"
   ]
  },
  {
   "cell_type": "markdown",
   "metadata": {
    "id": "oyVeK-1mblFI"
   },
   "source": [
    "## Tiền xử lý tập huấn luyện\n",
    "\n",
    "- Loại bỏ các thuộc tính dự đoán như `pnew_case`, `pnew_death`\n",
    "- Loại bỏ các thuộc tính không có ích cho việc huấn luyện mô hình như `submission_date`, `state`, `conf_death`, `prob_death`, `created_at`, `consent_cases`, `consent_deaths`\n",
    "\n",
    "- Dùng tham số `callback_days` để quy định chỉ lấy số ngày gần nhất của ngày hiện tại.\n",
    "\n",
    "- Hàm `mix_data` dùng để fill lại các giá trị của cột `conf_cases` bằng giá trị tương ứng của cột `tot_cases` nếu nó bị thiếu.\n",
    "\n"
   ]
  },
  {
   "cell_type": "code",
   "execution_count": 23,
   "metadata": {
    "id": "BqUk7Gz3orda"
   },
   "outputs": [],
   "source": [
    "class ColDropper(BaseEstimator, TransformerMixin):\n",
    "    def __init__(self, callback_days=14):\n",
    "        self.callback_days = callback_days\n",
    "\n",
    "    def fit(self, X_df, y=None):\n",
    "        return self\n",
    "    \n",
    "    def mix_data(self, row):\n",
    "        tot_cases = row.loc['tot_cases']\n",
    "        if row.isnull().loc['conf_cases']:\n",
    "            row.loc['conf_cases'] = tot_cases            \n",
    "\n",
    "        return row\n",
    "\n",
    "    def transform(self, X_df, y=None):\n",
    "\n",
    "        # drop unsue attr\n",
    "        df = X_df.drop(['pnew_case', 'pnew_death', 'submission_date', 'state', 'conf_death', 'prob_death', 'created_at',\n",
    "                        'consent_cases', 'consent_deaths'], axis=1, errors = 'ignore')\n",
    "\n",
    "        # regex to match first number in any text\n",
    "        matcher = re.compile(r'.*?(\\d+)')\n",
    "        \n",
    "        columns_sr = df.columns.str.extract(r'(.*?\\d+)', expand=False).dropna().to_series()\n",
    "        list_drop_his = columns_sr.transform(lambda x: x if int(matcher.findall(x)[0]) > self.callback_days else np.nan).dropna().values.tolist()\n",
    "        if len(list_drop_his) > 0:\n",
    "            df = df.drop(list_drop_his, axis=1)\n",
    "            \n",
    "        df['total_new_case_his'] = df.iloc[:, 5:].sum(axis=1)\n",
    "        df = df.drop(df.columns[5:-1],axis=1)\n",
    "\n",
    "        return df.transform(self.mix_data, axis=1)\n"
   ]
  },
  {
   "cell_type": "code",
   "execution_count": 24,
   "metadata": {
    "colab": {
     "base_uri": "https://localhost:8080/",
     "height": 71
    },
    "id": "qi2BYpJdu0pI",
    "outputId": "c0bf1231-748e-46b1-eba5-6fb9d169b118"
   },
   "outputs": [
    {
     "data": {
      "text/html": [
       "<style>div.sk-top-container {color: black;background-color: white;}div.sk-toggleable {background-color: white;}label.sk-toggleable__label {cursor: pointer;display: block;width: 100%;margin-bottom: 0;padding: 0.2em 0.3em;box-sizing: border-box;text-align: center;}div.sk-toggleable__content {max-height: 0;max-width: 0;overflow: hidden;text-align: left;background-color: #f0f8ff;}div.sk-toggleable__content pre {margin: 0.2em;color: black;border-radius: 0.25em;background-color: #f0f8ff;}input.sk-toggleable__control:checked~div.sk-toggleable__content {max-height: 200px;max-width: 100%;overflow: auto;}div.sk-estimator input.sk-toggleable__control:checked~label.sk-toggleable__label {background-color: #d4ebff;}div.sk-label input.sk-toggleable__control:checked~label.sk-toggleable__label {background-color: #d4ebff;}input.sk-hidden--visually {border: 0;clip: rect(1px 1px 1px 1px);clip: rect(1px, 1px, 1px, 1px);height: 1px;margin: -1px;overflow: hidden;padding: 0;position: absolute;width: 1px;}div.sk-estimator {font-family: monospace;background-color: #f0f8ff;margin: 0.25em 0.25em;border: 1px dotted black;border-radius: 0.25em;box-sizing: border-box;}div.sk-estimator:hover {background-color: #d4ebff;}div.sk-parallel-item::after {content: \"\";width: 100%;border-bottom: 1px solid gray;flex-grow: 1;}div.sk-label:hover label.sk-toggleable__label {background-color: #d4ebff;}div.sk-serial::before {content: \"\";position: absolute;border-left: 1px solid gray;box-sizing: border-box;top: 2em;bottom: 0;left: 50%;}div.sk-serial {display: flex;flex-direction: column;align-items: center;background-color: white;}div.sk-item {z-index: 1;}div.sk-parallel {display: flex;align-items: stretch;justify-content: center;background-color: white;}div.sk-parallel-item {display: flex;flex-direction: column;position: relative;background-color: white;}div.sk-parallel-item:first-child::after {align-self: flex-end;width: 50%;}div.sk-parallel-item:last-child::after {align-self: flex-start;width: 50%;}div.sk-parallel-item:only-child::after {width: 0;}div.sk-dashed-wrapped {border: 1px dashed gray;margin: 0.2em;box-sizing: border-box;padding-bottom: 0.1em;background-color: white;position: relative;}div.sk-label label {font-family: monospace;font-weight: bold;background-color: white;display: inline-block;line-height: 1.2em;}div.sk-label-container {position: relative;z-index: 2;text-align: center;}div.sk-container {display: inline-block;position: relative;}</style><div class=\"sk-top-container\"><div class=\"sk-container\"><div class=\"sk-item\"><div class=\"sk-estimator sk-toggleable\"><input class=\"sk-toggleable__control sk-hidden--visually\" id=\"f528839b-4751-49dc-9fa8-cac43079c382\" type=\"checkbox\" checked><label class=\"sk-toggleable__label\" for=\"f528839b-4751-49dc-9fa8-cac43079c382\">ColDropper</label><div class=\"sk-toggleable__content\"><pre>ColDropper(callback_days=5)</pre></div></div></div></div></div>"
      ],
      "text/plain": [
       "ColDropper(callback_days=5)"
      ]
     },
     "execution_count": 24,
     "metadata": {},
     "output_type": "execute_result"
    }
   ],
   "source": [
    "estimator = ColDropper(callback_days=5)\n",
    "estimator.fit(train_X_df)"
   ]
  },
  {
   "cell_type": "code",
   "execution_count": 25,
   "metadata": {
    "id": "1pmLX-jSw6tN"
   },
   "outputs": [],
   "source": [
    "# estimator.transform(train_X_df).duplicated(keep='last').sum()\n",
    "# 262 (if callback_days = 20) How?"
   ]
  },
  {
   "cell_type": "code",
   "execution_count": 26,
   "metadata": {
    "colab": {
     "base_uri": "https://localhost:8080/",
     "height": 402
    },
    "id": "oGwUUuaXwszg",
    "outputId": "ca2d72c8-6501-42a4-98c2-e0be018ed4f5"
   },
   "outputs": [
    {
     "data": {
      "text/html": [
       "<div>\n",
       "<style scoped>\n",
       "    .dataframe tbody tr th:only-of-type {\n",
       "        vertical-align: middle;\n",
       "    }\n",
       "\n",
       "    .dataframe tbody tr th {\n",
       "        vertical-align: top;\n",
       "    }\n",
       "\n",
       "    .dataframe thead th {\n",
       "        text-align: right;\n",
       "    }\n",
       "</style>\n",
       "<table border=\"1\" class=\"dataframe\">\n",
       "  <thead>\n",
       "    <tr style=\"text-align: right;\">\n",
       "      <th></th>\n",
       "      <th>tot_cases</th>\n",
       "      <th>conf_cases</th>\n",
       "      <th>prob_cases</th>\n",
       "      <th>tot_death</th>\n",
       "      <th>new_death</th>\n",
       "      <th>total_new_case_his</th>\n",
       "    </tr>\n",
       "  </thead>\n",
       "  <tbody>\n",
       "    <tr>\n",
       "      <th>7851</th>\n",
       "      <td>8317.0</td>\n",
       "      <td>8317.0</td>\n",
       "      <td>NaN</td>\n",
       "      <td>441.0</td>\n",
       "      <td>2.0</td>\n",
       "      <td>181.0</td>\n",
       "    </tr>\n",
       "    <tr>\n",
       "      <th>15942</th>\n",
       "      <td>18646.0</td>\n",
       "      <td>18532.0</td>\n",
       "      <td>114.0</td>\n",
       "      <td>310.0</td>\n",
       "      <td>5.0</td>\n",
       "      <td>1707.0</td>\n",
       "    </tr>\n",
       "    <tr>\n",
       "      <th>6231</th>\n",
       "      <td>220214.0</td>\n",
       "      <td>215598.0</td>\n",
       "      <td>4616.0</td>\n",
       "      <td>23278.0</td>\n",
       "      <td>11.0</td>\n",
       "      <td>1425.0</td>\n",
       "    </tr>\n",
       "    <tr>\n",
       "      <th>13820</th>\n",
       "      <td>9090.0</td>\n",
       "      <td>9090.0</td>\n",
       "      <td>0.0</td>\n",
       "      <td>409.0</td>\n",
       "      <td>35.0</td>\n",
       "      <td>1212.0</td>\n",
       "    </tr>\n",
       "    <tr>\n",
       "      <th>12557</th>\n",
       "      <td>704085.0</td>\n",
       "      <td>704085.0</td>\n",
       "      <td>NaN</td>\n",
       "      <td>12933.0</td>\n",
       "      <td>28.0</td>\n",
       "      <td>26814.0</td>\n",
       "    </tr>\n",
       "    <tr>\n",
       "      <th>...</th>\n",
       "      <td>...</td>\n",
       "      <td>...</td>\n",
       "      <td>...</td>\n",
       "      <td>...</td>\n",
       "      <td>...</td>\n",
       "      <td>...</td>\n",
       "    </tr>\n",
       "    <tr>\n",
       "      <th>13691</th>\n",
       "      <td>1140861.0</td>\n",
       "      <td>1140861.0</td>\n",
       "      <td>NaN</td>\n",
       "      <td>19883.0</td>\n",
       "      <td>187.0</td>\n",
       "      <td>54222.0</td>\n",
       "    </tr>\n",
       "    <tr>\n",
       "      <th>17013</th>\n",
       "      <td>32005.0</td>\n",
       "      <td>31988.0</td>\n",
       "      <td>17.0</td>\n",
       "      <td>1442.0</td>\n",
       "      <td>38.0</td>\n",
       "      <td>3350.0</td>\n",
       "    </tr>\n",
       "    <tr>\n",
       "      <th>6392</th>\n",
       "      <td>36093.0</td>\n",
       "      <td>33154.0</td>\n",
       "      <td>2939.0</td>\n",
       "      <td>429.0</td>\n",
       "      <td>6.0</td>\n",
       "      <td>1193.0</td>\n",
       "    </tr>\n",
       "    <tr>\n",
       "      <th>5144</th>\n",
       "      <td>47807.0</td>\n",
       "      <td>47807.0</td>\n",
       "      <td>NaN</td>\n",
       "      <td>501.0</td>\n",
       "      <td>4.0</td>\n",
       "      <td>2825.0</td>\n",
       "    </tr>\n",
       "    <tr>\n",
       "      <th>7639</th>\n",
       "      <td>146.0</td>\n",
       "      <td>146.0</td>\n",
       "      <td>NaN</td>\n",
       "      <td>5.0</td>\n",
       "      <td>0.0</td>\n",
       "      <td>4.0</td>\n",
       "    </tr>\n",
       "  </tbody>\n",
       "</table>\n",
       "<p>12227 rows × 6 columns</p>\n",
       "</div>"
      ],
      "text/plain": [
       "       tot_cases  conf_cases  prob_cases  tot_death  new_death  \\\n",
       "7851      8317.0      8317.0         NaN      441.0        2.0   \n",
       "15942    18646.0     18532.0       114.0      310.0        5.0   \n",
       "6231    220214.0    215598.0      4616.0    23278.0       11.0   \n",
       "13820     9090.0      9090.0         0.0      409.0       35.0   \n",
       "12557   704085.0    704085.0         NaN    12933.0       28.0   \n",
       "...          ...         ...         ...        ...        ...   \n",
       "13691  1140861.0   1140861.0         NaN    19883.0      187.0   \n",
       "17013    32005.0     31988.0        17.0     1442.0       38.0   \n",
       "6392     36093.0     33154.0      2939.0      429.0        6.0   \n",
       "5144     47807.0     47807.0         NaN      501.0        4.0   \n",
       "7639       146.0       146.0         NaN        5.0        0.0   \n",
       "\n",
       "       total_new_case_his  \n",
       "7851                181.0  \n",
       "15942              1707.0  \n",
       "6231               1425.0  \n",
       "13820              1212.0  \n",
       "12557             26814.0  \n",
       "...                   ...  \n",
       "13691             54222.0  \n",
       "17013              3350.0  \n",
       "6392               1193.0  \n",
       "5144               2825.0  \n",
       "7639                  4.0  \n",
       "\n",
       "[12227 rows x 6 columns]"
      ]
     },
     "execution_count": 26,
     "metadata": {},
     "output_type": "execute_result"
    }
   ],
   "source": [
    "# TEST\n",
    "tmp = estimator.transform(train_X_df)\n",
    "tmp"
   ]
  },
  {
   "cell_type": "markdown",
   "metadata": {
    "id": "WtICMrfQwyQh"
   },
   "source": [
    "### Xây dựng pipeline\n",
    "\n"
   ]
  },
  {
   "cell_type": "markdown",
   "metadata": {
    "id": "Qug1v-6ZJZP7"
   },
   "source": [
    "Các thuộc tính sẽ được fill bằng `mean` nhằm đảm bảo không còn nơi nào bị thiếu dữ liệu kể cả trên bộ test mới."
   ]
  },
  {
   "cell_type": "markdown",
   "metadata": {
    "id": "siTPr8oHWUU7"
   },
   "source": [
    "## Tiền xử lý + mô hình hóa"
   ]
  },
  {
   "cell_type": "markdown",
   "metadata": {
    "id": "cHE82zKXWZLF"
   },
   "source": [
    "### Tìm mô hình tốt nhất"
   ]
  },
  {
   "cell_type": "markdown",
   "metadata": {
    "id": "nYUKxgB9xQiP"
   },
   "source": [
    "#### Thử nhiệm 1: Mô hình MLP"
   ]
  },
  {
   "cell_type": "code",
   "execution_count": 27,
   "metadata": {
    "id": "eP6Q1kjAxXTA"
   },
   "outputs": [],
   "source": [
    "pipe_line = make_pipeline(ColDropper(), SimpleImputer(strategy='mean'),\n",
    "            StandardScaler(),\n",
    "            MLPRegressor(hidden_layer_sizes=(30,), activation='relu', solver='adam', max_iter=3000, random_state=0))"
   ]
  },
  {
   "cell_type": "code",
   "execution_count": 28,
   "metadata": {
    "colab": {
     "base_uri": "https://localhost:8080/",
     "height": 539
    },
    "id": "77T-qj7JJYmo",
    "outputId": "6b8846cf-631d-428e-de88-8d50309f2572"
   },
   "outputs": [
    {
     "name": "stdout",
     "output_type": "stream",
     "text": [
      "Processing alpha=0.1\tcallback_days=6...\ttrain_err: 25.938830961422553\t val_err: 15.71479767806231\n",
      "Processing alpha=0.1\tcallback_days=8...\ttrain_err: 25.814516898913375\t val_err: 15.549447331741707\n",
      "Processing alpha=0.1\tcallback_days=10...\ttrain_err: 26.23553390349953\t val_err: 16.907540566472555\n",
      "Processing alpha=0.1\tcallback_days=12...\ttrain_err: 26.62551509050011\t val_err: 16.976444019127236\n",
      "Processing alpha=0.1\tcallback_days=14...\ttrain_err: 26.11619234789664\t val_err: 18.760989746527613\n",
      "Processing alpha=0.1\tcallback_days=16...\ttrain_err: 26.840387410574284\t val_err: 19.78946530523039\n",
      "Processing alpha=1\tcallback_days=6...\ttrain_err: 25.92664153406188\t val_err: 15.73486165360023\n",
      "Processing alpha=1\tcallback_days=8...\ttrain_err: 25.815578117100245\t val_err: 15.548397510842104\n",
      "Processing alpha=1\tcallback_days=10...\ttrain_err: 26.23535252807678\t val_err: 16.90712384240073\n",
      "Processing alpha=1\tcallback_days=12...\ttrain_err: 26.62584657132625\t val_err: 16.977093684857092\n",
      "Processing alpha=1\tcallback_days=14...\ttrain_err: 26.11585751075549\t val_err: 18.760877602613757\n",
      "Processing alpha=1\tcallback_days=16...\ttrain_err: 27.049294818104443\t val_err: 20.18525287807913\n",
      "Processing alpha=10\tcallback_days=6...\ttrain_err: 25.933173072021674\t val_err: 15.721145476265807\n",
      "Processing alpha=10\tcallback_days=8...\ttrain_err: 25.815853423545654\t val_err: 15.547667656854047\n",
      "Processing alpha=10\tcallback_days=10...\ttrain_err: 26.23513321293729\t val_err: 16.904769022258193\n",
      "Processing alpha=10\tcallback_days=12...\ttrain_err: 26.39208950224001\t val_err: 16.592937019126808\n",
      "Processing alpha=10\tcallback_days=14...\ttrain_err: 26.116869628394802\t val_err: 18.76061182822508\n",
      "Processing alpha=10\tcallback_days=16...\ttrain_err: 27.064422583897564\t val_err: 20.194719307366583\n",
      "Processing alpha=100\tcallback_days=6...\ttrain_err: 26.018040235571327\t val_err: 15.745723480147566\n",
      "Processing alpha=100\tcallback_days=8...\ttrain_err: 25.814387737317933\t val_err: 15.539383577096222\n",
      "Processing alpha=100\tcallback_days=10...\ttrain_err: 26.180874286369683\t val_err: 16.86285287378997\n",
      "Processing alpha=100\tcallback_days=12...\ttrain_err: 26.378931366154667\t val_err: 16.55791450084021\n",
      "Processing alpha=100\tcallback_days=14...\ttrain_err: 25.94892267216483\t val_err: 18.35343410628203\n",
      "Processing alpha=100\tcallback_days=16...\ttrain_err: 27.04729294347834\t val_err: 20.165458545697447\n",
      "Processing alpha=1000\tcallback_days=6...\ttrain_err: 26.242002049908496\t val_err: 15.901200744049337\n",
      "Processing alpha=1000\tcallback_days=8...\ttrain_err: 25.788894052197662\t val_err: 15.506770921705126\n",
      "Processing alpha=1000\tcallback_days=10...\ttrain_err: 26.206968368758066\t val_err: 16.81574759977612\n",
      "Processing alpha=1000\tcallback_days=12...\ttrain_err: 26.60550445770069\t val_err: 16.921775350529234\n",
      "Processing alpha=1000\tcallback_days=14...\ttrain_err: 26.16169586320658\t val_err: 18.6964329202447\n",
      "Processing alpha=1000\tcallback_days=16...\ttrain_err: 27.104768085217312\t val_err: 20.156838352842353\n"
     ]
    },
    {
     "data": {
      "text/plain": [
       "'Finish!'"
      ]
     },
     "execution_count": 28,
     "metadata": {},
     "output_type": "execute_result"
    }
   ],
   "source": [
    "# Thử nghiệm với các giá trị khác nhau của các siêu tham số\n",
    "# và chọn ra các giá trị tốt nhất\n",
    "train_errs = []\n",
    "val_errs = []\n",
    "alphas = [0.1, 1, 10, 100, 1000]\n",
    "callback_days_s = [6, 8, 10, 12, 14, 16]\n",
    "best_val_err = float('inf'); best_alpha = None; best_callback_days = None\n",
    "for alpha in alphas:\n",
    "    for callback_days in callback_days_s:\n",
    "        \n",
    "        print(f\"Processing alpha={alpha}\\tcallback_days={callback_days}...\", end=\"\\t\")\n",
    "        pipe_line.set_params(coldropper__callback_days=callback_days, mlpregressor__alpha=alpha)\n",
    "\n",
    "        pipe_line.fit(train_X_df, train_y_sr)\n",
    "        \n",
    "        train_err = (1 - r2_score(train_y_sr, pipe_line.predict(train_X_df))) * 100\n",
    "        val_err = (1 - r2_score(val_y_sr, pipe_line.predict(val_X_df))) * 100\n",
    "        \n",
    "        train_errs.append(train_err)\n",
    "        val_errs.append(val_err)\n",
    "        \n",
    "        if val_err < best_val_err:\n",
    "            best_val_err = val_err \n",
    "            best_alpha = alpha\n",
    "            best_callback_days = callback_days        \n",
    "\n",
    "        print(f\"train_err: {train_err}\\t val_err: {val_err}\")  \n",
    "'Finish!'"
   ]
  },
  {
   "cell_type": "code",
   "execution_count": 29,
   "metadata": {
    "colab": {
     "base_uri": "https://localhost:8080/",
     "height": 290
    },
    "id": "s26F18FWOhrb",
    "outputId": "41c93940-f04f-489f-dc37-2763593ff6fd"
   },
   "outputs": [
    {
     "data": {
      "image/png": "[encoded data removed]",
      "text/plain": [
       "<Figure size 720x360 with 2 Axes>"
      ]
     },
     "metadata": {
      "needs_background": "light"
     },
     "output_type": "display_data"
    }
   ],
   "source": [
    "# Trực quan hóa kết quả\n",
    "train_errs_df = pd.DataFrame(data=np.array(train_errs).reshape(len(alphas), -1),\n",
    "                             index=alphas, columns=callback_days_s)\n",
    "val_errs_df = pd.DataFrame(data=np.array(val_errs).reshape(len(alphas), -1), \n",
    "                           index=alphas, columns=callback_days_s)\n",
    "min_err = min(min(train_errs), min(val_errs))\n",
    "max_err = max(max(train_errs), max(val_errs))\n",
    "plt.figure(figsize=(10, 5))\n",
    "plt.subplot(1, 2, 1)\n",
    "sns.heatmap(train_errs_df, vmin=min_err, vmax=max_err, square=True, annot=True, \n",
    "            cbar=False, fmt='.1f', cmap='Reds')\n",
    "plt.title('train errors'); plt.xlabel('callback_days'); plt.ylabel('alpha')\n",
    "plt.subplot(1, 2, 2)\n",
    "sns.heatmap(val_errs_df, vmin=min_err, vmax=max_err, square=True, annot=True, \n",
    "            cbar=False, fmt='.1f', cmap='Reds')\n",
    "plt.title('validation errors'); plt.xlabel('callback_days'); plt.ylabel('alpha');"
   ]
  },
  {
   "cell_type": "code",
   "execution_count": 30,
   "metadata": {
    "colab": {
     "base_uri": "https://localhost:8080/",
     "height": 174
    },
    "id": "gJRtYf_gO2yV",
    "outputId": "b5054f9f-7fc1-422f-8b8d-f3c6942d93b3"
   },
   "outputs": [
    {
     "data": {
      "text/html": [
       "<style>div.sk-top-container {color: black;background-color: white;}div.sk-toggleable {background-color: white;}label.sk-toggleable__label {cursor: pointer;display: block;width: 100%;margin-bottom: 0;padding: 0.2em 0.3em;box-sizing: border-box;text-align: center;}div.sk-toggleable__content {max-height: 0;max-width: 0;overflow: hidden;text-align: left;background-color: #f0f8ff;}div.sk-toggleable__content pre {margin: 0.2em;color: black;border-radius: 0.25em;background-color: #f0f8ff;}input.sk-toggleable__control:checked~div.sk-toggleable__content {max-height: 200px;max-width: 100%;overflow: auto;}div.sk-estimator input.sk-toggleable__control:checked~label.sk-toggleable__label {background-color: #d4ebff;}div.sk-label input.sk-toggleable__control:checked~label.sk-toggleable__label {background-color: #d4ebff;}input.sk-hidden--visually {border: 0;clip: rect(1px 1px 1px 1px);clip: rect(1px, 1px, 1px, 1px);height: 1px;margin: -1px;overflow: hidden;padding: 0;position: absolute;width: 1px;}div.sk-estimator {font-family: monospace;background-color: #f0f8ff;margin: 0.25em 0.25em;border: 1px dotted black;border-radius: 0.25em;box-sizing: border-box;}div.sk-estimator:hover {background-color: #d4ebff;}div.sk-parallel-item::after {content: \"\";width: 100%;border-bottom: 1px solid gray;flex-grow: 1;}div.sk-label:hover label.sk-toggleable__label {background-color: #d4ebff;}div.sk-serial::before {content: \"\";position: absolute;border-left: 1px solid gray;box-sizing: border-box;top: 2em;bottom: 0;left: 50%;}div.sk-serial {display: flex;flex-direction: column;align-items: center;background-color: white;}div.sk-item {z-index: 1;}div.sk-parallel {display: flex;align-items: stretch;justify-content: center;background-color: white;}div.sk-parallel-item {display: flex;flex-direction: column;position: relative;background-color: white;}div.sk-parallel-item:first-child::after {align-self: flex-end;width: 50%;}div.sk-parallel-item:last-child::after {align-self: flex-start;width: 50%;}div.sk-parallel-item:only-child::after {width: 0;}div.sk-dashed-wrapped {border: 1px dashed gray;margin: 0.2em;box-sizing: border-box;padding-bottom: 0.1em;background-color: white;position: relative;}div.sk-label label {font-family: monospace;font-weight: bold;background-color: white;display: inline-block;line-height: 1.2em;}div.sk-label-container {position: relative;z-index: 2;text-align: center;}div.sk-container {display: inline-block;position: relative;}</style><div class=\"sk-top-container\"><div class=\"sk-container\"><div class=\"sk-item sk-dashed-wrapped\"><div class=\"sk-label-container\"><div class=\"sk-label sk-toggleable\"><input class=\"sk-toggleable__control sk-hidden--visually\" id=\"25850724-617d-4b57-94e7-e693d16c6ecb\" type=\"checkbox\" ><label class=\"sk-toggleable__label\" for=\"25850724-617d-4b57-94e7-e693d16c6ecb\">Pipeline</label><div class=\"sk-toggleable__content\"><pre>Pipeline(steps=[('coldropper', ColDropper(callback_days=8)),\n",
       "                ('simpleimputer', SimpleImputer()),\n",
       "                ('standardscaler', StandardScaler()),\n",
       "                ('mlpregressor',\n",
       "                 MLPRegressor(alpha=1000, hidden_layer_sizes=(30,),\n",
       "                              max_iter=3000, random_state=0))])</pre></div></div></div><div class=\"sk-serial\"><div class=\"sk-item\"><div class=\"sk-estimator sk-toggleable\"><input class=\"sk-toggleable__control sk-hidden--visually\" id=\"c4a3797c-ce87-44f7-af54-07a3ca3bd95e\" type=\"checkbox\" ><label class=\"sk-toggleable__label\" for=\"c4a3797c-ce87-44f7-af54-07a3ca3bd95e\">ColDropper</label><div class=\"sk-toggleable__content\"><pre>ColDropper(callback_days=8)</pre></div></div></div><div class=\"sk-item\"><div class=\"sk-estimator sk-toggleable\"><input class=\"sk-toggleable__control sk-hidden--visually\" id=\"d935178c-8d42-4a73-aec2-56bbddbf5476\" type=\"checkbox\" ><label class=\"sk-toggleable__label\" for=\"d935178c-8d42-4a73-aec2-56bbddbf5476\">SimpleImputer</label><div class=\"sk-toggleable__content\"><pre>SimpleImputer()</pre></div></div></div><div class=\"sk-item\"><div class=\"sk-estimator sk-toggleable\"><input class=\"sk-toggleable__control sk-hidden--visually\" id=\"565fad66-713e-454f-bb5e-3220b1aeb060\" type=\"checkbox\" ><label class=\"sk-toggleable__label\" for=\"565fad66-713e-454f-bb5e-3220b1aeb060\">StandardScaler</label><div class=\"sk-toggleable__content\"><pre>StandardScaler()</pre></div></div></div><div class=\"sk-item\"><div class=\"sk-estimator sk-toggleable\"><input class=\"sk-toggleable__control sk-hidden--visually\" id=\"c917acbe-2db7-4267-970e-eb9904246e04\" type=\"checkbox\" ><label class=\"sk-toggleable__label\" for=\"c917acbe-2db7-4267-970e-eb9904246e04\">MLPRegressor</label><div class=\"sk-toggleable__content\"><pre>MLPRegressor(alpha=1000, hidden_layer_sizes=(30,), max_iter=3000,\n",
       "             random_state=0)</pre></div></div></div></div></div></div></div>"
      ],
      "text/plain": [
       "Pipeline(steps=[('coldropper', ColDropper(callback_days=8)),\n",
       "                ('simpleimputer', SimpleImputer()),\n",
       "                ('standardscaler', StandardScaler()),\n",
       "                ('mlpregressor',\n",
       "                 MLPRegressor(alpha=1000, hidden_layer_sizes=(30,),\n",
       "                              max_iter=3000, random_state=0))])"
      ]
     },
     "execution_count": 30,
     "metadata": {},
     "output_type": "execute_result"
    }
   ],
   "source": [
    "pipe_line.set_params(coldropper__callback_days=best_callback_days, mlpregressor__alpha=best_alpha)\n",
    " \n",
    "pipe_line.fit(pd.concat([train_X_df, val_X_df]), pd.concat([train_y_sr, val_y_sr]))\n",
    "#pipe_line.fit(train_X_df, train_y_sr)"
   ]
  },
  {
   "cell_type": "markdown",
   "metadata": {
    "id": "hhp9s70M1Kg3"
   },
   "source": [
    "Đánh giá độ lỗi trên bộ test"
   ]
  },
  {
   "cell_type": "code",
   "execution_count": 31,
   "metadata": {
    "colab": {
     "base_uri": "https://localhost:8080/"
    },
    "id": "yxeGQs8K1PV9",
    "outputId": "244e6f36-e1a0-43fc-ab2e-411abc51aec3"
   },
   "outputs": [
    {
     "data": {
      "text/plain": [
       "13.90102002089668"
      ]
     },
     "execution_count": 31,
     "metadata": {},
     "output_type": "execute_result"
    }
   ],
   "source": [
    "(1 - r2_score(test_y_sr, pipe_line.predict(test_X_df))) * 100"
   ]
  },
  {
   "cell_type": "markdown",
   "metadata": {
    "id": "lmnQexKF1XUA"
   },
   "source": [
    "Đánh giá độ lỗi trên bộ dữ liệu của cả nước Mỹ"
   ]
  },
  {
   "cell_type": "code",
   "execution_count": 32,
   "metadata": {
    "colab": {
     "base_uri": "https://localhost:8080/"
    },
    "id": "K1020CJ62Vfo",
    "outputId": "ac08a600-7965-49d5-ad18-ca265fd56d3e"
   },
   "outputs": [
    {
     "data": {
      "text/plain": [
       "4.699848055141831"
      ]
     },
     "execution_count": 32,
     "metadata": {},
     "output_type": "execute_result"
    }
   ],
   "source": [
    "(1 - r2_score(usa_y_sr, pipe_line.predict(usa_X_df))) * 100"
   ]
  },
  {
   "cell_type": "markdown",
   "metadata": {
    "id": "FGKjOELuyV5B"
   },
   "source": [
    "#### Thử nhiệm 2: Mô hình Ridge (Linear)"
   ]
  },
  {
   "cell_type": "code",
   "execution_count": 33,
   "metadata": {
    "id": "uL1tvsZMadio"
   },
   "outputs": [],
   "source": [
    "pipe_line1 = make_pipeline(ColDropper(), SimpleImputer(strategy='mean'),\n",
    "            StandardScaler(),\n",
    "            Ridge())"
   ]
  },
  {
   "cell_type": "code",
   "execution_count": 34,
   "metadata": {
    "colab": {
     "base_uri": "https://localhost:8080/",
     "height": 539
    },
    "id": "AeDoWLmJSjBi",
    "outputId": "37dcae90-ad9f-4c3f-f799-8ae49da47e6d"
   },
   "outputs": [
    {
     "name": "stdout",
     "output_type": "stream",
     "text": [
      "Processing alpha=0.1\tcallback_days=8...\ttrain_err: 25.78438684587887\t val_err: 15.319983666280901\n",
      "Processing alpha=0.1\tcallback_days=10...\ttrain_err: 25.78438684587887\t val_err: 15.319983666280901\n",
      "Processing alpha=0.1\tcallback_days=12...\ttrain_err: 25.78438684587887\t val_err: 15.319983666280901\n",
      "Processing alpha=10\tcallback_days=8...\ttrain_err: 25.78438684587887\t val_err: 15.319983666280901\n",
      "Processing alpha=10\tcallback_days=10...\ttrain_err: 25.78438684587887\t val_err: 15.319983666280901\n",
      "Processing alpha=10\tcallback_days=12...\ttrain_err: 25.78438684587887\t val_err: 15.319983666280901\n",
      "Processing alpha=1000\tcallback_days=8...\ttrain_err: 25.78438684587887\t val_err: 15.319983666280901\n",
      "Processing alpha=1000\tcallback_days=10...\ttrain_err: 25.78438684587887\t val_err: 15.319983666280901\n",
      "Processing alpha=1000\tcallback_days=12...\ttrain_err: 25.78438684587887\t val_err: 15.319983666280901\n"
     ]
    },
    {
     "data": {
      "text/plain": [
       "'Finish!'"
      ]
     },
     "execution_count": 34,
     "metadata": {},
     "output_type": "execute_result"
    }
   ],
   "source": [
    "# Thử nghiệm với các giá trị khác nhau của các siêu tham số\n",
    "# và chọn ra các giá trị tốt nhất\n",
    "\n",
    "train_errs = []\n",
    "val_errs = []\n",
    "alphas = [0.1, 10, 1000]\n",
    "callback_days_s = [8, 10, 12]\n",
    "best_val_err1 = float('inf'); best_alpha1 = None; best_callback_days1 = None\n",
    "for alpha in alphas:\n",
    "    for callback_days in callback_days_s:\n",
    "        \n",
    "        print(f\"Processing alpha={alpha}\\tcallback_days={callback_days}...\", end=\"\\t\")\n",
    "        pipe_line1.set_params(coldropper__callback_days=callback_days, ridge__alpha=alpha)\n",
    "\n",
    "        pipe_line1.fit(train_X_df, train_y_sr)\n",
    "        \n",
    "        train_err = (1 - r2_score(train_y_sr, pipe_line.predict(train_X_df))) * 100\n",
    "        val_err = (1 - r2_score(val_y_sr, pipe_line.predict(val_X_df))) * 100\n",
    "        \n",
    "        train_errs.append(train_err)\n",
    "        val_errs.append(val_err)\n",
    "        \n",
    "        if val_err < best_val_err1:\n",
    "            best_val_err1 = val_err \n",
    "            best_alpha1 = alpha\n",
    "            best_callback_days1 = callback_days        \n",
    "\n",
    "        print(f\"train_err: {train_err}\\t val_err: {val_err}\")  \n",
    "'Finish!'"
   ]
  },
  {
   "cell_type": "code",
   "execution_count": 35,
   "metadata": {
    "colab": {
     "base_uri": "https://localhost:8080/",
     "height": 290
    },
    "id": "XF-ykoHwSWsJ",
    "outputId": "86418cdf-721c-49f4-cc55-8935cfd46eb3"
   },
   "outputs": [
    {
     "data": {
      "image/png": "[encoded data removed]",
      "text/plain": [
       "<Figure size 720x360 with 2 Axes>"
      ]
     },
     "metadata": {
      "needs_background": "light"
     },
     "output_type": "display_data"
    }
   ],
   "source": [
    "# Trực quan hóa kết quả\n",
    "train_errs_df = pd.DataFrame(data=np.array(train_errs).reshape(len(alphas), -1),\n",
    "                             index=alphas, columns=callback_days_s)\n",
    "val_errs_df = pd.DataFrame(data=np.array(val_errs).reshape(len(alphas), -1), \n",
    "                           index=alphas, columns=callback_days_s)\n",
    "min_err = min(min(train_errs), min(val_errs))\n",
    "max_err = max(max(train_errs), max(val_errs))\n",
    "plt.figure(figsize=(10, 5))\n",
    "plt.subplot(1, 2, 1)\n",
    "sns.heatmap(train_errs_df, vmin=min_err, vmax=max_err, square=True, annot=True, \n",
    "            cbar=False, fmt='.1f', cmap='Reds')\n",
    "plt.title('train errors'); plt.xlabel('callback_days'); plt.ylabel('alpha')\n",
    "plt.subplot(1, 2, 2)\n",
    "sns.heatmap(val_errs_df, vmin=min_err, vmax=max_err, square=True, annot=True, \n",
    "            cbar=False, fmt='.1f', cmap='Reds')\n",
    "plt.title('validation errors'); plt.xlabel('callback_days'); plt.ylabel('alpha');"
   ]
  },
  {
   "cell_type": "code",
   "execution_count": 36,
   "metadata": {
    "colab": {
     "base_uri": "https://localhost:8080/",
     "height": 174
    },
    "id": "0IxJeVGAn_7b",
    "outputId": "34187ab8-2dee-4c1d-dfb9-c5f227df59aa"
   },
   "outputs": [
    {
     "data": {
      "text/html": [
       "<style>div.sk-top-container {color: black;background-color: white;}div.sk-toggleable {background-color: white;}label.sk-toggleable__label {cursor: pointer;display: block;width: 100%;margin-bottom: 0;padding: 0.2em 0.3em;box-sizing: border-box;text-align: center;}div.sk-toggleable__content {max-height: 0;max-width: 0;overflow: hidden;text-align: left;background-color: #f0f8ff;}div.sk-toggleable__content pre {margin: 0.2em;color: black;border-radius: 0.25em;background-color: #f0f8ff;}input.sk-toggleable__control:checked~div.sk-toggleable__content {max-height: 200px;max-width: 100%;overflow: auto;}div.sk-estimator input.sk-toggleable__control:checked~label.sk-toggleable__label {background-color: #d4ebff;}div.sk-label input.sk-toggleable__control:checked~label.sk-toggleable__label {background-color: #d4ebff;}input.sk-hidden--visually {border: 0;clip: rect(1px 1px 1px 1px);clip: rect(1px, 1px, 1px, 1px);height: 1px;margin: -1px;overflow: hidden;padding: 0;position: absolute;width: 1px;}div.sk-estimator {font-family: monospace;background-color: #f0f8ff;margin: 0.25em 0.25em;border: 1px dotted black;border-radius: 0.25em;box-sizing: border-box;}div.sk-estimator:hover {background-color: #d4ebff;}div.sk-parallel-item::after {content: \"\";width: 100%;border-bottom: 1px solid gray;flex-grow: 1;}div.sk-label:hover label.sk-toggleable__label {background-color: #d4ebff;}div.sk-serial::before {content: \"\";position: absolute;border-left: 1px solid gray;box-sizing: border-box;top: 2em;bottom: 0;left: 50%;}div.sk-serial {display: flex;flex-direction: column;align-items: center;background-color: white;}div.sk-item {z-index: 1;}div.sk-parallel {display: flex;align-items: stretch;justify-content: center;background-color: white;}div.sk-parallel-item {display: flex;flex-direction: column;position: relative;background-color: white;}div.sk-parallel-item:first-child::after {align-self: flex-end;width: 50%;}div.sk-parallel-item:last-child::after {align-self: flex-start;width: 50%;}div.sk-parallel-item:only-child::after {width: 0;}div.sk-dashed-wrapped {border: 1px dashed gray;margin: 0.2em;box-sizing: border-box;padding-bottom: 0.1em;background-color: white;position: relative;}div.sk-label label {font-family: monospace;font-weight: bold;background-color: white;display: inline-block;line-height: 1.2em;}div.sk-label-container {position: relative;z-index: 2;text-align: center;}div.sk-container {display: inline-block;position: relative;}</style><div class=\"sk-top-container\"><div class=\"sk-container\"><div class=\"sk-item sk-dashed-wrapped\"><div class=\"sk-label-container\"><div class=\"sk-label sk-toggleable\"><input class=\"sk-toggleable__control sk-hidden--visually\" id=\"64bc9d44-0624-4d8c-b25c-9f91f2fd27df\" type=\"checkbox\" ><label class=\"sk-toggleable__label\" for=\"64bc9d44-0624-4d8c-b25c-9f91f2fd27df\">Pipeline</label><div class=\"sk-toggleable__content\"><pre>Pipeline(steps=[('coldropper', ColDropper(callback_days=8)),\n",
       "                ('simpleimputer', SimpleImputer()),\n",
       "                ('standardscaler', StandardScaler()),\n",
       "                ('ridge', Ridge(alpha=0.1))])</pre></div></div></div><div class=\"sk-serial\"><div class=\"sk-item\"><div class=\"sk-estimator sk-toggleable\"><input class=\"sk-toggleable__control sk-hidden--visually\" id=\"450fb35a-09d3-4a15-b3d8-3efa380d3cc3\" type=\"checkbox\" ><label class=\"sk-toggleable__label\" for=\"450fb35a-09d3-4a15-b3d8-3efa380d3cc3\">ColDropper</label><div class=\"sk-toggleable__content\"><pre>ColDropper(callback_days=8)</pre></div></div></div><div class=\"sk-item\"><div class=\"sk-estimator sk-toggleable\"><input class=\"sk-toggleable__control sk-hidden--visually\" id=\"fdfceb6c-4a16-42fb-9dee-1726136512bc\" type=\"checkbox\" ><label class=\"sk-toggleable__label\" for=\"fdfceb6c-4a16-42fb-9dee-1726136512bc\">SimpleImputer</label><div class=\"sk-toggleable__content\"><pre>SimpleImputer()</pre></div></div></div><div class=\"sk-item\"><div class=\"sk-estimator sk-toggleable\"><input class=\"sk-toggleable__control sk-hidden--visually\" id=\"a41fe0f4-7cc7-4aa3-9110-53b6df6be9f0\" type=\"checkbox\" ><label class=\"sk-toggleable__label\" for=\"a41fe0f4-7cc7-4aa3-9110-53b6df6be9f0\">StandardScaler</label><div class=\"sk-toggleable__content\"><pre>StandardScaler()</pre></div></div></div><div class=\"sk-item\"><div class=\"sk-estimator sk-toggleable\"><input class=\"sk-toggleable__control sk-hidden--visually\" id=\"826771cd-f6c7-44e5-8ede-857ceb1c2f8b\" type=\"checkbox\" ><label class=\"sk-toggleable__label\" for=\"826771cd-f6c7-44e5-8ede-857ceb1c2f8b\">Ridge</label><div class=\"sk-toggleable__content\"><pre>Ridge(alpha=0.1)</pre></div></div></div></div></div></div></div>"
      ],
      "text/plain": [
       "Pipeline(steps=[('coldropper', ColDropper(callback_days=8)),\n",
       "                ('simpleimputer', SimpleImputer()),\n",
       "                ('standardscaler', StandardScaler()),\n",
       "                ('ridge', Ridge(alpha=0.1))])"
      ]
     },
     "execution_count": 36,
     "metadata": {},
     "output_type": "execute_result"
    }
   ],
   "source": [
    "pipe_line1.set_params(coldropper__callback_days=best_callback_days1, ridge__alpha=best_alpha1)\n",
    " \n",
    "pipe_line1.fit(pd.concat([train_X_df, val_X_df]), pd.concat([train_y_sr, val_y_sr]))"
   ]
  },
  {
   "cell_type": "markdown",
   "metadata": {
    "id": "6A7GxQwL2uCe"
   },
   "source": [
    "Đánh giá độ lỗi trên bộ test"
   ]
  },
  {
   "cell_type": "code",
   "execution_count": 37,
   "metadata": {
    "colab": {
     "base_uri": "https://localhost:8080/"
    },
    "id": "ul8H9EFPtgxS",
    "outputId": "4f6aa75b-8546-4e7e-c469-3ad34290b659"
   },
   "outputs": [
    {
     "data": {
      "text/plain": [
       "13.95284297965469"
      ]
     },
     "execution_count": 37,
     "metadata": {},
     "output_type": "execute_result"
    }
   ],
   "source": [
    "(1 - r2_score(test_y_sr, pipe_line1.predict(test_X_df))) * 100"
   ]
  },
  {
   "cell_type": "markdown",
   "metadata": {
    "id": "IHJcxM9222LV"
   },
   "source": [
    "Đánh giá độ lỗi trên bộ dữ liệu của cả nước Mỹ"
   ]
  },
  {
   "cell_type": "code",
   "execution_count": 38,
   "metadata": {
    "colab": {
     "base_uri": "https://localhost:8080/"
    },
    "id": "vHOJWgGx2lqE",
    "outputId": "9f5ef41e-5062-497b-9387-ba803ab05d51"
   },
   "outputs": [
    {
     "data": {
      "text/plain": [
       "19.89224984040987"
      ]
     },
     "execution_count": 38,
     "metadata": {},
     "output_type": "execute_result"
    }
   ],
   "source": [
    "(1 - r2_score(usa_y_sr, pipe_line1.predict(usa_X_df))) * 100"
   ]
  },
  {
   "cell_type": "markdown",
   "metadata": {
    "id": "FoPZ0ekm9dWJ"
   },
   "source": [
    "### Đánh giá mô hình tìm được"
   ]
  },
  {
   "cell_type": "markdown",
   "metadata": {
    "id": "0ubkRtg62_sW"
   },
   "source": [
    "TODO: Chọn mô hình nào, giải thích"
   ]
  },
  {
   "cell_type": "code",
   "execution_count": 39,
   "metadata": {
    "colab": {
     "base_uri": "https://localhost:8080/",
     "height": 282
    },
    "id": "Saj4Xs9ehB4h",
    "outputId": "3da9efe5-e17e-4b7c-ae8c-a5e28fc126b4"
   },
   "outputs": [
    {
     "data": {
      "text/plain": [
       "<matplotlib.legend.Legend at 0x7fe6f6e1ac40>"
      ]
     },
     "execution_count": 39,
     "metadata": {},
     "output_type": "execute_result"
    },
    {
     "data": {
      "image/png": "[encoded data removed]",
      "text/plain": [
       "<Figure size 432x288 with 1 Axes>"
      ]
     },
     "metadata": {
      "needs_background": "light"
     },
     "output_type": "display_data"
    }
   ],
   "source": [
    "plt.plot(usa_y_sr)\n",
    "plt.plot(pipe_line.predict(usa_X_df))\n",
    "plt.legend(['y_test', 'y_test_pred'])"
   ]
  },
  {
   "cell_type": "code",
   "execution_count": 40,
   "metadata": {
    "colab": {
     "base_uri": "https://localhost:8080/",
     "height": 282
    },
    "id": "r3XXUUq7jLLl",
    "outputId": "d936d88a-2129-4524-bd74-a71611aee419"
   },
   "outputs": [
    {
     "data": {
      "text/plain": [
       "<matplotlib.legend.Legend at 0x7fe6eede8b50>"
      ]
     },
     "execution_count": 40,
     "metadata": {},
     "output_type": "execute_result"
    },
    {
     "data": {
      "image/png": "[encoded data removed]",
      "text/plain": [
       "<Figure size 432x288 with 1 Axes>"
      ]
     },
     "metadata": {
      "needs_background": "light"
     },
     "output_type": "display_data"
    }
   ],
   "source": [
    "plt.plot(test_y_sr.reset_index(drop=True))\n",
    "plt.plot(pipe_line.predict(test_X_df))\n",
    "plt.legend(['y_test', 'y_test_pred'])"
   ]
  },
  {
   "cell_type": "code",
   "execution_count": null,
   "metadata": {
    "id": "RCmEVu7Glxa-"
   },
   "outputs": [],
   "source": []
  }
 ],
 "metadata": {
  "colab": {
   "collapsed_sections": [],
   "name": "ProjectFinal.ipynb",
   "provenance": [],
   "toc_visible": true
  },
  "kernelspec": {
   "display_name": "Python 3",
   "language": "python",
   "name": "python3"
  },
  "language_info": {
   "codemirror_mode": {
    "name": "ipython",
    "version": 3
   },
   "file_extension": ".py",
   "mimetype": "text/x-python",
   "name": "python",
   "nbconvert_exporter": "python",
   "pygments_lexer": "ipython3",
   "version": "3.8.3"
  },
  "toc": {
   "base_numbering": 1,
   "nav_menu": {},
   "number_sections": true,
   "sideBar": true,
   "skip_h1_title": false,
   "title_cell": "Table of Contents",
   "title_sidebar": "Contents",
   "toc_cell": false,
   "toc_position": {},
   "toc_section_display": true,
   "toc_window_display": false
  }
 },
 "nbformat": 4,
 "nbformat_minor": 1
}
