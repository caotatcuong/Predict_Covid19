{
 "cells": [
  {
   "cell_type": "markdown",
   "metadata": {
    "id": "nZe79UMqTsHr"
   },
   "source": [
    "<h1 align=\"center\">Data Science - Final Project</h1>\n",
    "<p align=\"center\">\n",
    "  <a href=\"https://github.com/cuong091200\">\n",
    "    <img src=\"https://img.shields.io/badge/18120296-cuong091200-brightgreen.svg\">\n",
    "  </a>\n",
    "  <a href=\"https://github.com/viplazylmht\">\n",
    "    <img src=\"https://img.shields.io/badge/18120339-viplazylmht-brightgreen.svg\">\n",
    "  </a>\n",
    "  <a href=\"https://colab.research.google.com/github/cuong091200/DoAnCuoiKy_KHDL/blob/main/ProjectFinal.ipynb\">\n",
    "    <img src=\"https://colab.research.google.com/assets/colab-badge.svg\">\n",
    "  </a>\n",
    "\n",
    "  <a href=\"https://github.com/cuong091200/DoAnCuoiKy_KHDL\">\n",
    "    <img src=\"https://img.shields.io/badge/Github-131313?logo=github&logoColor=white\">\n",
    "  </a>\n",
    "</p>\n",
    "\n",
    "<p align=\"center\">Danh sách thành viên</p>\n",
    "\n",
    "|MSSV|Họ và Tên\n",
    "|:---|:-\n",
    "|18120296|Cao Tất Cường\n",
    "|18120339|Hà Văn Duy\n",
    "\n",
    " "
   ]
  },
  {
   "cell_type": "markdown",
   "metadata": {
    "id": "ceAa59HzV1V0"
   },
   "source": [
    "## Tổng quan"
   ]
  },
  {
   "cell_type": "markdown",
   "metadata": {
    "id": "PnUcD9P6XM5H"
   },
   "source": [
    "**COVID-19**\n",
    "\n",
    "Đây là đại dịch bệnh tryền nhiễm nguy hiểm, phát hiện lần đầu tiên ở Trung Quốc sau đó nhanh chóng lan rộng ra toàn thế giới.  \n",
    "Người mắc phải virus gây bệnh (SARS-CoV-2) thường sẽ có một khoảng thời gian ủ bệnh từ **2 - 14 ngày**, sau đó xuất hiện triệu chứng, một vài trường hợp có thể diễn tiến rất nhanh trở thành ca bệnh nặng, có thể dẫn đến tử vong.\n",
    "\n",
    "Thời điểm hiện tại, vacxin vẫn chưa được phân phối rộng rãi và kiểm định kết quả, đồng thời vẫn chưa có thuốc chữa đặc hiệu. Vì vậy, các bệnh nhân cần được chăm sóc y tế hồi sức để cơ thể tự sản sinh ra đề kháng và khỏi bệnh.  \n",
    "Đây là một dịch bệnh nghiêm trọng, vì vậy việc theo dõi sự tác động của nó với xã hội là điều cực kì cần thiết nhằm đưa ra các chính sách, giải pháp phù hợp để cải thiện tình hình, tiến tới xóa bỏ đại dịch trong tương lai gần.\n",
    "\n"
   ]
  },
  {
   "cell_type": "markdown",
   "metadata": {
    "id": "yCYR0inN8j9h"
   },
   "source": [
    "## Cài đặt và import các thư viện cần thiết"
   ]
  },
  {
   "cell_type": "code",
   "execution_count": 1,
   "metadata": {
    "id": "AjRkjKXAen5R"
   },
   "outputs": [],
   "source": [
    "# handle output to /dev/null to ignore text outputs xD\n",
    "!pip install sodapy > /dev/null\n",
    "\n",
    "# update sklearn to support set_config attr (see this answer: https://stackoverflow.com/a/62481510)\n",
    "!pip install --upgrade scikit-learn > /dev/null"
   ]
  },
  {
   "cell_type": "code",
   "execution_count": 2,
   "metadata": {
    "id": "iMVk87OoeOcJ"
   },
   "outputs": [],
   "source": [
    "import pandas as pd\n",
    "import numpy as np\n",
    "import matplotlib.pyplot as plt\n",
    "import seaborn as sns\n",
    "from sklearn.model_selection import train_test_split\n",
    "from sklearn.neural_network import MLPRegressor\n",
    "from sklearn.linear_model import LinearRegression\n",
    "from sklearn.preprocessing import StandardScaler\n",
    "from sklearn.impute import SimpleImputer\n",
    "from sklearn.base import BaseEstimator, TransformerMixin\n",
    "from sklearn.pipeline import Pipeline, make_pipeline\n",
    "from sklearn import set_config\n",
    "set_config(display='diagram')\n",
    "import math\n",
    "from sodapy import Socrata\n",
    "\n",
    "import regex as re\n",
    "from sklearn.metrics import r2_score\n",
    "from sklearn.metrics import mean_absolute_error\n",
    "from sklearn.metrics import mean_squared_error"
   ]
  },
  {
   "cell_type": "markdown",
   "metadata": {
    "id": "tUC8uafS8VxZ"
   },
   "source": [
    "## Thu thập dữ liệu thô"
   ]
  },
  {
   "cell_type": "markdown",
   "metadata": {
    "id": "5Pb534S6anEm"
   },
   "source": [
    "\n",
    "Nguồn cấp dữ liệu: <a href=\"https://cdc.gov\">CDC</a> thông qua API.\n",
    "\n",
    "<img style=\"vertical-align:middle\" src=\"https://raw.githubusercontent.com/cuong091200/DoAnCuoiKy_KHDL/main/cdc_logo.svg\"></img>\n",
    "\n",
    "Theo mô tả của API, bộ dữ liệu này chứa danh sách các thông tin bao gồm số ca mắc và số ca tử vong mỗi ngày của các tiểu bang, vùng lãnh thổ và các khu vực pháp lý của Mỹ. Cụ thể hơn, mỗi dòng dữ liệu là số liệu thống kê của một ngày của mỗi bang.  \n",
    "\n",
    "---\n",
    "\n",
    "Ta thu thập dữ liệu về và lưu vào `data_df`."
   ]
  },
  {
   "cell_type": "code",
   "execution_count": 3,
   "metadata": {
    "colab": {
     "base_uri": "https://localhost:8080/"
    },
    "id": "JEGm9zy18GIK",
    "outputId": "85b80cc8-90b5-492f-9ebc-7d6d90b03a0f"
   },
   "outputs": [
    {
     "name": "stderr",
     "output_type": "stream",
     "text": [
      "WARNING:root:Requests made without an app_token will be subject to strict throttling limits.\n"
     ]
    }
   ],
   "source": [
    "client = Socrata(\"data.cdc.gov\", None)\n",
    " \n",
    "results = client.get(\"9mfq-cb36\", limit=30000)\n",
    " \n",
    "results_df = pd.json_normalize(results)\n",
    "\n",
    "date = '2021-01-01T00:00:00.000'\n",
    "results_df = results_df[results_df['submission_date'] <= date]\n",
    "\n",
    "results_df.to_csv('data.csv', index=False)"
   ]
  },
  {
   "cell_type": "code",
   "execution_count": 4,
   "metadata": {
    "id": "geVWmbL2JiXp"
   },
   "outputs": [],
   "source": [
    "data_df = pd.read_csv('data.csv')"
   ]
  },
  {
   "cell_type": "markdown",
   "metadata": {
    "id": "gr8RX2JwWCvH"
   },
   "source": [
    "## Khám phá dữ liệu thô (đủ để có thể xác định câu hỏi)\n",
    "\n"
   ]
  },
  {
   "cell_type": "code",
   "execution_count": 5,
   "metadata": {
    "colab": {
     "base_uri": "https://localhost:8080/",
     "height": 305
    },
    "id": "0fLtd0wMrIBr",
    "outputId": "e1d9ebfe-eda6-4cd0-e9f7-b396eab06f40"
   },
   "outputs": [
    {
     "data": {
      "text/html": [
       "<div>\n",
       "<style scoped>\n",
       "    .dataframe tbody tr th:only-of-type {\n",
       "        vertical-align: middle;\n",
       "    }\n",
       "\n",
       "    .dataframe tbody tr th {\n",
       "        vertical-align: top;\n",
       "    }\n",
       "\n",
       "    .dataframe thead th {\n",
       "        text-align: right;\n",
       "    }\n",
       "</style>\n",
       "<table border=\"1\" class=\"dataframe\">\n",
       "  <thead>\n",
       "    <tr style=\"text-align: right;\">\n",
       "      <th></th>\n",
       "      <th>submission_date</th>\n",
       "      <th>state</th>\n",
       "      <th>tot_cases</th>\n",
       "      <th>conf_cases</th>\n",
       "      <th>prob_cases</th>\n",
       "      <th>new_case</th>\n",
       "      <th>pnew_case</th>\n",
       "      <th>tot_death</th>\n",
       "      <th>conf_death</th>\n",
       "      <th>prob_death</th>\n",
       "      <th>new_death</th>\n",
       "      <th>pnew_death</th>\n",
       "      <th>created_at</th>\n",
       "      <th>consent_cases</th>\n",
       "      <th>consent_deaths</th>\n",
       "    </tr>\n",
       "  </thead>\n",
       "  <tbody>\n",
       "    <tr>\n",
       "      <th>0</th>\n",
       "      <td>2020-05-04T00:00:00.000</td>\n",
       "      <td>KY</td>\n",
       "      <td>5245</td>\n",
       "      <td>5245.0</td>\n",
       "      <td>0.0</td>\n",
       "      <td>115.0</td>\n",
       "      <td>0.0</td>\n",
       "      <td>261</td>\n",
       "      <td>261.0</td>\n",
       "      <td>0.0</td>\n",
       "      <td>8.0</td>\n",
       "      <td>0.0</td>\n",
       "      <td>2020-05-05T17:25:08.000</td>\n",
       "      <td>Agree</td>\n",
       "      <td>Agree</td>\n",
       "    </tr>\n",
       "    <tr>\n",
       "      <th>1</th>\n",
       "      <td>2020-12-08T00:00:00.000</td>\n",
       "      <td>OK</td>\n",
       "      <td>205999</td>\n",
       "      <td>171497.0</td>\n",
       "      <td>34502.0</td>\n",
       "      <td>0.0</td>\n",
       "      <td>0.0</td>\n",
       "      <td>1752</td>\n",
       "      <td>1680.0</td>\n",
       "      <td>72.0</td>\n",
       "      <td>0.0</td>\n",
       "      <td>0.0</td>\n",
       "      <td>2020-12-09T14:45:40.234</td>\n",
       "      <td>Agree</td>\n",
       "      <td>Agree</td>\n",
       "    </tr>\n",
       "    <tr>\n",
       "      <th>2</th>\n",
       "      <td>2020-08-21T00:00:00.000</td>\n",
       "      <td>MD</td>\n",
       "      <td>103523</td>\n",
       "      <td>NaN</td>\n",
       "      <td>NaN</td>\n",
       "      <td>624.0</td>\n",
       "      <td>0.0</td>\n",
       "      <td>3685</td>\n",
       "      <td>3546.0</td>\n",
       "      <td>139.0</td>\n",
       "      <td>11.0</td>\n",
       "      <td>1.0</td>\n",
       "      <td>2020-08-22T14:21:09.869</td>\n",
       "      <td>NaN</td>\n",
       "      <td>Agree</td>\n",
       "    </tr>\n",
       "    <tr>\n",
       "      <th>3</th>\n",
       "      <td>2020-03-05T00:00:00.000</td>\n",
       "      <td>GA</td>\n",
       "      <td>2</td>\n",
       "      <td>NaN</td>\n",
       "      <td>NaN</td>\n",
       "      <td>-5.0</td>\n",
       "      <td>NaN</td>\n",
       "      <td>0</td>\n",
       "      <td>NaN</td>\n",
       "      <td>NaN</td>\n",
       "      <td>0.0</td>\n",
       "      <td>NaN</td>\n",
       "      <td>2020-03-26T16:22:39.452</td>\n",
       "      <td>Agree</td>\n",
       "      <td>Agree</td>\n",
       "    </tr>\n",
       "    <tr>\n",
       "      <th>4</th>\n",
       "      <td>2020-02-08T00:00:00.000</td>\n",
       "      <td>WA</td>\n",
       "      <td>1</td>\n",
       "      <td>NaN</td>\n",
       "      <td>NaN</td>\n",
       "      <td>0.0</td>\n",
       "      <td>NaN</td>\n",
       "      <td>0</td>\n",
       "      <td>NaN</td>\n",
       "      <td>NaN</td>\n",
       "      <td>0.0</td>\n",
       "      <td>NaN</td>\n",
       "      <td>2020-03-26T16:22:39.452</td>\n",
       "      <td>NaN</td>\n",
       "      <td>NaN</td>\n",
       "    </tr>\n",
       "  </tbody>\n",
       "</table>\n",
       "</div>"
      ],
      "text/plain": [
       "           submission_date state  tot_cases  conf_cases  prob_cases  new_case  \\\n",
       "0  2020-05-04T00:00:00.000    KY       5245      5245.0         0.0     115.0   \n",
       "1  2020-12-08T00:00:00.000    OK     205999    171497.0     34502.0       0.0   \n",
       "2  2020-08-21T00:00:00.000    MD     103523         NaN         NaN     624.0   \n",
       "3  2020-03-05T00:00:00.000    GA          2         NaN         NaN      -5.0   \n",
       "4  2020-02-08T00:00:00.000    WA          1         NaN         NaN       0.0   \n",
       "\n",
       "   pnew_case  tot_death  conf_death  prob_death  new_death  pnew_death  \\\n",
       "0        0.0        261       261.0         0.0        8.0         0.0   \n",
       "1        0.0       1752      1680.0        72.0        0.0         0.0   \n",
       "2        0.0       3685      3546.0       139.0       11.0         1.0   \n",
       "3        NaN          0         NaN         NaN        0.0         NaN   \n",
       "4        NaN          0         NaN         NaN        0.0         NaN   \n",
       "\n",
       "                created_at consent_cases consent_deaths  \n",
       "0  2020-05-05T17:25:08.000         Agree          Agree  \n",
       "1  2020-12-09T14:45:40.234         Agree          Agree  \n",
       "2  2020-08-22T14:21:09.869           NaN          Agree  \n",
       "3  2020-03-26T16:22:39.452         Agree          Agree  \n",
       "4  2020-03-26T16:22:39.452           NaN            NaN  "
      ]
     },
     "execution_count": 5,
     "metadata": {},
     "output_type": "execute_result"
    }
   ],
   "source": [
    "data_df.head()"
   ]
  },
  {
   "cell_type": "markdown",
   "metadata": {
    "id": "p58_wPwV_kSm"
   },
   "source": [
    "### Dữ liệu có bao nhiêu dòng và bao nhiêu cột?"
   ]
  },
  {
   "cell_type": "code",
   "execution_count": 6,
   "metadata": {
    "colab": {
     "base_uri": "https://localhost:8080/"
    },
    "id": "uJO6unIWS6Zg",
    "outputId": "bc33e97a-1788-46b2-8f6c-860083f9369e"
   },
   "outputs": [
    {
     "data": {
      "text/plain": [
       "(20760, 15)"
      ]
     },
     "execution_count": 6,
     "metadata": {},
     "output_type": "execute_result"
    }
   ],
   "source": [
    "data_df.shape"
   ]
  },
  {
   "cell_type": "markdown",
   "metadata": {
    "id": "qvGvE3UyAEdA"
   },
   "source": [
    "### Mỗi dòng có ý nghĩa gì? Có vấn đề các dòng có ý nghĩa khác nhau không?"
   ]
  },
  {
   "cell_type": "markdown",
   "metadata": {
    "id": "BXRnapckAVc3"
   },
   "source": [
    "Quan sát sơ bộ dữ liệu ta thấy mỗi dòng chứa các thông tin về số tổng ca nhiễm, số ca nhiễm mới, sô ca tử vong,... của của 1 bang trong một ngày cụ thể."
   ]
  },
  {
   "cell_type": "markdown",
   "metadata": {
    "id": "8dfVmbj4BOEI"
   },
   "source": [
    "### Dữ liệu có các dòng bị lặp không?"
   ]
  },
  {
   "cell_type": "code",
   "execution_count": 7,
   "metadata": {
    "colab": {
     "base_uri": "https://localhost:8080/"
    },
    "id": "fW-b1zEYgoMH",
    "outputId": "f2f6e4ad-37ca-478d-e458-b83b61ae718b"
   },
   "outputs": [
    {
     "data": {
      "text/plain": [
       "0"
      ]
     },
     "execution_count": 7,
     "metadata": {},
     "output_type": "execute_result"
    }
   ],
   "source": [
    "data_df.index.duplicated().sum()"
   ]
  },
  {
   "cell_type": "markdown",
   "metadata": {
    "id": "iRl1cKEBB6wY"
   },
   "source": [
    "### Mỗi cột có ý nghĩa gì?"
   ]
  },
  {
   "cell_type": "markdown",
   "metadata": {
    "id": "26fsqNq_CAf5"
   },
   "source": [
    "|VARIABLE|DESCRIPTION|TYPE|\n",
    "|---|----------------|------|\n",
    "|submission_date|Ngày nộp kết quả|Date & Time|      \n",
    "|state|Các tiểu bang, vùng lãnh thổ và các khu vực pháp lý của Mỹ|Plain Text|  \n",
    "|tot_cases|Tổng số lượng ca nhiễm SARS-CoV-2|Number| \n",
    "|conf_cases|Tổng số ca nhiễm SARS-CoV-2 đã được xác nhận|Number|\n",
    "|prob_cases|Tổng số ca có khả năng cao bị nhiễm SARS-CoV-2|Number|\n",
    "|new_case|Số lượng ca nhiễm SARS-CoV-2|Number|\n",
    "|pnew_case|Số lượng ca có khả năng bị nhiễm SARS-CoV-2 cao|Number|\n",
    "|tot_death|Tổng số ca tử vong do SARS-CoV-2|Number|\n",
    "|conf_death|Tông số ca tử vong được xác nhận do SARS-CoV-2|Number|\n",
    "|prob_death|Tông số ca tử vong khả năng cao do SARS-CoV-2|Number|\n",
    "|new_death|Số lượng ca tử vong mới do SARS-CoV-2|Number|\n",
    "|pnew_death|Số lượng ca tử vong mới khả năng cao do SARS-CoV-2|Number|\n",
    "|created_at|Ngày tạo dữ liệu|Date & Time|\n",
    "|consent_cases|Nếu đồng ý thì confirmed and probable cases có dữ liệu, nếu không thì chỉ total cases có dữ liệu|Plain Text|\n",
    "|consent_deaths|Nếu đồng ý thì confirmed and probable deaths có dữ liệu, nếu không thì chỉ total deaths có dữ liệu|Plain Text|\n",
    "\n",
    "\n",
    "\t\n",
    "\n",
    "\n",
    "\t\n",
    "\n",
    "\n",
    "\t\n",
    "\n",
    "\n",
    "\t\n",
    "\n",
    "\n"
   ]
  },
  {
   "cell_type": "markdown",
   "metadata": {
    "id": "rzEtRDvItWdS"
   },
   "source": [
    "## Đưa ra câu hỏi cần trả lời"
   ]
  },
  {
   "cell_type": "markdown",
   "metadata": {
    "id": "KrCPbO-lI1NS"
   },
   "source": [
    "Số ca mắc mới trong một ngày bất kì (hợp lệ) là bao nhiêu? Nó phụ thuộc như thế nào vào số ca mắc của những ngày trước đó?\n",
    "\n"
   ]
  },
  {
   "cell_type": "markdown",
   "metadata": {
    "id": "94hMNdFsxVi-"
   },
   "source": [
    "### Ý nghĩa của việc trả lời câu hỏi trên\n",
    "\n",
    "- Ta sẽ thấy được sự phụ thuộc của số ca mắc mới trong một ngày với số ca mắc của những ngày trước đó.\n",
    "- Thấy được khả năng và tần suất lây lan của dịch bệnh trên người.\n",
    "- Đưa ra dự đoán trong tương lai gần nhằm giúp chính phủ và ngành Y tế có thể tăng khả năng y tế dự phòng và triển khai các biện pháp ứng phó phù hợp với tình hình.\n",
    "- Ước lượng được các làn sóng dịch tiếp theo trong một khu vực.\n"
   ]
  },
  {
   "cell_type": "markdown",
   "metadata": {
    "id": "TImwCkBGycX5"
   },
   "source": [
    "### Cảm hứng đặt câu hỏi\n",
    "\n",
    "Cảm hứng để nhóm đặt câu hỏi này bắt nguồn từ thực trạng hiện nay, khi mà diễn biến dịch bệnh vẫn đang rất phức tạp tại nhiều quốc gia trên thế giới, đồng thời với tấm gương sự hành động cứng rắn của chính phủ Việt Nam dựa trên số liệu giúp đạt được kết quả phòng chống dịch tốt như hiện tại."
   ]
  },
  {
   "cell_type": "markdown",
   "metadata": {
    "id": "ukP8krjg0klp"
   },
   "source": [
    "## Khám phá dữ liệu (để tiền xử lý dữ liệu để phù hợp với bài toán hơn và để biết cách tách các tập)"
   ]
  },
  {
   "cell_type": "markdown",
   "metadata": {
    "id": "Ejy8_Iok7s8P"
   },
   "source": [
    "### Mỗi cột hiện đang có kiểu dữ liệu gì? Có cột nào có kiểu dữ liệu chưa phù hợp để có thể xử lý tiếp không?"
   ]
  },
  {
   "cell_type": "code",
   "execution_count": 8,
   "metadata": {
    "colab": {
     "base_uri": "https://localhost:8080/"
    },
    "id": "rI5BBcr47kHz",
    "outputId": "7398d74f-ed6a-4495-8f70-3fdb547092bb"
   },
   "outputs": [
    {
     "data": {
      "text/plain": [
       "submission_date     object\n",
       "state               object\n",
       "tot_cases            int64\n",
       "conf_cases         float64\n",
       "prob_cases         float64\n",
       "new_case           float64\n",
       "pnew_case          float64\n",
       "tot_death            int64\n",
       "conf_death         float64\n",
       "prob_death         float64\n",
       "new_death          float64\n",
       "pnew_death         float64\n",
       "created_at          object\n",
       "consent_cases       object\n",
       "consent_deaths      object\n",
       "dtype: object"
      ]
     },
     "execution_count": 8,
     "metadata": {},
     "output_type": "execute_result"
    }
   ],
   "source": [
    "data_df.dtypes"
   ]
  },
  {
   "cell_type": "markdown",
   "metadata": {
    "id": "ycNEPY6wGzzr"
   },
   "source": [
    "Hiện tại các cột có kiểu dữ liệu  giống với phần mô tả nên không cần xử lý thêm."
   ]
  },
  {
   "cell_type": "markdown",
   "metadata": {
    "id": "ZqLnPmuZ5eqE"
   },
   "source": [
    "### Các cột ouput (`new_case`) và cột `tot_case` (2 cột quan trọng nhất của bộ dữ liệu) phân bố dữ liệu như thế nào?"
   ]
  },
  {
   "cell_type": "code",
   "execution_count": 9,
   "metadata": {
    "colab": {
     "base_uri": "https://localhost:8080/",
     "height": 228
    },
    "id": "WlomA6ZX4suR",
    "outputId": "f9ed2df8-24d0-422a-bd5c-2ab170eaf454"
   },
   "outputs": [
    {
     "data": {
      "text/html": [
       "<div>\n",
       "<style scoped>\n",
       "    .dataframe tbody tr th:only-of-type {\n",
       "        vertical-align: middle;\n",
       "    }\n",
       "\n",
       "    .dataframe tbody tr th {\n",
       "        vertical-align: top;\n",
       "    }\n",
       "\n",
       "    .dataframe thead th {\n",
       "        text-align: right;\n",
       "    }\n",
       "</style>\n",
       "<table border=\"1\" class=\"dataframe\">\n",
       "  <thead>\n",
       "    <tr style=\"text-align: right;\">\n",
       "      <th></th>\n",
       "      <th>tot_cases</th>\n",
       "      <th>new_case</th>\n",
       "    </tr>\n",
       "  </thead>\n",
       "  <tbody>\n",
       "    <tr>\n",
       "      <th>missing_ratio</th>\n",
       "      <td>0.0</td>\n",
       "      <td>0.0</td>\n",
       "    </tr>\n",
       "    <tr>\n",
       "      <th>min</th>\n",
       "      <td>0.0</td>\n",
       "      <td>-33355.0</td>\n",
       "    </tr>\n",
       "    <tr>\n",
       "      <th>lower_quartile</th>\n",
       "      <td>145.0</td>\n",
       "      <td>0.0</td>\n",
       "    </tr>\n",
       "    <tr>\n",
       "      <th>median</th>\n",
       "      <td>15186.0</td>\n",
       "      <td>199.0</td>\n",
       "    </tr>\n",
       "    <tr>\n",
       "      <th>upper_quartile</th>\n",
       "      <td>95093.2</td>\n",
       "      <td>924.0</td>\n",
       "    </tr>\n",
       "    <tr>\n",
       "      <th>max</th>\n",
       "      <td>2292568.0</td>\n",
       "      <td>71734.0</td>\n",
       "    </tr>\n",
       "  </tbody>\n",
       "</table>\n",
       "</div>"
      ],
      "text/plain": [
       "                tot_cases  new_case\n",
       "missing_ratio         0.0       0.0\n",
       "min                   0.0  -33355.0\n",
       "lower_quartile      145.0       0.0\n",
       "median            15186.0     199.0\n",
       "upper_quartile    95093.2     924.0\n",
       "max             2292568.0   71734.0"
      ]
     },
     "execution_count": 9,
     "metadata": {},
     "output_type": "execute_result"
    }
   ],
   "source": [
    "num_cols = ['tot_cases', 'new_case']\n",
    "df = data_df[num_cols]\n",
    "def missing_ratio(df):\n",
    "    return (df.isna().mean() * 100).round(1)\n",
    "def lower_quartile(df):\n",
    "    return df.quantile(0.25).round(1)\n",
    "def median(df):\n",
    "    return df.quantile(0.5).round(1)\n",
    "def upper_quartile(df):\n",
    "    return df.quantile(0.75).round(1)\n",
    "df.agg([missing_ratio, 'min', lower_quartile, median, upper_quartile, 'max'])"
   ]
  },
  {
   "cell_type": "markdown",
   "metadata": {
    "id": "N6yd46Ys5vFT"
   },
   "source": [
    "Ta thấy cột `tot_cases` có giá trị 0 => nên ta coi các dòng chứa nó là  không hữu ích. Còn `new_case` là cột output nhưng có giá trị bị âm nên ta sẽ tiếp tục khám phá thêm. "
   ]
  },
  {
   "cell_type": "markdown",
   "metadata": {
    "id": "7gYjshkL4Zlq"
   },
   "source": [
    "### Vẽ đồ thị boxplot của cột output (`new_case`)"
   ]
  },
  {
   "cell_type": "code",
   "execution_count": 10,
   "metadata": {
    "colab": {
     "base_uri": "https://localhost:8080/",
     "height": 296
    },
    "id": "daLSr5Go1BcQ",
    "outputId": "a797c088-a383-41ae-a513-235995fb4a26"
   },
   "outputs": [
    {
     "data": {
      "text/plain": [
       "<matplotlib.axes._subplots.AxesSubplot at 0x7faca6b661c0>"
      ]
     },
     "execution_count": 10,
     "metadata": {},
     "output_type": "execute_result"
    },
    {
     "data": {
      "image/png": "[encoded data removed]",
      "text/plain": [
       "<Figure size 432x288 with 1 Axes>"
      ]
     },
     "metadata": {
      "needs_background": "light"
     },
     "output_type": "display_data"
    }
   ],
   "source": [
    "sns.boxplot(x = data_df['new_case'])"
   ]
  },
  {
   "cell_type": "markdown",
   "metadata": {
    "id": "KbPO-Rnq5ur3"
   },
   "source": [
    "`new_case` có giá trị âm là do những ngày trước đó dữ liệu `new_case`  cao so với dữ liệu đúng nên `new_case` bị âm để bù vào những ngày trước đó. Ta thấy có 1 điểm `new_case` xấp xỉ 70000 có khả năng là ngoại lai (outlier)."
   ]
  },
  {
   "cell_type": "markdown",
   "metadata": {
    "id": "uv0BH4vRFN4Q"
   },
   "source": [
    "## Tiền xử lý dữ liệu để phù hợp với bài toán"
   ]
  },
  {
   "cell_type": "markdown",
   "metadata": {
    "id": "mkIsiDh9FN4X"
   },
   "source": [
    "### Loại bỏ các dòng dữ liệu chắc chắn là nhiễu\n",
    "\n",
    "Một dòng được coi là dữ liệu nhiễu khi cho tới ngày đó chưa ghi nhận ca mắc nào (`tot_cases = 0`).\n",
    "\n"
   ]
  },
  {
   "cell_type": "code",
   "execution_count": 11,
   "metadata": {
    "colab": {
     "base_uri": "https://localhost:8080/"
    },
    "id": "h9r8dSUC6260",
    "outputId": "9937310a-02be-407c-9777-9fad9f945c32"
   },
   "outputs": [
    {
     "data": {
      "text/plain": [
       "(17119, 15)"
      ]
     },
     "execution_count": 11,
     "metadata": {},
     "output_type": "execute_result"
    }
   ],
   "source": [
    "data_df1 = data_df[data_df['tot_cases'] > 0]\n",
    "data_df1.shape"
   ]
  },
  {
   "cell_type": "markdown",
   "metadata": {
    "id": "uBYlDSlrFN4Y"
   },
   "source": [
    "### Thêm thuộc tính cho mỗi dòng dữ liệu"
   ]
  },
  {
   "cell_type": "markdown",
   "metadata": {
    "id": "6abkBjPjFN4Y"
   },
   "source": [
    "Bộ dữ liệu thô phía trên chưa có sự kết nối giữa những ngày liền kề nhau. Vì vậy ta sẽ tiền xử lý một chút để, đối với mỗi dòng dữ liệu, nó sẽ chứa thêm thông tin của số ca mắc mới của `callback_days` ngày liền trước đó. \n",
    "\n",
    "Hàm `add_row_df` sẽ làm nhiệm vụ trên: số ca mắc của `i` ngày trước của mỗi dòng dữ liệu sẽ được thêm vào cột `new_case_his_i`. \n",
    "\n",
    "Hàm `fix_negative_data` sẽ thực hiện kĩ thuật loại bỏ các dòng dữ liệu có output là âm. Ta sẽ loại bỏ dữ liệu âm này bằng kĩ thuật cộng các đối tượng trước nó. "
   ]
  },
  {
   "cell_type": "code",
   "execution_count": 12,
   "metadata": {
    "id": "uq187L_0Acd3"
   },
   "outputs": [],
   "source": [
    "def fix_negative_data(new_case_data):\n",
    "    # accept only pandas series\n",
    "    if not isinstance(new_case_data, pd.Series):\n",
    "        raise Exception(\"Error, please pass a Series to this func\")\n",
    "\n",
    "    result = new_case_data.copy()\n",
    "    arr = result.values\n",
    "\n",
    "    for k in range(arr.size - 1, 0, -1):\n",
    "        total = arr[k]\n",
    "        count = 1\n",
    "\n",
    "        while (total < 0) and (k - count >= 0):\n",
    "            total += arr[k - count]\n",
    "            count += 1\n",
    "\n",
    "        if count > 1:\n",
    "            part = total / count\n",
    "\n",
    "            for i in range(count):\n",
    "                arr[k - i] = part\n",
    "\n",
    "            k -= (count - 1) \n",
    "\n",
    "    return result"
   ]
  },
  {
   "cell_type": "code",
   "execution_count": 13,
   "metadata": {
    "id": "f60IGlqaFN4Y"
   },
   "outputs": [],
   "source": [
    "# number of records will be collected\n",
    "callback_days = 28\n",
    "\n",
    "def add_row_df(df):\n",
    "    df = df.sort_values('submission_date', ascending=True)\n",
    "\n",
    "    # Validation raw data\n",
    "    for g in df.groupby('submission_date'):\n",
    "        if g[1].shape[0] > 1:\n",
    "            raise Exception(\"Error, please groupby dataset by date before pass to this func\")\n",
    "    \n",
    "    # MAGIC\n",
    "    new_case_data = fix_negative_data(df['new_case'])\n",
    "    \n",
    "    df['new_case'] = new_case_data.copy()\n",
    "    \n",
    "    l = None\n",
    "\n",
    "    for j in range(len(new_case_data)):\n",
    "        if j >= callback_days:\n",
    "            t = new_case_data.iloc[j - callback_days: j]\n",
    "            \n",
    "            # append row\n",
    "            l = np.r_[l, [np.flip(t)]]\n",
    "        else:\n",
    "            t = new_case_data.iloc[0: j + 1]\n",
    "            fill = np.r_[np.array(['0' for i in range(callback_days - len(t))]), t]\n",
    "\n",
    "            # append row\n",
    "            if l is None:\n",
    "                l = np.array([np.flip(fill)])\n",
    "            else:\n",
    "                l = np.r_[l, [np.flip(fill)]]\n",
    "    \n",
    "    df2 = pd.DataFrame(l, index=df.index, columns=[f\"new_case_his_{i}\" for i in range(1, callback_days + 1)])\n",
    "    df2 = df2.apply(pd.to_numeric, errors='coerce', axis=1)\n",
    "    return pd.concat([df, df2], axis=1)"
   ]
  },
  {
   "cell_type": "markdown",
   "metadata": {
    "id": "6c0OKSI4FN4Y"
   },
   "source": [
    "Ta sẽ áp dụng phương pháp trên đối với mỗi bang (bằng cách gom nhóm), nhằm đảm bảo dữ liệu nhất quán và chính xác. Kết quả bộ dữ liệu mới sẽ được lưu vào `collected_df`."
   ]
  },
  {
   "cell_type": "code",
   "execution_count": 14,
   "metadata": {
    "id": "EYtOx32DFN4Z"
   },
   "outputs": [],
   "source": [
    "collected_df = data_df1.groupby('state').apply(add_row_df).reset_index(level='state', drop=True)"
   ]
  },
  {
   "cell_type": "markdown",
   "metadata": {
    "id": "W8jNa0Rx-FjY"
   },
   "source": [
    "Sau khi làm mượt dữ liệu (xử lý các `new_case` bị âm) ta xem hàng có `new_case` = 70000 đã được làm mượt chưa?"
   ]
  },
  {
   "cell_type": "code",
   "execution_count": 15,
   "metadata": {
    "colab": {
     "base_uri": "https://localhost:8080/",
     "height": 296
    },
    "id": "CVJwZtFW-0ZL",
    "outputId": "7f8c3e2d-ece6-41c7-ef95-3ccad15824f6"
   },
   "outputs": [
    {
     "data": {
      "text/plain": [
       "<matplotlib.axes._subplots.AxesSubplot at 0x7faca6b9e7f0>"
      ]
     },
     "execution_count": 15,
     "metadata": {},
     "output_type": "execute_result"
    },
    {
     "data": {
      "image/png": "[encoded data removed]",
      "text/plain": [
       "<Figure size 432x288 with 1 Axes>"
      ]
     },
     "metadata": {
      "needs_background": "light"
     },
     "output_type": "display_data"
    }
   ],
   "source": [
    "sns.boxplot(x = collected_df['new_case'])"
   ]
  },
  {
   "cell_type": "markdown",
   "metadata": {
    "id": "Hm_paoy1_KXi"
   },
   "source": [
    "Ta thấy nó vẫn chưa được làm mượt => ta xem đó là outlier.\n",
    "\n",
    "Xem nó thuộc ngày nào và của bang nào?"
   ]
  },
  {
   "cell_type": "code",
   "execution_count": 16,
   "metadata": {
    "colab": {
     "base_uri": "https://localhost:8080/",
     "height": 115
    },
    "id": "Nbm8BihW5eKt",
    "outputId": "6437ac85-deb6-4018-f139-54e5cafb56f1"
   },
   "outputs": [
    {
     "data": {
      "text/html": [
       "<div>\n",
       "<style scoped>\n",
       "    .dataframe tbody tr th:only-of-type {\n",
       "        vertical-align: middle;\n",
       "    }\n",
       "\n",
       "    .dataframe tbody tr th {\n",
       "        vertical-align: top;\n",
       "    }\n",
       "\n",
       "    .dataframe thead th {\n",
       "        text-align: right;\n",
       "    }\n",
       "</style>\n",
       "<table border=\"1\" class=\"dataframe\">\n",
       "  <thead>\n",
       "    <tr style=\"text-align: right;\">\n",
       "      <th></th>\n",
       "      <th>submission_date</th>\n",
       "      <th>state</th>\n",
       "      <th>tot_cases</th>\n",
       "      <th>conf_cases</th>\n",
       "      <th>prob_cases</th>\n",
       "      <th>new_case</th>\n",
       "      <th>pnew_case</th>\n",
       "      <th>tot_death</th>\n",
       "      <th>conf_death</th>\n",
       "      <th>prob_death</th>\n",
       "      <th>...</th>\n",
       "      <th>new_case_his_19</th>\n",
       "      <th>new_case_his_20</th>\n",
       "      <th>new_case_his_21</th>\n",
       "      <th>new_case_his_22</th>\n",
       "      <th>new_case_his_23</th>\n",
       "      <th>new_case_his_24</th>\n",
       "      <th>new_case_his_25</th>\n",
       "      <th>new_case_his_26</th>\n",
       "      <th>new_case_his_27</th>\n",
       "      <th>new_case_his_28</th>\n",
       "    </tr>\n",
       "  </thead>\n",
       "  <tbody>\n",
       "    <tr>\n",
       "      <th>11146</th>\n",
       "      <td>2020-11-01T00:00:00.000</td>\n",
       "      <td>TX</td>\n",
       "      <td>972330</td>\n",
       "      <td>NaN</td>\n",
       "      <td>NaN</td>\n",
       "      <td>71734.0</td>\n",
       "      <td>67475.0</td>\n",
       "      <td>18077</td>\n",
       "      <td>NaN</td>\n",
       "      <td>NaN</td>\n",
       "      <td>...</td>\n",
       "      <td>5289.0</td>\n",
       "      <td>2648.0</td>\n",
       "      <td>2418.0</td>\n",
       "      <td>4230.0</td>\n",
       "      <td>4036.0</td>\n",
       "      <td>4238.0</td>\n",
       "      <td>4121.0</td>\n",
       "      <td>4132.0</td>\n",
       "      <td>3409.0</td>\n",
       "      <td>2884.0</td>\n",
       "    </tr>\n",
       "  </tbody>\n",
       "</table>\n",
       "<p>1 rows × 43 columns</p>\n",
       "</div>"
      ],
      "text/plain": [
       "               submission_date state  tot_cases  conf_cases  prob_cases  \\\n",
       "11146  2020-11-01T00:00:00.000    TX     972330         NaN         NaN   \n",
       "\n",
       "       new_case  pnew_case  tot_death  conf_death  prob_death  ...  \\\n",
       "11146   71734.0    67475.0      18077         NaN         NaN  ...   \n",
       "\n",
       "       new_case_his_19  new_case_his_20 new_case_his_21 new_case_his_22  \\\n",
       "11146           5289.0           2648.0          2418.0          4230.0   \n",
       "\n",
       "      new_case_his_23  new_case_his_24  new_case_his_25  new_case_his_26  \\\n",
       "11146          4036.0           4238.0           4121.0           4132.0   \n",
       "\n",
       "       new_case_his_27  new_case_his_28  \n",
       "11146           3409.0           2884.0  \n",
       "\n",
       "[1 rows x 43 columns]"
      ]
     },
     "execution_count": 16,
     "metadata": {},
     "output_type": "execute_result"
    }
   ],
   "source": [
    "index = collected_df['new_case'].nlargest(1).index\n",
    "collected_df.loc[index, :]"
   ]
  },
  {
   "cell_type": "markdown",
   "metadata": {
    "id": "gogDjB8q5eKu"
   },
   "source": [
    "Theo như em tìm hiểu ở một số nguồn khác thì new_case ở ngày 01-11-2020 ở bang Texas không cao đến mức đó. Nên có thể là sai sót do lỗi đánh máy từ sở y tế. Theo CDC thì dữ liệu đến từ sở y tế là dữ liệu cuối cùng.\n",
    "\n",
    "Ta sẽ tiến hành xóa cột đó đi."
   ]
  },
  {
   "cell_type": "code",
   "execution_count": 17,
   "metadata": {
    "id": "GEAu1Ugf_wBF"
   },
   "outputs": [],
   "source": [
    "collected_df = collected_df.drop(index)"
   ]
  },
  {
   "cell_type": "markdown",
   "metadata": {
    "id": "aCAiDHI1FN4a"
   },
   "source": [
    "Đến đây, từ dữ liệu thô, ta đã thu thập đủ dữ liệu (được lưu trong `collected_df`) để có thể khai thác để trả lời câu hỏi."
   ]
  },
  {
   "cell_type": "code",
   "execution_count": 18,
   "metadata": {
    "colab": {
     "base_uri": "https://localhost:8080/"
    },
    "id": "Em4iRPnlFN4Z",
    "outputId": "382e834b-a786-4f3e-eb87-1fb7a412c4ee"
   },
   "outputs": [
    {
     "data": {
      "text/plain": [
       "(17118, 43)"
      ]
     },
     "execution_count": 18,
     "metadata": {},
     "output_type": "execute_result"
    }
   ],
   "source": [
    "collected_df.shape"
   ]
  },
  {
   "cell_type": "code",
   "execution_count": 19,
   "metadata": {
    "colab": {
     "base_uri": "https://localhost:8080/",
     "height": 305
    },
    "id": "Jc2BhiprFN4Z",
    "outputId": "d95428aa-1ec1-43b8-bf59-c98a7c6d4db2"
   },
   "outputs": [
    {
     "data": {
      "text/html": [
       "<div>\n",
       "<style scoped>\n",
       "    .dataframe tbody tr th:only-of-type {\n",
       "        vertical-align: middle;\n",
       "    }\n",
       "\n",
       "    .dataframe tbody tr th {\n",
       "        vertical-align: top;\n",
       "    }\n",
       "\n",
       "    .dataframe thead th {\n",
       "        text-align: right;\n",
       "    }\n",
       "</style>\n",
       "<table border=\"1\" class=\"dataframe\">\n",
       "  <thead>\n",
       "    <tr style=\"text-align: right;\">\n",
       "      <th></th>\n",
       "      <th>submission_date</th>\n",
       "      <th>state</th>\n",
       "      <th>tot_cases</th>\n",
       "      <th>conf_cases</th>\n",
       "      <th>prob_cases</th>\n",
       "      <th>new_case</th>\n",
       "      <th>pnew_case</th>\n",
       "      <th>tot_death</th>\n",
       "      <th>conf_death</th>\n",
       "      <th>prob_death</th>\n",
       "      <th>...</th>\n",
       "      <th>new_case_his_19</th>\n",
       "      <th>new_case_his_20</th>\n",
       "      <th>new_case_his_21</th>\n",
       "      <th>new_case_his_22</th>\n",
       "      <th>new_case_his_23</th>\n",
       "      <th>new_case_his_24</th>\n",
       "      <th>new_case_his_25</th>\n",
       "      <th>new_case_his_26</th>\n",
       "      <th>new_case_his_27</th>\n",
       "      <th>new_case_his_28</th>\n",
       "    </tr>\n",
       "  </thead>\n",
       "  <tbody>\n",
       "    <tr>\n",
       "      <th>18735</th>\n",
       "      <td>2020-03-13T00:00:00.000</td>\n",
       "      <td>AK</td>\n",
       "      <td>1</td>\n",
       "      <td>NaN</td>\n",
       "      <td>NaN</td>\n",
       "      <td>1.0</td>\n",
       "      <td>NaN</td>\n",
       "      <td>0</td>\n",
       "      <td>NaN</td>\n",
       "      <td>NaN</td>\n",
       "      <td>...</td>\n",
       "      <td>0.0</td>\n",
       "      <td>0.0</td>\n",
       "      <td>0.0</td>\n",
       "      <td>0.0</td>\n",
       "      <td>0.0</td>\n",
       "      <td>0.0</td>\n",
       "      <td>0.0</td>\n",
       "      <td>0.0</td>\n",
       "      <td>0.0</td>\n",
       "      <td>0.0</td>\n",
       "    </tr>\n",
       "    <tr>\n",
       "      <th>19644</th>\n",
       "      <td>2020-03-14T00:00:00.000</td>\n",
       "      <td>AK</td>\n",
       "      <td>1</td>\n",
       "      <td>NaN</td>\n",
       "      <td>NaN</td>\n",
       "      <td>0.0</td>\n",
       "      <td>NaN</td>\n",
       "      <td>0</td>\n",
       "      <td>NaN</td>\n",
       "      <td>NaN</td>\n",
       "      <td>...</td>\n",
       "      <td>0.0</td>\n",
       "      <td>0.0</td>\n",
       "      <td>0.0</td>\n",
       "      <td>0.0</td>\n",
       "      <td>0.0</td>\n",
       "      <td>0.0</td>\n",
       "      <td>0.0</td>\n",
       "      <td>0.0</td>\n",
       "      <td>0.0</td>\n",
       "      <td>0.0</td>\n",
       "    </tr>\n",
       "    <tr>\n",
       "      <th>19279</th>\n",
       "      <td>2020-03-15T00:00:00.000</td>\n",
       "      <td>AK</td>\n",
       "      <td>1</td>\n",
       "      <td>NaN</td>\n",
       "      <td>NaN</td>\n",
       "      <td>0.0</td>\n",
       "      <td>NaN</td>\n",
       "      <td>0</td>\n",
       "      <td>NaN</td>\n",
       "      <td>NaN</td>\n",
       "      <td>...</td>\n",
       "      <td>0.0</td>\n",
       "      <td>0.0</td>\n",
       "      <td>0.0</td>\n",
       "      <td>0.0</td>\n",
       "      <td>0.0</td>\n",
       "      <td>0.0</td>\n",
       "      <td>0.0</td>\n",
       "      <td>0.0</td>\n",
       "      <td>0.0</td>\n",
       "      <td>0.0</td>\n",
       "    </tr>\n",
       "    <tr>\n",
       "      <th>17655</th>\n",
       "      <td>2020-03-16T00:00:00.000</td>\n",
       "      <td>AK</td>\n",
       "      <td>1</td>\n",
       "      <td>NaN</td>\n",
       "      <td>NaN</td>\n",
       "      <td>0.0</td>\n",
       "      <td>NaN</td>\n",
       "      <td>0</td>\n",
       "      <td>NaN</td>\n",
       "      <td>NaN</td>\n",
       "      <td>...</td>\n",
       "      <td>0.0</td>\n",
       "      <td>0.0</td>\n",
       "      <td>0.0</td>\n",
       "      <td>0.0</td>\n",
       "      <td>0.0</td>\n",
       "      <td>0.0</td>\n",
       "      <td>0.0</td>\n",
       "      <td>0.0</td>\n",
       "      <td>0.0</td>\n",
       "      <td>0.0</td>\n",
       "    </tr>\n",
       "    <tr>\n",
       "      <th>18209</th>\n",
       "      <td>2020-03-17T00:00:00.000</td>\n",
       "      <td>AK</td>\n",
       "      <td>3</td>\n",
       "      <td>NaN</td>\n",
       "      <td>NaN</td>\n",
       "      <td>2.0</td>\n",
       "      <td>NaN</td>\n",
       "      <td>0</td>\n",
       "      <td>NaN</td>\n",
       "      <td>NaN</td>\n",
       "      <td>...</td>\n",
       "      <td>0.0</td>\n",
       "      <td>0.0</td>\n",
       "      <td>0.0</td>\n",
       "      <td>0.0</td>\n",
       "      <td>0.0</td>\n",
       "      <td>0.0</td>\n",
       "      <td>0.0</td>\n",
       "      <td>0.0</td>\n",
       "      <td>0.0</td>\n",
       "      <td>0.0</td>\n",
       "    </tr>\n",
       "  </tbody>\n",
       "</table>\n",
       "<p>5 rows × 43 columns</p>\n",
       "</div>"
      ],
      "text/plain": [
       "               submission_date state  tot_cases  conf_cases  prob_cases  \\\n",
       "18735  2020-03-13T00:00:00.000    AK          1         NaN         NaN   \n",
       "19644  2020-03-14T00:00:00.000    AK          1         NaN         NaN   \n",
       "19279  2020-03-15T00:00:00.000    AK          1         NaN         NaN   \n",
       "17655  2020-03-16T00:00:00.000    AK          1         NaN         NaN   \n",
       "18209  2020-03-17T00:00:00.000    AK          3         NaN         NaN   \n",
       "\n",
       "       new_case  pnew_case  tot_death  conf_death  prob_death  ...  \\\n",
       "18735       1.0        NaN          0         NaN         NaN  ...   \n",
       "19644       0.0        NaN          0         NaN         NaN  ...   \n",
       "19279       0.0        NaN          0         NaN         NaN  ...   \n",
       "17655       0.0        NaN          0         NaN         NaN  ...   \n",
       "18209       2.0        NaN          0         NaN         NaN  ...   \n",
       "\n",
       "       new_case_his_19  new_case_his_20 new_case_his_21 new_case_his_22  \\\n",
       "18735              0.0              0.0             0.0             0.0   \n",
       "19644              0.0              0.0             0.0             0.0   \n",
       "19279              0.0              0.0             0.0             0.0   \n",
       "17655              0.0              0.0             0.0             0.0   \n",
       "18209              0.0              0.0             0.0             0.0   \n",
       "\n",
       "      new_case_his_23  new_case_his_24  new_case_his_25  new_case_his_26  \\\n",
       "18735             0.0              0.0              0.0              0.0   \n",
       "19644             0.0              0.0              0.0              0.0   \n",
       "19279             0.0              0.0              0.0              0.0   \n",
       "17655             0.0              0.0              0.0              0.0   \n",
       "18209             0.0              0.0              0.0              0.0   \n",
       "\n",
       "       new_case_his_27  new_case_his_28  \n",
       "18735              0.0              0.0  \n",
       "19644              0.0              0.0  \n",
       "19279              0.0              0.0  \n",
       "17655              0.0              0.0  \n",
       "18209              0.0              0.0  \n",
       "\n",
       "[5 rows x 43 columns]"
      ]
     },
     "execution_count": 19,
     "metadata": {},
     "output_type": "execute_result"
    }
   ],
   "source": [
    "collected_df.head()"
   ]
  },
  {
   "cell_type": "markdown",
   "metadata": {
    "id": "uUoZnG8hXzMv"
   },
   "source": [
    "## Tiền xử lý (tách tập)"
   ]
  },
  {
   "cell_type": "markdown",
   "metadata": {
    "id": "gAFrHaY28I3i"
   },
   "source": [
    "Input của bài toán sẽ bao gồm một số cột trong dữ liệu. Output chính là cột `new_case`. "
   ]
  },
  {
   "cell_type": "code",
   "execution_count": 20,
   "metadata": {
    "id": "00vcVoi9XaWu"
   },
   "outputs": [],
   "source": [
    "sorted_df = collected_df.sort_values('submission_date', ascending=True)\n",
    "X_df = sorted_df.drop('new_case', axis=1)\n",
    "y_sr = sorted_df['new_case']"
   ]
  },
  {
   "cell_type": "markdown",
   "metadata": {
    "id": "h1Hse-XISNpP"
   },
   "source": [
    "Tách theo tỉ lệ: 70% 15% 15% lần lượt cho bộ train, bộ validation, bộ test."
   ]
  },
  {
   "cell_type": "code",
   "execution_count": 21,
   "metadata": {
    "id": "DMmn7hdgWx2o"
   },
   "outputs": [],
   "source": [
    "# tách bộ (train, validation) và bộ test\n",
    "train_X_df, test_X_df, train_y_sr, test_y_sr = train_test_split(X_df, y_sr, train_size = 0.85, \n",
    "                                                             shuffle=False, random_state=0)"
   ]
  },
  {
   "cell_type": "markdown",
   "metadata": {
    "id": "-l8pE224R4YS"
   },
   "source": [
    "Tách bộ train và bộ validation."
   ]
  },
  {
   "cell_type": "code",
   "execution_count": 22,
   "metadata": {
    "id": "iWbMUPOtR20r"
   },
   "outputs": [],
   "source": [
    "train_X_df, val_X_df, train_y_sr, val_y_sr = train_test_split(train_X_df, train_y_sr, train_size=(7/8.5), \n",
    "                                                              random_state=0)"
   ]
  },
  {
   "cell_type": "code",
   "execution_count": 23,
   "metadata": {
    "colab": {
     "base_uri": "https://localhost:8080/"
    },
    "id": "t2WykXg0QZWr",
    "outputId": "421c4077-cea3-429b-e484-d1bc3ddce2d6"
   },
   "outputs": [
    {
     "data": {
      "text/plain": [
       "(11982, 42)"
      ]
     },
     "execution_count": 23,
     "metadata": {},
     "output_type": "execute_result"
    }
   ],
   "source": [
    "train_X_df.shape"
   ]
  },
  {
   "cell_type": "code",
   "execution_count": 24,
   "metadata": {
    "colab": {
     "base_uri": "https://localhost:8080/"
    },
    "id": "cyujSsGDbUH_",
    "outputId": "20bd9e2f-2a23-4a8d-93f1-9e5f2111ac20"
   },
   "outputs": [
    {
     "data": {
      "text/plain": [
       "(2568, 42)"
      ]
     },
     "execution_count": 24,
     "metadata": {},
     "output_type": "execute_result"
    }
   ],
   "source": [
    "val_X_df.shape"
   ]
  },
  {
   "cell_type": "code",
   "execution_count": 25,
   "metadata": {
    "colab": {
     "base_uri": "https://localhost:8080/"
    },
    "id": "aYLG_fmJbVom",
    "outputId": "b174eb88-4c5f-4a30-e05f-fec4ae113497"
   },
   "outputs": [
    {
     "data": {
      "text/plain": [
       "(2568, 42)"
      ]
     },
     "execution_count": 25,
     "metadata": {},
     "output_type": "execute_result"
    }
   ],
   "source": [
    "test_X_df.shape"
   ]
  },
  {
   "cell_type": "markdown",
   "metadata": {
    "id": "0a01Uxt2Tj7M"
   },
   "source": [
    "## Khám phá dữ liệu (tập huấn luyện)"
   ]
  },
  {
   "cell_type": "markdown",
   "metadata": {
    "id": "LQjYUVgvTsjt"
   },
   "source": [
    "### Mỗi cột input hiện đang có kiểu dữ liệu gì? Có cột nào có kiểu dữ liệu chưa phù hợp để có thể xử lý tiếp không?"
   ]
  },
  {
   "cell_type": "code",
   "execution_count": 26,
   "metadata": {
    "colab": {
     "base_uri": "https://localhost:8080/"
    },
    "id": "g4s5R4ZETpMZ",
    "outputId": "3865093a-72b2-4f5c-d907-4ff530bde3b9"
   },
   "outputs": [
    {
     "data": {
      "text/plain": [
       "submission_date     object\n",
       "state               object\n",
       "tot_cases            int64\n",
       "conf_cases         float64\n",
       "prob_cases         float64\n",
       "pnew_case          float64\n",
       "tot_death            int64\n",
       "conf_death         float64\n",
       "prob_death         float64\n",
       "new_death          float64\n",
       "pnew_death         float64\n",
       "created_at          object\n",
       "consent_cases       object\n",
       "consent_deaths      object\n",
       "new_case_his_1     float64\n",
       "new_case_his_2     float64\n",
       "new_case_his_3     float64\n",
       "new_case_his_4     float64\n",
       "new_case_his_5     float64\n",
       "new_case_his_6     float64\n",
       "new_case_his_7     float64\n",
       "new_case_his_8     float64\n",
       "new_case_his_9     float64\n",
       "new_case_his_10    float64\n",
       "new_case_his_11    float64\n",
       "new_case_his_12    float64\n",
       "new_case_his_13    float64\n",
       "new_case_his_14    float64\n",
       "new_case_his_15    float64\n",
       "new_case_his_16    float64\n",
       "new_case_his_17    float64\n",
       "new_case_his_18    float64\n",
       "new_case_his_19    float64\n",
       "new_case_his_20    float64\n",
       "new_case_his_21    float64\n",
       "new_case_his_22    float64\n",
       "new_case_his_23    float64\n",
       "new_case_his_24    float64\n",
       "new_case_his_25    float64\n",
       "new_case_his_26    float64\n",
       "new_case_his_27    float64\n",
       "new_case_his_28    float64\n",
       "dtype: object"
      ]
     },
     "execution_count": 26,
     "metadata": {},
     "output_type": "execute_result"
    }
   ],
   "source": [
    "train_X_df.dtypes"
   ]
  },
  {
   "cell_type": "markdown",
   "metadata": {
    "id": "ZMGt8nni-kgh"
   },
   "source": [
    "Hiện tại các cột có kiểu dữ liệu hợp lý, không có vấn đề gì."
   ]
  },
  {
   "cell_type": "markdown",
   "metadata": {
    "id": "MbPT8ehLT9yr"
   },
   "source": [
    "### Với mỗi cột input có kiểu dữ liệu dạng số, các giá trị được phân bố như thế nào?"
   ]
  },
  {
   "cell_type": "code",
   "execution_count": 27,
   "metadata": {
    "colab": {
     "base_uri": "https://localhost:8080/",
     "height": 248
    },
    "id": "9AmzF6cYUS-o",
    "outputId": "011ae297-1b06-4ec2-9572-420ef239845f"
   },
   "outputs": [
    {
     "data": {
      "text/html": [
       "<div>\n",
       "<style scoped>\n",
       "    .dataframe tbody tr th:only-of-type {\n",
       "        vertical-align: middle;\n",
       "    }\n",
       "\n",
       "    .dataframe tbody tr th {\n",
       "        vertical-align: top;\n",
       "    }\n",
       "\n",
       "    .dataframe thead th {\n",
       "        text-align: right;\n",
       "    }\n",
       "</style>\n",
       "<table border=\"1\" class=\"dataframe\">\n",
       "  <thead>\n",
       "    <tr style=\"text-align: right;\">\n",
       "      <th></th>\n",
       "      <th>new_case_his_9</th>\n",
       "      <th>pnew_case</th>\n",
       "      <th>new_case_his_1</th>\n",
       "      <th>new_case_his_25</th>\n",
       "      <th>new_case_his_22</th>\n",
       "      <th>new_case_his_15</th>\n",
       "      <th>new_case_his_21</th>\n",
       "      <th>conf_death</th>\n",
       "      <th>new_case_his_20</th>\n",
       "      <th>pnew_death</th>\n",
       "      <th>...</th>\n",
       "      <th>new_case_his_11</th>\n",
       "      <th>prob_death</th>\n",
       "      <th>conf_cases</th>\n",
       "      <th>prob_cases</th>\n",
       "      <th>new_case_his_4</th>\n",
       "      <th>new_case_his_3</th>\n",
       "      <th>new_case_his_12</th>\n",
       "      <th>new_case_his_17</th>\n",
       "      <th>new_case_his_10</th>\n",
       "      <th>new_case_his_14</th>\n",
       "    </tr>\n",
       "  </thead>\n",
       "  <tbody>\n",
       "    <tr>\n",
       "      <th>missing_ratio</th>\n",
       "      <td>0.0</td>\n",
       "      <td>16.5</td>\n",
       "      <td>0.0</td>\n",
       "      <td>0.0</td>\n",
       "      <td>0.0</td>\n",
       "      <td>0.0</td>\n",
       "      <td>0.0</td>\n",
       "      <td>50.7</td>\n",
       "      <td>0.0</td>\n",
       "      <td>17.1</td>\n",
       "      <td>...</td>\n",
       "      <td>0.0</td>\n",
       "      <td>50.7</td>\n",
       "      <td>53.3</td>\n",
       "      <td>53.3</td>\n",
       "      <td>0.0</td>\n",
       "      <td>0.0</td>\n",
       "      <td>0.0</td>\n",
       "      <td>0.0</td>\n",
       "      <td>0.0</td>\n",
       "      <td>0.0</td>\n",
       "    </tr>\n",
       "    <tr>\n",
       "      <th>min</th>\n",
       "      <td>0.0</td>\n",
       "      <td>-33864.0</td>\n",
       "      <td>0.0</td>\n",
       "      <td>0.0</td>\n",
       "      <td>0.0</td>\n",
       "      <td>0.0</td>\n",
       "      <td>0.0</td>\n",
       "      <td>0.0</td>\n",
       "      <td>0.0</td>\n",
       "      <td>-837.0</td>\n",
       "      <td>...</td>\n",
       "      <td>0.0</td>\n",
       "      <td>0.0</td>\n",
       "      <td>1.0</td>\n",
       "      <td>0.0</td>\n",
       "      <td>0.0</td>\n",
       "      <td>0.0</td>\n",
       "      <td>0.0</td>\n",
       "      <td>0.0</td>\n",
       "      <td>0.0</td>\n",
       "      <td>0.0</td>\n",
       "    </tr>\n",
       "    <tr>\n",
       "      <th>lower_quartile</th>\n",
       "      <td>29.0</td>\n",
       "      <td>0.0</td>\n",
       "      <td>41.0</td>\n",
       "      <td>9.0</td>\n",
       "      <td>12.0</td>\n",
       "      <td>20.0</td>\n",
       "      <td>13.0</td>\n",
       "      <td>303.0</td>\n",
       "      <td>14.0</td>\n",
       "      <td>0.0</td>\n",
       "      <td>...</td>\n",
       "      <td>25.0</td>\n",
       "      <td>0.0</td>\n",
       "      <td>8539.0</td>\n",
       "      <td>8.0</td>\n",
       "      <td>37.0</td>\n",
       "      <td>38.0</td>\n",
       "      <td>24.0</td>\n",
       "      <td>17.0</td>\n",
       "      <td>27.0</td>\n",
       "      <td>21.0</td>\n",
       "    </tr>\n",
       "    <tr>\n",
       "      <th>median</th>\n",
       "      <td>253.0</td>\n",
       "      <td>0.0</td>\n",
       "      <td>291.0</td>\n",
       "      <td>184.0</td>\n",
       "      <td>194.0</td>\n",
       "      <td>226.0</td>\n",
       "      <td>201.0</td>\n",
       "      <td>1303.0</td>\n",
       "      <td>203.0</td>\n",
       "      <td>0.0</td>\n",
       "      <td>...</td>\n",
       "      <td>245.0</td>\n",
       "      <td>36.0</td>\n",
       "      <td>38171.0</td>\n",
       "      <td>1078.0</td>\n",
       "      <td>279.0</td>\n",
       "      <td>282.0</td>\n",
       "      <td>241.0</td>\n",
       "      <td>219.0</td>\n",
       "      <td>248.5</td>\n",
       "      <td>228.5</td>\n",
       "    </tr>\n",
       "    <tr>\n",
       "      <th>upper_quartile</th>\n",
       "      <td>792.0</td>\n",
       "      <td>25.0</td>\n",
       "      <td>859.8</td>\n",
       "      <td>663.8</td>\n",
       "      <td>681.0</td>\n",
       "      <td>736.0</td>\n",
       "      <td>692.0</td>\n",
       "      <td>3551.8</td>\n",
       "      <td>696.0</td>\n",
       "      <td>0.0</td>\n",
       "      <td>...</td>\n",
       "      <td>776.0</td>\n",
       "      <td>205.8</td>\n",
       "      <td>107271.0</td>\n",
       "      <td>4764.5</td>\n",
       "      <td>833.0</td>\n",
       "      <td>837.0</td>\n",
       "      <td>764.0</td>\n",
       "      <td>727.8</td>\n",
       "      <td>787.8</td>\n",
       "      <td>744.0</td>\n",
       "    </tr>\n",
       "    <tr>\n",
       "      <th>max</th>\n",
       "      <td>71734.0</td>\n",
       "      <td>5014.0</td>\n",
       "      <td>71734.0</td>\n",
       "      <td>17820.0</td>\n",
       "      <td>17820.0</td>\n",
       "      <td>71734.0</td>\n",
       "      <td>17820.0</td>\n",
       "      <td>19505.0</td>\n",
       "      <td>17820.0</td>\n",
       "      <td>4059.0</td>\n",
       "      <td>...</td>\n",
       "      <td>71734.0</td>\n",
       "      <td>5395.0</td>\n",
       "      <td>597849.0</td>\n",
       "      <td>39752.0</td>\n",
       "      <td>71734.0</td>\n",
       "      <td>71734.0</td>\n",
       "      <td>71734.0</td>\n",
       "      <td>15135.0</td>\n",
       "      <td>71734.0</td>\n",
       "      <td>71734.0</td>\n",
       "    </tr>\n",
       "  </tbody>\n",
       "</table>\n",
       "<p>6 rows × 37 columns</p>\n",
       "</div>"
      ],
      "text/plain": [
       "                new_case_his_9  pnew_case  new_case_his_1  new_case_his_25  \\\n",
       "missing_ratio              0.0       16.5             0.0              0.0   \n",
       "min                        0.0   -33864.0             0.0              0.0   \n",
       "lower_quartile            29.0        0.0            41.0              9.0   \n",
       "median                   253.0        0.0           291.0            184.0   \n",
       "upper_quartile           792.0       25.0           859.8            663.8   \n",
       "max                    71734.0     5014.0         71734.0          17820.0   \n",
       "\n",
       "                new_case_his_22  new_case_his_15  new_case_his_21  conf_death  \\\n",
       "missing_ratio               0.0              0.0              0.0        50.7   \n",
       "min                         0.0              0.0              0.0         0.0   \n",
       "lower_quartile             12.0             20.0             13.0       303.0   \n",
       "median                    194.0            226.0            201.0      1303.0   \n",
       "upper_quartile            681.0            736.0            692.0      3551.8   \n",
       "max                     17820.0          71734.0          17820.0     19505.0   \n",
       "\n",
       "                new_case_his_20  pnew_death  ...  new_case_his_11  prob_death  \\\n",
       "missing_ratio               0.0        17.1  ...              0.0        50.7   \n",
       "min                         0.0      -837.0  ...              0.0         0.0   \n",
       "lower_quartile             14.0         0.0  ...             25.0         0.0   \n",
       "median                    203.0         0.0  ...            245.0        36.0   \n",
       "upper_quartile            696.0         0.0  ...            776.0       205.8   \n",
       "max                     17820.0      4059.0  ...          71734.0      5395.0   \n",
       "\n",
       "                conf_cases  prob_cases  new_case_his_4  new_case_his_3  \\\n",
       "missing_ratio         53.3        53.3             0.0             0.0   \n",
       "min                    1.0         0.0             0.0             0.0   \n",
       "lower_quartile      8539.0         8.0            37.0            38.0   \n",
       "median             38171.0      1078.0           279.0           282.0   \n",
       "upper_quartile    107271.0      4764.5           833.0           837.0   \n",
       "max               597849.0     39752.0         71734.0         71734.0   \n",
       "\n",
       "                new_case_his_12  new_case_his_17  new_case_his_10  \\\n",
       "missing_ratio               0.0              0.0              0.0   \n",
       "min                         0.0              0.0              0.0   \n",
       "lower_quartile             24.0             17.0             27.0   \n",
       "median                    241.0            219.0            248.5   \n",
       "upper_quartile            764.0            727.8            787.8   \n",
       "max                     71734.0          15135.0          71734.0   \n",
       "\n",
       "                new_case_his_14  \n",
       "missing_ratio               0.0  \n",
       "min                         0.0  \n",
       "lower_quartile             21.0  \n",
       "median                    228.5  \n",
       "upper_quartile            744.0  \n",
       "max                     71734.0  \n",
       "\n",
       "[6 rows x 37 columns]"
      ]
     },
     "execution_count": 27,
     "metadata": {},
     "output_type": "execute_result"
    }
   ],
   "source": [
    "whitelist = ['submission_date', 'state', 'created_at','consent_cases','consent_deaths']\n",
    "num_cols = list(set(train_X_df.columns) - set(whitelist))\n",
    "df = train_X_df[num_cols]\n",
    "def missing_ratio(df):\n",
    "    return (df.isna().mean() * 100).round(1)\n",
    "def lower_quartile(df):\n",
    "    return df.quantile(0.25).round(1)\n",
    "def median(df):\n",
    "    return df.quantile(0.5).round(1)\n",
    "def upper_quartile(df):\n",
    "    return df.quantile(0.75).round(1)\n",
    "df.agg([missing_ratio, 'min', lower_quartile, median, upper_quartile, 'max'])"
   ]
  },
  {
   "cell_type": "markdown",
   "metadata": {
    "id": "MRACWC3v-ep4"
   },
   "source": [
    "Ta thấy những thuộc tính `prob_cases`, `conf_cases` là những thuộc tính quan trọng nhưng có tỷ lệ mising value lớn ta sẽ xử lý ở phần tiền xử lý cho tập huấn luyện. Còn `pnew_case`, `new_death`, `pnew_death` `conf_death`, `prob_death` có tỷ lệ mising value lớn nhưng nó không có ích cho mô hình nên ta sẽ bỏ các thuộc tính đó đi."
   ]
  },
  {
   "cell_type": "markdown",
   "metadata": {
    "id": "oyVeK-1mblFI"
   },
   "source": [
    "## Tiền xử lý tập huấn luyện\n",
    "\n",
    "\n",
    "\n"
   ]
  },
  {
   "cell_type": "markdown",
   "metadata": {
    "id": "T-jbhL09zxX0"
   },
   "source": [
    "### Các class cần thiết cho pipeline\n",
    "- Loại bỏ các thuộc tính dự đoán như `pnew_case`, `pnew_death`\n",
    "- Loại bỏ các thuộc tính không có ích cho việc huấn luyện mô hình như `submission_date`, `state`, `conf_death`, `prob_death`, `created_at`, `consent_cases`, `consent_deaths`\n",
    "\n",
    "- Dùng tham số `callback_days` để quy định chỉ lấy số ngày gần nhất của ngày hiện tại.\n",
    "\n",
    "- Hàm `mix_data` dùng để fill lại các giá trị của cột `conf_cases` bằng giá trị tương ứng của cột `tot_cases` nếu nó bị thiếu.\n",
    "- Tạo thêm cột `total_new_case_his` là tổng của các `new_case_his_i` và xóa các cột `new_case_his_i` để tránh trường hợp quá nhiều thuộc tính dễ dẫn đến overfitting."
   ]
  },
  {
   "cell_type": "code",
   "execution_count": 28,
   "metadata": {
    "id": "BqUk7Gz3orda"
   },
   "outputs": [],
   "source": [
    "class ColAdderDropper(BaseEstimator, TransformerMixin):\n",
    "    def __init__(self, callback_days=14):\n",
    "        self.callback_days = callback_days\n",
    "\n",
    "    def fit(self, X_df, y=None):\n",
    "        return self\n",
    "    \n",
    "    def mix_data(self, row):\n",
    "        tot_cases = row.loc['tot_cases']\n",
    "        if row.isnull().loc['conf_cases']:\n",
    "            row.loc['conf_cases'] = tot_cases            \n",
    "\n",
    "        return row\n",
    "\n",
    "    def transform(self, X_df, y=None):\n",
    "\n",
    "        # drop unsue attr\n",
    "        df = X_df.drop(['pnew_case', 'pnew_death', 'submission_date', 'state', 'conf_death', 'prob_death', 'created_at',\n",
    "                        'consent_cases', 'consent_deaths'], axis=1, errors = 'ignore')\n",
    "\n",
    "        # regex to match first number in any text\n",
    "        matcher = re.compile(r'.*?(\\d+)')\n",
    "        \n",
    "        columns_sr = df.columns.str.extract(r'(.*?\\d+)', expand=False).dropna().to_series()\n",
    "        list_drop_his = columns_sr.transform(lambda x: x if int(matcher.findall(x)[0]) > self.callback_days else np.nan).dropna().values.tolist()\n",
    "        if len(list_drop_his) > 0:\n",
    "            df = df.drop(list_drop_his, axis=1)\n",
    "            \n",
    "        # get  sum new_case_his   \n",
    "        df['total_new_case_his'] = df.iloc[:, 5:].sum(axis=1)\n",
    "        df = df.drop(df.columns[5:-1],axis=1)\n",
    "\n",
    "        return df.transform(self.mix_data, axis=1)\n"
   ]
  },
  {
   "cell_type": "code",
   "execution_count": 29,
   "metadata": {
    "colab": {
     "base_uri": "https://localhost:8080/",
     "height": 72
    },
    "id": "qi2BYpJdu0pI",
    "outputId": "d48437f4-7b29-4072-a65b-430b1f20bf7f"
   },
   "outputs": [
    {
     "data": {
      "text/html": [
       "<style>div.sk-top-container {color: black;background-color: white;}div.sk-toggleable {background-color: white;}label.sk-toggleable__label {cursor: pointer;display: block;width: 100%;margin-bottom: 0;padding: 0.2em 0.3em;box-sizing: border-box;text-align: center;}div.sk-toggleable__content {max-height: 0;max-width: 0;overflow: hidden;text-align: left;background-color: #f0f8ff;}div.sk-toggleable__content pre {margin: 0.2em;color: black;border-radius: 0.25em;background-color: #f0f8ff;}input.sk-toggleable__control:checked~div.sk-toggleable__content {max-height: 200px;max-width: 100%;overflow: auto;}div.sk-estimator input.sk-toggleable__control:checked~label.sk-toggleable__label {background-color: #d4ebff;}div.sk-label input.sk-toggleable__control:checked~label.sk-toggleable__label {background-color: #d4ebff;}input.sk-hidden--visually {border: 0;clip: rect(1px 1px 1px 1px);clip: rect(1px, 1px, 1px, 1px);height: 1px;margin: -1px;overflow: hidden;padding: 0;position: absolute;width: 1px;}div.sk-estimator {font-family: monospace;background-color: #f0f8ff;margin: 0.25em 0.25em;border: 1px dotted black;border-radius: 0.25em;box-sizing: border-box;}div.sk-estimator:hover {background-color: #d4ebff;}div.sk-parallel-item::after {content: \"\";width: 100%;border-bottom: 1px solid gray;flex-grow: 1;}div.sk-label:hover label.sk-toggleable__label {background-color: #d4ebff;}div.sk-serial::before {content: \"\";position: absolute;border-left: 1px solid gray;box-sizing: border-box;top: 2em;bottom: 0;left: 50%;}div.sk-serial {display: flex;flex-direction: column;align-items: center;background-color: white;}div.sk-item {z-index: 1;}div.sk-parallel {display: flex;align-items: stretch;justify-content: center;background-color: white;}div.sk-parallel-item {display: flex;flex-direction: column;position: relative;background-color: white;}div.sk-parallel-item:first-child::after {align-self: flex-end;width: 50%;}div.sk-parallel-item:last-child::after {align-self: flex-start;width: 50%;}div.sk-parallel-item:only-child::after {width: 0;}div.sk-dashed-wrapped {border: 1px dashed gray;margin: 0.2em;box-sizing: border-box;padding-bottom: 0.1em;background-color: white;position: relative;}div.sk-label label {font-family: monospace;font-weight: bold;background-color: white;display: inline-block;line-height: 1.2em;}div.sk-label-container {position: relative;z-index: 2;text-align: center;}div.sk-container {display: inline-block;position: relative;}</style><div class=\"sk-top-container\"><div class=\"sk-container\"><div class=\"sk-item\"><div class=\"sk-estimator sk-toggleable\"><input class=\"sk-toggleable__control sk-hidden--visually\" id=\"3f6f4cb3-e9c9-44c8-a8f4-99bb3b54138c\" type=\"checkbox\" checked><label class=\"sk-toggleable__label\" for=\"3f6f4cb3-e9c9-44c8-a8f4-99bb3b54138c\">ColAdderDropper</label><div class=\"sk-toggleable__content\"><pre>ColAdderDropper(callback_days=5)</pre></div></div></div></div></div>"
      ],
      "text/plain": [
       "ColAdderDropper(callback_days=5)"
      ]
     },
     "execution_count": 29,
     "metadata": {},
     "output_type": "execute_result"
    }
   ],
   "source": [
    "# TEST\n",
    "estimator = ColAdderDropper(callback_days=5)\n",
    "estimator.fit(train_X_df)"
   ]
  },
  {
   "cell_type": "code",
   "execution_count": 30,
   "metadata": {
    "colab": {
     "base_uri": "https://localhost:8080/",
     "height": 198
    },
    "id": "oGwUUuaXwszg",
    "outputId": "172a45c3-2d45-4004-9365-8e4dd81ec471"
   },
   "outputs": [
    {
     "data": {
      "text/html": [
       "<div>\n",
       "<style scoped>\n",
       "    .dataframe tbody tr th:only-of-type {\n",
       "        vertical-align: middle;\n",
       "    }\n",
       "\n",
       "    .dataframe tbody tr th {\n",
       "        vertical-align: top;\n",
       "    }\n",
       "\n",
       "    .dataframe thead th {\n",
       "        text-align: right;\n",
       "    }\n",
       "</style>\n",
       "<table border=\"1\" class=\"dataframe\">\n",
       "  <thead>\n",
       "    <tr style=\"text-align: right;\">\n",
       "      <th></th>\n",
       "      <th>tot_cases</th>\n",
       "      <th>conf_cases</th>\n",
       "      <th>prob_cases</th>\n",
       "      <th>tot_death</th>\n",
       "      <th>new_death</th>\n",
       "      <th>total_new_case_his</th>\n",
       "    </tr>\n",
       "  </thead>\n",
       "  <tbody>\n",
       "    <tr>\n",
       "      <th>5243</th>\n",
       "      <td>80695.0</td>\n",
       "      <td>77323.0</td>\n",
       "      <td>3372.0</td>\n",
       "      <td>2399.0</td>\n",
       "      <td>84.0</td>\n",
       "      <td>3757.0</td>\n",
       "    </tr>\n",
       "    <tr>\n",
       "      <th>335</th>\n",
       "      <td>741.0</td>\n",
       "      <td>559.0</td>\n",
       "      <td>182.0</td>\n",
       "      <td>7.0</td>\n",
       "      <td>0.0</td>\n",
       "      <td>54.0</td>\n",
       "    </tr>\n",
       "    <tr>\n",
       "      <th>3784</th>\n",
       "      <td>1834.0</td>\n",
       "      <td>1834.0</td>\n",
       "      <td>NaN</td>\n",
       "      <td>13.0</td>\n",
       "      <td>6.0</td>\n",
       "      <td>1050.0</td>\n",
       "    </tr>\n",
       "    <tr>\n",
       "      <th>14681</th>\n",
       "      <td>220819.0</td>\n",
       "      <td>216199.0</td>\n",
       "      <td>4620.0</td>\n",
       "      <td>23323.0</td>\n",
       "      <td>40.0</td>\n",
       "      <td>1564.0</td>\n",
       "    </tr>\n",
       "    <tr>\n",
       "      <th>16890</th>\n",
       "      <td>242043.0</td>\n",
       "      <td>242043.0</td>\n",
       "      <td>NaN</td>\n",
       "      <td>3066.0</td>\n",
       "      <td>67.0</td>\n",
       "      <td>35154.0</td>\n",
       "    </tr>\n",
       "  </tbody>\n",
       "</table>\n",
       "</div>"
      ],
      "text/plain": [
       "       tot_cases  conf_cases  prob_cases  tot_death  new_death  \\\n",
       "5243     80695.0     77323.0      3372.0     2399.0       84.0   \n",
       "335        741.0       559.0       182.0        7.0        0.0   \n",
       "3784      1834.0      1834.0         NaN       13.0        6.0   \n",
       "14681   220819.0    216199.0      4620.0    23323.0       40.0   \n",
       "16890   242043.0    242043.0         NaN     3066.0       67.0   \n",
       "\n",
       "       total_new_case_his  \n",
       "5243               3757.0  \n",
       "335                  54.0  \n",
       "3784               1050.0  \n",
       "14681              1564.0  \n",
       "16890             35154.0  "
      ]
     },
     "execution_count": 30,
     "metadata": {},
     "output_type": "execute_result"
    }
   ],
   "source": [
    "# TEST\n",
    "estimator.transform(train_X_df).head()"
   ]
  },
  {
   "cell_type": "markdown",
   "metadata": {
    "id": "WtICMrfQwyQh"
   },
   "source": [
    "### Xây dựng pipeline\n",
    "\n"
   ]
  },
  {
   "cell_type": "markdown",
   "metadata": {
    "id": "Qug1v-6ZJZP7"
   },
   "source": [
    "+ Dữ liệu được đi qua ColAdderDropper để xóa các thuộc tính không cần thiết, thêm thuộc tính `total_new_case_his` và fill mising value cho thuộc tính `conf_cases`.\n",
    "+ Các thuộc tính sẽ được fill mising value bằng `mean` nhằm đảm bảo không còn nơi nào bị thiếu dữ liệu kể cả trên bộ test mới.\n",
    "+ Cuối cùng, khi tất cả các cột đã được điền giá trị thiếu và đã có dạng số, ta sẽ tiến hành chuẩn hóa bằng  StandardScaler."
   ]
  },
  {
   "cell_type": "code",
   "execution_count": 31,
   "metadata": {
    "id": "LBD-00_bPbkc"
   },
   "outputs": [],
   "source": [
    "preprocess_pipeline =  make_pipeline(ColAdderDropper(), SimpleImputer(strategy='mean'), StandardScaler())"
   ]
  },
  {
   "cell_type": "markdown",
   "metadata": {
    "id": "siTPr8oHWUU7"
   },
   "source": [
    "## Mô hình hóa"
   ]
  },
  {
   "cell_type": "markdown",
   "metadata": {
    "id": "cHE82zKXWZLF"
   },
   "source": [
    "### Tìm mô hình tốt nhất"
   ]
  },
  {
   "cell_type": "markdown",
   "metadata": {
    "id": "FGKjOELuyV5B"
   },
   "source": [
    "#### Thử nhiệm 1: Mô hình Linear regression"
   ]
  },
  {
   "cell_type": "code",
   "execution_count": 32,
   "metadata": {
    "id": "uL1tvsZMadio"
   },
   "outputs": [],
   "source": [
    " pipe_line = make_pipeline(preprocess_pipeline,\n",
    "            LinearRegression())"
   ]
  },
  {
   "cell_type": "code",
   "execution_count": 33,
   "metadata": {
    "colab": {
     "base_uri": "https://localhost:8080/",
     "height": 155
    },
    "id": "AeDoWLmJSjBi",
    "outputId": "700924c4-cceb-4415-8956-45bc4dcfdd25"
   },
   "outputs": [
    {
     "name": "stdout",
     "output_type": "stream",
     "text": [
      "callback_days=6...\ttrain_err: 16.067133185308403\t val_err: 16.30693057746384\n",
      "callback_days=8...\ttrain_err: 15.13752570241288\t val_err: 16.678218714128022\n",
      "callback_days=12...\ttrain_err: 16.34641948487301\t val_err: 16.9554786574056\n",
      "callback_days=16...\ttrain_err: 17.925649255866528\t val_err: 17.739452979335944\n",
      "callback_days=20...\ttrain_err: 20.05685430605818\t val_err: 20.351698217972658\n",
      "callback_days=24...\ttrain_err: 22.27862985318614\t val_err: 22.80246902290711\n",
      "callback_days=28...\ttrain_err: 24.698992120999463\t val_err: 25.383069227029676\n"
     ]
    },
    {
     "data": {
      "text/plain": [
       "'Finish!'"
      ]
     },
     "execution_count": 33,
     "metadata": {},
     "output_type": "execute_result"
    }
   ],
   "source": [
    "# Thử nghiệm với các giá trị khác nhau của siêu tham số callback_days\n",
    "# và chọn ra các giá trị tốt nhất\n",
    "train_errs = []\n",
    "val_errs = []\n",
    "callback_days_s = [6, 8, 12, 16, 20, 24, 28]\n",
    "best_val_err = float('inf'); best_callback_days = None\n",
    "for callback_days in callback_days_s:\n",
    "    print(f\"callback_days={callback_days}...\", end=\"\\t\")\n",
    "    pipe_line.set_params(pipeline__coladderdropper__callback_days=callback_days)\n",
    "\n",
    "    pipe_line.fit(train_X_df, train_y_sr)\n",
    "        \n",
    "    train_err = (1 - r2_score(train_y_sr, pipe_line.predict(train_X_df))) * 100\n",
    "    val_err = (1 - r2_score(val_y_sr, pipe_line.predict(val_X_df))) * 100\n",
    "        \n",
    "    train_errs.append(train_err)\n",
    "    val_errs.append(val_err)\n",
    "        \n",
    "    if val_err < best_val_err:\n",
    "        best_val_err = val_err \n",
    "        best_callback_days = callback_days        \n",
    "\n",
    "    print(f\"train_err: {train_err}\\t val_err: {val_err}\")              \n",
    "'Finish!'"
   ]
  },
  {
   "cell_type": "code",
   "execution_count": 34,
   "metadata": {
    "colab": {
     "base_uri": "https://localhost:8080/"
    },
    "id": "hmwaQ0Rsgso3",
    "outputId": "a1691089-7ce2-4325-a05f-0f9bb7d8d334"
   },
   "outputs": [
    {
     "name": "stdout",
     "output_type": "stream",
     "text": [
      "6\n"
     ]
    }
   ],
   "source": [
    "print(best_callback_days)"
   ]
  },
  {
   "cell_type": "code",
   "execution_count": 35,
   "metadata": {
    "colab": {
     "base_uri": "https://localhost:8080/",
     "height": 407
    },
    "id": "i4EvJxKsc3RH",
    "outputId": "924f7b0c-3d14-45a6-af4e-dde53232a541"
   },
   "outputs": [
    {
     "data": {
      "text/plain": [
       "<matplotlib.legend.Legend at 0x7faca44b1550>"
      ]
     },
     "execution_count": 35,
     "metadata": {},
     "output_type": "execute_result"
    },
    {
     "data": {
      "image/png": "[encoded data removed]",
      "text/plain": [
       "<Figure size 864x432 with 1 Axes>"
      ]
     },
     "metadata": {
      "needs_background": "light"
     },
     "output_type": "display_data"
    }
   ],
   "source": [
    "x = np.arange(len(callback_days_s))  # the label locations\n",
    "width = 0.2  # the width of the bars\n",
    "\n",
    "\n",
    "fig, ax = plt.subplots()\n",
    "fig.set_size_inches(12, 6, forward=True)\n",
    "rects1 = ax.bar(x - width/2, train_errs, width, label='train errors')\n",
    "rects2 = ax.bar(x + width/2, val_errs, width, label='validation errors')\n",
    "\n",
    "ax.set_ylabel('R2 Errors')\n",
    "ax.set_title('R2 Errors by callback_days')\n",
    "ax.set_xticks(x)\n",
    "ax.set_xticklabels(callback_days_s)\n",
    "ax.legend()"
   ]
  },
  {
   "cell_type": "markdown",
   "metadata": {
    "id": "ajV_uJ6Gxo5C"
   },
   "source": [
    "Ta thấy độ lỗi trên tập train cũng xấp xỉ với độ lỗi trên tập validation điều đó chứng tỏ mô hình fit khá tốt trên cả 2 tập dữ liệu. Khi tăng `callback_day` thì độ lỗi trên tập train và tập validtion đều tăng. Ta có callback_day = 6 là siêu tham số tốt nhất."
   ]
  },
  {
   "cell_type": "code",
   "execution_count": 36,
   "metadata": {
    "colab": {
     "base_uri": "https://localhost:8080/",
     "height": 198
    },
    "id": "0IxJeVGAn_7b",
    "outputId": "bc5f7398-aa8f-4aeb-99b7-c48022c54408"
   },
   "outputs": [
    {
     "data": {
      "text/html": [
       "<style>div.sk-top-container {color: black;background-color: white;}div.sk-toggleable {background-color: white;}label.sk-toggleable__label {cursor: pointer;display: block;width: 100%;margin-bottom: 0;padding: 0.2em 0.3em;box-sizing: border-box;text-align: center;}div.sk-toggleable__content {max-height: 0;max-width: 0;overflow: hidden;text-align: left;background-color: #f0f8ff;}div.sk-toggleable__content pre {margin: 0.2em;color: black;border-radius: 0.25em;background-color: #f0f8ff;}input.sk-toggleable__control:checked~div.sk-toggleable__content {max-height: 200px;max-width: 100%;overflow: auto;}div.sk-estimator input.sk-toggleable__control:checked~label.sk-toggleable__label {background-color: #d4ebff;}div.sk-label input.sk-toggleable__control:checked~label.sk-toggleable__label {background-color: #d4ebff;}input.sk-hidden--visually {border: 0;clip: rect(1px 1px 1px 1px);clip: rect(1px, 1px, 1px, 1px);height: 1px;margin: -1px;overflow: hidden;padding: 0;position: absolute;width: 1px;}div.sk-estimator {font-family: monospace;background-color: #f0f8ff;margin: 0.25em 0.25em;border: 1px dotted black;border-radius: 0.25em;box-sizing: border-box;}div.sk-estimator:hover {background-color: #d4ebff;}div.sk-parallel-item::after {content: \"\";width: 100%;border-bottom: 1px solid gray;flex-grow: 1;}div.sk-label:hover label.sk-toggleable__label {background-color: #d4ebff;}div.sk-serial::before {content: \"\";position: absolute;border-left: 1px solid gray;box-sizing: border-box;top: 2em;bottom: 0;left: 50%;}div.sk-serial {display: flex;flex-direction: column;align-items: center;background-color: white;}div.sk-item {z-index: 1;}div.sk-parallel {display: flex;align-items: stretch;justify-content: center;background-color: white;}div.sk-parallel-item {display: flex;flex-direction: column;position: relative;background-color: white;}div.sk-parallel-item:first-child::after {align-self: flex-end;width: 50%;}div.sk-parallel-item:last-child::after {align-self: flex-start;width: 50%;}div.sk-parallel-item:only-child::after {width: 0;}div.sk-dashed-wrapped {border: 1px dashed gray;margin: 0.2em;box-sizing: border-box;padding-bottom: 0.1em;background-color: white;position: relative;}div.sk-label label {font-family: monospace;font-weight: bold;background-color: white;display: inline-block;line-height: 1.2em;}div.sk-label-container {position: relative;z-index: 2;text-align: center;}div.sk-container {display: inline-block;position: relative;}</style><div class=\"sk-top-container\"><div class=\"sk-container\"><div class=\"sk-item sk-dashed-wrapped\"><div class=\"sk-label-container\"><div class=\"sk-label sk-toggleable\"><input class=\"sk-toggleable__control sk-hidden--visually\" id=\"c5b2d366-7a98-4a91-9119-75f07c2c2cc5\" type=\"checkbox\" ><label class=\"sk-toggleable__label\" for=\"c5b2d366-7a98-4a91-9119-75f07c2c2cc5\">Pipeline</label><div class=\"sk-toggleable__content\"><pre>Pipeline(steps=[('pipeline',\n",
       "                 Pipeline(steps=[('coladderdropper',\n",
       "                                  ColAdderDropper(callback_days=6)),\n",
       "                                 ('simpleimputer', SimpleImputer()),\n",
       "                                 ('standardscaler', StandardScaler())])),\n",
       "                ('linearregression', LinearRegression())])</pre></div></div></div><div class=\"sk-serial\"><div class=\"sk-item\"><div class=\"sk-label-container\"><div class=\"sk-label sk-toggleable\"><input class=\"sk-toggleable__control sk-hidden--visually\" id=\"df7bb051-7743-47c9-bb11-6b4f97037f4e\" type=\"checkbox\" ><label class=\"sk-toggleable__label\" for=\"df7bb051-7743-47c9-bb11-6b4f97037f4e\">pipeline: Pipeline</label><div class=\"sk-toggleable__content\"><pre>Pipeline(steps=[('coladderdropper', ColAdderDropper(callback_days=6)),\n",
       "                ('simpleimputer', SimpleImputer()),\n",
       "                ('standardscaler', StandardScaler())])</pre></div></div></div><div class=\"sk-serial\"><div class=\"sk-item\"><div class=\"sk-estimator sk-toggleable\"><input class=\"sk-toggleable__control sk-hidden--visually\" id=\"4be0e2cd-756d-4011-847e-0e8f7a5f6b60\" type=\"checkbox\" ><label class=\"sk-toggleable__label\" for=\"4be0e2cd-756d-4011-847e-0e8f7a5f6b60\">ColAdderDropper</label><div class=\"sk-toggleable__content\"><pre>ColAdderDropper(callback_days=6)</pre></div></div></div><div class=\"sk-item\"><div class=\"sk-estimator sk-toggleable\"><input class=\"sk-toggleable__control sk-hidden--visually\" id=\"a30b9a5f-fdf7-4f6f-a2b7-37e47bda217b\" type=\"checkbox\" ><label class=\"sk-toggleable__label\" for=\"a30b9a5f-fdf7-4f6f-a2b7-37e47bda217b\">SimpleImputer</label><div class=\"sk-toggleable__content\"><pre>SimpleImputer()</pre></div></div></div><div class=\"sk-item\"><div class=\"sk-estimator sk-toggleable\"><input class=\"sk-toggleable__control sk-hidden--visually\" id=\"8aa37be3-d54b-4d51-8fdf-8bc8e200001f\" type=\"checkbox\" ><label class=\"sk-toggleable__label\" for=\"8aa37be3-d54b-4d51-8fdf-8bc8e200001f\">StandardScaler</label><div class=\"sk-toggleable__content\"><pre>StandardScaler()</pre></div></div></div></div></div><div class=\"sk-item\"><div class=\"sk-estimator sk-toggleable\"><input class=\"sk-toggleable__control sk-hidden--visually\" id=\"b37c5cd4-2c5c-4d98-a0ae-6295da9d10fe\" type=\"checkbox\" ><label class=\"sk-toggleable__label\" for=\"b37c5cd4-2c5c-4d98-a0ae-6295da9d10fe\">LinearRegression</label><div class=\"sk-toggleable__content\"><pre>LinearRegression()</pre></div></div></div></div></div></div></div>"
      ],
      "text/plain": [
       "Pipeline(steps=[('pipeline',\n",
       "                 Pipeline(steps=[('coladderdropper',\n",
       "                                  ColAdderDropper(callback_days=6)),\n",
       "                                 ('simpleimputer', SimpleImputer()),\n",
       "                                 ('standardscaler', StandardScaler())])),\n",
       "                ('linearregression', LinearRegression())])"
      ]
     },
     "execution_count": 36,
     "metadata": {},
     "output_type": "execute_result"
    }
   ],
   "source": [
    "pipe_line.set_params(pipeline__coladderdropper__callback_days=best_callback_days)\n",
    " \n",
    "pipe_line.fit(pd.concat([train_X_df, val_X_df]), pd.concat([train_y_sr, val_y_sr]))"
   ]
  },
  {
   "cell_type": "markdown",
   "metadata": {
    "id": "hhp9s70M1Kg3"
   },
   "source": [
    "Đánh giá độ lỗi trên bộ test"
   ]
  },
  {
   "cell_type": "code",
   "execution_count": 37,
   "metadata": {
    "colab": {
     "base_uri": "https://localhost:8080/"
    },
    "id": "ul8H9EFPtgxS",
    "outputId": "b094dc41-34ef-4023-9a18-3b0c62d3f455"
   },
   "outputs": [
    {
     "data": {
      "text/plain": [
       "18.110692536607466"
      ]
     },
     "execution_count": 37,
     "metadata": {},
     "output_type": "execute_result"
    }
   ],
   "source": [
    "(1 - r2_score(test_y_sr, pipe_line.predict(test_X_df))) * 100"
   ]
  },
  {
   "cell_type": "markdown",
   "metadata": {
    "id": "nYUKxgB9xQiP"
   },
   "source": [
    "#### Thử nhiệm 2: Mô hình MLP"
   ]
  },
  {
   "cell_type": "code",
   "execution_count": 38,
   "metadata": {
    "id": "eP6Q1kjAxXTA"
   },
   "outputs": [],
   "source": [
    "pipe_line1 = make_pipeline(preprocess_pipeline,\n",
    "            MLPRegressor(hidden_layer_sizes=(15,), activation='relu', solver='adam', max_iter=6000, random_state=0))"
   ]
  },
  {
   "cell_type": "markdown",
   "metadata": {
    "id": "92sasejRrhDs"
   },
   "source": [
    "\n",
    "+ Chọn dùng `activation=relu` do đây là hàm được sử dụng phổ biến. Đối với các giá trị đầu vào âm (không phải input) thì kết quả là 0, điều đó có nghĩa là neuron không được kích hoạt. Vì chỉ một neuron nhất định được kích hoạt nên hàm ReLU hiệu quả hơn nhiều về mặt tính toán khi so sánh với hàm logistic và tanh.\n",
    "+ Chọn `solver=adam` vì theo sklean mô tả thì adam hoạt động khá tốt trên các tập dữ liệu tương đối lớn (với hàng nghìn mẫu đào tạo trở lên) cả về thời gian đào tạo và validation score."
   ]
  },
  {
   "cell_type": "code",
   "execution_count": 39,
   "metadata": {
    "colab": {
     "base_uri": "https://localhost:8080/",
     "height": 659
    },
    "id": "77T-qj7JJYmo",
    "outputId": "53f8ecae-9487-4bba-cdce-a59ecb5d7e04"
   },
   "outputs": [
    {
     "name": "stdout",
     "output_type": "stream",
     "text": [
      "Processing alpha=0.1\tcallback_days=6...\ttrain_err: 15.966204868911337\t val_err: 16.287283885157567\n",
      "Processing alpha=0.1\tcallback_days=8...\ttrain_err: 15.10471857392699\t val_err: 16.70104908860175\n",
      "Processing alpha=0.1\tcallback_days=12...\ttrain_err: 15.840017080930945\t val_err: 16.453107827907033\n",
      "Processing alpha=0.1\tcallback_days=16...\ttrain_err: 17.077670569738757\t val_err: 17.019797574509553\n",
      "Processing alpha=0.1\tcallback_days=20...\ttrain_err: 18.97494849765988\t val_err: 19.292534112553138\n",
      "Processing alpha=0.1\tcallback_days=24...\ttrain_err: 20.925796757565895\t val_err: 21.538592018041847\n",
      "Processing alpha=0.1\tcallback_days=28...\ttrain_err: 22.86085197276244\t val_err: 23.764714678289177\n",
      "Processing alpha=10\tcallback_days=6...\ttrain_err: 15.965546611024584\t val_err: 16.289153328806847\n",
      "Processing alpha=10\tcallback_days=8...\ttrain_err: 15.104995916852282\t val_err: 16.70103998626772\n",
      "Processing alpha=10\tcallback_days=12...\ttrain_err: 15.84009513108844\t val_err: 16.454794357149517\n",
      "Processing alpha=10\tcallback_days=16...\ttrain_err: 17.078147877568007\t val_err: 17.02126595532889\n",
      "Processing alpha=10\tcallback_days=20...\ttrain_err: 18.975862952252964\t val_err: 19.293615849789102\n",
      "Processing alpha=10\tcallback_days=24...\ttrain_err: 20.943393660180632\t val_err: 21.559485282786074\n",
      "Processing alpha=10\tcallback_days=28...\ttrain_err: 22.86195266034461\t val_err: 23.76875540854202\n",
      "Processing alpha=1000\tcallback_days=6...\ttrain_err: 15.943639568949076\t val_err: 16.321317135009906\n",
      "Processing alpha=1000\tcallback_days=8...\ttrain_err: 15.03825534211617\t val_err: 16.657279200931384\n",
      "Processing alpha=1000\tcallback_days=12...\ttrain_err: 15.888776876424714\t val_err: 16.63247908664993\n",
      "Processing alpha=1000\tcallback_days=16...\ttrain_err: 17.214107434589742\t val_err: 17.232933948562167\n",
      "Processing alpha=1000\tcallback_days=20...\ttrain_err: 19.210248976505685\t val_err: 19.638221811488087\n",
      "Processing alpha=1000\tcallback_days=24...\ttrain_err: 21.141974179322\t val_err: 21.833631050429226\n",
      "Processing alpha=1000\tcallback_days=28...\ttrain_err: 23.206701757167814\t val_err: 24.137253929198888\n",
      "Processing alpha=10000\tcallback_days=6...\ttrain_err: 16.31789456781927\t val_err: 17.026220528582225\n",
      "Processing alpha=10000\tcallback_days=8...\ttrain_err: 15.410798199599585\t val_err: 17.184848145708433\n",
      "Processing alpha=10000\tcallback_days=12...\ttrain_err: 16.63892455346262\t val_err: 17.761620591717687\n",
      "Processing alpha=10000\tcallback_days=16...\ttrain_err: 18.233467215088872\t val_err: 18.68332007850617\n",
      "Processing alpha=10000\tcallback_days=20...\ttrain_err: 20.35974428136512\t val_err: 21.2824865603096\n",
      "Processing alpha=10000\tcallback_days=24...\ttrain_err: 22.578327971264045\t val_err: 23.722817078231053\n",
      "Processing alpha=10000\tcallback_days=28...\ttrain_err: 24.987473280730697\t val_err: 26.286909206582266\n",
      "Processing alpha=100000\tcallback_days=6...\ttrain_err: 28.32956512735574\t val_err: 30.555003007522984\n",
      "Processing alpha=100000\tcallback_days=8...\ttrain_err: 27.95055298814666\t val_err: 30.272072605720023\n",
      "Processing alpha=100000\tcallback_days=12...\ttrain_err: 29.285651665298552\t val_err: 31.98807661892267\n",
      "Processing alpha=100000\tcallback_days=16...\ttrain_err: 30.818362920698593\t val_err: 33.29965158951096\n",
      "Processing alpha=100000\tcallback_days=20...\ttrain_err: 32.574678525197655\t val_err: 35.12848795288481\n",
      "Processing alpha=100000\tcallback_days=24...\ttrain_err: 34.372783722946146\t val_err: 36.95728137174118\n",
      "Processing alpha=100000\tcallback_days=28...\ttrain_err: 36.24730743611043\t val_err: 38.882719353749074\n"
     ]
    },
    {
     "data": {
      "text/plain": [
       "'Finish!'"
      ]
     },
     "execution_count": 39,
     "metadata": {},
     "output_type": "execute_result"
    }
   ],
   "source": [
    "# Thử nghiệm với các giá trị khác nhau của các siêu tham số\n",
    "# và chọn ra các giá trị tốt nhất\n",
    "train_errs1 = []\n",
    "val_errs1 = []\n",
    "alphas = [0.1, 10, 1000, 10000, 100000]\n",
    "callback_days_s = [6, 8, 12, 16, 20, 24, 28]\n",
    "best_val_err1 = float('inf'); best_alpha = None; best_callback_days1 = None\n",
    "for alpha in alphas:\n",
    "    for callback_days in callback_days_s:\n",
    "        \n",
    "        print(f\"Processing alpha={alpha}\\tcallback_days={callback_days}...\", end=\"\\t\")\n",
    "        pipe_line1.set_params(pipeline__coladderdropper__callback_days=callback_days, mlpregressor__alpha=alpha)\n",
    "\n",
    "        pipe_line1.fit(train_X_df, train_y_sr)\n",
    "        \n",
    "        train_err = (1 - r2_score(train_y_sr, pipe_line1.predict(train_X_df))) * 100\n",
    "        val_err = (1 - r2_score(val_y_sr, pipe_line1.predict(val_X_df))) * 100\n",
    "        \n",
    "        train_errs1.append(train_err)\n",
    "        val_errs1.append(val_err)\n",
    "        \n",
    "        if val_err < best_val_err1:\n",
    "            best_val_err1 = val_err \n",
    "            best_alpha = alpha\n",
    "            best_callback_days1 = callback_days        \n",
    "\n",
    "        print(f\"train_err: {train_err}\\t val_err: {val_err}\")  \n",
    "'Finish!'"
   ]
  },
  {
   "cell_type": "code",
   "execution_count": 40,
   "metadata": {
    "colab": {
     "base_uri": "https://localhost:8080/"
    },
    "id": "kXq44NdpqoDT",
    "outputId": "c7ebfdfc-89d4-4807-9cec-77f8ec1a21e6"
   },
   "outputs": [
    {
     "name": "stdout",
     "output_type": "stream",
     "text": [
      "0.1\n",
      "6\n"
     ]
    }
   ],
   "source": [
    "print(best_alpha) \n",
    "print(best_callback_days1)"
   ]
  },
  {
   "cell_type": "code",
   "execution_count": 41,
   "metadata": {
    "colab": {
     "base_uri": "https://localhost:8080/",
     "height": 260
    },
    "id": "s26F18FWOhrb",
    "outputId": "5b411ffc-5f9b-454f-cbdf-0f254e9a4fcb"
   },
   "outputs": [
    {
     "data": {
      "image/png": "[encoded data removed]",
      "text/plain": [
       "<Figure size 720x360 with 2 Axes>"
      ]
     },
     "metadata": {
      "needs_background": "light"
     },
     "output_type": "display_data"
    }
   ],
   "source": [
    "# Trực quan hóa kết quả\n",
    "train_errs_df = pd.DataFrame(data=np.array(train_errs1).reshape(len(alphas), -1),\n",
    "                             index=alphas, columns=callback_days_s)\n",
    "val_errs_df = pd.DataFrame(data=np.array(val_errs1).reshape(len(alphas), -1), \n",
    "                           index=alphas, columns=callback_days_s)\n",
    "min_err = min(min(train_errs1), min(val_errs1))\n",
    "max_err = max(max(train_errs1), max(val_errs1))\n",
    "plt.figure(figsize=(10, 5))\n",
    "plt.subplot(1, 2, 1)\n",
    "sns.heatmap(train_errs_df, vmin=min_err, vmax=max_err, square=True, annot=True, \n",
    "            cbar=False, fmt='.1f', cmap='Reds')\n",
    "plt.title('train errors'); plt.xlabel('callback_days'); plt.ylabel('alpha')\n",
    "plt.subplot(1, 2, 2)\n",
    "sns.heatmap(val_errs_df, vmin=min_err, vmax=max_err, square=True, annot=True, \n",
    "            cbar=False, fmt='.1f', cmap='Reds')\n",
    "plt.title('validation errors'); plt.xlabel('callback_days'); plt.ylabel('alpha');"
   ]
  },
  {
   "cell_type": "markdown",
   "metadata": {
    "id": "q5JtmS3VqcWf"
   },
   "source": [
    "Nhận xét:\n",
    "+ Ta thấy độ lỗi trên tập train cũng xấp xỉ với độ lỗi trên tập validation điều đó chứng tỏ mô hình fit khá tốt trên cả 2 tập dữ liệu.\n",
    "+ Khi alpha tăng dần, tức sự ảnh hưởng của regularization tăng lên thì độ lỗi trên tập train cũng tăng theo do mô hình bị kìm hãm việc học khi có alpha lớn. Khi alpha = 0,1 thì độ lỗi trên tập validation là thấp nhất.\n",
    "+ Khi callback_days tăng dần thì độ lỗi trên cả tập train và tập validation đều tăng. Khi callback_days có giá trị 6 thì độ lỗi tập validation là thấp nhất."
   ]
  },
  {
   "cell_type": "code",
   "execution_count": 42,
   "metadata": {
    "colab": {
     "base_uri": "https://localhost:8080/",
     "height": 198
    },
    "id": "gJRtYf_gO2yV",
    "outputId": "2c6d31c7-356a-4acd-df60-e02e9c978864"
   },
   "outputs": [
    {
     "data": {
      "text/html": [
       "<style>div.sk-top-container {color: black;background-color: white;}div.sk-toggleable {background-color: white;}label.sk-toggleable__label {cursor: pointer;display: block;width: 100%;margin-bottom: 0;padding: 0.2em 0.3em;box-sizing: border-box;text-align: center;}div.sk-toggleable__content {max-height: 0;max-width: 0;overflow: hidden;text-align: left;background-color: #f0f8ff;}div.sk-toggleable__content pre {margin: 0.2em;color: black;border-radius: 0.25em;background-color: #f0f8ff;}input.sk-toggleable__control:checked~div.sk-toggleable__content {max-height: 200px;max-width: 100%;overflow: auto;}div.sk-estimator input.sk-toggleable__control:checked~label.sk-toggleable__label {background-color: #d4ebff;}div.sk-label input.sk-toggleable__control:checked~label.sk-toggleable__label {background-color: #d4ebff;}input.sk-hidden--visually {border: 0;clip: rect(1px 1px 1px 1px);clip: rect(1px, 1px, 1px, 1px);height: 1px;margin: -1px;overflow: hidden;padding: 0;position: absolute;width: 1px;}div.sk-estimator {font-family: monospace;background-color: #f0f8ff;margin: 0.25em 0.25em;border: 1px dotted black;border-radius: 0.25em;box-sizing: border-box;}div.sk-estimator:hover {background-color: #d4ebff;}div.sk-parallel-item::after {content: \"\";width: 100%;border-bottom: 1px solid gray;flex-grow: 1;}div.sk-label:hover label.sk-toggleable__label {background-color: #d4ebff;}div.sk-serial::before {content: \"\";position: absolute;border-left: 1px solid gray;box-sizing: border-box;top: 2em;bottom: 0;left: 50%;}div.sk-serial {display: flex;flex-direction: column;align-items: center;background-color: white;}div.sk-item {z-index: 1;}div.sk-parallel {display: flex;align-items: stretch;justify-content: center;background-color: white;}div.sk-parallel-item {display: flex;flex-direction: column;position: relative;background-color: white;}div.sk-parallel-item:first-child::after {align-self: flex-end;width: 50%;}div.sk-parallel-item:last-child::after {align-self: flex-start;width: 50%;}div.sk-parallel-item:only-child::after {width: 0;}div.sk-dashed-wrapped {border: 1px dashed gray;margin: 0.2em;box-sizing: border-box;padding-bottom: 0.1em;background-color: white;position: relative;}div.sk-label label {font-family: monospace;font-weight: bold;background-color: white;display: inline-block;line-height: 1.2em;}div.sk-label-container {position: relative;z-index: 2;text-align: center;}div.sk-container {display: inline-block;position: relative;}</style><div class=\"sk-top-container\"><div class=\"sk-container\"><div class=\"sk-item sk-dashed-wrapped\"><div class=\"sk-label-container\"><div class=\"sk-label sk-toggleable\"><input class=\"sk-toggleable__control sk-hidden--visually\" id=\"289da53e-43ce-44f0-b9f2-05dbfcfd1316\" type=\"checkbox\" ><label class=\"sk-toggleable__label\" for=\"289da53e-43ce-44f0-b9f2-05dbfcfd1316\">Pipeline</label><div class=\"sk-toggleable__content\"><pre>Pipeline(steps=[('pipeline',\n",
       "                 Pipeline(steps=[('coladderdropper',\n",
       "                                  ColAdderDropper(callback_days=6)),\n",
       "                                 ('simpleimputer', SimpleImputer()),\n",
       "                                 ('standardscaler', StandardScaler())])),\n",
       "                ('mlpregressor',\n",
       "                 MLPRegressor(alpha=0.1, hidden_layer_sizes=(15,),\n",
       "                              max_iter=6000, random_state=0))])</pre></div></div></div><div class=\"sk-serial\"><div class=\"sk-item\"><div class=\"sk-label-container\"><div class=\"sk-label sk-toggleable\"><input class=\"sk-toggleable__control sk-hidden--visually\" id=\"c53d74f8-3a1b-429a-82c3-ad278fd136a7\" type=\"checkbox\" ><label class=\"sk-toggleable__label\" for=\"c53d74f8-3a1b-429a-82c3-ad278fd136a7\">pipeline: Pipeline</label><div class=\"sk-toggleable__content\"><pre>Pipeline(steps=[('coladderdropper', ColAdderDropper(callback_days=6)),\n",
       "                ('simpleimputer', SimpleImputer()),\n",
       "                ('standardscaler', StandardScaler())])</pre></div></div></div><div class=\"sk-serial\"><div class=\"sk-item\"><div class=\"sk-estimator sk-toggleable\"><input class=\"sk-toggleable__control sk-hidden--visually\" id=\"6bdd451c-4c4f-4d6f-8c19-0976b4bfca57\" type=\"checkbox\" ><label class=\"sk-toggleable__label\" for=\"6bdd451c-4c4f-4d6f-8c19-0976b4bfca57\">ColAdderDropper</label><div class=\"sk-toggleable__content\"><pre>ColAdderDropper(callback_days=6)</pre></div></div></div><div class=\"sk-item\"><div class=\"sk-estimator sk-toggleable\"><input class=\"sk-toggleable__control sk-hidden--visually\" id=\"ab516374-85ca-47ef-a232-f6addb78542b\" type=\"checkbox\" ><label class=\"sk-toggleable__label\" for=\"ab516374-85ca-47ef-a232-f6addb78542b\">SimpleImputer</label><div class=\"sk-toggleable__content\"><pre>SimpleImputer()</pre></div></div></div><div class=\"sk-item\"><div class=\"sk-estimator sk-toggleable\"><input class=\"sk-toggleable__control sk-hidden--visually\" id=\"3f4efb8b-c43c-457a-a1b3-5c09d366185b\" type=\"checkbox\" ><label class=\"sk-toggleable__label\" for=\"3f4efb8b-c43c-457a-a1b3-5c09d366185b\">StandardScaler</label><div class=\"sk-toggleable__content\"><pre>StandardScaler()</pre></div></div></div></div></div><div class=\"sk-item\"><div class=\"sk-estimator sk-toggleable\"><input class=\"sk-toggleable__control sk-hidden--visually\" id=\"2c37f0d5-5104-4211-be45-3979979db959\" type=\"checkbox\" ><label class=\"sk-toggleable__label\" for=\"2c37f0d5-5104-4211-be45-3979979db959\">MLPRegressor</label><div class=\"sk-toggleable__content\"><pre>MLPRegressor(alpha=0.1, hidden_layer_sizes=(15,), max_iter=6000, random_state=0)</pre></div></div></div></div></div></div></div>"
      ],
      "text/plain": [
       "Pipeline(steps=[('pipeline',\n",
       "                 Pipeline(steps=[('coladderdropper',\n",
       "                                  ColAdderDropper(callback_days=6)),\n",
       "                                 ('simpleimputer', SimpleImputer()),\n",
       "                                 ('standardscaler', StandardScaler())])),\n",
       "                ('mlpregressor',\n",
       "                 MLPRegressor(alpha=0.1, hidden_layer_sizes=(15,),\n",
       "                              max_iter=6000, random_state=0))])"
      ]
     },
     "execution_count": 42,
     "metadata": {},
     "output_type": "execute_result"
    }
   ],
   "source": [
    "pipe_line1.set_params(pipeline__coladderdropper__callback_days=best_callback_days1, mlpregressor__alpha=best_alpha)\n",
    "#pipe_line1.set_params(pipeline__coladderdropper__callback_days=10, mlpregressor__alpha=4)\n",
    " \n",
    "pipe_line1.fit(pd.concat([train_X_df, val_X_df]), pd.concat([train_y_sr, val_y_sr]))"
   ]
  },
  {
   "cell_type": "markdown",
   "metadata": {
    "id": "6A7GxQwL2uCe"
   },
   "source": [
    "Đánh giá độ lỗi trên bộ test"
   ]
  },
  {
   "cell_type": "code",
   "execution_count": 43,
   "metadata": {
    "colab": {
     "base_uri": "https://localhost:8080/"
    },
    "id": "yxeGQs8K1PV9",
    "outputId": "8d5d5880-eacb-4c57-d214-a638366be245"
   },
   "outputs": [
    {
     "data": {
      "text/plain": [
       "18.05205510242591"
      ]
     },
     "execution_count": 43,
     "metadata": {},
     "output_type": "execute_result"
    }
   ],
   "source": [
    "(1 - r2_score(test_y_sr, pipe_line1.predict(test_X_df))) * 100"
   ]
  },
  {
   "cell_type": "markdown",
   "metadata": {
    "id": "FoPZ0ekm9dWJ"
   },
   "source": [
    "### Đánh giá mô hình tìm được"
   ]
  },
  {
   "cell_type": "markdown",
   "metadata": {
    "id": "0ubkRtg62_sW"
   },
   "source": [
    "Dự vào kết quả độ lỗi trên tập validation và tập test  ta thấy rằng mô hình MLP regression hoạt động tốt hơn mô hình Linear regression với các siêu tham số như sau: \n",
    "\n",
    "hidden_layer_sizes=(15,), activation='relu', solver='adam', max_iter=3000\n",
    "\n",
    "Mô hình chỉ ra sử dụng callback_days = 6 là tốt nhất"
   ]
  },
  {
   "cell_type": "markdown",
   "metadata": {
    "id": "CTnCvGswSabQ"
   },
   "source": [
    "## Quan sát kết quả và dự đoán tương lai (bonus) "
   ]
  },
  {
   "cell_type": "markdown",
   "metadata": {
    "id": "_csdpMv3WnWc"
   },
   "source": [
    "Vẽ biểu đồ thể hiện độ chính xác của kết quả dự đoán trên bộ test (màu cam) và kết quả đúng của bộ test (màu xanh)."
   ]
  },
  {
   "cell_type": "code",
   "execution_count": 44,
   "metadata": {
    "colab": {
     "base_uri": "https://localhost:8080/",
     "height": 279
    },
    "id": "tiyJvvBL_LdM",
    "outputId": "4aa1178e-78ab-4665-c969-5073cbd13b1f"
   },
   "outputs": [
    {
     "data": {
      "image/png": "[encoded data removed]",
      "text/plain": [
       "<Figure size 432x288 with 1 Axes>"
      ]
     },
     "metadata": {
      "needs_background": "light"
     },
     "output_type": "display_data"
    }
   ],
   "source": [
    "plt.plot(test_y_sr.reset_index(drop=True))\n",
    "plt.plot(pipe_line1.predict(test_X_df))\n",
    "plt.legend(['y_test', 'y_test_pred'])\n",
    "plt.ylabel('New cases')\n",
    "plt.xlabel('iters');"
   ]
  },
  {
   "cell_type": "markdown",
   "metadata": {
    "id": "828rx0imcfzG"
   },
   "source": [
    "Nhận xét: Biều đồ trên chỉ ra mô hình đã cố gắng làm giảm sự biến thiên của kết quả bộ test (các đường màu cam có độ lớn chênh lệch ít hơn màu xanh)."
   ]
  },
  {
   "cell_type": "markdown",
   "metadata": {
    "id": "qrSwXrUXXX7W"
   },
   "source": [
    "---\n",
    "### Vẽ biểu đồ kết quả dự đoán của mô hình trên toàn USA."
   ]
  },
  {
   "cell_type": "markdown",
   "metadata": {
    "id": "RpL5C6I2-ZkN"
   },
   "source": [
    "Tạo bộ dữ liệu của USA cho việc test model"
   ]
  },
  {
   "cell_type": "code",
   "execution_count": 45,
   "metadata": {
    "id": "y6bIL6l4JeCG"
   },
   "outputs": [],
   "source": [
    "usa_collected_df = add_row_df(data_df.groupby('submission_date').sum())"
   ]
  },
  {
   "cell_type": "code",
   "execution_count": 46,
   "metadata": {
    "colab": {
     "base_uri": "https://localhost:8080/"
    },
    "id": "Zq0TYyZiL3eD",
    "outputId": "566329e4-fbea-47a2-8c74-f6cc15226213"
   },
   "outputs": [
    {
     "data": {
      "text/plain": [
       "(346, 38)"
      ]
     },
     "execution_count": 46,
     "metadata": {},
     "output_type": "execute_result"
    }
   ],
   "source": [
    "usa_collected_df.shape"
   ]
  },
  {
   "cell_type": "markdown",
   "metadata": {
    "id": "tTnt3uU7pgfe"
   },
   "source": [
    "Bộ dữ liệu có 349 dòng tương đương với 349 ngày"
   ]
  },
  {
   "cell_type": "markdown",
   "metadata": {
    "id": "r_twMD3UpsmA"
   },
   "source": [
    "Tiến hành tách tập dữ liệu Mỹ"
   ]
  },
  {
   "cell_type": "code",
   "execution_count": 47,
   "metadata": {
    "id": "r1fenCy5NQCv"
   },
   "outputs": [],
   "source": [
    "usa_X_df = usa_collected_df.drop('new_case', axis=1)\n",
    "usa_y_sr = usa_collected_df['new_case']"
   ]
  },
  {
   "cell_type": "markdown",
   "metadata": {
    "id": "lmnQexKF1XUA"
   },
   "source": [
    "Đánh giá độ lỗi trên bộ dữ liệu của cả nước Mỹ"
   ]
  },
  {
   "cell_type": "code",
   "execution_count": 48,
   "metadata": {
    "colab": {
     "base_uri": "https://localhost:8080/"
    },
    "id": "K1020CJ62Vfo",
    "outputId": "af350e82-8aae-41cb-95b9-08de7dea59f4"
   },
   "outputs": [
    {
     "data": {
      "text/plain": [
       "5.124198650583988"
      ]
     },
     "execution_count": 48,
     "metadata": {},
     "output_type": "execute_result"
    }
   ],
   "source": [
    "(1 - r2_score(usa_y_sr, pipe_line1.predict(usa_X_df))) * 100"
   ]
  },
  {
   "cell_type": "markdown",
   "metadata": {
    "id": "82fRZc3jlshF"
   },
   "source": [
    "Vẽ biểu đồ thể hiện độ chính xác của kết quả dự đoán trên bộ test (màu cam) và kết quả đúng của bộ test (màu xanh)."
   ]
  },
  {
   "cell_type": "code",
   "execution_count": 49,
   "metadata": {
    "colab": {
     "base_uri": "https://localhost:8080/",
     "height": 279
    },
    "id": "eo0YenyT_iJW",
    "outputId": "4473869c-7491-430b-f15f-106e099588a2"
   },
   "outputs": [
    {
     "data": {
      "image/png": "[encoded data removed]",
      "text/plain": [
       "<Figure size 432x288 with 1 Axes>"
      ]
     },
     "metadata": {
      "needs_background": "light"
     },
     "output_type": "display_data"
    }
   ],
   "source": [
    "plt.plot(usa_y_sr.reset_index(drop=True))\n",
    "plt.plot(pipe_line1.predict(usa_X_df))\n",
    "plt.legend(['usa_test', 'usa_test_pred'])\n",
    "plt.ylabel('New cases')\n",
    "plt.xlabel('Days');"
   ]
  },
  {
   "cell_type": "markdown",
   "metadata": {
    "id": "MXVDBCvYkeMb"
   },
   "source": [
    "Nhận xét: Biểu đồ này ghi nhận số ca mắc của khu vực cả nước Mỹ biến thiên theo thời gian. model dự đoán khá chính xác từ ngày đầu tiên đến những ngày có trong tập train và tập validation. Còn những ngày trong tập test thì model chưa fit tốt (có thể nhìn thấy đoạn cuối của đồ thị)."
   ]
  },
  {
   "cell_type": "markdown",
   "metadata": {
    "id": "wUG5PGwal90F"
   },
   "source": [
    "### Dự đoán tương lai"
   ]
  },
  {
   "cell_type": "code",
   "execution_count": 50,
   "metadata": {
    "id": "T5nJfsWudhTO"
   },
   "outputs": [],
   "source": [
    "def GeneratorData(df): \n",
    "  temp= df.copy()\n",
    "  index = df.index[0]\n",
    "  for i in range(df.shape[1] - 1, 10,-1):\n",
    "      df.iat[0, i] = df.iloc[0, i-1]\n",
    "      \n",
    "  df.at[index, 'new_case_his_1'] = df.loc[index,'new_case']\n",
    "  df.at[index, 'tot_cases'] += df.loc[index,'new_case']\n",
    "  \n",
    "  # tot_death mac ke no NaN di\n",
    "  df.at[index, 'tot_death'] += 0 if math.isnan(df.loc[index, 'new_death']) else df.loc[index, 'new_death']\n",
    "  \n",
    "  #df.at[index, 'conf_cases'] = df.at[index, 'prob_cases'] = df.at[index, 'new_death'] = np.NaN\n",
    "  return df"
   ]
  },
  {
   "cell_type": "code",
   "execution_count": 51,
   "metadata": {
    "id": "a26bxW3u9AJl"
   },
   "outputs": [],
   "source": [
    "date_df = GeneratorData(usa_collected_df.tail(1).copy())\n",
    "y_pred = np.array([])\n",
    "for i in range(20):\n",
    "    y_pred = np.append(y_pred, pipe_line1.predict(date_df.drop('new_case',axis=1)))\n",
    "    date_df.at[date_df.index[0], 'new_case'] = y_pred[-1]\n",
    "    date_df = GeneratorData(date_df)"
   ]
  },
  {
   "cell_type": "code",
   "execution_count": 52,
   "metadata": {
    "colab": {
     "base_uri": "https://localhost:8080/",
     "height": 279
    },
    "id": "kR1ei14IGzkO",
    "outputId": "a6c9809e-7066-4649-e24e-b20b5c04cfc8"
   },
   "outputs": [
    {
     "data": {
      "image/png": "[encoded data removed]",
      "text/plain": [
       "<Figure size 432x288 with 1 Axes>"
      ]
     },
     "metadata": {
      "needs_background": "light"
     },
     "output_type": "display_data"
    }
   ],
   "source": [
    "plt.plot(usa_y_sr.reset_index(drop=True))\n",
    "plt.plot(np.concatenate([pipe_line1.predict(usa_X_df),y_pred]))\n",
    "plt.legend(['usa_test', 'usa_test_pred'])\n",
    "plt.ylabel('New cases')\n",
    "plt.xlabel('Days');"
   ]
  },
  {
   "cell_type": "code",
   "execution_count": null,
   "metadata": {
    "id": "oOPrDpXWo2bn"
   },
   "outputs": [],
   "source": []
  }
 ],
 "metadata": {
  "colab": {
   "collapsed_sections": [],
   "name": "ProjectFinal.ipynb",
   "provenance": [],
   "toc_visible": true
  },
  "kernelspec": {
   "display_name": "Python 3",
   "language": "python",
   "name": "python3"
  },
  "language_info": {
   "codemirror_mode": {
    "name": "ipython",
    "version": 3
   },
   "file_extension": ".py",
   "mimetype": "text/x-python",
   "name": "python",
   "nbconvert_exporter": "python",
   "pygments_lexer": "ipython3",
   "version": "3.8.3"
  },
  "toc": {
   "base_numbering": 1,
   "nav_menu": {},
   "number_sections": true,
   "sideBar": true,
   "skip_h1_title": false,
   "title_cell": "Table of Contents",
   "title_sidebar": "Contents",
   "toc_cell": false,
   "toc_position": {},
   "toc_section_display": true,
   "toc_window_display": false
  }
 },
 "nbformat": 4,
 "nbformat_minor": 1
}
