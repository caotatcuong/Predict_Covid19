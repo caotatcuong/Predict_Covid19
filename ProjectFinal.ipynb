{
 "cells": [
  {
   "cell_type": "markdown",
   "metadata": {
    "id": "nZe79UMqTsHr"
   },
   "source": [
    "# Data Science - Project Final\n",
    "\n",
    "Danh sách thành viên:\n",
    "\n",
    "|MSSV|Họ và Tên\n",
    "|:---|:-\n",
    "|18120296|Cao Tất Cường\n",
    "|18120339|Hà Văn Duy\n",
    "\n"
   ]
  },
  {
   "cell_type": "markdown",
   "metadata": {
    "id": "ceAa59HzV1V0"
   },
   "source": [
    "## Tổng quan"
   ]
  },
  {
   "cell_type": "markdown",
   "metadata": {
    "id": "PnUcD9P6XM5H"
   },
   "source": [
    "**COVID-19**\n",
    "\n",
    "Đây là đại dịch bệnh tryền nhiễm nguy hiểm, phát hiện lần đầu tiên ở Trung Quốc sau đó nhanh chóng lan rộng ra toàn thế giới.  \n",
    "Người mắc phải virus gây bệnh (SARS-CoV-2) thường sẽ có một khoảng thời gian ủ bệnh từ **2 - 14 ngày**, sau đó xuất hiện triệu chứng, một vài trường hợp có thể diễn tiến rất nhanh trở thành ca bệnh nặng, có thể dẫn đến tử vong.\n",
    "\n",
    "Thời điểm hiện tại, vacxin vẫn chưa được phân phối rộng rãi và kiểm định kết quả, đồng thời vẫn chưa có thuốc chữa đặc hiệu. Vì vậy, các bệnh nhân cần được chăm sóc y tế hồi sức để cơ thể tự sản sinh ra đề kháng và khỏi bệnh.  \n",
    "Đây là một dịch bệnh nghiêm trọng, vì vậy việc theo dõi sự tác động của nó với xã hội là điều cực kì cần thiết nhằm đưa ra các chính sách, giải pháp phù hợp để cải thiện tình hình, tiến tới xóa bỏ đại dịch trong tương lai gần.\n",
    "\n"
   ]
  },
  {
   "cell_type": "markdown",
   "metadata": {
    "id": "5Pb534S6anEm"
   },
   "source": [
    "https://vietnamese.cdc.gov/coronavirus/2019-ncov/cases-updates/about-us-cases-deaths.html\n"
   ]
  },
  {
   "cell_type": "markdown",
   "metadata": {
    "id": "yCYR0inN8j9h"
   },
   "source": [
    "## Cài đặt và import các thư viện cần thiết"
   ]
  },
  {
   "cell_type": "code",
   "execution_count": 1,
   "metadata": {
    "id": "AjRkjKXAen5R"
   },
   "outputs": [],
   "source": [
    "# handle output to /dev/null to ignore text outputs xD\n",
    "!pip install sodapy > /dev/null\n",
    "\n",
    "# update sklearn to support set_config attr (see this answer: https://stackoverflow.com/a/62481510)\n",
    "!pip install --upgrade scikit-learn > /dev/null"
   ]
  },
  {
   "cell_type": "code",
   "execution_count": 2,
   "metadata": {
    "id": "iMVk87OoeOcJ"
   },
   "outputs": [],
   "source": [
    "import pandas as pd\n",
    "import numpy as np\n",
    "import matplotlib.pyplot as plt\n",
    "from sklearn.model_selection import train_test_split\n",
    "from sklearn.linear_model import LinearRegression\n",
    "from sklearn.neural_network import MLPRegressor\n",
    "\n",
    "from sklearn.preprocessing import StandardScaler\n",
    "from sklearn.impute import SimpleImputer\n",
    "from sklearn.base import BaseEstimator, TransformerMixin\n",
    "from sklearn.pipeline import Pipeline, make_pipeline\n",
    "from sklearn.compose import ColumnTransformer, make_column_transformer\n",
    "\n",
    "from sklearn import set_config\n",
    "set_config(display='diagram')\n",
    "\n",
    "from sodapy import Socrata\n",
    "\n",
    "import regex as re\n",
    "from sklearn.metrics import r2_score"
   ]
  },
  {
   "cell_type": "markdown",
   "metadata": {
    "id": "tUC8uafS8VxZ"
   },
   "source": [
    "## Thu thập dữ liệu"
   ]
  },
  {
   "cell_type": "code",
   "execution_count": 3,
   "metadata": {
    "colab": {
     "base_uri": "https://localhost:8080/"
    },
    "id": "JEGm9zy18GIK",
    "outputId": "6e7205d3-5ac2-439c-ab00-03de27d099a2"
   },
   "outputs": [
    {
     "name": "stderr",
     "output_type": "stream",
     "text": [
      "WARNING:root:Requests made without an app_token will be subject to strict throttling limits.\n"
     ]
    }
   ],
   "source": [
    "client = Socrata(\"data.cdc.gov\", None)\n",
    " \n",
    "results = client.get(\"9mfq-cb36\", limit=30000)\n",
    " \n",
    "data_df = pd.json_normalize(results)"
   ]
  },
  {
   "cell_type": "markdown",
   "metadata": {
    "id": "gr8RX2JwWCvH"
   },
   "source": [
    "## Khám phá dữ liệu (đủ để có thể xác định câu hỏi)"
   ]
  },
  {
   "cell_type": "code",
   "execution_count": 4,
   "metadata": {
    "colab": {
     "base_uri": "https://localhost:8080/",
     "height": 299
    },
    "id": "0fLtd0wMrIBr",
    "outputId": "4159cc89-68e4-4d12-d0b9-107c354bd35c"
   },
   "outputs": [
    {
     "data": {
      "text/html": [
       "<div>\n",
       "<style scoped>\n",
       "    .dataframe tbody tr th:only-of-type {\n",
       "        vertical-align: middle;\n",
       "    }\n",
       "\n",
       "    .dataframe tbody tr th {\n",
       "        vertical-align: top;\n",
       "    }\n",
       "\n",
       "    .dataframe thead th {\n",
       "        text-align: right;\n",
       "    }\n",
       "</style>\n",
       "<table border=\"1\" class=\"dataframe\">\n",
       "  <thead>\n",
       "    <tr style=\"text-align: right;\">\n",
       "      <th></th>\n",
       "      <th>submission_date</th>\n",
       "      <th>state</th>\n",
       "      <th>tot_cases</th>\n",
       "      <th>conf_cases</th>\n",
       "      <th>prob_cases</th>\n",
       "      <th>new_case</th>\n",
       "      <th>pnew_case</th>\n",
       "      <th>tot_death</th>\n",
       "      <th>conf_death</th>\n",
       "      <th>prob_death</th>\n",
       "      <th>new_death</th>\n",
       "      <th>pnew_death</th>\n",
       "      <th>created_at</th>\n",
       "      <th>consent_cases</th>\n",
       "      <th>consent_deaths</th>\n",
       "    </tr>\n",
       "  </thead>\n",
       "  <tbody>\n",
       "    <tr>\n",
       "      <th>0</th>\n",
       "      <td>2020-05-04T00:00:00.000</td>\n",
       "      <td>KY</td>\n",
       "      <td>5245</td>\n",
       "      <td>5245.0</td>\n",
       "      <td>0</td>\n",
       "      <td>115.0</td>\n",
       "      <td>0</td>\n",
       "      <td>261</td>\n",
       "      <td>261.0</td>\n",
       "      <td>0</td>\n",
       "      <td>8.0</td>\n",
       "      <td>0</td>\n",
       "      <td>2020-05-05T17:25:08.000</td>\n",
       "      <td>Agree</td>\n",
       "      <td>Agree</td>\n",
       "    </tr>\n",
       "    <tr>\n",
       "      <th>1</th>\n",
       "      <td>2020-12-08T00:00:00.000</td>\n",
       "      <td>OK</td>\n",
       "      <td>205999</td>\n",
       "      <td>171497.0</td>\n",
       "      <td>34502</td>\n",
       "      <td>0.0</td>\n",
       "      <td>0</td>\n",
       "      <td>1752</td>\n",
       "      <td>1680.0</td>\n",
       "      <td>72</td>\n",
       "      <td>0.0</td>\n",
       "      <td>0</td>\n",
       "      <td>2020-12-09T14:45:40.234</td>\n",
       "      <td>Agree</td>\n",
       "      <td>Agree</td>\n",
       "    </tr>\n",
       "    <tr>\n",
       "      <th>2</th>\n",
       "      <td>2020-04-30T00:00:00.000</td>\n",
       "      <td>IA</td>\n",
       "      <td>7145</td>\n",
       "      <td>NaN</td>\n",
       "      <td>NaN</td>\n",
       "      <td>302.0</td>\n",
       "      <td>0</td>\n",
       "      <td>162</td>\n",
       "      <td>NaN</td>\n",
       "      <td>NaN</td>\n",
       "      <td>14.0</td>\n",
       "      <td>0</td>\n",
       "      <td>2020-05-01T21:00:19.025</td>\n",
       "      <td>Not agree</td>\n",
       "      <td>Not agree</td>\n",
       "    </tr>\n",
       "    <tr>\n",
       "      <th>3</th>\n",
       "      <td>2020-06-25T00:00:00.000</td>\n",
       "      <td>NE</td>\n",
       "      <td>18346</td>\n",
       "      <td>NaN</td>\n",
       "      <td>NaN</td>\n",
       "      <td>125.0</td>\n",
       "      <td>0</td>\n",
       "      <td>260</td>\n",
       "      <td>NaN</td>\n",
       "      <td>NaN</td>\n",
       "      <td>3.0</td>\n",
       "      <td>0</td>\n",
       "      <td>2020-06-26T19:18:27.809</td>\n",
       "      <td>Not agree</td>\n",
       "      <td>Not agree</td>\n",
       "    </tr>\n",
       "    <tr>\n",
       "      <th>4</th>\n",
       "      <td>2020-02-24T00:00:00.000</td>\n",
       "      <td>CA</td>\n",
       "      <td>10</td>\n",
       "      <td>NaN</td>\n",
       "      <td>NaN</td>\n",
       "      <td>0.0</td>\n",
       "      <td>NaN</td>\n",
       "      <td>0</td>\n",
       "      <td>NaN</td>\n",
       "      <td>NaN</td>\n",
       "      <td>0.0</td>\n",
       "      <td>NaN</td>\n",
       "      <td>2020-03-26T16:22:39.452</td>\n",
       "      <td>Not agree</td>\n",
       "      <td>Not agree</td>\n",
       "    </tr>\n",
       "  </tbody>\n",
       "</table>\n",
       "</div>"
      ],
      "text/plain": [
       "           submission_date state tot_cases conf_cases prob_cases new_case  \\\n",
       "0  2020-05-04T00:00:00.000    KY      5245     5245.0          0    115.0   \n",
       "1  2020-12-08T00:00:00.000    OK    205999   171497.0      34502      0.0   \n",
       "2  2020-04-30T00:00:00.000    IA      7145        NaN        NaN    302.0   \n",
       "3  2020-06-25T00:00:00.000    NE     18346        NaN        NaN    125.0   \n",
       "4  2020-02-24T00:00:00.000    CA        10        NaN        NaN      0.0   \n",
       "\n",
       "  pnew_case tot_death conf_death prob_death new_death pnew_death  \\\n",
       "0         0       261      261.0          0       8.0          0   \n",
       "1         0      1752     1680.0         72       0.0          0   \n",
       "2         0       162        NaN        NaN      14.0          0   \n",
       "3         0       260        NaN        NaN       3.0          0   \n",
       "4       NaN         0        NaN        NaN       0.0        NaN   \n",
       "\n",
       "                created_at consent_cases consent_deaths  \n",
       "0  2020-05-05T17:25:08.000         Agree          Agree  \n",
       "1  2020-12-09T14:45:40.234         Agree          Agree  \n",
       "2  2020-05-01T21:00:19.025     Not agree      Not agree  \n",
       "3  2020-06-26T19:18:27.809     Not agree      Not agree  \n",
       "4  2020-03-26T16:22:39.452     Not agree      Not agree  "
      ]
     },
     "execution_count": 4,
     "metadata": {},
     "output_type": "execute_result"
    }
   ],
   "source": [
    "data_df.head()"
   ]
  },
  {
   "cell_type": "markdown",
   "metadata": {
    "id": "p58_wPwV_kSm"
   },
   "source": [
    "### Dữ liệu có bao nhiêu dòng và bao nhiêu cột?"
   ]
  },
  {
   "cell_type": "code",
   "execution_count": 5,
   "metadata": {
    "colab": {
     "base_uri": "https://localhost:8080/"
    },
    "id": "uJO6unIWS6Zg",
    "outputId": "960113c4-0b21-4a52-cf56-c1faf9e74f6d"
   },
   "outputs": [
    {
     "data": {
      "text/plain": [
       "(20520, 15)"
      ]
     },
     "execution_count": 5,
     "metadata": {},
     "output_type": "execute_result"
    }
   ],
   "source": [
    "data_df.shape"
   ]
  },
  {
   "cell_type": "markdown",
   "metadata": {
    "id": "qvGvE3UyAEdA"
   },
   "source": [
    "### Mỗi dòng có ý nghĩa gì? Có vấn đề các dòng có ý nghĩa khác nhau không?"
   ]
  },
  {
   "cell_type": "markdown",
   "metadata": {
    "id": "BXRnapckAVc3"
   },
   "source": [
    "Quan sát sơ bộ dữ liệu ta thấy mỗi dòng chứa các thông tin về số tổng ca nhiễm, số ca nhiễm mới, sô ca tử vong,... của của 1 bang trong một ngày cụ thể."
   ]
  },
  {
   "cell_type": "markdown",
   "metadata": {
    "id": "8dfVmbj4BOEI"
   },
   "source": [
    "### Dữ liệu có các dòng bị lặp không?"
   ]
  },
  {
   "cell_type": "code",
   "execution_count": 6,
   "metadata": {
    "colab": {
     "base_uri": "https://localhost:8080/"
    },
    "id": "fW-b1zEYgoMH",
    "outputId": "bfa6bf76-f985-496c-e263-51ddaf58aa7f"
   },
   "outputs": [
    {
     "data": {
      "text/plain": [
       "0"
      ]
     },
     "execution_count": 6,
     "metadata": {},
     "output_type": "execute_result"
    }
   ],
   "source": [
    "data_df.index.duplicated().sum()"
   ]
  },
  {
   "cell_type": "markdown",
   "metadata": {
    "id": "iRl1cKEBB6wY"
   },
   "source": [
    "### Mỗi cột có ý nghĩa gì?"
   ]
  },
  {
   "cell_type": "markdown",
   "metadata": {
    "id": "26fsqNq_CAf5"
   },
   "source": [
    "|VARIABLE|DESCRIPTION|TYPE|\n",
    "|---|----------------|------|\n",
    "|submission_date|Date of counts|Date & Time|      \n",
    "|state|Jurisdiction|Plain Text|  \n",
    "|tot_cases|Total number of cases|Number| \n",
    "|conf_cases|Total confirmed cases|Number|\n",
    "|prob_cases|Total probable cases|Number|\n",
    "|new_case|Number of new cases|Number|\n",
    "|pnew_case|Number of new probable cases|Number|\n",
    "|tot_death|Total number of deaths|Number|\n",
    "|conf_death|Total number of confirmed deaths|Number|\n",
    "|prob_death|Total number of probable deaths|Number|\n",
    "|new_death|Number of new deaths|Number|\n",
    "|pnew_death|Number of new probable deaths|Number|\n",
    "|created_at|Date and time record was created|Date & Time|\n",
    "|consent_cases|If Agree, then confirmed and probable cases are included. If Not Agree, then only total cases are included|Plain Text|\n",
    "|consent_deaths|If Agree, then confirmed and probable deaths are included. If Not Agree, then only total deaths are included|Plain Text|\n",
    "\n",
    "\n",
    "\t\n",
    "\n",
    "\n",
    "\t\n",
    "\n",
    "\n",
    "\t\n",
    "\n",
    "\n",
    "\t\n",
    "\n",
    "\n"
   ]
  },
  {
   "cell_type": "markdown",
   "metadata": {
    "id": "rzEtRDvItWdS"
   },
   "source": [
    "## Đưa ra câu hỏi cần trả lời"
   ]
  },
  {
   "cell_type": "markdown",
   "metadata": {
    "id": "KrCPbO-lI1NS"
   },
   "source": [
    "Số ca mắc mới trong một ngày bất kì (hợp lệ) là bao nhiêu?"
   ]
  },
  {
   "cell_type": "markdown",
   "metadata": {
    "id": "Qq_N6u1GJkse"
   },
   "source": [
    "## Tiền xử lý dữ liệu để phù hợp với bài toán"
   ]
  },
  {
   "cell_type": "code",
   "execution_count": 7,
   "metadata": {
    "id": "G4PLTmaop3N3"
   },
   "outputs": [],
   "source": [
    "# number of records will be collected\n",
    "callback_days = 28\n",
    "\n",
    "def add_row_df(df):\n",
    "    df = df.sort_values('submission_date', ascending=True)\n",
    "\n",
    "    # Validation data\n",
    "    for g in df.groupby('submission_date'):\n",
    "        if g[1].shape[0] > 1:\n",
    "            raise Exception(\"Error, please groupby dataset by date before pass to this func\")\n",
    "    \n",
    "    # MAGIC\n",
    "    new_case_data = df['new_case']\n",
    "    \n",
    "    l = None\n",
    "\n",
    "    for j in range(len(new_case_data)):\n",
    "        if j >= callback_days:\n",
    "            t = new_case_data.iloc[j - callback_days: j]\n",
    "            \n",
    "            # append row\n",
    "            l = np.r_[l, [np.flip(t)]]\n",
    "        else:\n",
    "            t = new_case_data.iloc[0: j + 1]\n",
    "            fill = np.r_[np.array(['0' for i in range(callback_days - len(t))]), t]\n",
    "\n",
    "            # append row\n",
    "            if l is None:\n",
    "                l = np.array([np.flip(fill)])\n",
    "            else:\n",
    "                l = np.r_[l, [np.flip(fill)]]\n",
    "    \n",
    "    df2 = pd.DataFrame(l, index=df.index, columns=[f\"new_case_his_{i}\" for i in range(1, callback_days + 1)])\n",
    "    \n",
    "    return pd.concat([df, df2], axis=1)"
   ]
  },
  {
   "cell_type": "code",
   "execution_count": 8,
   "metadata": {
    "id": "khQt7rPN1dO0"
   },
   "outputs": [],
   "source": [
    "collected_df = data_df.groupby('state').apply(add_row_df).reset_index(level='state', drop=True)"
   ]
  },
  {
   "cell_type": "code",
   "execution_count": 9,
   "metadata": {
    "id": "ZP2eB894Nvu6"
   },
   "outputs": [],
   "source": [
    "# correct? test this cell\n",
    "#collected_df.groupby('state').get_group('AK').sort_values('submission_date', ascending=True).tail(10) "
   ]
  },
  {
   "cell_type": "markdown",
   "metadata": {
    "id": "oUeJGTih1J0F"
   },
   "source": [
    "Ép về đúng kiểu dữ liệu"
   ]
  },
  {
   "cell_type": "code",
   "execution_count": 10,
   "metadata": {
    "id": "FmamzkPv1I7F"
   },
   "outputs": [],
   "source": [
    "whitelist = ['submission_date', 'state', 'created_at','consent_cases','consent_deaths']\n",
    "\n",
    "collected_df = collected_df.transform(lambda x: x if (x.name in whitelist) else pd.to_numeric(x, errors='coerce'))"
   ]
  },
  {
   "cell_type": "markdown",
   "metadata": {
    "id": "a7FdbL1s0RvS"
   },
   "source": [
    "Loại bỏ các dòng dữ liệu chắc chắn là nhiễu (những ngày chưa ghi nhận ca mắc nào)"
   ]
  },
  {
   "cell_type": "code",
   "execution_count": 11,
   "metadata": {
    "colab": {
     "base_uri": "https://localhost:8080/",
     "height": 299
    },
    "id": "9eeEiEA3gDpJ",
    "outputId": "4cb2324d-a7ff-42c9-d487-7b5a7fbdf117"
   },
   "outputs": [
    {
     "data": {
      "text/html": [
       "<div>\n",
       "<style scoped>\n",
       "    .dataframe tbody tr th:only-of-type {\n",
       "        vertical-align: middle;\n",
       "    }\n",
       "\n",
       "    .dataframe tbody tr th {\n",
       "        vertical-align: top;\n",
       "    }\n",
       "\n",
       "    .dataframe thead th {\n",
       "        text-align: right;\n",
       "    }\n",
       "</style>\n",
       "<table border=\"1\" class=\"dataframe\">\n",
       "  <thead>\n",
       "    <tr style=\"text-align: right;\">\n",
       "      <th></th>\n",
       "      <th>submission_date</th>\n",
       "      <th>state</th>\n",
       "      <th>tot_cases</th>\n",
       "      <th>conf_cases</th>\n",
       "      <th>prob_cases</th>\n",
       "      <th>new_case</th>\n",
       "      <th>pnew_case</th>\n",
       "      <th>tot_death</th>\n",
       "      <th>conf_death</th>\n",
       "      <th>prob_death</th>\n",
       "      <th>...</th>\n",
       "      <th>new_case_his_19</th>\n",
       "      <th>new_case_his_20</th>\n",
       "      <th>new_case_his_21</th>\n",
       "      <th>new_case_his_22</th>\n",
       "      <th>new_case_his_23</th>\n",
       "      <th>new_case_his_24</th>\n",
       "      <th>new_case_his_25</th>\n",
       "      <th>new_case_his_26</th>\n",
       "      <th>new_case_his_27</th>\n",
       "      <th>new_case_his_28</th>\n",
       "    </tr>\n",
       "  </thead>\n",
       "  <tbody>\n",
       "    <tr>\n",
       "      <th>18512</th>\n",
       "      <td>2020-03-13T00:00:00.000</td>\n",
       "      <td>AK</td>\n",
       "      <td>1</td>\n",
       "      <td>NaN</td>\n",
       "      <td>NaN</td>\n",
       "      <td>1.0</td>\n",
       "      <td>NaN</td>\n",
       "      <td>0</td>\n",
       "      <td>NaN</td>\n",
       "      <td>NaN</td>\n",
       "      <td>...</td>\n",
       "      <td>0.0</td>\n",
       "      <td>0.0</td>\n",
       "      <td>0.0</td>\n",
       "      <td>0.0</td>\n",
       "      <td>0.0</td>\n",
       "      <td>0.0</td>\n",
       "      <td>0.0</td>\n",
       "      <td>0.0</td>\n",
       "      <td>0.0</td>\n",
       "      <td>0.0</td>\n",
       "    </tr>\n",
       "    <tr>\n",
       "      <th>9152</th>\n",
       "      <td>2020-03-14T00:00:00.000</td>\n",
       "      <td>AK</td>\n",
       "      <td>1</td>\n",
       "      <td>NaN</td>\n",
       "      <td>NaN</td>\n",
       "      <td>0.0</td>\n",
       "      <td>NaN</td>\n",
       "      <td>0</td>\n",
       "      <td>NaN</td>\n",
       "      <td>NaN</td>\n",
       "      <td>...</td>\n",
       "      <td>0.0</td>\n",
       "      <td>0.0</td>\n",
       "      <td>0.0</td>\n",
       "      <td>0.0</td>\n",
       "      <td>0.0</td>\n",
       "      <td>0.0</td>\n",
       "      <td>0.0</td>\n",
       "      <td>0.0</td>\n",
       "      <td>0.0</td>\n",
       "      <td>0.0</td>\n",
       "    </tr>\n",
       "    <tr>\n",
       "      <th>19051</th>\n",
       "      <td>2020-03-15T00:00:00.000</td>\n",
       "      <td>AK</td>\n",
       "      <td>1</td>\n",
       "      <td>NaN</td>\n",
       "      <td>NaN</td>\n",
       "      <td>0.0</td>\n",
       "      <td>NaN</td>\n",
       "      <td>0</td>\n",
       "      <td>NaN</td>\n",
       "      <td>NaN</td>\n",
       "      <td>...</td>\n",
       "      <td>0.0</td>\n",
       "      <td>0.0</td>\n",
       "      <td>0.0</td>\n",
       "      <td>0.0</td>\n",
       "      <td>0.0</td>\n",
       "      <td>0.0</td>\n",
       "      <td>0.0</td>\n",
       "      <td>0.0</td>\n",
       "      <td>0.0</td>\n",
       "      <td>0.0</td>\n",
       "    </tr>\n",
       "    <tr>\n",
       "      <th>17452</th>\n",
       "      <td>2020-03-16T00:00:00.000</td>\n",
       "      <td>AK</td>\n",
       "      <td>1</td>\n",
       "      <td>NaN</td>\n",
       "      <td>NaN</td>\n",
       "      <td>0.0</td>\n",
       "      <td>NaN</td>\n",
       "      <td>0</td>\n",
       "      <td>NaN</td>\n",
       "      <td>NaN</td>\n",
       "      <td>...</td>\n",
       "      <td>0.0</td>\n",
       "      <td>0.0</td>\n",
       "      <td>0.0</td>\n",
       "      <td>0.0</td>\n",
       "      <td>0.0</td>\n",
       "      <td>0.0</td>\n",
       "      <td>0.0</td>\n",
       "      <td>0.0</td>\n",
       "      <td>0.0</td>\n",
       "      <td>0.0</td>\n",
       "    </tr>\n",
       "    <tr>\n",
       "      <th>7738</th>\n",
       "      <td>2020-03-17T00:00:00.000</td>\n",
       "      <td>AK</td>\n",
       "      <td>3</td>\n",
       "      <td>NaN</td>\n",
       "      <td>NaN</td>\n",
       "      <td>2.0</td>\n",
       "      <td>NaN</td>\n",
       "      <td>0</td>\n",
       "      <td>NaN</td>\n",
       "      <td>NaN</td>\n",
       "      <td>...</td>\n",
       "      <td>0.0</td>\n",
       "      <td>0.0</td>\n",
       "      <td>0.0</td>\n",
       "      <td>0.0</td>\n",
       "      <td>0.0</td>\n",
       "      <td>0.0</td>\n",
       "      <td>0.0</td>\n",
       "      <td>0.0</td>\n",
       "      <td>0.0</td>\n",
       "      <td>0.0</td>\n",
       "    </tr>\n",
       "  </tbody>\n",
       "</table>\n",
       "<p>5 rows × 43 columns</p>\n",
       "</div>"
      ],
      "text/plain": [
       "               submission_date state  tot_cases  conf_cases  prob_cases  \\\n",
       "18512  2020-03-13T00:00:00.000    AK          1         NaN         NaN   \n",
       "9152   2020-03-14T00:00:00.000    AK          1         NaN         NaN   \n",
       "19051  2020-03-15T00:00:00.000    AK          1         NaN         NaN   \n",
       "17452  2020-03-16T00:00:00.000    AK          1         NaN         NaN   \n",
       "7738   2020-03-17T00:00:00.000    AK          3         NaN         NaN   \n",
       "\n",
       "       new_case  pnew_case  tot_death  conf_death  prob_death  ...  \\\n",
       "18512       1.0        NaN          0         NaN         NaN  ...   \n",
       "9152        0.0        NaN          0         NaN         NaN  ...   \n",
       "19051       0.0        NaN          0         NaN         NaN  ...   \n",
       "17452       0.0        NaN          0         NaN         NaN  ...   \n",
       "7738        2.0        NaN          0         NaN         NaN  ...   \n",
       "\n",
       "       new_case_his_19  new_case_his_20 new_case_his_21 new_case_his_22  \\\n",
       "18512              0.0              0.0             0.0             0.0   \n",
       "9152               0.0              0.0             0.0             0.0   \n",
       "19051              0.0              0.0             0.0             0.0   \n",
       "17452              0.0              0.0             0.0             0.0   \n",
       "7738               0.0              0.0             0.0             0.0   \n",
       "\n",
       "      new_case_his_23  new_case_his_24  new_case_his_25  new_case_his_26  \\\n",
       "18512             0.0              0.0              0.0              0.0   \n",
       "9152              0.0              0.0              0.0              0.0   \n",
       "19051             0.0              0.0              0.0              0.0   \n",
       "17452             0.0              0.0              0.0              0.0   \n",
       "7738              0.0              0.0              0.0              0.0   \n",
       "\n",
       "       new_case_his_27  new_case_his_28  \n",
       "18512              0.0              0.0  \n",
       "9152               0.0              0.0  \n",
       "19051              0.0              0.0  \n",
       "17452              0.0              0.0  \n",
       "7738               0.0              0.0  \n",
       "\n",
       "[5 rows x 43 columns]"
      ]
     },
     "execution_count": 11,
     "metadata": {},
     "output_type": "execute_result"
    }
   ],
   "source": [
    "#add_row_df(results_df)\n",
    "collected_df = collected_df[collected_df['tot_cases'] > 0]\n",
    "collected_df.head()"
   ]
  },
  {
   "cell_type": "markdown",
   "metadata": {
    "id": "7Ds7VtHBavXk"
   },
   "source": [
    "Đến đây ta đã thu thập đủ dữ liệu được lưu trong `collected_df` để có thể đặt câu hỏi."
   ]
  },
  {
   "cell_type": "markdown",
   "metadata": {
    "id": "Ecao1uGzXbK2"
   },
   "source": [
    "## Đặt câu hỏi: Số ca mắc mới trong một ngày bất kì (hợp lệ) là bao nhiêu?"
   ]
  },
  {
   "cell_type": "markdown",
   "metadata": {
    "id": "uUoZnG8hXzMv"
   },
   "source": [
    "## Tiền xử lý (tách tập)"
   ]
  },
  {
   "cell_type": "code",
   "execution_count": 12,
   "metadata": {
    "id": "00vcVoi9XaWu"
   },
   "outputs": [],
   "source": [
    "sorted_df = collected_df.sort_values('submission_date', ascending=True)\n",
    "X_df = sorted_df.drop('new_case', axis=1)\n",
    "y_sr = sorted_df['new_case']"
   ]
  },
  {
   "cell_type": "markdown",
   "metadata": {
    "id": "h1Hse-XISNpP"
   },
   "source": [
    "Tách theo tỉ lệ: 70% 15% 15% lần lượt cho bộ train, bộ validation, bộ test."
   ]
  },
  {
   "cell_type": "code",
   "execution_count": 13,
   "metadata": {
    "id": "DMmn7hdgWx2o"
   },
   "outputs": [],
   "source": [
    "# tách bộ train và bộ (validation, test)\n",
    "\n",
    "# bộ train sẽ dùng dữ liệu của 60 bang trong 300 ngày đầu tiên. \n",
    "# train_size = 60 * 300 \n",
    "\n",
    "train_X_df, new_X_df, train_y_sr, new_y_sr = train_test_split(X_df, y_sr, train_size = 0.7, \n",
    "                                                             random_state=0)"
   ]
  },
  {
   "cell_type": "markdown",
   "metadata": {
    "id": "-l8pE224R4YS"
   },
   "source": [
    "Tách bộ validation và bộ test"
   ]
  },
  {
   "cell_type": "code",
   "execution_count": 14,
   "metadata": {
    "id": "iWbMUPOtR20r"
   },
   "outputs": [],
   "source": [
    "val_X_df, test_X_df, val_y_sr, test_y_sr = train_test_split(new_X_df, new_y_sr, test_size=0.5, \n",
    "                                                              random_state=0)"
   ]
  },
  {
   "cell_type": "code",
   "execution_count": 15,
   "metadata": {
    "colab": {
     "base_uri": "https://localhost:8080/"
    },
    "id": "OlIspXe4o0Fq",
    "outputId": "140e9f76-512d-4ea9-9481-4b8166f27965"
   },
   "outputs": [
    {
     "data": {
      "text/plain": [
       "(11820, 42)"
      ]
     },
     "execution_count": 15,
     "metadata": {},
     "output_type": "execute_result"
    }
   ],
   "source": [
    "train_X_df.shape"
   ]
  },
  {
   "cell_type": "markdown",
   "metadata": {
    "id": "0a01Uxt2Tj7M"
   },
   "source": [
    "## Khám phá dữ liệu (tập huấn luyện)"
   ]
  },
  {
   "cell_type": "markdown",
   "metadata": {
    "id": "LQjYUVgvTsjt"
   },
   "source": [
    "### Mỗi cột input hiện đang có kiểu dữ liệu gì? Có cột nào có kiểu dữ liệu chưa phù hợp để có thể xử lý tiếp không?"
   ]
  },
  {
   "cell_type": "code",
   "execution_count": 16,
   "metadata": {
    "id": "g4s5R4ZETpMZ"
   },
   "outputs": [
    {
     "data": {
      "text/plain": [
       "submission_date     object\n",
       "state               object\n",
       "tot_cases            int64\n",
       "conf_cases         float64\n",
       "prob_cases         float64\n",
       "pnew_case          float64\n",
       "tot_death            int64\n",
       "conf_death         float64\n",
       "prob_death         float64\n",
       "new_death          float64\n",
       "pnew_death         float64\n",
       "created_at          object\n",
       "consent_cases       object\n",
       "consent_deaths      object\n",
       "new_case_his_1     float64\n",
       "new_case_his_2     float64\n",
       "new_case_his_3     float64\n",
       "new_case_his_4     float64\n",
       "new_case_his_5     float64\n",
       "new_case_his_6     float64\n",
       "new_case_his_7     float64\n",
       "new_case_his_8     float64\n",
       "new_case_his_9     float64\n",
       "new_case_his_10    float64\n",
       "new_case_his_11    float64\n",
       "new_case_his_12    float64\n",
       "new_case_his_13    float64\n",
       "new_case_his_14    float64\n",
       "new_case_his_15    float64\n",
       "new_case_his_16    float64\n",
       "new_case_his_17    float64\n",
       "new_case_his_18    float64\n",
       "new_case_his_19    float64\n",
       "new_case_his_20    float64\n",
       "new_case_his_21    float64\n",
       "new_case_his_22    float64\n",
       "new_case_his_23    float64\n",
       "new_case_his_24    float64\n",
       "new_case_his_25    float64\n",
       "new_case_his_26    float64\n",
       "new_case_his_27    float64\n",
       "new_case_his_28    float64\n",
       "dtype: object"
      ]
     },
     "execution_count": 16,
     "metadata": {},
     "output_type": "execute_result"
    }
   ],
   "source": [
    "train_X_df.dtypes"
   ]
  },
  {
   "cell_type": "markdown",
   "metadata": {
    "id": "MbPT8ehLT9yr"
   },
   "source": [
    "### Với mỗi cột input có kiểu dữ liệu dạng số, các giá trị được phân bố như thế nào?"
   ]
  },
  {
   "cell_type": "code",
   "execution_count": 17,
   "metadata": {
    "id": "N8uGCdOAUDDY"
   },
   "outputs": [
    {
     "data": {
      "text/plain": [
       "tot_cases            int64\n",
       "conf_cases         float64\n",
       "prob_cases         float64\n",
       "pnew_case          float64\n",
       "tot_death            int64\n",
       "conf_death         float64\n",
       "prob_death         float64\n",
       "new_death          float64\n",
       "pnew_death         float64\n",
       "new_case_his_1     float64\n",
       "new_case_his_2     float64\n",
       "new_case_his_3     float64\n",
       "new_case_his_4     float64\n",
       "new_case_his_5     float64\n",
       "new_case_his_6     float64\n",
       "new_case_his_7     float64\n",
       "new_case_his_8     float64\n",
       "new_case_his_9     float64\n",
       "new_case_his_10    float64\n",
       "new_case_his_11    float64\n",
       "new_case_his_12    float64\n",
       "new_case_his_13    float64\n",
       "new_case_his_14    float64\n",
       "new_case_his_15    float64\n",
       "new_case_his_16    float64\n",
       "new_case_his_17    float64\n",
       "new_case_his_18    float64\n",
       "new_case_his_19    float64\n",
       "new_case_his_20    float64\n",
       "new_case_his_21    float64\n",
       "new_case_his_22    float64\n",
       "new_case_his_23    float64\n",
       "new_case_his_24    float64\n",
       "new_case_his_25    float64\n",
       "new_case_his_26    float64\n",
       "new_case_his_27    float64\n",
       "new_case_his_28    float64\n",
       "dtype: object"
      ]
     },
     "execution_count": 17,
     "metadata": {},
     "output_type": "execute_result"
    }
   ],
   "source": [
    "train_X_df.dtypes[train_X_df.dtypes != object]"
   ]
  },
  {
   "cell_type": "code",
   "execution_count": 18,
   "metadata": {
    "id": "9AmzF6cYUS-o"
   },
   "outputs": [
    {
     "data": {
      "text/html": [
       "<div>\n",
       "<style scoped>\n",
       "    .dataframe tbody tr th:only-of-type {\n",
       "        vertical-align: middle;\n",
       "    }\n",
       "\n",
       "    .dataframe tbody tr th {\n",
       "        vertical-align: top;\n",
       "    }\n",
       "\n",
       "    .dataframe thead th {\n",
       "        text-align: right;\n",
       "    }\n",
       "</style>\n",
       "<table border=\"1\" class=\"dataframe\">\n",
       "  <thead>\n",
       "    <tr style=\"text-align: right;\">\n",
       "      <th></th>\n",
       "      <th>new_case_his_15</th>\n",
       "      <th>new_case_his_16</th>\n",
       "      <th>new_case_his_5</th>\n",
       "      <th>new_case_his_23</th>\n",
       "      <th>new_case_his_8</th>\n",
       "      <th>new_case_his_11</th>\n",
       "      <th>new_case_his_12</th>\n",
       "      <th>new_case_his_3</th>\n",
       "      <th>new_case_his_22</th>\n",
       "      <th>new_case_his_19</th>\n",
       "      <th>...</th>\n",
       "      <th>new_case_his_4</th>\n",
       "      <th>pnew_death</th>\n",
       "      <th>new_case_his_1</th>\n",
       "      <th>new_case_his_7</th>\n",
       "      <th>new_case_his_10</th>\n",
       "      <th>new_case_his_18</th>\n",
       "      <th>pnew_case</th>\n",
       "      <th>new_case_his_2</th>\n",
       "      <th>new_case_his_14</th>\n",
       "      <th>new_case_his_20</th>\n",
       "    </tr>\n",
       "  </thead>\n",
       "  <tbody>\n",
       "    <tr>\n",
       "      <th>missing_ratio</th>\n",
       "      <td>0.0</td>\n",
       "      <td>0.0</td>\n",
       "      <td>0.0</td>\n",
       "      <td>0.0</td>\n",
       "      <td>0.0</td>\n",
       "      <td>0.0</td>\n",
       "      <td>0.0</td>\n",
       "      <td>0.0</td>\n",
       "      <td>0.0</td>\n",
       "      <td>0.0</td>\n",
       "      <td>...</td>\n",
       "      <td>0.0</td>\n",
       "      <td>14.8</td>\n",
       "      <td>0.0</td>\n",
       "      <td>0.0</td>\n",
       "      <td>0.0</td>\n",
       "      <td>0.0</td>\n",
       "      <td>14.2</td>\n",
       "      <td>0.0</td>\n",
       "      <td>0.0</td>\n",
       "      <td>0.0</td>\n",
       "    </tr>\n",
       "    <tr>\n",
       "      <th>min</th>\n",
       "      <td>-33355.0</td>\n",
       "      <td>-30134.0</td>\n",
       "      <td>-33355.0</td>\n",
       "      <td>-10427.0</td>\n",
       "      <td>-33355.0</td>\n",
       "      <td>-33355.0</td>\n",
       "      <td>-33355.0</td>\n",
       "      <td>-30134.0</td>\n",
       "      <td>-33355.0</td>\n",
       "      <td>-33355.0</td>\n",
       "      <td>...</td>\n",
       "      <td>-33355.0</td>\n",
       "      <td>-675.0</td>\n",
       "      <td>-33355.0</td>\n",
       "      <td>-33355.0</td>\n",
       "      <td>-33355.0</td>\n",
       "      <td>-10427.0</td>\n",
       "      <td>-6259.0</td>\n",
       "      <td>-33355.0</td>\n",
       "      <td>-33355.0</td>\n",
       "      <td>-30134.0</td>\n",
       "    </tr>\n",
       "    <tr>\n",
       "      <th>lower_quartile</th>\n",
       "      <td>28.0</td>\n",
       "      <td>26.0</td>\n",
       "      <td>45.0</td>\n",
       "      <td>17.0</td>\n",
       "      <td>38.0</td>\n",
       "      <td>35.0</td>\n",
       "      <td>33.0</td>\n",
       "      <td>48.0</td>\n",
       "      <td>18.0</td>\n",
       "      <td>23.0</td>\n",
       "      <td>...</td>\n",
       "      <td>45.0</td>\n",
       "      <td>0.0</td>\n",
       "      <td>52.0</td>\n",
       "      <td>40.0</td>\n",
       "      <td>35.0</td>\n",
       "      <td>23.0</td>\n",
       "      <td>0.0</td>\n",
       "      <td>49.0</td>\n",
       "      <td>29.0</td>\n",
       "      <td>21.0</td>\n",
       "    </tr>\n",
       "    <tr>\n",
       "      <th>median</th>\n",
       "      <td>306.5</td>\n",
       "      <td>297.0</td>\n",
       "      <td>352.5</td>\n",
       "      <td>268.0</td>\n",
       "      <td>333.0</td>\n",
       "      <td>323.0</td>\n",
       "      <td>319.0</td>\n",
       "      <td>360.0</td>\n",
       "      <td>273.0</td>\n",
       "      <td>292.5</td>\n",
       "      <td>...</td>\n",
       "      <td>355.0</td>\n",
       "      <td>0.0</td>\n",
       "      <td>370.0</td>\n",
       "      <td>337.5</td>\n",
       "      <td>328.0</td>\n",
       "      <td>294.0</td>\n",
       "      <td>0.0</td>\n",
       "      <td>360.5</td>\n",
       "      <td>307.0</td>\n",
       "      <td>284.0</td>\n",
       "    </tr>\n",
       "    <tr>\n",
       "      <th>upper_quartile</th>\n",
       "      <td>989.2</td>\n",
       "      <td>972.0</td>\n",
       "      <td>1099.0</td>\n",
       "      <td>924.0</td>\n",
       "      <td>1075.2</td>\n",
       "      <td>1032.0</td>\n",
       "      <td>1022.0</td>\n",
       "      <td>1116.0</td>\n",
       "      <td>931.2</td>\n",
       "      <td>961.0</td>\n",
       "      <td>...</td>\n",
       "      <td>1113.2</td>\n",
       "      <td>0.0</td>\n",
       "      <td>1144.2</td>\n",
       "      <td>1083.0</td>\n",
       "      <td>1041.2</td>\n",
       "      <td>967.0</td>\n",
       "      <td>38.0</td>\n",
       "      <td>1134.2</td>\n",
       "      <td>1000.2</td>\n",
       "      <td>947.2</td>\n",
       "    </tr>\n",
       "    <tr>\n",
       "      <th>max</th>\n",
       "      <td>71734.0</td>\n",
       "      <td>71734.0</td>\n",
       "      <td>71734.0</td>\n",
       "      <td>71734.0</td>\n",
       "      <td>71734.0</td>\n",
       "      <td>71734.0</td>\n",
       "      <td>53711.0</td>\n",
       "      <td>71734.0</td>\n",
       "      <td>49458.0</td>\n",
       "      <td>30851.0</td>\n",
       "      <td>...</td>\n",
       "      <td>71734.0</td>\n",
       "      <td>5482.0</td>\n",
       "      <td>53711.0</td>\n",
       "      <td>71734.0</td>\n",
       "      <td>53711.0</td>\n",
       "      <td>49458.0</td>\n",
       "      <td>67475.0</td>\n",
       "      <td>71734.0</td>\n",
       "      <td>71734.0</td>\n",
       "      <td>71734.0</td>\n",
       "    </tr>\n",
       "  </tbody>\n",
       "</table>\n",
       "<p>6 rows × 37 columns</p>\n",
       "</div>"
      ],
      "text/plain": [
       "                new_case_his_15  new_case_his_16  new_case_his_5  \\\n",
       "missing_ratio               0.0              0.0             0.0   \n",
       "min                    -33355.0         -30134.0        -33355.0   \n",
       "lower_quartile             28.0             26.0            45.0   \n",
       "median                    306.5            297.0           352.5   \n",
       "upper_quartile            989.2            972.0          1099.0   \n",
       "max                     71734.0          71734.0         71734.0   \n",
       "\n",
       "                new_case_his_23  new_case_his_8  new_case_his_11  \\\n",
       "missing_ratio               0.0             0.0              0.0   \n",
       "min                    -10427.0        -33355.0         -33355.0   \n",
       "lower_quartile             17.0            38.0             35.0   \n",
       "median                    268.0           333.0            323.0   \n",
       "upper_quartile            924.0          1075.2           1032.0   \n",
       "max                     71734.0         71734.0          71734.0   \n",
       "\n",
       "                new_case_his_12  new_case_his_3  new_case_his_22  \\\n",
       "missing_ratio               0.0             0.0              0.0   \n",
       "min                    -33355.0        -30134.0         -33355.0   \n",
       "lower_quartile             33.0            48.0             18.0   \n",
       "median                    319.0           360.0            273.0   \n",
       "upper_quartile           1022.0          1116.0            931.2   \n",
       "max                     53711.0         71734.0          49458.0   \n",
       "\n",
       "                new_case_his_19  ...  new_case_his_4  pnew_death  \\\n",
       "missing_ratio               0.0  ...             0.0        14.8   \n",
       "min                    -33355.0  ...        -33355.0      -675.0   \n",
       "lower_quartile             23.0  ...            45.0         0.0   \n",
       "median                    292.5  ...           355.0         0.0   \n",
       "upper_quartile            961.0  ...          1113.2         0.0   \n",
       "max                     30851.0  ...         71734.0      5482.0   \n",
       "\n",
       "                new_case_his_1  new_case_his_7  new_case_his_10  \\\n",
       "missing_ratio              0.0             0.0              0.0   \n",
       "min                   -33355.0        -33355.0         -33355.0   \n",
       "lower_quartile            52.0            40.0             35.0   \n",
       "median                   370.0           337.5            328.0   \n",
       "upper_quartile          1144.2          1083.0           1041.2   \n",
       "max                    53711.0         71734.0          53711.0   \n",
       "\n",
       "                new_case_his_18  pnew_case  new_case_his_2  new_case_his_14  \\\n",
       "missing_ratio               0.0       14.2             0.0              0.0   \n",
       "min                    -10427.0    -6259.0        -33355.0         -33355.0   \n",
       "lower_quartile             23.0        0.0            49.0             29.0   \n",
       "median                    294.0        0.0           360.5            307.0   \n",
       "upper_quartile            967.0       38.0          1134.2           1000.2   \n",
       "max                     49458.0    67475.0         71734.0          71734.0   \n",
       "\n",
       "                new_case_his_20  \n",
       "missing_ratio               0.0  \n",
       "min                    -30134.0  \n",
       "lower_quartile             21.0  \n",
       "median                    284.0  \n",
       "upper_quartile            947.2  \n",
       "max                     71734.0  \n",
       "\n",
       "[6 rows x 37 columns]"
      ]
     },
     "execution_count": 18,
     "metadata": {},
     "output_type": "execute_result"
    }
   ],
   "source": [
    "num_cols = list(set(train_X_df.columns) - set(whitelist))\n",
    "df = train_X_df[num_cols]\n",
    "def missing_ratio(df):\n",
    "    return (df.isna().mean() * 100).round(1)\n",
    "def lower_quartile(df):\n",
    "    return df.quantile(0.25).round(1)\n",
    "def median(df):\n",
    "    return df.quantile(0.5).round(1)\n",
    "def upper_quartile(df):\n",
    "    return df.quantile(0.75).round(1)\n",
    "df.agg([missing_ratio, 'min', lower_quartile, median, upper_quartile, 'max'])"
   ]
  },
  {
   "cell_type": "markdown",
   "metadata": {
    "id": "L3ibuXMOVMAk"
   },
   "source": [
    "### Với mỗi cột input có kiểu dữ liệu không phải dạng số, các giá trị được phân bố như thế nào?"
   ]
  },
  {
   "cell_type": "code",
   "execution_count": 19,
   "metadata": {
    "id": "o_WxpobyVirb"
   },
   "outputs": [
    {
     "data": {
      "text/html": [
       "<div>\n",
       "<style scoped>\n",
       "    .dataframe tbody tr th:only-of-type {\n",
       "        vertical-align: middle;\n",
       "    }\n",
       "\n",
       "    .dataframe tbody tr th {\n",
       "        vertical-align: top;\n",
       "    }\n",
       "\n",
       "    .dataframe thead th {\n",
       "        text-align: right;\n",
       "    }\n",
       "</style>\n",
       "<table border=\"1\" class=\"dataframe\">\n",
       "  <thead>\n",
       "    <tr style=\"text-align: right;\">\n",
       "      <th></th>\n",
       "      <th>created_at</th>\n",
       "      <th>submission_date</th>\n",
       "      <th>consent_deaths</th>\n",
       "      <th>consent_cases</th>\n",
       "      <th>state</th>\n",
       "    </tr>\n",
       "  </thead>\n",
       "  <tbody>\n",
       "    <tr>\n",
       "      <th>missing_ratio</th>\n",
       "      <td>0.0</td>\n",
       "      <td>0.0</td>\n",
       "      <td>5.6</td>\n",
       "      <td>5.6</td>\n",
       "      <td>0.0</td>\n",
       "    </tr>\n",
       "    <tr>\n",
       "      <th>num_values</th>\n",
       "      <td>470</td>\n",
       "      <td>342</td>\n",
       "      <td>3</td>\n",
       "      <td>3</td>\n",
       "      <td>58</td>\n",
       "    </tr>\n",
       "    <tr>\n",
       "      <th>value_ratios</th>\n",
       "      <td>{'2020-03-26T16:22:39.452': 7.4, '2020-05-25T15:38:40.000': 1.6, '2020-11-13T19:10:12.893': 1.2, '2020-04-03T16:22:39.452': 0.6, '2020-03-28T16:22:39.452': 0.6, '2020-04-07T16:22:39.452': 0.6, '20...</td>\n",
       "      <td>{'2020-11-10T00:00:00.000': 0.4, '2020-11-06T00:00:00.000': 0.4, '2020-12-11T00:00:00.000': 0.4, '2020-11-14T00:00:00.000': 0.4, '2020-10-11T00:00:00.000': 0.4, '2020-04-30T00:00:00.000': 0.4, '20...</td>\n",
       "      <td>{'Agree': 62.3, 'Not agree': 30.0, 'N/A': 7.7}</td>\n",
       "      <td>{'Agree': 58.3, 'Not agree': 30.3, 'N/A': 11.4}</td>\n",
       "      <td>{'AZ': 2.1, 'WA': 2.1, 'CA': 2.1, 'IL': 2.0, 'MA': 2.0, 'NJ': 1.9, 'NE': 1.9, 'NV': 1.9, 'VA': 1.9, 'NYC': 1.9, 'MD': 1.8, 'ND': 1.8, 'HI': 1.8, 'FL': 1.8, 'GA': 1.8, 'MO': 1.8, 'IN': 1.8, 'WI': 1...</td>\n",
       "    </tr>\n",
       "  </tbody>\n",
       "</table>\n",
       "</div>"
      ],
      "text/plain": [
       "                                                                                                                                                                                                            created_at  \\\n",
       "missing_ratio                                                                                                                                                                                                      0.0   \n",
       "num_values                                                                                                                                                                                                         470   \n",
       "value_ratios   {'2020-03-26T16:22:39.452': 7.4, '2020-05-25T15:38:40.000': 1.6, '2020-11-13T19:10:12.893': 1.2, '2020-04-03T16:22:39.452': 0.6, '2020-03-28T16:22:39.452': 0.6, '2020-04-07T16:22:39.452': 0.6, '20...   \n",
       "\n",
       "                                                                                                                                                                                                       submission_date  \\\n",
       "missing_ratio                                                                                                                                                                                                      0.0   \n",
       "num_values                                                                                                                                                                                                         342   \n",
       "value_ratios   {'2020-11-10T00:00:00.000': 0.4, '2020-11-06T00:00:00.000': 0.4, '2020-12-11T00:00:00.000': 0.4, '2020-11-14T00:00:00.000': 0.4, '2020-10-11T00:00:00.000': 0.4, '2020-04-30T00:00:00.000': 0.4, '20...   \n",
       "\n",
       "                                               consent_deaths  \\\n",
       "missing_ratio                                             5.6   \n",
       "num_values                                                  3   \n",
       "value_ratios   {'Agree': 62.3, 'Not agree': 30.0, 'N/A': 7.7}   \n",
       "\n",
       "                                                 consent_cases  \\\n",
       "missing_ratio                                              5.6   \n",
       "num_values                                                   3   \n",
       "value_ratios   {'Agree': 58.3, 'Not agree': 30.3, 'N/A': 11.4}   \n",
       "\n",
       "                                                                                                                                                                                                                 state  \n",
       "missing_ratio                                                                                                                                                                                                      0.0  \n",
       "num_values                                                                                                                                                                                                          58  \n",
       "value_ratios   {'AZ': 2.1, 'WA': 2.1, 'CA': 2.1, 'IL': 2.0, 'MA': 2.0, 'NJ': 1.9, 'NE': 1.9, 'NV': 1.9, 'VA': 1.9, 'NYC': 1.9, 'MD': 1.8, 'ND': 1.8, 'HI': 1.8, 'FL': 1.8, 'GA': 1.8, 'MO': 1.8, 'IN': 1.8, 'WI': 1...  "
      ]
     },
     "execution_count": 19,
     "metadata": {},
     "output_type": "execute_result"
    }
   ],
   "source": [
    "pd.set_option('display.max_colwidth', 200) # Để nhìn rõ hơn\n",
    "cat_cols = list(set(train_X_df.columns) - set(num_cols))\n",
    "df = train_X_df[cat_cols]\n",
    "def missing_ratio(df):\n",
    "    return (df.isna().mean() * 100).round(1)\n",
    "def num_values(df):\n",
    "    return df.nunique()\n",
    "def value_ratios(c):\n",
    "    return dict((c.value_counts(normalize=True) * 100).round(1))\n",
    "df.agg([missing_ratio, num_values, value_ratios])"
   ]
  },
  {
   "cell_type": "markdown",
   "metadata": {
    "id": "oyVeK-1mblFI"
   },
   "source": [
    "## Tiền xử lý tập huấn luyện\n",
    "\n",
    "- Loại bỏ các thuộc tính dự đoán như `pnew_case`, `pnew_death`\n",
    "- Loại bỏ các thuộc tính không có ích cho việc huấn luyện mô hình như `submission_date`, `state`, `conf_death`, `prob_death`, `created_at`, `consent_cases`, `consent_deaths`\n",
    "\n",
    "- Dùng tham số `callback_days` để quy định chỉ lấy số ngày gần nhất của ngày hiện tại.\n",
    "\n",
    "\n"
   ]
  },
  {
   "cell_type": "code",
   "execution_count": 20,
   "metadata": {
    "id": "BqUk7Gz3orda"
   },
   "outputs": [],
   "source": [
    "class ColDropper(BaseEstimator, TransformerMixin):\n",
    "    def __init__(self, callback_days=14):\n",
    "        self.callback_days = callback_days\n",
    "\n",
    "    def fit(self, X_df, y=None):\n",
    "        return self\n",
    "    \n",
    "    def mix_data(self, row):\n",
    "        tot_cases = row.loc['tot_cases']\n",
    "        if row.isnull().loc['conf_cases']:\n",
    "            row.loc['conf_cases'] = tot_cases            \n",
    "\n",
    "        return row\n",
    "\n",
    "    def transform(self, X_df, y=None):\n",
    "\n",
    "        # drop unsue attr\n",
    "        df = X_df.drop(['pnew_case', 'pnew_death', 'submission_date', 'state', 'conf_death', 'prob_death', 'created_at',\n",
    "                        'consent_cases', 'consent_deaths'], axis=1)\n",
    "\n",
    "        # regex to match first number in any text\n",
    "        matcher = re.compile(r'.*?(\\d+)')\n",
    "        \n",
    "        columns_sr = df.columns.str.extract(r'(.*?\\d+)', expand=False).dropna().to_series()\n",
    "        list_drop_his = columns_sr.transform(lambda x: x if int(matcher.findall(x)[0]) > self.callback_days else np.nan).dropna().values.tolist()\n",
    "        if len(list_drop_his) > 0:\n",
    "            df = df.drop(list_drop_his, axis=1)\n",
    "\n",
    "        return df.transform(self.mix_data, axis=1)\n"
   ]
  },
  {
   "cell_type": "code",
   "execution_count": 21,
   "metadata": {
    "colab": {
     "base_uri": "https://localhost:8080/",
     "height": 71
    },
    "id": "qi2BYpJdu0pI",
    "outputId": "ed403d59-60b2-404a-9b46-938dcf4088fa"
   },
   "outputs": [
    {
     "data": {
      "text/html": [
       "<style>div.sk-top-container {color: black;background-color: white;}div.sk-toggleable {background-color: white;}label.sk-toggleable__label {cursor: pointer;display: block;width: 100%;margin-bottom: 0;padding: 0.2em 0.3em;box-sizing: border-box;text-align: center;}div.sk-toggleable__content {max-height: 0;max-width: 0;overflow: hidden;text-align: left;background-color: #f0f8ff;}div.sk-toggleable__content pre {margin: 0.2em;color: black;border-radius: 0.25em;background-color: #f0f8ff;}input.sk-toggleable__control:checked~div.sk-toggleable__content {max-height: 200px;max-width: 100%;overflow: auto;}div.sk-estimator input.sk-toggleable__control:checked~label.sk-toggleable__label {background-color: #d4ebff;}div.sk-label input.sk-toggleable__control:checked~label.sk-toggleable__label {background-color: #d4ebff;}input.sk-hidden--visually {border: 0;clip: rect(1px 1px 1px 1px);clip: rect(1px, 1px, 1px, 1px);height: 1px;margin: -1px;overflow: hidden;padding: 0;position: absolute;width: 1px;}div.sk-estimator {font-family: monospace;background-color: #f0f8ff;margin: 0.25em 0.25em;border: 1px dotted black;border-radius: 0.25em;box-sizing: border-box;}div.sk-estimator:hover {background-color: #d4ebff;}div.sk-parallel-item::after {content: \"\";width: 100%;border-bottom: 1px solid gray;flex-grow: 1;}div.sk-label:hover label.sk-toggleable__label {background-color: #d4ebff;}div.sk-serial::before {content: \"\";position: absolute;border-left: 1px solid gray;box-sizing: border-box;top: 2em;bottom: 0;left: 50%;}div.sk-serial {display: flex;flex-direction: column;align-items: center;background-color: white;}div.sk-item {z-index: 1;}div.sk-parallel {display: flex;align-items: stretch;justify-content: center;background-color: white;}div.sk-parallel-item {display: flex;flex-direction: column;position: relative;background-color: white;}div.sk-parallel-item:first-child::after {align-self: flex-end;width: 50%;}div.sk-parallel-item:last-child::after {align-self: flex-start;width: 50%;}div.sk-parallel-item:only-child::after {width: 0;}div.sk-dashed-wrapped {border: 1px dashed gray;margin: 0.2em;box-sizing: border-box;padding-bottom: 0.1em;background-color: white;position: relative;}div.sk-label label {font-family: monospace;font-weight: bold;background-color: white;display: inline-block;line-height: 1.2em;}div.sk-label-container {position: relative;z-index: 2;text-align: center;}div.sk-container {display: inline-block;position: relative;}</style><div class=\"sk-top-container\"><div class=\"sk-container\"><div class=\"sk-item\"><div class=\"sk-estimator sk-toggleable\"><input class=\"sk-toggleable__control sk-hidden--visually\" id=\"e5dc238d-8a69-46c6-af7e-b4714738d056\" type=\"checkbox\" checked><label class=\"sk-toggleable__label\" for=\"e5dc238d-8a69-46c6-af7e-b4714738d056\">ColDropper</label><div class=\"sk-toggleable__content\"><pre>ColDropper()</pre></div></div></div></div></div>"
      ],
      "text/plain": [
       "ColDropper()"
      ]
     },
     "execution_count": 21,
     "metadata": {},
     "output_type": "execute_result"
    }
   ],
   "source": [
    "# TEST\n",
    "elimator = ColDropper(callback_days=14)\n",
    "elimator.fit(X_df)"
   ]
  },
  {
   "cell_type": "code",
   "execution_count": 22,
   "metadata": {
    "id": "1pmLX-jSw6tN"
   },
   "outputs": [],
   "source": [
    "# elimator.transform(train_X_df).duplicated(keep='last').sum()\n",
    "# 262 (if callback_days = 20) How?"
   ]
  },
  {
   "cell_type": "code",
   "execution_count": 23,
   "metadata": {
    "colab": {
     "base_uri": "https://localhost:8080/",
     "height": 422
    },
    "id": "oGwUUuaXwszg",
    "outputId": "49f4ff31-042f-4a3c-d5b1-e59f920a43ed"
   },
   "outputs": [
    {
     "data": {
      "text/html": [
       "<div>\n",
       "<style scoped>\n",
       "    .dataframe tbody tr th:only-of-type {\n",
       "        vertical-align: middle;\n",
       "    }\n",
       "\n",
       "    .dataframe tbody tr th {\n",
       "        vertical-align: top;\n",
       "    }\n",
       "\n",
       "    .dataframe thead th {\n",
       "        text-align: right;\n",
       "    }\n",
       "</style>\n",
       "<table border=\"1\" class=\"dataframe\">\n",
       "  <thead>\n",
       "    <tr style=\"text-align: right;\">\n",
       "      <th></th>\n",
       "      <th>tot_cases</th>\n",
       "      <th>conf_cases</th>\n",
       "      <th>prob_cases</th>\n",
       "      <th>tot_death</th>\n",
       "      <th>new_death</th>\n",
       "      <th>new_case_his_1</th>\n",
       "      <th>new_case_his_2</th>\n",
       "      <th>new_case_his_3</th>\n",
       "      <th>new_case_his_4</th>\n",
       "      <th>new_case_his_5</th>\n",
       "      <th>new_case_his_6</th>\n",
       "      <th>new_case_his_7</th>\n",
       "      <th>new_case_his_8</th>\n",
       "      <th>new_case_his_9</th>\n",
       "      <th>new_case_his_10</th>\n",
       "      <th>new_case_his_11</th>\n",
       "      <th>new_case_his_12</th>\n",
       "      <th>new_case_his_13</th>\n",
       "      <th>new_case_his_14</th>\n",
       "    </tr>\n",
       "  </thead>\n",
       "  <tbody>\n",
       "    <tr>\n",
       "      <th>7410</th>\n",
       "      <td>24.0</td>\n",
       "      <td>24.0</td>\n",
       "      <td>NaN</td>\n",
       "      <td>0.0</td>\n",
       "      <td>0.0</td>\n",
       "      <td>5.0</td>\n",
       "      <td>4.0</td>\n",
       "      <td>1.0</td>\n",
       "      <td>0.0</td>\n",
       "      <td>7.0</td>\n",
       "      <td>4.0</td>\n",
       "      <td>0.0</td>\n",
       "      <td>0.0</td>\n",
       "      <td>0.0</td>\n",
       "      <td>0.0</td>\n",
       "      <td>2.0</td>\n",
       "      <td>0.0</td>\n",
       "      <td>1.0</td>\n",
       "      <td>0.0</td>\n",
       "    </tr>\n",
       "    <tr>\n",
       "      <th>9764</th>\n",
       "      <td>7116.0</td>\n",
       "      <td>7116.0</td>\n",
       "      <td>0.0</td>\n",
       "      <td>158.0</td>\n",
       "      <td>0.0</td>\n",
       "      <td>132.0</td>\n",
       "      <td>233.0</td>\n",
       "      <td>250.0</td>\n",
       "      <td>357.0</td>\n",
       "      <td>410.0</td>\n",
       "      <td>276.0</td>\n",
       "      <td>213.0</td>\n",
       "      <td>215.0</td>\n",
       "      <td>284.0</td>\n",
       "      <td>297.0</td>\n",
       "      <td>211.0</td>\n",
       "      <td>500.0</td>\n",
       "      <td>247.0</td>\n",
       "      <td>163.0</td>\n",
       "    </tr>\n",
       "    <tr>\n",
       "      <th>13639</th>\n",
       "      <td>33439.0</td>\n",
       "      <td>31191.0</td>\n",
       "      <td>2248.0</td>\n",
       "      <td>2044.0</td>\n",
       "      <td>42.0</td>\n",
       "      <td>529.0</td>\n",
       "      <td>566.0</td>\n",
       "      <td>503.0</td>\n",
       "      <td>614.0</td>\n",
       "      <td>627.0</td>\n",
       "      <td>731.0</td>\n",
       "      <td>484.0</td>\n",
       "      <td>680.0</td>\n",
       "      <td>349.0</td>\n",
       "      <td>449.0</td>\n",
       "      <td>520.0</td>\n",
       "      <td>597.0</td>\n",
       "      <td>636.0</td>\n",
       "      <td>471.0</td>\n",
       "    </tr>\n",
       "    <tr>\n",
       "      <th>17306</th>\n",
       "      <td>57504.0</td>\n",
       "      <td>57504.0</td>\n",
       "      <td>0.0</td>\n",
       "      <td>630.0</td>\n",
       "      <td>16.0</td>\n",
       "      <td>701.0</td>\n",
       "      <td>1138.0</td>\n",
       "      <td>1249.0</td>\n",
       "      <td>1475.0</td>\n",
       "      <td>1236.0</td>\n",
       "      <td>1184.0</td>\n",
       "      <td>1371.0</td>\n",
       "      <td>869.0</td>\n",
       "      <td>1272.0</td>\n",
       "      <td>1642.0</td>\n",
       "      <td>1213.0</td>\n",
       "      <td>961.0</td>\n",
       "      <td>919.0</td>\n",
       "      <td>1098.0</td>\n",
       "    </tr>\n",
       "    <tr>\n",
       "      <th>20180</th>\n",
       "      <td>5215.0</td>\n",
       "      <td>4677.0</td>\n",
       "      <td>538.0</td>\n",
       "      <td>140.0</td>\n",
       "      <td>0.0</td>\n",
       "      <td>25.0</td>\n",
       "      <td>40.0</td>\n",
       "      <td>27.0</td>\n",
       "      <td>44.0</td>\n",
       "      <td>30.0</td>\n",
       "      <td>43.0</td>\n",
       "      <td>21.0</td>\n",
       "      <td>23.0</td>\n",
       "      <td>55.0</td>\n",
       "      <td>0.0</td>\n",
       "      <td>29.0</td>\n",
       "      <td>42.0</td>\n",
       "      <td>31.0</td>\n",
       "      <td>27.0</td>\n",
       "    </tr>\n",
       "    <tr>\n",
       "      <th>...</th>\n",
       "      <td>...</td>\n",
       "      <td>...</td>\n",
       "      <td>...</td>\n",
       "      <td>...</td>\n",
       "      <td>...</td>\n",
       "      <td>...</td>\n",
       "      <td>...</td>\n",
       "      <td>...</td>\n",
       "      <td>...</td>\n",
       "      <td>...</td>\n",
       "      <td>...</td>\n",
       "      <td>...</td>\n",
       "      <td>...</td>\n",
       "      <td>...</td>\n",
       "      <td>...</td>\n",
       "      <td>...</td>\n",
       "      <td>...</td>\n",
       "      <td>...</td>\n",
       "      <td>...</td>\n",
       "    </tr>\n",
       "    <tr>\n",
       "      <th>20160</th>\n",
       "      <td>4197.0</td>\n",
       "      <td>3767.0</td>\n",
       "      <td>430.0</td>\n",
       "      <td>127.0</td>\n",
       "      <td>0.0</td>\n",
       "      <td>24.0</td>\n",
       "      <td>29.0</td>\n",
       "      <td>26.0</td>\n",
       "      <td>20.0</td>\n",
       "      <td>19.0</td>\n",
       "      <td>-1.0</td>\n",
       "      <td>9.0</td>\n",
       "      <td>16.0</td>\n",
       "      <td>11.0</td>\n",
       "      <td>18.0</td>\n",
       "      <td>5.0</td>\n",
       "      <td>17.0</td>\n",
       "      <td>5.0</td>\n",
       "      <td>12.0</td>\n",
       "    </tr>\n",
       "    <tr>\n",
       "      <th>4950</th>\n",
       "      <td>58694.0</td>\n",
       "      <td>51736.0</td>\n",
       "      <td>6958.0</td>\n",
       "      <td>572.0</td>\n",
       "      <td>10.0</td>\n",
       "      <td>1073.0</td>\n",
       "      <td>950.0</td>\n",
       "      <td>987.0</td>\n",
       "      <td>873.0</td>\n",
       "      <td>698.0</td>\n",
       "      <td>510.0</td>\n",
       "      <td>878.0</td>\n",
       "      <td>1094.0</td>\n",
       "      <td>718.0</td>\n",
       "      <td>645.0</td>\n",
       "      <td>584.0</td>\n",
       "      <td>597.0</td>\n",
       "      <td>365.0</td>\n",
       "      <td>613.0</td>\n",
       "    </tr>\n",
       "    <tr>\n",
       "      <th>13760</th>\n",
       "      <td>126868.0</td>\n",
       "      <td>117450.0</td>\n",
       "      <td>9418.0</td>\n",
       "      <td>9008.0</td>\n",
       "      <td>21.0</td>\n",
       "      <td>315.0</td>\n",
       "      <td>349.0</td>\n",
       "      <td>571.0</td>\n",
       "      <td>0.0</td>\n",
       "      <td>109.0</td>\n",
       "      <td>431.0</td>\n",
       "      <td>313.0</td>\n",
       "      <td>352.0</td>\n",
       "      <td>221.0</td>\n",
       "      <td>249.0</td>\n",
       "      <td>394.0</td>\n",
       "      <td>-882.0</td>\n",
       "      <td>1826.0</td>\n",
       "      <td>319.0</td>\n",
       "    </tr>\n",
       "    <tr>\n",
       "      <th>796</th>\n",
       "      <td>74506.0</td>\n",
       "      <td>74506.0</td>\n",
       "      <td>NaN</td>\n",
       "      <td>1218.0</td>\n",
       "      <td>1.0</td>\n",
       "      <td>627.0</td>\n",
       "      <td>795.0</td>\n",
       "      <td>1010.0</td>\n",
       "      <td>400.0</td>\n",
       "      <td>462.0</td>\n",
       "      <td>393.0</td>\n",
       "      <td>763.0</td>\n",
       "      <td>991.0</td>\n",
       "      <td>1105.0</td>\n",
       "      <td>885.0</td>\n",
       "      <td>818.0</td>\n",
       "      <td>625.0</td>\n",
       "      <td>615.0</td>\n",
       "      <td>1009.0</td>\n",
       "    </tr>\n",
       "    <tr>\n",
       "      <th>18464</th>\n",
       "      <td>138.0</td>\n",
       "      <td>138.0</td>\n",
       "      <td>NaN</td>\n",
       "      <td>5.0</td>\n",
       "      <td>0.0</td>\n",
       "      <td>0.0</td>\n",
       "      <td>0.0</td>\n",
       "      <td>0.0</td>\n",
       "      <td>0.0</td>\n",
       "      <td>1.0</td>\n",
       "      <td>0.0</td>\n",
       "      <td>0.0</td>\n",
       "      <td>0.0</td>\n",
       "      <td>2.0</td>\n",
       "      <td>0.0</td>\n",
       "      <td>3.0</td>\n",
       "      <td>2.0</td>\n",
       "      <td>5.0</td>\n",
       "      <td>1.0</td>\n",
       "    </tr>\n",
       "  </tbody>\n",
       "</table>\n",
       "<p>11820 rows × 19 columns</p>\n",
       "</div>"
      ],
      "text/plain": [
       "       tot_cases  conf_cases  prob_cases  tot_death  new_death  \\\n",
       "7410        24.0        24.0         NaN        0.0        0.0   \n",
       "9764      7116.0      7116.0         0.0      158.0        0.0   \n",
       "13639    33439.0     31191.0      2248.0     2044.0       42.0   \n",
       "17306    57504.0     57504.0         0.0      630.0       16.0   \n",
       "20180     5215.0      4677.0       538.0      140.0        0.0   \n",
       "...          ...         ...         ...        ...        ...   \n",
       "20160     4197.0      3767.0       430.0      127.0        0.0   \n",
       "4950     58694.0     51736.0      6958.0      572.0       10.0   \n",
       "13760   126868.0    117450.0      9418.0     9008.0       21.0   \n",
       "796      74506.0     74506.0         NaN     1218.0        1.0   \n",
       "18464      138.0       138.0         NaN        5.0        0.0   \n",
       "\n",
       "       new_case_his_1  new_case_his_2  new_case_his_3  new_case_his_4  \\\n",
       "7410              5.0             4.0             1.0             0.0   \n",
       "9764            132.0           233.0           250.0           357.0   \n",
       "13639           529.0           566.0           503.0           614.0   \n",
       "17306           701.0          1138.0          1249.0          1475.0   \n",
       "20180            25.0            40.0            27.0            44.0   \n",
       "...               ...             ...             ...             ...   \n",
       "20160            24.0            29.0            26.0            20.0   \n",
       "4950           1073.0           950.0           987.0           873.0   \n",
       "13760           315.0           349.0           571.0             0.0   \n",
       "796             627.0           795.0          1010.0           400.0   \n",
       "18464             0.0             0.0             0.0             0.0   \n",
       "\n",
       "       new_case_his_5  new_case_his_6  new_case_his_7  new_case_his_8  \\\n",
       "7410              7.0             4.0             0.0             0.0   \n",
       "9764            410.0           276.0           213.0           215.0   \n",
       "13639           627.0           731.0           484.0           680.0   \n",
       "17306          1236.0          1184.0          1371.0           869.0   \n",
       "20180            30.0            43.0            21.0            23.0   \n",
       "...               ...             ...             ...             ...   \n",
       "20160            19.0            -1.0             9.0            16.0   \n",
       "4950            698.0           510.0           878.0          1094.0   \n",
       "13760           109.0           431.0           313.0           352.0   \n",
       "796             462.0           393.0           763.0           991.0   \n",
       "18464             1.0             0.0             0.0             0.0   \n",
       "\n",
       "       new_case_his_9  new_case_his_10  new_case_his_11  new_case_his_12  \\\n",
       "7410              0.0              0.0              2.0              0.0   \n",
       "9764            284.0            297.0            211.0            500.0   \n",
       "13639           349.0            449.0            520.0            597.0   \n",
       "17306          1272.0           1642.0           1213.0            961.0   \n",
       "20180            55.0              0.0             29.0             42.0   \n",
       "...               ...              ...              ...              ...   \n",
       "20160            11.0             18.0              5.0             17.0   \n",
       "4950            718.0            645.0            584.0            597.0   \n",
       "13760           221.0            249.0            394.0           -882.0   \n",
       "796            1105.0            885.0            818.0            625.0   \n",
       "18464             2.0              0.0              3.0              2.0   \n",
       "\n",
       "       new_case_his_13  new_case_his_14  \n",
       "7410               1.0              0.0  \n",
       "9764             247.0            163.0  \n",
       "13639            636.0            471.0  \n",
       "17306            919.0           1098.0  \n",
       "20180             31.0             27.0  \n",
       "...                ...              ...  \n",
       "20160              5.0             12.0  \n",
       "4950             365.0            613.0  \n",
       "13760           1826.0            319.0  \n",
       "796              615.0           1009.0  \n",
       "18464              5.0              1.0  \n",
       "\n",
       "[11820 rows x 19 columns]"
      ]
     },
     "execution_count": 23,
     "metadata": {},
     "output_type": "execute_result"
    }
   ],
   "source": [
    "\n",
    "tmp = elimator.transform(train_X_df)\n",
    "tmp"
   ]
  },
  {
   "cell_type": "markdown",
   "metadata": {
    "id": "WtICMrfQwyQh"
   },
   "source": [
    "### Xây dựng pipeline\n",
    "\n"
   ]
  },
  {
   "cell_type": "markdown",
   "metadata": {
    "id": "Qug1v-6ZJZP7"
   },
   "source": [
    "Các thuộc tính sẽ được fill bằng `mean` nhằm đảm bảo không còn nơi nào bị thiếu dữ liệu kể cả trên bộ test mới."
   ]
  },
  {
   "cell_type": "markdown",
   "metadata": {
    "id": "siTPr8oHWUU7"
   },
   "source": [
    "## Tiền xử lý + mô hình hóa"
   ]
  },
  {
   "cell_type": "markdown",
   "metadata": {
    "id": "cHE82zKXWZLF"
   },
   "source": [
    "### Tìm mô hình tốt nhất"
   ]
  },
  {
   "cell_type": "code",
   "execution_count": 24,
   "metadata": {
    "colab": {
     "base_uri": "https://localhost:8080/"
    },
    "id": "77T-qj7JJYmo",
    "outputId": "2b38e13f-54a6-4ddd-dd2c-68c40319f4bc"
   },
   "outputs": [
    {
     "name": "stderr",
     "output_type": "stream",
     "text": [
      "/home/codespace/.local/lib/python3.8/site-packages/sklearn/neural_network/_multilayer_perceptron.py:500: ConvergenceWarning: lbfgs failed to converge (status=1):\n",
      "STOP: TOTAL NO. of ITERATIONS REACHED LIMIT.\n",
      "\n",
      "Increase the number of iterations (max_iter) or scale the data as shown in:\n",
      "    https://scikit-learn.org/stable/modules/preprocessing.html\n",
      "  self.n_iter_ = _check_optimize_result(\"lbfgs\", opt_res, self.max_iter)\n"
     ]
    },
    {
     "data": {
      "text/html": [
       "<style>div.sk-top-container {color: black;background-color: white;}div.sk-toggleable {background-color: white;}label.sk-toggleable__label {cursor: pointer;display: block;width: 100%;margin-bottom: 0;padding: 0.2em 0.3em;box-sizing: border-box;text-align: center;}div.sk-toggleable__content {max-height: 0;max-width: 0;overflow: hidden;text-align: left;background-color: #f0f8ff;}div.sk-toggleable__content pre {margin: 0.2em;color: black;border-radius: 0.25em;background-color: #f0f8ff;}input.sk-toggleable__control:checked~div.sk-toggleable__content {max-height: 200px;max-width: 100%;overflow: auto;}div.sk-estimator input.sk-toggleable__control:checked~label.sk-toggleable__label {background-color: #d4ebff;}div.sk-label input.sk-toggleable__control:checked~label.sk-toggleable__label {background-color: #d4ebff;}input.sk-hidden--visually {border: 0;clip: rect(1px 1px 1px 1px);clip: rect(1px, 1px, 1px, 1px);height: 1px;margin: -1px;overflow: hidden;padding: 0;position: absolute;width: 1px;}div.sk-estimator {font-family: monospace;background-color: #f0f8ff;margin: 0.25em 0.25em;border: 1px dotted black;border-radius: 0.25em;box-sizing: border-box;}div.sk-estimator:hover {background-color: #d4ebff;}div.sk-parallel-item::after {content: \"\";width: 100%;border-bottom: 1px solid gray;flex-grow: 1;}div.sk-label:hover label.sk-toggleable__label {background-color: #d4ebff;}div.sk-serial::before {content: \"\";position: absolute;border-left: 1px solid gray;box-sizing: border-box;top: 2em;bottom: 0;left: 50%;}div.sk-serial {display: flex;flex-direction: column;align-items: center;background-color: white;}div.sk-item {z-index: 1;}div.sk-parallel {display: flex;align-items: stretch;justify-content: center;background-color: white;}div.sk-parallel-item {display: flex;flex-direction: column;position: relative;background-color: white;}div.sk-parallel-item:first-child::after {align-self: flex-end;width: 50%;}div.sk-parallel-item:last-child::after {align-self: flex-start;width: 50%;}div.sk-parallel-item:only-child::after {width: 0;}div.sk-dashed-wrapped {border: 1px dashed gray;margin: 0.2em;box-sizing: border-box;padding-bottom: 0.1em;background-color: white;position: relative;}div.sk-label label {font-family: monospace;font-weight: bold;background-color: white;display: inline-block;line-height: 1.2em;}div.sk-label-container {position: relative;z-index: 2;text-align: center;}div.sk-container {display: inline-block;position: relative;}</style><div class=\"sk-top-container\"><div class=\"sk-container\"><div class=\"sk-item sk-dashed-wrapped\"><div class=\"sk-label-container\"><div class=\"sk-label sk-toggleable\"><input class=\"sk-toggleable__control sk-hidden--visually\" id=\"a3c62f06-9ef5-4a4b-9657-721f68d8f5a3\" type=\"checkbox\" ><label class=\"sk-toggleable__label\" for=\"a3c62f06-9ef5-4a4b-9657-721f68d8f5a3\">Pipeline</label><div class=\"sk-toggleable__content\"><pre>Pipeline(steps=[('coldropper', ColDropper()),\n",
       "                ('simpleimputer', SimpleImputer()),\n",
       "                ('standardscaler', StandardScaler()),\n",
       "                ('mlpregressor',\n",
       "                 MLPRegressor(activation='tanh', hidden_layer_sizes=30,\n",
       "                              max_iter=5000, random_state=0, solver='lbfgs'))])</pre></div></div></div><div class=\"sk-serial\"><div class=\"sk-item\"><div class=\"sk-estimator sk-toggleable\"><input class=\"sk-toggleable__control sk-hidden--visually\" id=\"bb448039-761b-420f-accc-30b8279b8a8e\" type=\"checkbox\" ><label class=\"sk-toggleable__label\" for=\"bb448039-761b-420f-accc-30b8279b8a8e\">ColDropper</label><div class=\"sk-toggleable__content\"><pre>ColDropper()</pre></div></div></div><div class=\"sk-item\"><div class=\"sk-estimator sk-toggleable\"><input class=\"sk-toggleable__control sk-hidden--visually\" id=\"63228426-bd7b-448c-9317-f9f508983174\" type=\"checkbox\" ><label class=\"sk-toggleable__label\" for=\"63228426-bd7b-448c-9317-f9f508983174\">SimpleImputer</label><div class=\"sk-toggleable__content\"><pre>SimpleImputer()</pre></div></div></div><div class=\"sk-item\"><div class=\"sk-estimator sk-toggleable\"><input class=\"sk-toggleable__control sk-hidden--visually\" id=\"9c259cd8-4f49-4b69-9f55-2198be9d1cb1\" type=\"checkbox\" ><label class=\"sk-toggleable__label\" for=\"9c259cd8-4f49-4b69-9f55-2198be9d1cb1\">StandardScaler</label><div class=\"sk-toggleable__content\"><pre>StandardScaler()</pre></div></div></div><div class=\"sk-item\"><div class=\"sk-estimator sk-toggleable\"><input class=\"sk-toggleable__control sk-hidden--visually\" id=\"0a114d18-e95b-4038-b29d-2e5dd03c830f\" type=\"checkbox\" ><label class=\"sk-toggleable__label\" for=\"0a114d18-e95b-4038-b29d-2e5dd03c830f\">MLPRegressor</label><div class=\"sk-toggleable__content\"><pre>MLPRegressor(activation='tanh', hidden_layer_sizes=30, max_iter=5000,\n",
       "             random_state=0, solver='lbfgs')</pre></div></div></div></div></div></div></div>"
      ],
      "text/plain": [
       "Pipeline(steps=[('coldropper', ColDropper()),\n",
       "                ('simpleimputer', SimpleImputer()),\n",
       "                ('standardscaler', StandardScaler()),\n",
       "                ('mlpregressor',\n",
       "                 MLPRegressor(activation='tanh', hidden_layer_sizes=30,\n",
       "                              max_iter=5000, random_state=0, solver='lbfgs'))])"
      ]
     },
     "execution_count": 24,
     "metadata": {},
     "output_type": "execute_result"
    }
   ],
   "source": [
    "pipe_line = make_pipeline(ColDropper(), SimpleImputer(strategy='mean'),\n",
    "            StandardScaler(),\n",
    "            MLPRegressor(hidden_layer_sizes=(30), activation='tanh', solver='lbfgs', max_iter=5000, random_state=0))\n",
    "\n",
    "\n",
    "pipe_line.fit(train_X_df, train_y_sr)"
   ]
  },
  {
   "cell_type": "markdown",
   "metadata": {
    "id": "gTKMNZBrSvSK"
   },
   "source": [
    "Thử validation xem sao"
   ]
  },
  {
   "cell_type": "code",
   "execution_count": 25,
   "metadata": {},
   "outputs": [
    {
     "data": {
      "text/plain": [
       "28.055196603750776"
      ]
     },
     "execution_count": 25,
     "metadata": {},
     "output_type": "execute_result"
    }
   ],
   "source": [
    "train_err = (1 - r2_score(train_y_sr, pipe_line.predict(train_X_df))) * 100\n",
    "train_err"
   ]
  },
  {
   "cell_type": "code",
   "execution_count": 26,
   "metadata": {
    "colab": {
     "base_uri": "https://localhost:8080/"
    },
    "id": "35Wm0C46RL2H",
    "outputId": "cad5e386-adb2-48f1-86dc-937b3bd8fdc9"
   },
   "outputs": [
    {
     "data": {
      "text/plain": [
       "32.482707942425534"
      ]
     },
     "execution_count": 26,
     "metadata": {},
     "output_type": "execute_result"
    }
   ],
   "source": [
    "val_err = (1 - r2_score(val_y_sr, pipe_line.predict(val_X_df))) * 100        \n",
    "val_err"
   ]
  },
  {
   "cell_type": "markdown",
   "metadata": {
    "id": "FoPZ0ekm9dWJ"
   },
   "source": [
    "### Đánh giá mô hình tìm được"
   ]
  }
 ],
 "metadata": {
  "colab": {
   "collapsed_sections": [],
   "name": "LabFinal.ipynb",
   "provenance": [],
   "toc_visible": true
  },
  "kernelspec": {
   "display_name": "Python 3",
   "language": "python",
   "name": "python3"
  },
  "language_info": {
   "codemirror_mode": {
    "name": "ipython",
    "version": 3
   },
   "file_extension": ".py",
   "mimetype": "text/x-python",
   "name": "python",
   "nbconvert_exporter": "python",
   "pygments_lexer": "ipython3",
   "version": "3.8.6-final"
  }
 },
 "nbformat": 4,
 "nbformat_minor": 1
}