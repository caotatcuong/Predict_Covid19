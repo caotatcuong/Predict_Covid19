{
  "nbformat": 4,
  "nbformat_minor": 0,
  "metadata": {
    "kernelspec": {
      "display_name": "Python 3",
      "language": "python",
      "name": "python3"
    },
    "language_info": {
      "codemirror_mode": {
        "name": "ipython",
        "version": 3
      },
      "file_extension": ".py",
      "mimetype": "text/x-python",
      "name": "python",
      "nbconvert_exporter": "python",
      "pygments_lexer": "ipython3",
      "version": "3.7.6"
    },
    "colab": {
      "name": "LabFinal.ipynb",
      "provenance": [],
      "collapsed_sections": [],
      "toc_visible": true
    }
  },
  "cells": [
    {
      "cell_type": "markdown",
      "metadata": {
        "id": "nZe79UMqTsHr"
      },
      "source": [
        "# Data Science - Project Final\r\n",
        "\r\n",
        "Danh sách thành viên:\r\n",
        "\r\n",
        "|MSSV|Họ và Tên\r\n",
        "|:---|:-\r\n",
        "|18120296|Cao Tất Cường\r\n",
        "|18120339|Hà Văn Duy\r\n",
        "\r\n",
        " "
      ]
    },
    {
      "cell_type": "markdown",
      "metadata": {
        "id": "ceAa59HzV1V0"
      },
      "source": [
        "## Tổng quan"
      ]
    },
    {
      "cell_type": "markdown",
      "metadata": {
        "id": "PnUcD9P6XM5H"
      },
      "source": [
        "**COVID-19**\r\n",
        "\r\n",
        "Đây là đại dịch bệnh tryền nhiễm nguy hiểm, phát hiện lần đầu tiên ở Trung Quốc sau đó nhanh chóng lan rộng ra toàn thế giới.  \r\n",
        "Người mắc phải virus gây bệnh (SARS-CoV-2) thường sẽ có một khoảng thời gian ủ bệnh từ **2 - 14 ngày**, sau đó xuất hiện triệu chứng, một vài trường hợp có thể diễn tiến rất nhanh trở thành ca bệnh nặng, có thể dẫn đến tử vong.\r\n",
        "\r\n",
        "Thời điểm hiện tại, vacxin vẫn chưa được phân phối rộng rãi và kiểm định kết quả, đồng thời vẫn chưa có thuốc chữa đặc hiệu. Vì vậy, các bệnh nhân cần được chăm sóc y tế hồi sức để cơ thể tự sản sinh ra đề kháng và khỏi bệnh.  \r\n",
        "Đây là một dịch bệnh nghiêm trọng, vì vậy việc theo dõi sự tác động của nó với xã hội là điều cực kì cần thiết nhằm đưa ra các chính sách, giải pháp phù hợp để cải thiện tình hình, tiến tới xóa bỏ đại dịch trong tương lai gần.\r\n",
        "\r\n"
      ]
    },
    {
      "cell_type": "markdown",
      "metadata": {
        "id": "5Pb534S6anEm"
      },
      "source": [
        "https://vietnamese.cdc.gov/coronavirus/2019-ncov/cases-updates/about-us-cases-deaths.html\r\n",
        "\r\n",
        "https://data.cdc.gov/Case-Surveillance/United-States-COVID-19-Cases-and-Deaths-by-State-o/9mfq-cb36"
      ]
    },
    {
      "cell_type": "markdown",
      "metadata": {
        "id": "yCYR0inN8j9h"
      },
      "source": [
        "## Cài đặt và import các thư viện cần thiết"
      ]
    },
    {
      "cell_type": "code",
      "metadata": {
        "id": "AjRkjKXAen5R"
      },
      "source": [
        "# handle output to /dev/null to ignore text outputs xD\r\n",
        "!pip install sodapy > /dev/null\r\n",
        "\r\n",
        "# update sklearn to support set_config attr (see this answer: https://stackoverflow.com/a/62481510)\r\n",
        "!pip install --upgrade scikit-learn > /dev/null"
      ],
      "execution_count": null,
      "outputs": []
    },
    {
      "cell_type": "code",
      "metadata": {
        "id": "iMVk87OoeOcJ"
      },
      "source": [
        "import pandas as pd\n",
        "import numpy as np\n",
        "import matplotlib.pyplot as plt\n",
        "from sklearn.model_selection import train_test_split\n",
        "from sklearn.linear_model import LinearRegression\n",
        "from sklearn.neural_network import MLPRegressor\n",
        "\n",
        "from sklearn.preprocessing import StandardScaler\n",
        "from sklearn.impute import SimpleImputer\n",
        "from sklearn.base import BaseEstimator, TransformerMixin\n",
        "from sklearn.pipeline import Pipeline, make_pipeline\n",
        "from sklearn.compose import ColumnTransformer, make_column_transformer\n",
        "\n",
        "from sklearn import set_config\n",
        "set_config(display='diagram')\n",
        "\n",
        "from sodapy import Socrata\n",
        "\n",
        "import regex as re\n",
        "from sklearn.metrics import r2_score"
      ],
      "execution_count": null,
      "outputs": []
    },
    {
      "cell_type": "markdown",
      "metadata": {
        "id": "tUC8uafS8VxZ"
      },
      "source": [
        "## Thu thập dữ liệu"
      ]
    },
    {
      "cell_type": "code",
      "metadata": {
        "colab": {
          "base_uri": "https://localhost:8080/"
        },
        "id": "JEGm9zy18GIK",
        "outputId": "6e7205d3-5ac2-439c-ab00-03de27d099a2"
      },
      "source": [
        "client = Socrata(\"data.cdc.gov\", None)\r\n",
        " \r\n",
        "results = client.get(\"9mfq-cb36\", limit=30000)\r\n",
        " \r\n",
        "data_df = pd.json_normalize(results)"
      ],
      "execution_count": null,
      "outputs": [
        {
          "output_type": "stream",
          "text": [
            "WARNING:root:Requests made without an app_token will be subject to strict throttling limits.\n"
          ],
          "name": "stderr"
        }
      ]
    },
    {
      "cell_type": "markdown",
      "metadata": {
        "id": "gr8RX2JwWCvH"
      },
      "source": [
        "## Khám phá dữ liệu (đủ để có thể xác định câu hỏi)"
      ]
    },
    {
      "cell_type": "code",
      "metadata": {
        "id": "0fLtd0wMrIBr",
        "colab": {
          "base_uri": "https://localhost:8080/",
          "height": 299
        },
        "outputId": "4159cc89-68e4-4d12-d0b9-107c354bd35c"
      },
      "source": [
        "data_df.head()"
      ],
      "execution_count": null,
      "outputs": [
        {
          "output_type": "execute_result",
          "data": {
            "text/html": [
              "<div>\n",
              "<style scoped>\n",
              "    .dataframe tbody tr th:only-of-type {\n",
              "        vertical-align: middle;\n",
              "    }\n",
              "\n",
              "    .dataframe tbody tr th {\n",
              "        vertical-align: top;\n",
              "    }\n",
              "\n",
              "    .dataframe thead th {\n",
              "        text-align: right;\n",
              "    }\n",
              "</style>\n",
              "<table border=\"1\" class=\"dataframe\">\n",
              "  <thead>\n",
              "    <tr style=\"text-align: right;\">\n",
              "      <th></th>\n",
              "      <th>submission_date</th>\n",
              "      <th>state</th>\n",
              "      <th>tot_cases</th>\n",
              "      <th>conf_cases</th>\n",
              "      <th>prob_cases</th>\n",
              "      <th>new_case</th>\n",
              "      <th>pnew_case</th>\n",
              "      <th>tot_death</th>\n",
              "      <th>conf_death</th>\n",
              "      <th>prob_death</th>\n",
              "      <th>new_death</th>\n",
              "      <th>pnew_death</th>\n",
              "      <th>created_at</th>\n",
              "      <th>consent_cases</th>\n",
              "      <th>consent_deaths</th>\n",
              "    </tr>\n",
              "  </thead>\n",
              "  <tbody>\n",
              "    <tr>\n",
              "      <th>0</th>\n",
              "      <td>2020-05-04T00:00:00.000</td>\n",
              "      <td>KY</td>\n",
              "      <td>5245</td>\n",
              "      <td>5245.0</td>\n",
              "      <td>0</td>\n",
              "      <td>115.0</td>\n",
              "      <td>0</td>\n",
              "      <td>261</td>\n",
              "      <td>261.0</td>\n",
              "      <td>0</td>\n",
              "      <td>8.0</td>\n",
              "      <td>0</td>\n",
              "      <td>2020-05-05T17:25:08.000</td>\n",
              "      <td>Agree</td>\n",
              "      <td>Agree</td>\n",
              "    </tr>\n",
              "    <tr>\n",
              "      <th>1</th>\n",
              "      <td>2020-12-08T00:00:00.000</td>\n",
              "      <td>OK</td>\n",
              "      <td>205999</td>\n",
              "      <td>171497.0</td>\n",
              "      <td>34502</td>\n",
              "      <td>0.0</td>\n",
              "      <td>0</td>\n",
              "      <td>1752</td>\n",
              "      <td>1680.0</td>\n",
              "      <td>72</td>\n",
              "      <td>0.0</td>\n",
              "      <td>0</td>\n",
              "      <td>2020-12-09T14:45:40.234</td>\n",
              "      <td>Agree</td>\n",
              "      <td>Agree</td>\n",
              "    </tr>\n",
              "    <tr>\n",
              "      <th>2</th>\n",
              "      <td>2020-04-30T00:00:00.000</td>\n",
              "      <td>IA</td>\n",
              "      <td>7145</td>\n",
              "      <td>NaN</td>\n",
              "      <td>NaN</td>\n",
              "      <td>302.0</td>\n",
              "      <td>0</td>\n",
              "      <td>162</td>\n",
              "      <td>NaN</td>\n",
              "      <td>NaN</td>\n",
              "      <td>14.0</td>\n",
              "      <td>0</td>\n",
              "      <td>2020-05-01T21:00:19.025</td>\n",
              "      <td>Not agree</td>\n",
              "      <td>Not agree</td>\n",
              "    </tr>\n",
              "    <tr>\n",
              "      <th>3</th>\n",
              "      <td>2020-06-25T00:00:00.000</td>\n",
              "      <td>NE</td>\n",
              "      <td>18346</td>\n",
              "      <td>NaN</td>\n",
              "      <td>NaN</td>\n",
              "      <td>125.0</td>\n",
              "      <td>0</td>\n",
              "      <td>260</td>\n",
              "      <td>NaN</td>\n",
              "      <td>NaN</td>\n",
              "      <td>3.0</td>\n",
              "      <td>0</td>\n",
              "      <td>2020-06-26T19:18:27.809</td>\n",
              "      <td>Not agree</td>\n",
              "      <td>Not agree</td>\n",
              "    </tr>\n",
              "    <tr>\n",
              "      <th>4</th>\n",
              "      <td>2020-02-24T00:00:00.000</td>\n",
              "      <td>CA</td>\n",
              "      <td>10</td>\n",
              "      <td>NaN</td>\n",
              "      <td>NaN</td>\n",
              "      <td>0.0</td>\n",
              "      <td>NaN</td>\n",
              "      <td>0</td>\n",
              "      <td>NaN</td>\n",
              "      <td>NaN</td>\n",
              "      <td>0.0</td>\n",
              "      <td>NaN</td>\n",
              "      <td>2020-03-26T16:22:39.452</td>\n",
              "      <td>Not agree</td>\n",
              "      <td>Not agree</td>\n",
              "    </tr>\n",
              "  </tbody>\n",
              "</table>\n",
              "</div>"
            ],
            "text/plain": [
              "           submission_date state  ... consent_cases consent_deaths\n",
              "0  2020-05-04T00:00:00.000    KY  ...         Agree          Agree\n",
              "1  2020-12-08T00:00:00.000    OK  ...         Agree          Agree\n",
              "2  2020-04-30T00:00:00.000    IA  ...     Not agree      Not agree\n",
              "3  2020-06-25T00:00:00.000    NE  ...     Not agree      Not agree\n",
              "4  2020-02-24T00:00:00.000    CA  ...     Not agree      Not agree\n",
              "\n",
              "[5 rows x 15 columns]"
            ]
          },
          "metadata": {
            "tags": []
          },
          "execution_count": 4
        }
      ]
    },
    {
      "cell_type": "markdown",
      "metadata": {
        "id": "p58_wPwV_kSm"
      },
      "source": [
        "### Dữ liệu có bao nhiêu dòng và bao nhiêu cột?"
      ]
    },
    {
      "cell_type": "code",
      "metadata": {
        "id": "uJO6unIWS6Zg",
        "colab": {
          "base_uri": "https://localhost:8080/"
        },
        "outputId": "960113c4-0b21-4a52-cf56-c1faf9e74f6d"
      },
      "source": [
        "data_df.shape"
      ],
      "execution_count": null,
      "outputs": [
        {
          "output_type": "execute_result",
          "data": {
            "text/plain": [
              "(20520, 15)"
            ]
          },
          "metadata": {
            "tags": []
          },
          "execution_count": 5
        }
      ]
    },
    {
      "cell_type": "markdown",
      "metadata": {
        "id": "qvGvE3UyAEdA"
      },
      "source": [
        "### Mỗi dòng có ý nghĩa gì? Có vấn đề các dòng có ý nghĩa khác nhau không?"
      ]
    },
    {
      "cell_type": "markdown",
      "metadata": {
        "id": "BXRnapckAVc3"
      },
      "source": [
        "Quan sát sơ bộ dữ liệu ta thấy mỗi dòng chứa các thông tin về số tổng ca nhiễm, số ca nhiễm mới, sô ca tử vong,... của của 1 bang trong một ngày cụ thể."
      ]
    },
    {
      "cell_type": "markdown",
      "metadata": {
        "id": "8dfVmbj4BOEI"
      },
      "source": [
        "### Dữ liệu có các dòng bị lặp không?"
      ]
    },
    {
      "cell_type": "code",
      "metadata": {
        "id": "fW-b1zEYgoMH",
        "colab": {
          "base_uri": "https://localhost:8080/"
        },
        "outputId": "bfa6bf76-f985-496c-e263-51ddaf58aa7f"
      },
      "source": [
        "data_df.index.duplicated().sum()"
      ],
      "execution_count": null,
      "outputs": [
        {
          "output_type": "execute_result",
          "data": {
            "text/plain": [
              "0"
            ]
          },
          "metadata": {
            "tags": []
          },
          "execution_count": 6
        }
      ]
    },
    {
      "cell_type": "markdown",
      "metadata": {
        "id": "iRl1cKEBB6wY"
      },
      "source": [
        "### Mỗi cột có ý nghĩa gì?"
      ]
    },
    {
      "cell_type": "markdown",
      "metadata": {
        "id": "26fsqNq_CAf5"
      },
      "source": [
        "|VARIABLE|DESCRIPTION|TYPE|\r\n",
        "|---|----------------|------|\r\n",
        "|submission_date|Date of counts|Date & Time|      \r\n",
        "|state|Jurisdiction|Plain Text|  \r\n",
        "|tot_cases|Total number of cases|Number| \r\n",
        "|conf_cases|Total confirmed cases|Number|\r\n",
        "|prob_cases|Total probable cases|Number|\r\n",
        "|new_case|Number of new cases|Number|\r\n",
        "|pnew_case|Number of new probable cases|Number|\r\n",
        "|tot_death|Total number of deaths|Number|\r\n",
        "|conf_death|Total number of confirmed deaths|Number|\r\n",
        "|prob_death|Total number of probable deaths|Number|\r\n",
        "|new_death|Number of new deaths|Number|\r\n",
        "|pnew_death|Number of new probable deaths|Number|\r\n",
        "|created_at|Date and time record was created|Date & Time|\r\n",
        "|consent_cases|If Agree, then confirmed and probable cases are included. If Not Agree, then only total cases are included|Plain Text|\r\n",
        "|consent_deaths|If Agree, then confirmed and probable deaths are included. If Not Agree, then only total deaths are included|Plain Text|\r\n",
        "\r\n",
        "\r\n",
        "\t\r\n",
        "\r\n",
        "\r\n",
        "\t\r\n",
        "\r\n",
        "\r\n",
        "\t\r\n",
        "\r\n",
        "\r\n",
        "\t\r\n",
        "\r\n",
        "\r\n"
      ]
    },
    {
      "cell_type": "markdown",
      "metadata": {
        "id": "rzEtRDvItWdS"
      },
      "source": [
        "## Đưa ra câu hỏi cần trả lời"
      ]
    },
    {
      "cell_type": "markdown",
      "metadata": {
        "id": "KrCPbO-lI1NS"
      },
      "source": [
        "Số ca mắc mới trong một ngày bất kì (hợp lệ) là bao nhiêu?"
      ]
    },
    {
      "cell_type": "markdown",
      "metadata": {
        "id": "Qq_N6u1GJkse"
      },
      "source": [
        "## Tiền xử lý dữ liệu để phù hợp với bài toán"
      ]
    },
    {
      "cell_type": "code",
      "metadata": {
        "id": "G4PLTmaop3N3"
      },
      "source": [
        "# number of records will be collected\r\n",
        "callback_days = 28\r\n",
        "\r\n",
        "def add_row_df(df):\r\n",
        "    df = df.sort_values('submission_date', ascending=True)\r\n",
        "\r\n",
        "    # Validation data\r\n",
        "    for g in df.groupby('submission_date'):\r\n",
        "        if g[1].shape[0] > 1:\r\n",
        "            raise Exception(\"Error, please groupby dataset by date before pass to this func\")\r\n",
        "    \r\n",
        "    # MAGIC\r\n",
        "    new_case_data = df['new_case']\r\n",
        "    \r\n",
        "    l = None\r\n",
        "\r\n",
        "    for j in range(len(new_case_data)):\r\n",
        "        if j >= callback_days:\r\n",
        "            t = new_case_data.iloc[j - callback_days: j]\r\n",
        "            \r\n",
        "            # append row\r\n",
        "            l = np.r_[l, [np.flip(t)]]\r\n",
        "        else:\r\n",
        "            t = new_case_data.iloc[0: j + 1]\r\n",
        "            fill = np.r_[np.array(['0' for i in range(callback_days - len(t))]), t]\r\n",
        "\r\n",
        "            # append row\r\n",
        "            if l is None:\r\n",
        "                l = np.array([np.flip(fill)])\r\n",
        "            else:\r\n",
        "                l = np.r_[l, [np.flip(fill)]]\r\n",
        "    \r\n",
        "    df2 = pd.DataFrame(l, index=df.index, columns=[f\"new_case_his_{i}\" for i in range(1, callback_days + 1)])\r\n",
        "    \r\n",
        "    return pd.concat([df, df2], axis=1)"
      ],
      "execution_count": null,
      "outputs": []
    },
    {
      "cell_type": "code",
      "metadata": {
        "id": "khQt7rPN1dO0"
      },
      "source": [
        "collected_df = data_df.groupby('state').apply(add_row_df).reset_index(level='state', drop=True)"
      ],
      "execution_count": null,
      "outputs": []
    },
    {
      "cell_type": "code",
      "metadata": {
        "id": "ZP2eB894Nvu6"
      },
      "source": [
        "# correct? test this cell\r\n",
        "#collected_df.groupby('state').get_group('AK').sort_values('submission_date', ascending=True).tail(10) "
      ],
      "execution_count": null,
      "outputs": []
    },
    {
      "cell_type": "markdown",
      "metadata": {
        "id": "oUeJGTih1J0F"
      },
      "source": [
        "Ép về đúng kiểu dữ liệu"
      ]
    },
    {
      "cell_type": "code",
      "metadata": {
        "id": "FmamzkPv1I7F"
      },
      "source": [
        "whitelist = ['submission_date', 'state', 'created_at','consent_cases','consent_deaths']\r\n",
        "\r\n",
        "collected_df = collected_df.transform(lambda x: x if (x.name in whitelist) else pd.to_numeric(x, errors='coerce'))"
      ],
      "execution_count": null,
      "outputs": []
    },
    {
      "cell_type": "markdown",
      "metadata": {
        "id": "a7FdbL1s0RvS"
      },
      "source": [
        "Loại bỏ các dòng dữ liệu chắc chắn là nhiễu (những ngày chưa ghi nhận ca mắc nào)"
      ]
    },
    {
      "cell_type": "code",
      "metadata": {
        "id": "9eeEiEA3gDpJ",
        "colab": {
          "base_uri": "https://localhost:8080/",
          "height": 299
        },
        "outputId": "4cb2324d-a7ff-42c9-d487-7b5a7fbdf117"
      },
      "source": [
        "#add_row_df(results_df)\r\n",
        "collected_df = collected_df[collected_df['tot_cases'] > 0]\r\n",
        "collected_df.head()"
      ],
      "execution_count": null,
      "outputs": [
        {
          "output_type": "execute_result",
          "data": {
            "text/html": [
              "<div>\n",
              "<style scoped>\n",
              "    .dataframe tbody tr th:only-of-type {\n",
              "        vertical-align: middle;\n",
              "    }\n",
              "\n",
              "    .dataframe tbody tr th {\n",
              "        vertical-align: top;\n",
              "    }\n",
              "\n",
              "    .dataframe thead th {\n",
              "        text-align: right;\n",
              "    }\n",
              "</style>\n",
              "<table border=\"1\" class=\"dataframe\">\n",
              "  <thead>\n",
              "    <tr style=\"text-align: right;\">\n",
              "      <th></th>\n",
              "      <th>submission_date</th>\n",
              "      <th>state</th>\n",
              "      <th>tot_cases</th>\n",
              "      <th>conf_cases</th>\n",
              "      <th>prob_cases</th>\n",
              "      <th>new_case</th>\n",
              "      <th>pnew_case</th>\n",
              "      <th>tot_death</th>\n",
              "      <th>conf_death</th>\n",
              "      <th>prob_death</th>\n",
              "      <th>new_death</th>\n",
              "      <th>pnew_death</th>\n",
              "      <th>created_at</th>\n",
              "      <th>consent_cases</th>\n",
              "      <th>consent_deaths</th>\n",
              "      <th>new_case_his_1</th>\n",
              "      <th>new_case_his_2</th>\n",
              "      <th>new_case_his_3</th>\n",
              "      <th>new_case_his_4</th>\n",
              "      <th>new_case_his_5</th>\n",
              "      <th>new_case_his_6</th>\n",
              "      <th>new_case_his_7</th>\n",
              "      <th>new_case_his_8</th>\n",
              "      <th>new_case_his_9</th>\n",
              "      <th>new_case_his_10</th>\n",
              "      <th>new_case_his_11</th>\n",
              "      <th>new_case_his_12</th>\n",
              "      <th>new_case_his_13</th>\n",
              "      <th>new_case_his_14</th>\n",
              "      <th>new_case_his_15</th>\n",
              "      <th>new_case_his_16</th>\n",
              "      <th>new_case_his_17</th>\n",
              "      <th>new_case_his_18</th>\n",
              "      <th>new_case_his_19</th>\n",
              "      <th>new_case_his_20</th>\n",
              "      <th>new_case_his_21</th>\n",
              "      <th>new_case_his_22</th>\n",
              "      <th>new_case_his_23</th>\n",
              "      <th>new_case_his_24</th>\n",
              "      <th>new_case_his_25</th>\n",
              "      <th>new_case_his_26</th>\n",
              "      <th>new_case_his_27</th>\n",
              "      <th>new_case_his_28</th>\n",
              "    </tr>\n",
              "  </thead>\n",
              "  <tbody>\n",
              "    <tr>\n",
              "      <th>18512</th>\n",
              "      <td>2020-03-13T00:00:00.000</td>\n",
              "      <td>AK</td>\n",
              "      <td>1</td>\n",
              "      <td>NaN</td>\n",
              "      <td>NaN</td>\n",
              "      <td>1.0</td>\n",
              "      <td>NaN</td>\n",
              "      <td>0</td>\n",
              "      <td>NaN</td>\n",
              "      <td>NaN</td>\n",
              "      <td>0.0</td>\n",
              "      <td>NaN</td>\n",
              "      <td>2020-03-26T16:22:39.452</td>\n",
              "      <td>N/A</td>\n",
              "      <td>N/A</td>\n",
              "      <td>0.0</td>\n",
              "      <td>0.0</td>\n",
              "      <td>0.0</td>\n",
              "      <td>0.0</td>\n",
              "      <td>0.0</td>\n",
              "      <td>0.0</td>\n",
              "      <td>0.0</td>\n",
              "      <td>0.0</td>\n",
              "      <td>0.0</td>\n",
              "      <td>0.0</td>\n",
              "      <td>0.0</td>\n",
              "      <td>0.0</td>\n",
              "      <td>0.0</td>\n",
              "      <td>0.0</td>\n",
              "      <td>0.0</td>\n",
              "      <td>0.0</td>\n",
              "      <td>0.0</td>\n",
              "      <td>0.0</td>\n",
              "      <td>0.0</td>\n",
              "      <td>0.0</td>\n",
              "      <td>0.0</td>\n",
              "      <td>0.0</td>\n",
              "      <td>0.0</td>\n",
              "      <td>0.0</td>\n",
              "      <td>0.0</td>\n",
              "      <td>0.0</td>\n",
              "      <td>0.0</td>\n",
              "      <td>0.0</td>\n",
              "    </tr>\n",
              "    <tr>\n",
              "      <th>9152</th>\n",
              "      <td>2020-03-14T00:00:00.000</td>\n",
              "      <td>AK</td>\n",
              "      <td>1</td>\n",
              "      <td>NaN</td>\n",
              "      <td>NaN</td>\n",
              "      <td>0.0</td>\n",
              "      <td>NaN</td>\n",
              "      <td>0</td>\n",
              "      <td>NaN</td>\n",
              "      <td>NaN</td>\n",
              "      <td>0.0</td>\n",
              "      <td>NaN</td>\n",
              "      <td>2020-03-26T16:22:39.452</td>\n",
              "      <td>N/A</td>\n",
              "      <td>N/A</td>\n",
              "      <td>1.0</td>\n",
              "      <td>0.0</td>\n",
              "      <td>0.0</td>\n",
              "      <td>0.0</td>\n",
              "      <td>0.0</td>\n",
              "      <td>0.0</td>\n",
              "      <td>0.0</td>\n",
              "      <td>0.0</td>\n",
              "      <td>0.0</td>\n",
              "      <td>0.0</td>\n",
              "      <td>0.0</td>\n",
              "      <td>0.0</td>\n",
              "      <td>0.0</td>\n",
              "      <td>0.0</td>\n",
              "      <td>0.0</td>\n",
              "      <td>0.0</td>\n",
              "      <td>0.0</td>\n",
              "      <td>0.0</td>\n",
              "      <td>0.0</td>\n",
              "      <td>0.0</td>\n",
              "      <td>0.0</td>\n",
              "      <td>0.0</td>\n",
              "      <td>0.0</td>\n",
              "      <td>0.0</td>\n",
              "      <td>0.0</td>\n",
              "      <td>0.0</td>\n",
              "      <td>0.0</td>\n",
              "      <td>0.0</td>\n",
              "    </tr>\n",
              "    <tr>\n",
              "      <th>19051</th>\n",
              "      <td>2020-03-15T00:00:00.000</td>\n",
              "      <td>AK</td>\n",
              "      <td>1</td>\n",
              "      <td>NaN</td>\n",
              "      <td>NaN</td>\n",
              "      <td>0.0</td>\n",
              "      <td>NaN</td>\n",
              "      <td>0</td>\n",
              "      <td>NaN</td>\n",
              "      <td>NaN</td>\n",
              "      <td>0.0</td>\n",
              "      <td>NaN</td>\n",
              "      <td>2020-03-26T16:22:39.452</td>\n",
              "      <td>N/A</td>\n",
              "      <td>N/A</td>\n",
              "      <td>0.0</td>\n",
              "      <td>1.0</td>\n",
              "      <td>0.0</td>\n",
              "      <td>0.0</td>\n",
              "      <td>0.0</td>\n",
              "      <td>0.0</td>\n",
              "      <td>0.0</td>\n",
              "      <td>0.0</td>\n",
              "      <td>0.0</td>\n",
              "      <td>0.0</td>\n",
              "      <td>0.0</td>\n",
              "      <td>0.0</td>\n",
              "      <td>0.0</td>\n",
              "      <td>0.0</td>\n",
              "      <td>0.0</td>\n",
              "      <td>0.0</td>\n",
              "      <td>0.0</td>\n",
              "      <td>0.0</td>\n",
              "      <td>0.0</td>\n",
              "      <td>0.0</td>\n",
              "      <td>0.0</td>\n",
              "      <td>0.0</td>\n",
              "      <td>0.0</td>\n",
              "      <td>0.0</td>\n",
              "      <td>0.0</td>\n",
              "      <td>0.0</td>\n",
              "      <td>0.0</td>\n",
              "      <td>0.0</td>\n",
              "    </tr>\n",
              "    <tr>\n",
              "      <th>17452</th>\n",
              "      <td>2020-03-16T00:00:00.000</td>\n",
              "      <td>AK</td>\n",
              "      <td>1</td>\n",
              "      <td>NaN</td>\n",
              "      <td>NaN</td>\n",
              "      <td>0.0</td>\n",
              "      <td>NaN</td>\n",
              "      <td>0</td>\n",
              "      <td>NaN</td>\n",
              "      <td>NaN</td>\n",
              "      <td>0.0</td>\n",
              "      <td>NaN</td>\n",
              "      <td>2020-03-26T16:22:39.452</td>\n",
              "      <td>N/A</td>\n",
              "      <td>N/A</td>\n",
              "      <td>0.0</td>\n",
              "      <td>0.0</td>\n",
              "      <td>1.0</td>\n",
              "      <td>0.0</td>\n",
              "      <td>0.0</td>\n",
              "      <td>0.0</td>\n",
              "      <td>0.0</td>\n",
              "      <td>0.0</td>\n",
              "      <td>0.0</td>\n",
              "      <td>0.0</td>\n",
              "      <td>0.0</td>\n",
              "      <td>0.0</td>\n",
              "      <td>0.0</td>\n",
              "      <td>0.0</td>\n",
              "      <td>0.0</td>\n",
              "      <td>0.0</td>\n",
              "      <td>0.0</td>\n",
              "      <td>0.0</td>\n",
              "      <td>0.0</td>\n",
              "      <td>0.0</td>\n",
              "      <td>0.0</td>\n",
              "      <td>0.0</td>\n",
              "      <td>0.0</td>\n",
              "      <td>0.0</td>\n",
              "      <td>0.0</td>\n",
              "      <td>0.0</td>\n",
              "      <td>0.0</td>\n",
              "      <td>0.0</td>\n",
              "    </tr>\n",
              "    <tr>\n",
              "      <th>7738</th>\n",
              "      <td>2020-03-17T00:00:00.000</td>\n",
              "      <td>AK</td>\n",
              "      <td>3</td>\n",
              "      <td>NaN</td>\n",
              "      <td>NaN</td>\n",
              "      <td>2.0</td>\n",
              "      <td>NaN</td>\n",
              "      <td>0</td>\n",
              "      <td>NaN</td>\n",
              "      <td>NaN</td>\n",
              "      <td>0.0</td>\n",
              "      <td>NaN</td>\n",
              "      <td>2020-03-26T16:22:39.452</td>\n",
              "      <td>N/A</td>\n",
              "      <td>N/A</td>\n",
              "      <td>0.0</td>\n",
              "      <td>0.0</td>\n",
              "      <td>0.0</td>\n",
              "      <td>1.0</td>\n",
              "      <td>0.0</td>\n",
              "      <td>0.0</td>\n",
              "      <td>0.0</td>\n",
              "      <td>0.0</td>\n",
              "      <td>0.0</td>\n",
              "      <td>0.0</td>\n",
              "      <td>0.0</td>\n",
              "      <td>0.0</td>\n",
              "      <td>0.0</td>\n",
              "      <td>0.0</td>\n",
              "      <td>0.0</td>\n",
              "      <td>0.0</td>\n",
              "      <td>0.0</td>\n",
              "      <td>0.0</td>\n",
              "      <td>0.0</td>\n",
              "      <td>0.0</td>\n",
              "      <td>0.0</td>\n",
              "      <td>0.0</td>\n",
              "      <td>0.0</td>\n",
              "      <td>0.0</td>\n",
              "      <td>0.0</td>\n",
              "      <td>0.0</td>\n",
              "      <td>0.0</td>\n",
              "      <td>0.0</td>\n",
              "    </tr>\n",
              "  </tbody>\n",
              "</table>\n",
              "</div>"
            ],
            "text/plain": [
              "               submission_date state  ...  new_case_his_27  new_case_his_28\n",
              "18512  2020-03-13T00:00:00.000    AK  ...              0.0              0.0\n",
              "9152   2020-03-14T00:00:00.000    AK  ...              0.0              0.0\n",
              "19051  2020-03-15T00:00:00.000    AK  ...              0.0              0.0\n",
              "17452  2020-03-16T00:00:00.000    AK  ...              0.0              0.0\n",
              "7738   2020-03-17T00:00:00.000    AK  ...              0.0              0.0\n",
              "\n",
              "[5 rows x 43 columns]"
            ]
          },
          "metadata": {
            "tags": []
          },
          "execution_count": 11
        }
      ]
    },
    {
      "cell_type": "markdown",
      "metadata": {
        "id": "7Ds7VtHBavXk"
      },
      "source": [
        "Đến đây ta đã thu thập đủ dữ liệu được lưu trong `collected_df` để có thể đặt câu hỏi."
      ]
    },
    {
      "cell_type": "markdown",
      "metadata": {
        "id": "Ecao1uGzXbK2"
      },
      "source": [
        "## Đặt câu hỏi: Số ca mắc mới trong một ngày bất kì (hợp lệ) là bao nhiêu?"
      ]
    },
    {
      "cell_type": "markdown",
      "metadata": {
        "id": "uUoZnG8hXzMv"
      },
      "source": [
        "## Tiền xử lý (tách tập)"
      ]
    },
    {
      "cell_type": "code",
      "metadata": {
        "id": "00vcVoi9XaWu"
      },
      "source": [
        "sorted_df = collected_df.sort_values('submission_date', ascending=True)\r\n",
        "X_df = sorted_df.drop('new_case', axis=1)\r\n",
        "y_sr = sorted_df['new_case']"
      ],
      "execution_count": null,
      "outputs": []
    },
    {
      "cell_type": "markdown",
      "metadata": {
        "id": "h1Hse-XISNpP"
      },
      "source": [
        "Tách theo tỉ lệ: 70% 15% 15% lần lượt cho bộ train, bộ validation, bộ test."
      ]
    },
    {
      "cell_type": "code",
      "metadata": {
        "id": "DMmn7hdgWx2o"
      },
      "source": [
        "# tách bộ train và bộ (validation, test)\r\n",
        "\r\n",
        "# bộ train sẽ dùng dữ liệu của 60 bang trong 300 ngày đầu tiên. \r\n",
        "# train_size = 60 * 300 \r\n",
        "\r\n",
        "train_X_df, new_X_df, train_y_sr, new_y_sr = train_test_split(X_df, y_sr, train_size = 0.7, \r\n",
        "                                                             random_state=0)"
      ],
      "execution_count": null,
      "outputs": []
    },
    {
      "cell_type": "markdown",
      "metadata": {
        "id": "-l8pE224R4YS"
      },
      "source": [
        "Tách bộ validation và bộ test"
      ]
    },
    {
      "cell_type": "code",
      "metadata": {
        "id": "iWbMUPOtR20r"
      },
      "source": [
        "val_X_df, test_X_df, val_y_sr, test_y_sr = train_test_split(new_X_df, new_y_sr, test_size=0.5, \r\n",
        "                                                              random_state=0)"
      ],
      "execution_count": null,
      "outputs": []
    },
    {
      "cell_type": "code",
      "metadata": {
        "colab": {
          "base_uri": "https://localhost:8080/"
        },
        "id": "OlIspXe4o0Fq",
        "outputId": "140e9f76-512d-4ea9-9481-4b8166f27965"
      },
      "source": [
        "train_X_df.shape"
      ],
      "execution_count": null,
      "outputs": [
        {
          "output_type": "execute_result",
          "data": {
            "text/plain": [
              "(11820, 42)"
            ]
          },
          "metadata": {
            "tags": []
          },
          "execution_count": 15
        }
      ]
    },
    {
      "cell_type": "markdown",
      "metadata": {
        "id": "0a01Uxt2Tj7M"
      },
      "source": [
        "## Khám phá dữ liệu (tập huấn luyện)"
      ]
    },
    {
      "cell_type": "markdown",
      "metadata": {
        "id": "LQjYUVgvTsjt"
      },
      "source": [
        "### Mỗi cột input hiện đang có kiểu dữ liệu gì? Có cột nào có kiểu dữ liệu chưa phù hợp để có thể xử lý tiếp không?"
      ]
    },
    {
      "cell_type": "code",
      "metadata": {
        "id": "g4s5R4ZETpMZ"
      },
      "source": [
        "train_X_df.dtypes"
      ],
      "execution_count": null,
      "outputs": []
    },
    {
      "cell_type": "markdown",
      "metadata": {
        "id": "MbPT8ehLT9yr"
      },
      "source": [
        "### Với mỗi cột input có kiểu dữ liệu dạng số, các giá trị được phân bố như thế nào?"
      ]
    },
    {
      "cell_type": "code",
      "metadata": {
        "id": "N8uGCdOAUDDY"
      },
      "source": [
        "train_X_df.dtypes[train_X_df.dtypes != object]"
      ],
      "execution_count": null,
      "outputs": []
    },
    {
      "cell_type": "code",
      "metadata": {
        "id": "9AmzF6cYUS-o"
      },
      "source": [
        "num_cols = list(set(train_X_df.columns) - set(whitelist))\r\n",
        "df = train_X_df[num_cols]\r\n",
        "def missing_ratio(df):\r\n",
        "    return (df.isna().mean() * 100).round(1)\r\n",
        "def lower_quartile(df):\r\n",
        "    return df.quantile(0.25).round(1)\r\n",
        "def median(df):\r\n",
        "    return df.quantile(0.5).round(1)\r\n",
        "def upper_quartile(df):\r\n",
        "    return df.quantile(0.75).round(1)\r\n",
        "df.agg([missing_ratio, 'min', lower_quartile, median, upper_quartile, 'max'])"
      ],
      "execution_count": null,
      "outputs": []
    },
    {
      "cell_type": "markdown",
      "metadata": {
        "id": "L3ibuXMOVMAk"
      },
      "source": [
        "### Với mỗi cột input có kiểu dữ liệu không phải dạng số, các giá trị được phân bố như thế nào?"
      ]
    },
    {
      "cell_type": "code",
      "metadata": {
        "id": "o_WxpobyVirb"
      },
      "source": [
        "pd.set_option('display.max_colwidth', 200) # Để nhìn rõ hơn\r\n",
        "cat_cols = list(set(train_X_df.columns) - set(num_cols))\r\n",
        "df = train_X_df[cat_cols]\r\n",
        "def missing_ratio(df):\r\n",
        "    return (df.isna().mean() * 100).round(1)\r\n",
        "def num_values(df):\r\n",
        "    return df.nunique()\r\n",
        "def value_ratios(c):\r\n",
        "    return dict((c.value_counts(normalize=True) * 100).round(1))\r\n",
        "df.agg([missing_ratio, num_values, value_ratios])"
      ],
      "execution_count": null,
      "outputs": []
    },
    {
      "cell_type": "markdown",
      "metadata": {
        "id": "oyVeK-1mblFI"
      },
      "source": [
        "## Tiền xử lý tập huấn luyện\r\n",
        "\r\n",
        "- Loại bỏ các thuộc tính dự đoán như `pnew_case`, `pnew_death`\r\n",
        "- Loại bỏ các thuộc tính không có ích cho việc huấn luyện mô hình như `submission_date`, `state`, `conf_death`, `prob_death`, `created_at`, `consent_cases`, `consent_deaths`\r\n",
        "\r\n",
        "- Dùng tham số `callback_days` để quy định chỉ lấy số ngày gần nhất của ngày hiện tại.\r\n",
        "\r\n",
        "\r\n"
      ]
    },
    {
      "cell_type": "code",
      "metadata": {
        "id": "BqUk7Gz3orda"
      },
      "source": [
        "class ColDropper(BaseEstimator, TransformerMixin):\r\n",
        "    def __init__(self, callback_days=14):\r\n",
        "        self.callback_days = callback_days\r\n",
        "\r\n",
        "    def fit(self, X_df, y=None):\r\n",
        "        return self\r\n",
        "    \r\n",
        "    def mix_data(self, row):\r\n",
        "        tot_cases = row.loc['tot_cases']\r\n",
        "        if row.isnull().loc['conf_cases']:\r\n",
        "            row.loc['conf_cases'] = tot_cases            \r\n",
        "\r\n",
        "        return row\r\n",
        "\r\n",
        "    def transform(self, X_df, y=None):\r\n",
        "\r\n",
        "        # drop unsue attr\r\n",
        "        df = X_df.drop(['pnew_case', 'pnew_death', 'submission_date', 'state', 'conf_death', 'prob_death', 'created_at',\r\n",
        "                        'consent_cases', 'consent_deaths'], axis=1)\r\n",
        "\r\n",
        "        # regex to match first number in any text\r\n",
        "        matcher = re.compile(r'.*?(\\d+)')\r\n",
        "        \r\n",
        "        columns_sr = df.columns.str.extract(r'(.*?\\d+)', expand=False).dropna().to_series()\r\n",
        "        list_drop_his = columns_sr.transform(lambda x: x if int(matcher.findall(x)[0]) > self.callback_days else np.nan).dropna().values.tolist()\r\n",
        "        if len(list_drop_his) > 0:\r\n",
        "            df = df.drop(list_drop_his, axis=1)\r\n",
        "\r\n",
        "        return df.transform(self.mix_data, axis=1)\r\n"
      ],
      "execution_count": null,
      "outputs": []
    },
    {
      "cell_type": "code",
      "metadata": {
        "colab": {
          "base_uri": "https://localhost:8080/",
          "height": 71
        },
        "id": "qi2BYpJdu0pI",
        "outputId": "ed403d59-60b2-404a-9b46-938dcf4088fa"
      },
      "source": [
        "elimator = ColDropper(callback_days=20)\r\n",
        "elimator.fit(X_df)"
      ],
      "execution_count": null,
      "outputs": [
        {
          "output_type": "execute_result",
          "data": {
            "text/html": [
              "<style>div.sk-top-container {color: black;background-color: white;}div.sk-toggleable {background-color: white;}label.sk-toggleable__label {cursor: pointer;display: block;width: 100%;margin-bottom: 0;padding: 0.2em 0.3em;box-sizing: border-box;text-align: center;}div.sk-toggleable__content {max-height: 0;max-width: 0;overflow: hidden;text-align: left;background-color: #f0f8ff;}div.sk-toggleable__content pre {margin: 0.2em;color: black;border-radius: 0.25em;background-color: #f0f8ff;}input.sk-toggleable__control:checked~div.sk-toggleable__content {max-height: 200px;max-width: 100%;overflow: auto;}div.sk-estimator input.sk-toggleable__control:checked~label.sk-toggleable__label {background-color: #d4ebff;}div.sk-label input.sk-toggleable__control:checked~label.sk-toggleable__label {background-color: #d4ebff;}input.sk-hidden--visually {border: 0;clip: rect(1px 1px 1px 1px);clip: rect(1px, 1px, 1px, 1px);height: 1px;margin: -1px;overflow: hidden;padding: 0;position: absolute;width: 1px;}div.sk-estimator {font-family: monospace;background-color: #f0f8ff;margin: 0.25em 0.25em;border: 1px dotted black;border-radius: 0.25em;box-sizing: border-box;}div.sk-estimator:hover {background-color: #d4ebff;}div.sk-parallel-item::after {content: \"\";width: 100%;border-bottom: 1px solid gray;flex-grow: 1;}div.sk-label:hover label.sk-toggleable__label {background-color: #d4ebff;}div.sk-serial::before {content: \"\";position: absolute;border-left: 1px solid gray;box-sizing: border-box;top: 2em;bottom: 0;left: 50%;}div.sk-serial {display: flex;flex-direction: column;align-items: center;background-color: white;}div.sk-item {z-index: 1;}div.sk-parallel {display: flex;align-items: stretch;justify-content: center;background-color: white;}div.sk-parallel-item {display: flex;flex-direction: column;position: relative;background-color: white;}div.sk-parallel-item:first-child::after {align-self: flex-end;width: 50%;}div.sk-parallel-item:last-child::after {align-self: flex-start;width: 50%;}div.sk-parallel-item:only-child::after {width: 0;}div.sk-dashed-wrapped {border: 1px dashed gray;margin: 0.2em;box-sizing: border-box;padding-bottom: 0.1em;background-color: white;position: relative;}div.sk-label label {font-family: monospace;font-weight: bold;background-color: white;display: inline-block;line-height: 1.2em;}div.sk-label-container {position: relative;z-index: 2;text-align: center;}div.sk-container {display: inline-block;position: relative;}</style><div class=\"sk-top-container\"><div class=\"sk-container\"><div class=\"sk-item\"><div class=\"sk-estimator sk-toggleable\"><input class=\"sk-toggleable__control sk-hidden--visually\" id=\"c877d921-858a-4ae4-9cb3-2c624e8fa7a4\" type=\"checkbox\" checked><label class=\"sk-toggleable__label\" for=\"c877d921-858a-4ae4-9cb3-2c624e8fa7a4\">ColDropper</label><div class=\"sk-toggleable__content\"><pre>ColDropper(callback_days=20)</pre></div></div></div></div></div>"
            ],
            "text/plain": [
              "ColDropper(callback_days=20)"
            ]
          },
          "metadata": {
            "tags": []
          },
          "execution_count": 17
        }
      ]
    },
    {
      "cell_type": "code",
      "metadata": {
        "id": "1pmLX-jSw6tN"
      },
      "source": [
        "# elimator.transform(train_X_df).duplicated(keep='last').sum()\r\n",
        "# 262 (if callback_days = 20) How?"
      ],
      "execution_count": null,
      "outputs": []
    },
    {
      "cell_type": "code",
      "metadata": {
        "id": "oGwUUuaXwszg",
        "colab": {
          "base_uri": "https://localhost:8080/",
          "height": 422
        },
        "outputId": "49f4ff31-042f-4a3c-d5b1-e59f920a43ed"
      },
      "source": [
        "\r\n",
        "tmp = elimator.transform(train_X_df)\r\n",
        "tmp"
      ],
      "execution_count": null,
      "outputs": [
        {
          "output_type": "execute_result",
          "data": {
            "text/html": [
              "<div>\n",
              "<style scoped>\n",
              "    .dataframe tbody tr th:only-of-type {\n",
              "        vertical-align: middle;\n",
              "    }\n",
              "\n",
              "    .dataframe tbody tr th {\n",
              "        vertical-align: top;\n",
              "    }\n",
              "\n",
              "    .dataframe thead th {\n",
              "        text-align: right;\n",
              "    }\n",
              "</style>\n",
              "<table border=\"1\" class=\"dataframe\">\n",
              "  <thead>\n",
              "    <tr style=\"text-align: right;\">\n",
              "      <th></th>\n",
              "      <th>tot_cases</th>\n",
              "      <th>conf_cases</th>\n",
              "      <th>prob_cases</th>\n",
              "      <th>tot_death</th>\n",
              "      <th>new_death</th>\n",
              "      <th>new_case_his_1</th>\n",
              "      <th>new_case_his_2</th>\n",
              "      <th>new_case_his_3</th>\n",
              "      <th>new_case_his_4</th>\n",
              "      <th>new_case_his_5</th>\n",
              "      <th>new_case_his_6</th>\n",
              "      <th>new_case_his_7</th>\n",
              "      <th>new_case_his_8</th>\n",
              "      <th>new_case_his_9</th>\n",
              "      <th>new_case_his_10</th>\n",
              "      <th>new_case_his_11</th>\n",
              "      <th>new_case_his_12</th>\n",
              "      <th>new_case_his_13</th>\n",
              "      <th>new_case_his_14</th>\n",
              "      <th>new_case_his_15</th>\n",
              "      <th>new_case_his_16</th>\n",
              "      <th>new_case_his_17</th>\n",
              "      <th>new_case_his_18</th>\n",
              "      <th>new_case_his_19</th>\n",
              "      <th>new_case_his_20</th>\n",
              "    </tr>\n",
              "  </thead>\n",
              "  <tbody>\n",
              "    <tr>\n",
              "      <th>7410</th>\n",
              "      <td>24.0</td>\n",
              "      <td>24.0</td>\n",
              "      <td>NaN</td>\n",
              "      <td>0.0</td>\n",
              "      <td>0.0</td>\n",
              "      <td>5.0</td>\n",
              "      <td>4.0</td>\n",
              "      <td>1.0</td>\n",
              "      <td>0.0</td>\n",
              "      <td>7.0</td>\n",
              "      <td>4.0</td>\n",
              "      <td>0.0</td>\n",
              "      <td>0.0</td>\n",
              "      <td>0.0</td>\n",
              "      <td>0.0</td>\n",
              "      <td>2.0</td>\n",
              "      <td>0.0</td>\n",
              "      <td>1.0</td>\n",
              "      <td>0.0</td>\n",
              "      <td>0.0</td>\n",
              "      <td>0.0</td>\n",
              "      <td>0.0</td>\n",
              "      <td>0.0</td>\n",
              "      <td>0.0</td>\n",
              "      <td>0.0</td>\n",
              "    </tr>\n",
              "    <tr>\n",
              "      <th>9764</th>\n",
              "      <td>7116.0</td>\n",
              "      <td>7116.0</td>\n",
              "      <td>0.0</td>\n",
              "      <td>158.0</td>\n",
              "      <td>0.0</td>\n",
              "      <td>132.0</td>\n",
              "      <td>233.0</td>\n",
              "      <td>250.0</td>\n",
              "      <td>357.0</td>\n",
              "      <td>410.0</td>\n",
              "      <td>276.0</td>\n",
              "      <td>213.0</td>\n",
              "      <td>215.0</td>\n",
              "      <td>284.0</td>\n",
              "      <td>297.0</td>\n",
              "      <td>211.0</td>\n",
              "      <td>500.0</td>\n",
              "      <td>247.0</td>\n",
              "      <td>163.0</td>\n",
              "      <td>154.0</td>\n",
              "      <td>118.0</td>\n",
              "      <td>279.0</td>\n",
              "      <td>295.0</td>\n",
              "      <td>271.0</td>\n",
              "      <td>186.0</td>\n",
              "    </tr>\n",
              "    <tr>\n",
              "      <th>13639</th>\n",
              "      <td>33439.0</td>\n",
              "      <td>31191.0</td>\n",
              "      <td>2248.0</td>\n",
              "      <td>2044.0</td>\n",
              "      <td>42.0</td>\n",
              "      <td>529.0</td>\n",
              "      <td>566.0</td>\n",
              "      <td>503.0</td>\n",
              "      <td>614.0</td>\n",
              "      <td>627.0</td>\n",
              "      <td>731.0</td>\n",
              "      <td>484.0</td>\n",
              "      <td>680.0</td>\n",
              "      <td>349.0</td>\n",
              "      <td>449.0</td>\n",
              "      <td>520.0</td>\n",
              "      <td>597.0</td>\n",
              "      <td>636.0</td>\n",
              "      <td>471.0</td>\n",
              "      <td>473.0</td>\n",
              "      <td>696.0</td>\n",
              "      <td>384.0</td>\n",
              "      <td>681.0</td>\n",
              "      <td>885.0</td>\n",
              "      <td>555.0</td>\n",
              "    </tr>\n",
              "    <tr>\n",
              "      <th>17306</th>\n",
              "      <td>57504.0</td>\n",
              "      <td>57504.0</td>\n",
              "      <td>0.0</td>\n",
              "      <td>630.0</td>\n",
              "      <td>16.0</td>\n",
              "      <td>701.0</td>\n",
              "      <td>1138.0</td>\n",
              "      <td>1249.0</td>\n",
              "      <td>1475.0</td>\n",
              "      <td>1236.0</td>\n",
              "      <td>1184.0</td>\n",
              "      <td>1371.0</td>\n",
              "      <td>869.0</td>\n",
              "      <td>1272.0</td>\n",
              "      <td>1642.0</td>\n",
              "      <td>1213.0</td>\n",
              "      <td>961.0</td>\n",
              "      <td>919.0</td>\n",
              "      <td>1098.0</td>\n",
              "      <td>374.0</td>\n",
              "      <td>731.0</td>\n",
              "      <td>1001.0</td>\n",
              "      <td>979.0</td>\n",
              "      <td>1013.0</td>\n",
              "      <td>796.0</td>\n",
              "    </tr>\n",
              "    <tr>\n",
              "      <th>20180</th>\n",
              "      <td>5215.0</td>\n",
              "      <td>4677.0</td>\n",
              "      <td>538.0</td>\n",
              "      <td>140.0</td>\n",
              "      <td>0.0</td>\n",
              "      <td>25.0</td>\n",
              "      <td>40.0</td>\n",
              "      <td>27.0</td>\n",
              "      <td>44.0</td>\n",
              "      <td>30.0</td>\n",
              "      <td>43.0</td>\n",
              "      <td>21.0</td>\n",
              "      <td>23.0</td>\n",
              "      <td>55.0</td>\n",
              "      <td>0.0</td>\n",
              "      <td>29.0</td>\n",
              "      <td>42.0</td>\n",
              "      <td>31.0</td>\n",
              "      <td>27.0</td>\n",
              "      <td>21.0</td>\n",
              "      <td>12.0</td>\n",
              "      <td>19.0</td>\n",
              "      <td>15.0</td>\n",
              "      <td>35.0</td>\n",
              "      <td>15.0</td>\n",
              "    </tr>\n",
              "    <tr>\n",
              "      <th>...</th>\n",
              "      <td>...</td>\n",
              "      <td>...</td>\n",
              "      <td>...</td>\n",
              "      <td>...</td>\n",
              "      <td>...</td>\n",
              "      <td>...</td>\n",
              "      <td>...</td>\n",
              "      <td>...</td>\n",
              "      <td>...</td>\n",
              "      <td>...</td>\n",
              "      <td>...</td>\n",
              "      <td>...</td>\n",
              "      <td>...</td>\n",
              "      <td>...</td>\n",
              "      <td>...</td>\n",
              "      <td>...</td>\n",
              "      <td>...</td>\n",
              "      <td>...</td>\n",
              "      <td>...</td>\n",
              "      <td>...</td>\n",
              "      <td>...</td>\n",
              "      <td>...</td>\n",
              "      <td>...</td>\n",
              "      <td>...</td>\n",
              "      <td>...</td>\n",
              "    </tr>\n",
              "    <tr>\n",
              "      <th>20160</th>\n",
              "      <td>4197.0</td>\n",
              "      <td>3767.0</td>\n",
              "      <td>430.0</td>\n",
              "      <td>127.0</td>\n",
              "      <td>0.0</td>\n",
              "      <td>24.0</td>\n",
              "      <td>29.0</td>\n",
              "      <td>26.0</td>\n",
              "      <td>20.0</td>\n",
              "      <td>19.0</td>\n",
              "      <td>-1.0</td>\n",
              "      <td>9.0</td>\n",
              "      <td>16.0</td>\n",
              "      <td>11.0</td>\n",
              "      <td>18.0</td>\n",
              "      <td>5.0</td>\n",
              "      <td>17.0</td>\n",
              "      <td>5.0</td>\n",
              "      <td>12.0</td>\n",
              "      <td>21.0</td>\n",
              "      <td>27.0</td>\n",
              "      <td>22.0</td>\n",
              "      <td>22.0</td>\n",
              "      <td>28.0</td>\n",
              "      <td>6.0</td>\n",
              "    </tr>\n",
              "    <tr>\n",
              "      <th>4950</th>\n",
              "      <td>58694.0</td>\n",
              "      <td>51736.0</td>\n",
              "      <td>6958.0</td>\n",
              "      <td>572.0</td>\n",
              "      <td>10.0</td>\n",
              "      <td>1073.0</td>\n",
              "      <td>950.0</td>\n",
              "      <td>987.0</td>\n",
              "      <td>873.0</td>\n",
              "      <td>698.0</td>\n",
              "      <td>510.0</td>\n",
              "      <td>878.0</td>\n",
              "      <td>1094.0</td>\n",
              "      <td>718.0</td>\n",
              "      <td>645.0</td>\n",
              "      <td>584.0</td>\n",
              "      <td>597.0</td>\n",
              "      <td>365.0</td>\n",
              "      <td>613.0</td>\n",
              "      <td>662.0</td>\n",
              "      <td>673.0</td>\n",
              "      <td>671.0</td>\n",
              "      <td>660.0</td>\n",
              "      <td>458.0</td>\n",
              "      <td>262.0</td>\n",
              "    </tr>\n",
              "    <tr>\n",
              "      <th>13760</th>\n",
              "      <td>126868.0</td>\n",
              "      <td>117450.0</td>\n",
              "      <td>9418.0</td>\n",
              "      <td>9008.0</td>\n",
              "      <td>21.0</td>\n",
              "      <td>315.0</td>\n",
              "      <td>349.0</td>\n",
              "      <td>571.0</td>\n",
              "      <td>0.0</td>\n",
              "      <td>109.0</td>\n",
              "      <td>431.0</td>\n",
              "      <td>313.0</td>\n",
              "      <td>352.0</td>\n",
              "      <td>221.0</td>\n",
              "      <td>249.0</td>\n",
              "      <td>394.0</td>\n",
              "      <td>-882.0</td>\n",
              "      <td>1826.0</td>\n",
              "      <td>319.0</td>\n",
              "      <td>229.0</td>\n",
              "      <td>392.0</td>\n",
              "      <td>275.0</td>\n",
              "      <td>329.0</td>\n",
              "      <td>420.0</td>\n",
              "      <td>417.0</td>\n",
              "    </tr>\n",
              "    <tr>\n",
              "      <th>796</th>\n",
              "      <td>74506.0</td>\n",
              "      <td>74506.0</td>\n",
              "      <td>NaN</td>\n",
              "      <td>1218.0</td>\n",
              "      <td>1.0</td>\n",
              "      <td>627.0</td>\n",
              "      <td>795.0</td>\n",
              "      <td>1010.0</td>\n",
              "      <td>400.0</td>\n",
              "      <td>462.0</td>\n",
              "      <td>393.0</td>\n",
              "      <td>763.0</td>\n",
              "      <td>991.0</td>\n",
              "      <td>1105.0</td>\n",
              "      <td>885.0</td>\n",
              "      <td>818.0</td>\n",
              "      <td>625.0</td>\n",
              "      <td>615.0</td>\n",
              "      <td>1009.0</td>\n",
              "      <td>371.0</td>\n",
              "      <td>1344.0</td>\n",
              "      <td>3269.0</td>\n",
              "      <td>921.0</td>\n",
              "      <td>663.0</td>\n",
              "      <td>356.0</td>\n",
              "    </tr>\n",
              "    <tr>\n",
              "      <th>18464</th>\n",
              "      <td>138.0</td>\n",
              "      <td>138.0</td>\n",
              "      <td>NaN</td>\n",
              "      <td>5.0</td>\n",
              "      <td>0.0</td>\n",
              "      <td>0.0</td>\n",
              "      <td>0.0</td>\n",
              "      <td>0.0</td>\n",
              "      <td>0.0</td>\n",
              "      <td>1.0</td>\n",
              "      <td>0.0</td>\n",
              "      <td>0.0</td>\n",
              "      <td>0.0</td>\n",
              "      <td>2.0</td>\n",
              "      <td>0.0</td>\n",
              "      <td>3.0</td>\n",
              "      <td>2.0</td>\n",
              "      <td>5.0</td>\n",
              "      <td>1.0</td>\n",
              "      <td>11.0</td>\n",
              "      <td>1.0</td>\n",
              "      <td>17.0</td>\n",
              "      <td>9.0</td>\n",
              "      <td>2.0</td>\n",
              "      <td>5.0</td>\n",
              "    </tr>\n",
              "  </tbody>\n",
              "</table>\n",
              "<p>11820 rows × 25 columns</p>\n",
              "</div>"
            ],
            "text/plain": [
              "       tot_cases  conf_cases  ...  new_case_his_19  new_case_his_20\n",
              "7410        24.0        24.0  ...              0.0              0.0\n",
              "9764      7116.0      7116.0  ...            271.0            186.0\n",
              "13639    33439.0     31191.0  ...            885.0            555.0\n",
              "17306    57504.0     57504.0  ...           1013.0            796.0\n",
              "20180     5215.0      4677.0  ...             35.0             15.0\n",
              "...          ...         ...  ...              ...              ...\n",
              "20160     4197.0      3767.0  ...             28.0              6.0\n",
              "4950     58694.0     51736.0  ...            458.0            262.0\n",
              "13760   126868.0    117450.0  ...            420.0            417.0\n",
              "796      74506.0     74506.0  ...            663.0            356.0\n",
              "18464      138.0       138.0  ...              2.0              5.0\n",
              "\n",
              "[11820 rows x 25 columns]"
            ]
          },
          "metadata": {
            "tags": []
          },
          "execution_count": 19
        }
      ]
    },
    {
      "cell_type": "markdown",
      "metadata": {
        "id": "WtICMrfQwyQh"
      },
      "source": [
        "### Xây dựng pipeline\r\n",
        "\r\n"
      ]
    },
    {
      "cell_type": "markdown",
      "metadata": {
        "id": "Qug1v-6ZJZP7"
      },
      "source": [
        "Các thuộc tính sẽ được fill bằng `mean` nhằm đảm bảo không còn nơi nào bị thiếu dữ liệu kể cả trên bộ test mới."
      ]
    },
    {
      "cell_type": "markdown",
      "metadata": {
        "id": "siTPr8oHWUU7"
      },
      "source": [
        "## Tiền xử lý + mô hình hóa"
      ]
    },
    {
      "cell_type": "markdown",
      "metadata": {
        "id": "cHE82zKXWZLF"
      },
      "source": [
        "### Tìm mô hình tốt nhất"
      ]
    },
    {
      "cell_type": "code",
      "metadata": {
        "id": "77T-qj7JJYmo",
        "colab": {
          "base_uri": "https://localhost:8080/"
        },
        "outputId": "2b38e13f-54a6-4ddd-dd2c-68c40319f4bc"
      },
      "source": [
        "pipe_line = make_pipeline(ColDropper(), SimpleImputer(strategy='mean'),\r\n",
        "            StandardScaler(),\r\n",
        "            MLPRegressor(hidden_layer_sizes=(30), activation='tanh', solver='adam', max_iter=5000, random_state=0))\r\n",
        "\r\n",
        "\r\n",
        "# Thử nghiệm với các giá trị khác nhau của các siêu tham số\r\n",
        "# và chọn ra các giá trị tốt nhất\r\n",
        "train_errs = []\r\n",
        "val_errs = []\r\n",
        "alphas = [0.001, 0.01, 0.1, 1, 10, 100]\r\n",
        "callback_days_s = [4, 8, 12, 16, 20, 24, 28]\r\n",
        "best_val_err = float('inf'); best_alpha = None; best_callback_days = None\r\n",
        "for alpha in alphas:\r\n",
        "    for callback_days in callback_days_s:\r\n",
        "        # YOUR CODE HERE\r\n",
        "        pipe_line.set_params(coldropper__callback_days=callback_days, mlpregressor__alpha=alpha)\r\n",
        "\r\n",
        "        pipe_line.fit(train_X_df, train_y_sr)\r\n",
        "        \r\n",
        "        train_errs.append((1 - r2_score(train_y_sr, pipe_line.predict(train_X_df))) * 100)\r\n",
        "        val_errs.append((1 - r2_score(val_y_sr, pipe_line.predict(val_X_df))) * 100)\r\n",
        "        if min(val_errs) < best_val_err:\r\n",
        "            best_val_err = min(val_errs) \r\n",
        "            best_alpha = alpha\r\n",
        "            best_callback_days = callback_days        \r\n",
        "'Finish!'"
      ],
      "execution_count": null,
      "outputs": [
        {
          "output_type": "stream",
          "text": [
            "/usr/local/lib/python3.6/dist-packages/sklearn/neural_network/_multilayer_perceptron.py:617: ConvergenceWarning: Stochastic Optimizer: Maximum iterations (5000) reached and the optimization hasn't converged yet.\n",
            "  % self.max_iter, ConvergenceWarning)\n",
            "/usr/local/lib/python3.6/dist-packages/sklearn/neural_network/_multilayer_perceptron.py:617: ConvergenceWarning: Stochastic Optimizer: Maximum iterations (5000) reached and the optimization hasn't converged yet.\n",
            "  % self.max_iter, ConvergenceWarning)\n",
            "/usr/local/lib/python3.6/dist-packages/sklearn/neural_network/_multilayer_perceptron.py:617: ConvergenceWarning: Stochastic Optimizer: Maximum iterations (5000) reached and the optimization hasn't converged yet.\n",
            "  % self.max_iter, ConvergenceWarning)\n",
            "/usr/local/lib/python3.6/dist-packages/sklearn/neural_network/_multilayer_perceptron.py:617: ConvergenceWarning: Stochastic Optimizer: Maximum iterations (5000) reached and the optimization hasn't converged yet.\n",
            "  % self.max_iter, ConvergenceWarning)\n",
            "/usr/local/lib/python3.6/dist-packages/sklearn/neural_network/_multilayer_perceptron.py:617: ConvergenceWarning: Stochastic Optimizer: Maximum iterations (5000) reached and the optimization hasn't converged yet.\n",
            "  % self.max_iter, ConvergenceWarning)\n",
            "/usr/local/lib/python3.6/dist-packages/sklearn/neural_network/_multilayer_perceptron.py:617: ConvergenceWarning: Stochastic Optimizer: Maximum iterations (5000) reached and the optimization hasn't converged yet.\n",
            "  % self.max_iter, ConvergenceWarning)\n",
            "/usr/local/lib/python3.6/dist-packages/sklearn/neural_network/_multilayer_perceptron.py:617: ConvergenceWarning: Stochastic Optimizer: Maximum iterations (5000) reached and the optimization hasn't converged yet.\n",
            "  % self.max_iter, ConvergenceWarning)\n",
            "/usr/local/lib/python3.6/dist-packages/sklearn/neural_network/_multilayer_perceptron.py:617: ConvergenceWarning: Stochastic Optimizer: Maximum iterations (5000) reached and the optimization hasn't converged yet.\n",
            "  % self.max_iter, ConvergenceWarning)\n",
            "/usr/local/lib/python3.6/dist-packages/sklearn/neural_network/_multilayer_perceptron.py:617: ConvergenceWarning: Stochastic Optimizer: Maximum iterations (5000) reached and the optimization hasn't converged yet.\n",
            "  % self.max_iter, ConvergenceWarning)\n",
            "/usr/local/lib/python3.6/dist-packages/sklearn/neural_network/_multilayer_perceptron.py:617: ConvergenceWarning: Stochastic Optimizer: Maximum iterations (5000) reached and the optimization hasn't converged yet.\n",
            "  % self.max_iter, ConvergenceWarning)\n",
            "/usr/local/lib/python3.6/dist-packages/sklearn/neural_network/_multilayer_perceptron.py:617: ConvergenceWarning: Stochastic Optimizer: Maximum iterations (5000) reached and the optimization hasn't converged yet.\n",
            "  % self.max_iter, ConvergenceWarning)\n",
            "/usr/local/lib/python3.6/dist-packages/sklearn/neural_network/_multilayer_perceptron.py:617: ConvergenceWarning: Stochastic Optimizer: Maximum iterations (5000) reached and the optimization hasn't converged yet.\n",
            "  % self.max_iter, ConvergenceWarning)\n",
            "/usr/local/lib/python3.6/dist-packages/sklearn/neural_network/_multilayer_perceptron.py:617: ConvergenceWarning: Stochastic Optimizer: Maximum iterations (5000) reached and the optimization hasn't converged yet.\n",
            "  % self.max_iter, ConvergenceWarning)\n",
            "/usr/local/lib/python3.6/dist-packages/sklearn/neural_network/_multilayer_perceptron.py:617: ConvergenceWarning: Stochastic Optimizer: Maximum iterations (5000) reached and the optimization hasn't converged yet.\n",
            "  % self.max_iter, ConvergenceWarning)\n",
            "/usr/local/lib/python3.6/dist-packages/sklearn/neural_network/_multilayer_perceptron.py:617: ConvergenceWarning: Stochastic Optimizer: Maximum iterations (5000) reached and the optimization hasn't converged yet.\n",
            "  % self.max_iter, ConvergenceWarning)\n",
            "/usr/local/lib/python3.6/dist-packages/sklearn/neural_network/_multilayer_perceptron.py:617: ConvergenceWarning: Stochastic Optimizer: Maximum iterations (5000) reached and the optimization hasn't converged yet.\n",
            "  % self.max_iter, ConvergenceWarning)\n",
            "/usr/local/lib/python3.6/dist-packages/sklearn/neural_network/_multilayer_perceptron.py:617: ConvergenceWarning: Stochastic Optimizer: Maximum iterations (5000) reached and the optimization hasn't converged yet.\n",
            "  % self.max_iter, ConvergenceWarning)\n",
            "/usr/local/lib/python3.6/dist-packages/sklearn/neural_network/_multilayer_perceptron.py:617: ConvergenceWarning: Stochastic Optimizer: Maximum iterations (5000) reached and the optimization hasn't converged yet.\n",
            "  % self.max_iter, ConvergenceWarning)\n",
            "/usr/local/lib/python3.6/dist-packages/sklearn/neural_network/_multilayer_perceptron.py:617: ConvergenceWarning: Stochastic Optimizer: Maximum iterations (5000) reached and the optimization hasn't converged yet.\n",
            "  % self.max_iter, ConvergenceWarning)\n",
            "/usr/local/lib/python3.6/dist-packages/sklearn/neural_network/_multilayer_perceptron.py:617: ConvergenceWarning: Stochastic Optimizer: Maximum iterations (5000) reached and the optimization hasn't converged yet.\n",
            "  % self.max_iter, ConvergenceWarning)\n",
            "/usr/local/lib/python3.6/dist-packages/sklearn/neural_network/_multilayer_perceptron.py:617: ConvergenceWarning: Stochastic Optimizer: Maximum iterations (5000) reached and the optimization hasn't converged yet.\n",
            "  % self.max_iter, ConvergenceWarning)\n",
            "/usr/local/lib/python3.6/dist-packages/sklearn/neural_network/_multilayer_perceptron.py:617: ConvergenceWarning: Stochastic Optimizer: Maximum iterations (5000) reached and the optimization hasn't converged yet.\n",
            "  % self.max_iter, ConvergenceWarning)\n"
          ],
          "name": "stderr"
        }
      ]
    },
    {
      "cell_type": "code",
      "metadata": {
        "id": "lkvjdBlXSbes"
      },
      "source": [
        "best_val_err\r\n",
        "best_alpha\r\n",
        "best_callback_days "
      ],
      "execution_count": null,
      "outputs": []
    },
    {
      "cell_type": "code",
      "metadata": {
        "id": "XF-ykoHwSWsJ"
      },
      "source": [
        "# Trực quan hóa kết quả\r\n",
        "train_errs_df = pd.DataFrame(data=np.array(train_errs).reshape(len(alphas), -1),\r\n",
        "                             index=alphas, columns=callback_days_s)\r\n",
        "val_errs_df = pd.DataFrame(data=np.array(val_errs).reshape(len(alphas), -1), \r\n",
        "                           index=alphas, columns=callback_days_s)\r\n",
        "min_err = min(min(train_errs), min(val_errs))\r\n",
        "max_err = max(max(train_errs), max(val_errs))\r\n",
        "plt.figure(figsize=(10, 5))\r\n",
        "plt.subplot(1, 2, 1)\r\n",
        "sns.heatmap(train_errs_df, vmin=min_err, vmax=max_err, square=True, annot=True, \r\n",
        "            cbar=False, fmt='.1f', cmap='Reds')\r\n",
        "plt.title('train errors'); plt.xlabel('callback_days'); plt.ylabel('alpha')\r\n",
        "plt.subplot(1, 2, 2)\r\n",
        "sns.heatmap(val_errs_df, vmin=min_err, vmax=max_err, square=True, annot=True, \r\n",
        "            cbar=False, fmt='.1f', cmap='Reds')\r\n",
        "plt.title('validation errors'); plt.xlabel('callback_days'); plt.ylabel('alpha');"
      ],
      "execution_count": null,
      "outputs": []
    },
    {
      "cell_type": "markdown",
      "metadata": {
        "id": "gTKMNZBrSvSK"
      },
      "source": [
        "Thử validation xem sao"
      ]
    },
    {
      "cell_type": "code",
      "metadata": {
        "colab": {
          "base_uri": "https://localhost:8080/"
        },
        "id": "35Wm0C46RL2H",
        "outputId": "cad5e386-adb2-48f1-86dc-937b3bd8fdc9"
      },
      "source": [
        "y_val = pipe_line.predict(val_X_df)\r\n",
        "y_val\r\n",
        "#val_y_sr"
      ],
      "execution_count": null,
      "outputs": [
        {
          "output_type": "execute_result",
          "data": {
            "text/plain": [
              "array([3294.74652743,  100.66412653,  100.66412653, ...,  100.66412653,\n",
              "        623.03424716, 3294.74652743])"
            ]
          },
          "metadata": {
            "tags": []
          },
          "execution_count": 32
        }
      ]
    },
    {
      "cell_type": "markdown",
      "metadata": {
        "id": "FoPZ0ekm9dWJ"
      },
      "source": [
        "### Đánh giá mô hình tìm được"
      ]
    },
    {
      "cell_type": "code",
      "metadata": {
        "id": "EBz43oA_9jMG",
        "colab": {
          "base_uri": "https://localhost:8080/"
        },
        "outputId": "b5e4094f-3c82-466f-ef2c-61e20a2f9d18"
      },
      "source": [
        "\r\n",
        "r2_score(val_y_sr, y_val)\r\n"
      ],
      "execution_count": null,
      "outputs": [
        {
          "output_type": "stream",
          "text": [
            "R2 score = 0.6797439929281022\n"
          ],
          "name": "stdout"
        },
        {
          "output_type": "execute_result",
          "data": {
            "text/plain": [
              "0.6797439929281021"
            ]
          },
          "metadata": {
            "tags": []
          },
          "execution_count": 37
        }
      ]
    },
    {
      "cell_type": "code",
      "metadata": {
        "id": "2xcse1e3HZqe",
        "colab": {
          "base_uri": "https://localhost:8080/"
        },
        "outputId": "acef1221-0b3e-45d4-8547-4c47b077daeb"
      },
      "source": [
        "y_val = pipe_line.predict(train_X_df)\r\n",
        "y_val\r\n",
        "e = train_y_sr - y_val\r\n",
        "mse = np.mean(e**2)\r\n",
        "accr = 1 - mse/np.var(train_y_sr)\r\n",
        "accr"
      ],
      "execution_count": null,
      "outputs": [
        {
          "output_type": "execute_result",
          "data": {
            "text/plain": [
              "0.6141190030226471"
            ]
          },
          "metadata": {
            "tags": []
          },
          "execution_count": 23
        }
      ]
    },
    {
      "cell_type": "code",
      "metadata": {
        "id": "yyFjlRq8Zkmi"
      },
      "source": [
        ""
      ],
      "execution_count": null,
      "outputs": []
    },
    {
      "cell_type": "code",
      "metadata": {
        "id": "pFhYkokTTn3k"
      },
      "source": [
        ""
      ],
      "execution_count": null,
      "outputs": []
    }
  ]
}