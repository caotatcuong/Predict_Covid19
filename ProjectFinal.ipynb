{
 "cells": [
  {
   "cell_type": "markdown",
   "metadata": {
    "id": "nZe79UMqTsHr"
   },
   "source": [
<<<<<<< Updated upstream
    "# Data Science - Project Final\n",
    "\n",
    "Danh sách thành viên:\n",
=======
    "<h1 align=\"center\">Data Science - Final Project</h1>\n",
    "<p align=\"center\">\n",
    "  <a href=\"https://github.com/cuong091200\">\n",
    "    <img src=\"https://img.shields.io/badge/18120296-cuong091200-brightgreen.svg\">\n",
    "  </a>\n",
    "  <a href=\"https://github.com/viplazylmht\">\n",
    "    <img src=\"https://img.shields.io/badge/18120339-viplazylmht-brightgreen.svg\">\n",
    "  </a>\n",
    "  <a href=\"https://colab.research.google.com/github/cuong091200/DoAnCuoiKy_KHDL/blob/main/ProjectFinal.ipynb\">\n",
    "    <img src=\"https://colab.research.google.com/assets/colab-badge.svg\">\n",
    "  </a>\n",
    "\n",
    "  <a href=\"https://github.com/cuong091200/DoAnCuoiKy_KHDL\">\n",
    "    <img src=\"https://img.shields.io/badge/Github-131313?logo=github&logoColor=white\">\n",
    "  </a>\n",
    "</p>\n",
    "\n",
    "<p align=\"center\">Danh sách thành viên</p>\n",
>>>>>>> Stashed changes
    "\n",
    "|MSSV|Họ và Tên\n",
    "|:---|:-\n",
    "|18120296|Cao Tất Cường\n",
    "|18120339|Hà Văn Duy\n",
<<<<<<< Updated upstream
    "\n"
=======
    "\n",
    " "
>>>>>>> Stashed changes
   ]
  },
  {
   "cell_type": "markdown",
   "metadata": {
    "id": "ceAa59HzV1V0"
   },
   "source": [
    "## Tổng quan"
   ]
  },
  {
   "cell_type": "markdown",
   "metadata": {
    "id": "PnUcD9P6XM5H"
   },
   "source": [
    "**COVID-19**\n",
    "\n",
    "Đây là đại dịch bệnh tryền nhiễm nguy hiểm, phát hiện lần đầu tiên ở Trung Quốc sau đó nhanh chóng lan rộng ra toàn thế giới.  \n",
    "Người mắc phải virus gây bệnh (SARS-CoV-2) thường sẽ có một khoảng thời gian ủ bệnh từ **2 - 14 ngày**, sau đó xuất hiện triệu chứng, một vài trường hợp có thể diễn tiến rất nhanh trở thành ca bệnh nặng, có thể dẫn đến tử vong.\n",
    "\n",
    "Thời điểm hiện tại, vacxin vẫn chưa được phân phối rộng rãi và kiểm định kết quả, đồng thời vẫn chưa có thuốc chữa đặc hiệu. Vì vậy, các bệnh nhân cần được chăm sóc y tế hồi sức để cơ thể tự sản sinh ra đề kháng và khỏi bệnh.  \n",
    "Đây là một dịch bệnh nghiêm trọng, vì vậy việc theo dõi sự tác động của nó với xã hội là điều cực kì cần thiết nhằm đưa ra các chính sách, giải pháp phù hợp để cải thiện tình hình, tiến tới xóa bỏ đại dịch trong tương lai gần.\n",
    "\n"
   ]
  },
  {
   "cell_type": "markdown",
   "metadata": {
<<<<<<< Updated upstream
    "id": "5Pb534S6anEm"
   },
   "source": [
    "https://vietnamese.cdc.gov/coronavirus/2019-ncov/cases-updates/about-us-cases-deaths.html\n"
   ]
  },
  {
   "cell_type": "markdown",
   "metadata": {
=======
>>>>>>> Stashed changes
    "id": "yCYR0inN8j9h"
   },
   "source": [
    "## Cài đặt và import các thư viện cần thiết"
   ]
  },
  {
   "cell_type": "code",
   "execution_count": 1,
   "metadata": {
    "id": "AjRkjKXAen5R"
   },
   "outputs": [],
   "source": [
    "# handle output to /dev/null to ignore text outputs xD\n",
    "!pip install sodapy > /dev/null\n",
    "\n",
    "# update sklearn to support set_config attr (see this answer: https://stackoverflow.com/a/62481510)\n",
    "!pip install --upgrade scikit-learn > /dev/null"
   ]
  },
  {
   "cell_type": "code",
   "execution_count": 2,
   "metadata": {
    "id": "iMVk87OoeOcJ"
   },
   "outputs": [],
   "source": [
    "import pandas as pd\n",
    "import numpy as np\n",
    "import matplotlib.pyplot as plt\n",
<<<<<<< Updated upstream
    "from sklearn.model_selection import train_test_split\n",
    "from sklearn.linear_model import LinearRegression\n",
    "from sklearn.neural_network import MLPRegressor\n",
    "\n",
=======
    "import seaborn as sns\n",
    "from sklearn.model_selection import train_test_split\n",
    "from sklearn.linear_model import Ridge\n",
    "from sklearn.neural_network import MLPRegressor\n",
    "from sklearn.linear_model import LinearRegression\n",
>>>>>>> Stashed changes
    "from sklearn.preprocessing import StandardScaler\n",
    "from sklearn.impute import SimpleImputer\n",
    "from sklearn.base import BaseEstimator, TransformerMixin\n",
    "from sklearn.pipeline import Pipeline, make_pipeline\n",
    "from sklearn.compose import ColumnTransformer, make_column_transformer\n",
<<<<<<< Updated upstream
    "\n",
=======
    "from sklearn.svm import SVR\n",
>>>>>>> Stashed changes
    "from sklearn import set_config\n",
    "set_config(display='diagram')\n",
    "\n",
    "from sodapy import Socrata\n",
    "\n",
    "import regex as re\n",
    "from sklearn.metrics import r2_score"
   ]
  },
  {
   "cell_type": "markdown",
   "metadata": {
    "id": "tUC8uafS8VxZ"
   },
   "source": [
    "## Thu thập dữ liệu"
   ]
  },
  {
<<<<<<< Updated upstream
=======
   "cell_type": "markdown",
   "metadata": {
    "id": "5Pb534S6anEm"
   },
   "source": [
    "\n",
    "Nguồn cấp dữ liệu: <a href=\"https://cdc.gov\">CDC</a> thông qua API.\n",
    "\n",
    "<img style=\"vertical-align:middle\" src=\"https://raw.githubusercontent.com/cuong091200/DoAnCuoiKy_KHDL/main/cdc_logo.svg\"></img>\n",
    "\n",
    "Theo mô tả của API, bộ dữ liệu này chứa danh sách các thông tin bao gồm số ca mắc và số ca tử vong mỗi ngày của các bang tại Mỹ. Cụ thể hơn, mỗi dòng dữ liệu là số liệu thống kê của một ngày của mỗi bang.  \n",
    "\n",
    "---\n",
    "\n",
    "Ta thu thập dữ liệu về và lưu vào `data_df`."
   ]
  },
  {
>>>>>>> Stashed changes
   "cell_type": "code",
   "execution_count": 3,
   "metadata": {
    "colab": {
     "base_uri": "https://localhost:8080/"
    },
    "id": "JEGm9zy18GIK",
<<<<<<< Updated upstream
    "outputId": "6e7205d3-5ac2-439c-ab00-03de27d099a2"
=======
    "outputId": "5373051c-39b4-46b9-9a3d-475c10969852"
>>>>>>> Stashed changes
   },
   "outputs": [
    {
     "name": "stderr",
     "output_type": "stream",
     "text": [
      "WARNING:root:Requests made without an app_token will be subject to strict throttling limits.\n"
     ]
    }
   ],
   "source": [
    "client = Socrata(\"data.cdc.gov\", None)\n",
    " \n",
    "results = client.get(\"9mfq-cb36\", limit=30000)\n",
    " \n",
    "data_df = pd.json_normalize(results)"
   ]
  },
  {
   "cell_type": "markdown",
   "metadata": {
    "id": "gr8RX2JwWCvH"
   },
   "source": [
    "## Khám phá dữ liệu (đủ để có thể xác định câu hỏi)"
   ]
  },
  {
   "cell_type": "code",
   "execution_count": 4,
   "metadata": {
    "colab": {
     "base_uri": "https://localhost:8080/",
     "height": 299
    },
    "id": "0fLtd0wMrIBr",
<<<<<<< Updated upstream
    "outputId": "4159cc89-68e4-4d12-d0b9-107c354bd35c"
=======
    "outputId": "a9de35bf-5ff3-40b3-e6bb-0dd81be5576e"
>>>>>>> Stashed changes
   },
   "outputs": [
    {
     "data": {
      "text/html": [
       "<div>\n",
       "<style scoped>\n",
       "    .dataframe tbody tr th:only-of-type {\n",
       "        vertical-align: middle;\n",
       "    }\n",
       "\n",
       "    .dataframe tbody tr th {\n",
       "        vertical-align: top;\n",
       "    }\n",
       "\n",
       "    .dataframe thead th {\n",
       "        text-align: right;\n",
       "    }\n",
       "</style>\n",
       "<table border=\"1\" class=\"dataframe\">\n",
       "  <thead>\n",
       "    <tr style=\"text-align: right;\">\n",
       "      <th></th>\n",
       "      <th>submission_date</th>\n",
       "      <th>state</th>\n",
       "      <th>tot_cases</th>\n",
       "      <th>conf_cases</th>\n",
       "      <th>prob_cases</th>\n",
       "      <th>new_case</th>\n",
       "      <th>pnew_case</th>\n",
       "      <th>tot_death</th>\n",
       "      <th>conf_death</th>\n",
       "      <th>prob_death</th>\n",
       "      <th>new_death</th>\n",
       "      <th>pnew_death</th>\n",
       "      <th>created_at</th>\n",
       "      <th>consent_cases</th>\n",
       "      <th>consent_deaths</th>\n",
       "    </tr>\n",
       "  </thead>\n",
       "  <tbody>\n",
       "    <tr>\n",
       "      <th>0</th>\n",
       "      <td>2020-05-04T00:00:00.000</td>\n",
       "      <td>KY</td>\n",
       "      <td>5245</td>\n",
       "      <td>5245.0</td>\n",
       "      <td>0</td>\n",
       "      <td>115.0</td>\n",
       "      <td>0</td>\n",
       "      <td>261</td>\n",
       "      <td>261.0</td>\n",
       "      <td>0</td>\n",
       "      <td>8.0</td>\n",
       "      <td>0</td>\n",
       "      <td>2020-05-05T17:25:08.000</td>\n",
       "      <td>Agree</td>\n",
       "      <td>Agree</td>\n",
       "    </tr>\n",
       "    <tr>\n",
       "      <th>1</th>\n",
       "      <td>2020-12-08T00:00:00.000</td>\n",
       "      <td>OK</td>\n",
       "      <td>205999</td>\n",
       "      <td>171497.0</td>\n",
       "      <td>34502</td>\n",
       "      <td>0.0</td>\n",
       "      <td>0</td>\n",
       "      <td>1752</td>\n",
       "      <td>1680.0</td>\n",
       "      <td>72</td>\n",
       "      <td>0.0</td>\n",
       "      <td>0</td>\n",
       "      <td>2020-12-09T14:45:40.234</td>\n",
       "      <td>Agree</td>\n",
       "      <td>Agree</td>\n",
       "    </tr>\n",
       "    <tr>\n",
       "      <th>2</th>\n",
       "      <td>2020-04-30T00:00:00.000</td>\n",
       "      <td>IA</td>\n",
       "      <td>7145</td>\n",
       "      <td>NaN</td>\n",
       "      <td>NaN</td>\n",
       "      <td>302.0</td>\n",
       "      <td>0</td>\n",
       "      <td>162</td>\n",
       "      <td>NaN</td>\n",
       "      <td>NaN</td>\n",
       "      <td>14.0</td>\n",
       "      <td>0</td>\n",
       "      <td>2020-05-01T21:00:19.025</td>\n",
       "      <td>Not agree</td>\n",
       "      <td>Not agree</td>\n",
       "    </tr>\n",
       "    <tr>\n",
       "      <th>3</th>\n",
       "      <td>2020-06-25T00:00:00.000</td>\n",
       "      <td>NE</td>\n",
       "      <td>18346</td>\n",
       "      <td>NaN</td>\n",
       "      <td>NaN</td>\n",
       "      <td>125.0</td>\n",
       "      <td>0</td>\n",
       "      <td>260</td>\n",
       "      <td>NaN</td>\n",
       "      <td>NaN</td>\n",
       "      <td>3.0</td>\n",
       "      <td>0</td>\n",
       "      <td>2020-06-26T19:18:27.809</td>\n",
       "      <td>Not agree</td>\n",
       "      <td>Not agree</td>\n",
       "    </tr>\n",
       "    <tr>\n",
       "      <th>4</th>\n",
       "      <td>2020-02-24T00:00:00.000</td>\n",
       "      <td>CA</td>\n",
       "      <td>10</td>\n",
       "      <td>NaN</td>\n",
       "      <td>NaN</td>\n",
       "      <td>0.0</td>\n",
       "      <td>NaN</td>\n",
       "      <td>0</td>\n",
       "      <td>NaN</td>\n",
       "      <td>NaN</td>\n",
       "      <td>0.0</td>\n",
       "      <td>NaN</td>\n",
       "      <td>2020-03-26T16:22:39.452</td>\n",
       "      <td>Not agree</td>\n",
       "      <td>Not agree</td>\n",
       "    </tr>\n",
       "  </tbody>\n",
       "</table>\n",
       "</div>"
      ],
      "text/plain": [
       "           submission_date state tot_cases conf_cases prob_cases new_case  \\\n",
       "0  2020-05-04T00:00:00.000    KY      5245     5245.0          0    115.0   \n",
       "1  2020-12-08T00:00:00.000    OK    205999   171497.0      34502      0.0   \n",
       "2  2020-04-30T00:00:00.000    IA      7145        NaN        NaN    302.0   \n",
       "3  2020-06-25T00:00:00.000    NE     18346        NaN        NaN    125.0   \n",
       "4  2020-02-24T00:00:00.000    CA        10        NaN        NaN      0.0   \n",
       "\n",
       "  pnew_case tot_death conf_death prob_death new_death pnew_death  \\\n",
       "0         0       261      261.0          0       8.0          0   \n",
       "1         0      1752     1680.0         72       0.0          0   \n",
       "2         0       162        NaN        NaN      14.0          0   \n",
       "3         0       260        NaN        NaN       3.0          0   \n",
       "4       NaN         0        NaN        NaN       0.0        NaN   \n",
       "\n",
       "                created_at consent_cases consent_deaths  \n",
       "0  2020-05-05T17:25:08.000         Agree          Agree  \n",
       "1  2020-12-09T14:45:40.234         Agree          Agree  \n",
       "2  2020-05-01T21:00:19.025     Not agree      Not agree  \n",
       "3  2020-06-26T19:18:27.809     Not agree      Not agree  \n",
       "4  2020-03-26T16:22:39.452     Not agree      Not agree  "
      ]
     },
     "execution_count": 4,
     "metadata": {},
     "output_type": "execute_result"
    }
   ],
   "source": [
    "data_df.head()"
   ]
  },
  {
   "cell_type": "markdown",
   "metadata": {
    "id": "p58_wPwV_kSm"
   },
   "source": [
    "### Dữ liệu có bao nhiêu dòng và bao nhiêu cột?"
   ]
  },
  {
   "cell_type": "code",
   "execution_count": 5,
   "metadata": {
    "colab": {
     "base_uri": "https://localhost:8080/"
    },
    "id": "uJO6unIWS6Zg",
<<<<<<< Updated upstream
    "outputId": "960113c4-0b21-4a52-cf56-c1faf9e74f6d"
=======
    "outputId": "3e755387-01ae-498a-9746-ab2416d4cdbb"
>>>>>>> Stashed changes
   },
   "outputs": [
    {
     "data": {
      "text/plain": [
<<<<<<< Updated upstream
       "(20520, 15)"
=======
       "(20640, 15)"
>>>>>>> Stashed changes
      ]
     },
     "execution_count": 5,
     "metadata": {},
     "output_type": "execute_result"
    }
   ],
   "source": [
    "data_df.shape"
   ]
  },
  {
   "cell_type": "markdown",
   "metadata": {
    "id": "qvGvE3UyAEdA"
   },
   "source": [
    "### Mỗi dòng có ý nghĩa gì? Có vấn đề các dòng có ý nghĩa khác nhau không?"
   ]
  },
  {
   "cell_type": "markdown",
   "metadata": {
    "id": "BXRnapckAVc3"
   },
   "source": [
    "Quan sát sơ bộ dữ liệu ta thấy mỗi dòng chứa các thông tin về số tổng ca nhiễm, số ca nhiễm mới, sô ca tử vong,... của của 1 bang trong một ngày cụ thể."
   ]
  },
  {
   "cell_type": "markdown",
   "metadata": {
    "id": "8dfVmbj4BOEI"
   },
   "source": [
    "### Dữ liệu có các dòng bị lặp không?"
   ]
  },
  {
   "cell_type": "code",
   "execution_count": 6,
   "metadata": {
    "colab": {
     "base_uri": "https://localhost:8080/"
    },
    "id": "fW-b1zEYgoMH",
<<<<<<< Updated upstream
    "outputId": "bfa6bf76-f985-496c-e263-51ddaf58aa7f"
=======
    "outputId": "6d3044ab-7a07-4654-f8c2-cecf5a9ff299"
>>>>>>> Stashed changes
   },
   "outputs": [
    {
     "data": {
      "text/plain": [
       "0"
      ]
     },
     "execution_count": 6,
     "metadata": {},
     "output_type": "execute_result"
    }
   ],
   "source": [
    "data_df.index.duplicated().sum()"
   ]
  },
  {
   "cell_type": "markdown",
   "metadata": {
    "id": "iRl1cKEBB6wY"
   },
   "source": [
    "### Mỗi cột có ý nghĩa gì?"
   ]
  },
  {
   "cell_type": "markdown",
   "metadata": {
    "id": "26fsqNq_CAf5"
   },
   "source": [
    "|VARIABLE|DESCRIPTION|TYPE|\n",
    "|---|----------------|------|\n",
    "|submission_date|Date of counts|Date & Time|      \n",
    "|state|Jurisdiction|Plain Text|  \n",
    "|tot_cases|Total number of cases|Number| \n",
    "|conf_cases|Total confirmed cases|Number|\n",
    "|prob_cases|Total probable cases|Number|\n",
    "|new_case|Number of new cases|Number|\n",
    "|pnew_case|Number of new probable cases|Number|\n",
    "|tot_death|Total number of deaths|Number|\n",
    "|conf_death|Total number of confirmed deaths|Number|\n",
    "|prob_death|Total number of probable deaths|Number|\n",
    "|new_death|Number of new deaths|Number|\n",
    "|pnew_death|Number of new probable deaths|Number|\n",
    "|created_at|Date and time record was created|Date & Time|\n",
    "|consent_cases|If Agree, then confirmed and probable cases are included. If Not Agree, then only total cases are included|Plain Text|\n",
    "|consent_deaths|If Agree, then confirmed and probable deaths are included. If Not Agree, then only total deaths are included|Plain Text|\n",
    "\n",
    "\n",
    "\t\n",
    "\n",
    "\n",
    "\t\n",
    "\n",
    "\n",
    "\t\n",
    "\n",
    "\n",
    "\t\n",
    "\n",
    "\n"
   ]
  },
  {
   "cell_type": "markdown",
   "metadata": {
    "id": "rzEtRDvItWdS"
   },
   "source": [
    "## Đưa ra câu hỏi cần trả lời"
   ]
  },
  {
   "cell_type": "markdown",
   "metadata": {
    "id": "KrCPbO-lI1NS"
   },
   "source": [
<<<<<<< Updated upstream
    "Số ca mắc mới trong một ngày bất kì (hợp lệ) là bao nhiêu?"
=======
    "Số ca mắc mới trong một ngày bất kì (hợp lệ) là bao nhiêu? Nó phụ thuộc như thế nào vào số ca mắc của những ngày trước đó?\n",
    "\n"
   ]
  },
  {
   "cell_type": "markdown",
   "metadata": {
    "id": "94hMNdFsxVi-"
   },
   "source": [
    "### Ý nghĩa của việc trả lời câu hỏi trên\n",
    "\n",
    "- Ta sẽ thấy được sự phụ thuộc của số ca mắc mới trong một ngày với số ca mắc của những ngày trước đó.\n",
    "- Thấy được khả năng và tần suất lây lan của dịch bệnh trên người.\n",
    "- Đưa ra dự đoán trong tương lai gần nhằm giúp chính phủ và ngành Y tế có thể tăng khả năng y tế dự phòng và triển khai các biện pháp ứng phó phù hợp với tình hình.\n",
    "- Ước lượng được các làn sóng dịch tiếp theo trong một khu vực.\n"
   ]
  },
  {
   "cell_type": "markdown",
   "metadata": {
    "id": "TImwCkBGycX5"
   },
   "source": [
    "### Cảm hứng đặt câu hỏi\n",
    "\n",
    "Cảm hứng để nhóm đặt câu hỏi này bắt nguồn từ thực trạng hiện nay, khi mà diễn biến dịch bệnh vẫn đang rất phức tạp tại nhiều quốc gia trên thế giới, đồng thời với tấm gương sự hành động cứng rắn của chính phủ Việt Nam dựa trên số liệu giúp đạt được kết quả phòng chống dịch tốt như hiện tại."
>>>>>>> Stashed changes
   ]
  },
  {
   "cell_type": "markdown",
   "metadata": {
    "id": "Qq_N6u1GJkse"
   },
   "source": [
    "## Tiền xử lý dữ liệu để phù hợp với bài toán"
   ]
  },
  {
<<<<<<< Updated upstream
=======
   "cell_type": "markdown",
   "metadata": {
    "id": "plLvTjmk7InY"
   },
   "source": [
    "### Thêm thuộc tính cho mỗi dòng dữ liệu"
   ]
  },
  {
   "cell_type": "markdown",
   "metadata": {
    "id": "qbMVmuc-0Vbu"
   },
   "source": [
    "Bộ dữ liệu thô phía trên chưa có sự kết nối giữa những ngày liền kề nhau. Vì vậy ta sẽ tiền xử lý một chút để, đối với mỗi dòng dữ liệu, nó sẽ chứa thêm thông tin của số ca mắc mới của `callback_days` ngày liền trước đó. \n",
    "\n",
    "Hàm `add_row_df` sẽ làm nhiệm vụ trên: số ca mắc của `i` ngày trước của mỗi dòng dữ liệu sẽ được thêm vào cột `new_case_his_i`. "
   ]
  },
  {
>>>>>>> Stashed changes
   "cell_type": "code",
   "execution_count": 7,
   "metadata": {
    "id": "G4PLTmaop3N3"
   },
   "outputs": [],
   "source": [
    "# number of records will be collected\n",
    "callback_days = 28\n",
    "\n",
    "def add_row_df(df):\n",
    "    df = df.sort_values('submission_date', ascending=True)\n",
    "\n",
<<<<<<< Updated upstream
    "    # Validation data\n",
=======
    "    # Validation raw data\n",
>>>>>>> Stashed changes
    "    for g in df.groupby('submission_date'):\n",
    "        if g[1].shape[0] > 1:\n",
    "            raise Exception(\"Error, please groupby dataset by date before pass to this func\")\n",
    "    \n",
    "    # MAGIC\n",
    "    new_case_data = df['new_case']\n",
    "    \n",
    "    l = None\n",
    "\n",
    "    for j in range(len(new_case_data)):\n",
    "        if j >= callback_days:\n",
    "            t = new_case_data.iloc[j - callback_days: j]\n",
    "            \n",
    "            # append row\n",
    "            l = np.r_[l, [np.flip(t)]]\n",
    "        else:\n",
    "            t = new_case_data.iloc[0: j + 1]\n",
    "            fill = np.r_[np.array(['0' for i in range(callback_days - len(t))]), t]\n",
    "\n",
    "            # append row\n",
    "            if l is None:\n",
    "                l = np.array([np.flip(fill)])\n",
    "            else:\n",
    "                l = np.r_[l, [np.flip(fill)]]\n",
    "    \n",
    "    df2 = pd.DataFrame(l, index=df.index, columns=[f\"new_case_his_{i}\" for i in range(1, callback_days + 1)])\n",
    "    \n",
    "    return pd.concat([df, df2], axis=1)"
   ]
  },
  {
   "cell_type": "code",
   "execution_count": 8,
   "metadata": {
<<<<<<< Updated upstream
=======
    "id": "y6bIL6l4JeCG"
   },
   "outputs": [],
   "source": [
    "whitelist = ['submission_date', 'state', 'created_at','consent_cases','consent_deaths']\n",
    "usa_collected_df = add_row_df(data_df.transform(lambda x: x if (x.name in whitelist) else pd.to_numeric(x, errors='coerce')).groupby('submission_date').sum())\n",
    "usa_collected_df = usa_collected_df.transform(lambda x: x if (x.name in whitelist) else pd.to_numeric(x, errors='coerce'))"
   ]
  },
  {
   "cell_type": "code",
   "execution_count": 9,
   "metadata": {
    "colab": {
     "base_uri": "https://localhost:8080/",
     "height": 329
    },
    "id": "Zq0TYyZiL3eD",
    "outputId": "fa721abc-8a9c-4104-dc8d-51fa36f3db72"
   },
   "outputs": [
    {
     "data": {
      "text/html": [
       "<div>\n",
       "<style scoped>\n",
       "    .dataframe tbody tr th:only-of-type {\n",
       "        vertical-align: middle;\n",
       "    }\n",
       "\n",
       "    .dataframe tbody tr th {\n",
       "        vertical-align: top;\n",
       "    }\n",
       "\n",
       "    .dataframe thead th {\n",
       "        text-align: right;\n",
       "    }\n",
       "</style>\n",
       "<table border=\"1\" class=\"dataframe\">\n",
       "  <thead>\n",
       "    <tr style=\"text-align: right;\">\n",
       "      <th></th>\n",
       "      <th>tot_cases</th>\n",
       "      <th>conf_cases</th>\n",
       "      <th>prob_cases</th>\n",
       "      <th>new_case</th>\n",
       "      <th>pnew_case</th>\n",
       "      <th>tot_death</th>\n",
       "      <th>conf_death</th>\n",
       "      <th>prob_death</th>\n",
       "      <th>new_death</th>\n",
       "      <th>pnew_death</th>\n",
       "      <th>...</th>\n",
       "      <th>new_case_his_19</th>\n",
       "      <th>new_case_his_20</th>\n",
       "      <th>new_case_his_21</th>\n",
       "      <th>new_case_his_22</th>\n",
       "      <th>new_case_his_23</th>\n",
       "      <th>new_case_his_24</th>\n",
       "      <th>new_case_his_25</th>\n",
       "      <th>new_case_his_26</th>\n",
       "      <th>new_case_his_27</th>\n",
       "      <th>new_case_his_28</th>\n",
       "    </tr>\n",
       "    <tr>\n",
       "      <th>submission_date</th>\n",
       "      <th></th>\n",
       "      <th></th>\n",
       "      <th></th>\n",
       "      <th></th>\n",
       "      <th></th>\n",
       "      <th></th>\n",
       "      <th></th>\n",
       "      <th></th>\n",
       "      <th></th>\n",
       "      <th></th>\n",
       "      <th></th>\n",
       "      <th></th>\n",
       "      <th></th>\n",
       "      <th></th>\n",
       "      <th></th>\n",
       "      <th></th>\n",
       "      <th></th>\n",
       "      <th></th>\n",
       "      <th></th>\n",
       "      <th></th>\n",
       "      <th></th>\n",
       "    </tr>\n",
       "  </thead>\n",
       "  <tbody>\n",
       "    <tr>\n",
       "      <th>2020-12-26T00:00:00.000</th>\n",
       "      <td>18909910</td>\n",
       "      <td>8666714.0</td>\n",
       "      <td>888223.0</td>\n",
       "      <td>179104.0</td>\n",
       "      <td>12912.0</td>\n",
       "      <td>330901</td>\n",
       "      <td>181604.0</td>\n",
       "      <td>19347.0</td>\n",
       "      <td>1309.0</td>\n",
       "      <td>127.0</td>\n",
       "      <td>...</td>\n",
       "      <td>186815.0</td>\n",
       "      <td>176194.0</td>\n",
       "      <td>209445.0</td>\n",
       "      <td>217196.0</td>\n",
       "      <td>222300.0</td>\n",
       "      <td>199025.0</td>\n",
       "      <td>180796.0</td>\n",
       "      <td>152909.0</td>\n",
       "      <td>153454.0</td>\n",
       "      <td>143634.0</td>\n",
       "    </tr>\n",
       "    <tr>\n",
       "      <th>2020-12-27T00:00:00.000</th>\n",
       "      <td>19055869</td>\n",
       "      <td>8712179.0</td>\n",
       "      <td>896065.0</td>\n",
       "      <td>145959.0</td>\n",
       "      <td>14704.0</td>\n",
       "      <td>332246</td>\n",
       "      <td>182188.0</td>\n",
       "      <td>19417.0</td>\n",
       "      <td>1345.0</td>\n",
       "      <td>228.0</td>\n",
       "      <td>...</td>\n",
       "      <td>222606.0</td>\n",
       "      <td>186815.0</td>\n",
       "      <td>176194.0</td>\n",
       "      <td>209445.0</td>\n",
       "      <td>217196.0</td>\n",
       "      <td>222300.0</td>\n",
       "      <td>199025.0</td>\n",
       "      <td>180796.0</td>\n",
       "      <td>152909.0</td>\n",
       "      <td>153454.0</td>\n",
       "    </tr>\n",
       "    <tr>\n",
       "      <th>2020-12-28T00:00:00.000</th>\n",
       "      <td>19232843</td>\n",
       "      <td>8793726.0</td>\n",
       "      <td>908269.0</td>\n",
       "      <td>176974.0</td>\n",
       "      <td>17620.0</td>\n",
       "      <td>334029</td>\n",
       "      <td>183189.0</td>\n",
       "      <td>19575.0</td>\n",
       "      <td>1783.0</td>\n",
       "      <td>252.0</td>\n",
       "      <td>...</td>\n",
       "      <td>233824.0</td>\n",
       "      <td>222606.0</td>\n",
       "      <td>186815.0</td>\n",
       "      <td>176194.0</td>\n",
       "      <td>209445.0</td>\n",
       "      <td>217196.0</td>\n",
       "      <td>222300.0</td>\n",
       "      <td>199025.0</td>\n",
       "      <td>180796.0</td>\n",
       "      <td>152909.0</td>\n",
       "    </tr>\n",
       "    <tr>\n",
       "      <th>2020-12-29T00:00:00.000</th>\n",
       "      <td>19433639</td>\n",
       "      <td>8857372.0</td>\n",
       "      <td>931940.0</td>\n",
       "      <td>200796.0</td>\n",
       "      <td>37394.0</td>\n",
       "      <td>337435</td>\n",
       "      <td>184795.0</td>\n",
       "      <td>19853.0</td>\n",
       "      <td>3406.0</td>\n",
       "      <td>292.0</td>\n",
       "      <td>...</td>\n",
       "      <td>206066.0</td>\n",
       "      <td>233824.0</td>\n",
       "      <td>222606.0</td>\n",
       "      <td>186815.0</td>\n",
       "      <td>176194.0</td>\n",
       "      <td>209445.0</td>\n",
       "      <td>217196.0</td>\n",
       "      <td>222300.0</td>\n",
       "      <td>199025.0</td>\n",
       "      <td>180796.0</td>\n",
       "    </tr>\n",
       "    <tr>\n",
       "      <th>2020-12-30T00:00:00.000</th>\n",
       "      <td>19663976</td>\n",
       "      <td>8946883.0</td>\n",
       "      <td>959423.0</td>\n",
       "      <td>230337.0</td>\n",
       "      <td>41729.0</td>\n",
       "      <td>341199</td>\n",
       "      <td>186390.0</td>\n",
       "      <td>20184.0</td>\n",
       "      <td>3764.0</td>\n",
       "      <td>323.0</td>\n",
       "      <td>...</td>\n",
       "      <td>246716.0</td>\n",
       "      <td>206066.0</td>\n",
       "      <td>233824.0</td>\n",
       "      <td>222606.0</td>\n",
       "      <td>186815.0</td>\n",
       "      <td>176194.0</td>\n",
       "      <td>209445.0</td>\n",
       "      <td>217196.0</td>\n",
       "      <td>222300.0</td>\n",
       "      <td>199025.0</td>\n",
       "    </tr>\n",
       "  </tbody>\n",
       "</table>\n",
       "<p>5 rows × 38 columns</p>\n",
       "</div>"
      ],
      "text/plain": [
       "                         tot_cases  conf_cases  prob_cases  new_case  \\\n",
       "submission_date                                                        \n",
       "2020-12-26T00:00:00.000   18909910   8666714.0    888223.0  179104.0   \n",
       "2020-12-27T00:00:00.000   19055869   8712179.0    896065.0  145959.0   \n",
       "2020-12-28T00:00:00.000   19232843   8793726.0    908269.0  176974.0   \n",
       "2020-12-29T00:00:00.000   19433639   8857372.0    931940.0  200796.0   \n",
       "2020-12-30T00:00:00.000   19663976   8946883.0    959423.0  230337.0   \n",
       "\n",
       "                         pnew_case  tot_death  conf_death  prob_death  \\\n",
       "submission_date                                                         \n",
       "2020-12-26T00:00:00.000    12912.0     330901    181604.0     19347.0   \n",
       "2020-12-27T00:00:00.000    14704.0     332246    182188.0     19417.0   \n",
       "2020-12-28T00:00:00.000    17620.0     334029    183189.0     19575.0   \n",
       "2020-12-29T00:00:00.000    37394.0     337435    184795.0     19853.0   \n",
       "2020-12-30T00:00:00.000    41729.0     341199    186390.0     20184.0   \n",
       "\n",
       "                         new_death  pnew_death  ...  new_case_his_19  \\\n",
       "submission_date                                 ...                    \n",
       "2020-12-26T00:00:00.000     1309.0       127.0  ...         186815.0   \n",
       "2020-12-27T00:00:00.000     1345.0       228.0  ...         222606.0   \n",
       "2020-12-28T00:00:00.000     1783.0       252.0  ...         233824.0   \n",
       "2020-12-29T00:00:00.000     3406.0       292.0  ...         206066.0   \n",
       "2020-12-30T00:00:00.000     3764.0       323.0  ...         246716.0   \n",
       "\n",
       "                         new_case_his_20  new_case_his_21  new_case_his_22  \\\n",
       "submission_date                                                              \n",
       "2020-12-26T00:00:00.000         176194.0         209445.0         217196.0   \n",
       "2020-12-27T00:00:00.000         186815.0         176194.0         209445.0   \n",
       "2020-12-28T00:00:00.000         222606.0         186815.0         176194.0   \n",
       "2020-12-29T00:00:00.000         233824.0         222606.0         186815.0   \n",
       "2020-12-30T00:00:00.000         206066.0         233824.0         222606.0   \n",
       "\n",
       "                         new_case_his_23  new_case_his_24  new_case_his_25  \\\n",
       "submission_date                                                              \n",
       "2020-12-26T00:00:00.000         222300.0         199025.0         180796.0   \n",
       "2020-12-27T00:00:00.000         217196.0         222300.0         199025.0   \n",
       "2020-12-28T00:00:00.000         209445.0         217196.0         222300.0   \n",
       "2020-12-29T00:00:00.000         176194.0         209445.0         217196.0   \n",
       "2020-12-30T00:00:00.000         186815.0         176194.0         209445.0   \n",
       "\n",
       "                         new_case_his_26  new_case_his_27  new_case_his_28  \n",
       "submission_date                                                             \n",
       "2020-12-26T00:00:00.000         152909.0         153454.0         143634.0  \n",
       "2020-12-27T00:00:00.000         180796.0         152909.0         153454.0  \n",
       "2020-12-28T00:00:00.000         199025.0         180796.0         152909.0  \n",
       "2020-12-29T00:00:00.000         222300.0         199025.0         180796.0  \n",
       "2020-12-30T00:00:00.000         217196.0         222300.0         199025.0  \n",
       "\n",
       "[5 rows x 38 columns]"
      ]
     },
     "execution_count": 9,
     "metadata": {},
     "output_type": "execute_result"
    }
   ],
   "source": [
    "usa_collected_df.tail()"
   ]
  },
  {
   "cell_type": "code",
   "execution_count": 10,
   "metadata": {
    "id": "r1fenCy5NQCv"
   },
   "outputs": [],
   "source": [
    "usa_X_df = usa_collected_df.drop('new_case', axis=1)\n",
    "usa_y_sr = usa_collected_df['new_case']"
   ]
  },
  {
   "cell_type": "markdown",
   "metadata": {
    "id": "ZGoy0jpH3ZN8"
   },
   "source": [
    "Ta sẽ áp dụng phương pháp trên đối với mỗi bang (bằng cách gom nhóm), nhằm đảm bảo dữ liệu nhất quán và chính xác. Kết quả bộ dữ liệu mới sẽ được lưu vào `collected_df`."
   ]
  },
  {
   "cell_type": "code",
   "execution_count": 11,
   "metadata": {
>>>>>>> Stashed changes
    "id": "khQt7rPN1dO0"
   },
   "outputs": [],
   "source": [
    "collected_df = data_df.groupby('state').apply(add_row_df).reset_index(level='state', drop=True)"
   ]
  },
  {
   "cell_type": "code",
<<<<<<< Updated upstream
   "execution_count": 9,
=======
   "execution_count": 12,
>>>>>>> Stashed changes
   "metadata": {
    "id": "ZP2eB894Nvu6"
   },
   "outputs": [],
   "source": [
<<<<<<< Updated upstream
    "# correct? test this cell\n",
=======
    "# incorrect? test this cell\n",
>>>>>>> Stashed changes
    "#collected_df.groupby('state').get_group('AK').sort_values('submission_date', ascending=True).tail(10) "
   ]
  },
  {
   "cell_type": "markdown",
   "metadata": {
    "id": "oUeJGTih1J0F"
   },
   "source": [
<<<<<<< Updated upstream
    "Ép về đúng kiểu dữ liệu"
=======
    "### Ép về đúng kiểu dữ liệu\n",
    "\n",
    "Ta sẽ ép về dữ liệu số đối với các cột có kiểu là số."
>>>>>>> Stashed changes
   ]
  },
  {
   "cell_type": "code",
<<<<<<< Updated upstream
   "execution_count": 10,
=======
   "execution_count": 13,
>>>>>>> Stashed changes
   "metadata": {
    "id": "FmamzkPv1I7F"
   },
   "outputs": [],
   "source": [
    "whitelist = ['submission_date', 'state', 'created_at','consent_cases','consent_deaths']\n",
    "\n",
    "collected_df = collected_df.transform(lambda x: x if (x.name in whitelist) else pd.to_numeric(x, errors='coerce'))"
   ]
  },
  {
   "cell_type": "markdown",
   "metadata": {
    "id": "a7FdbL1s0RvS"
   },
   "source": [
<<<<<<< Updated upstream
    "Loại bỏ các dòng dữ liệu chắc chắn là nhiễu (những ngày chưa ghi nhận ca mắc nào)"
=======
    "### Loại bỏ các dòng dữ liệu chắc chắn là nhiễu\n",
    "\n",
    "Một dòng được coi là dữ liệu nhiễu khi cho tới ngày đó chưa ghi nhận ca mắc nào (`tot_cases = 0`).\n",
    "\n",
    "Ngoài ra, nhóm còn quy định dòng dữ liệu có thông số `new_case` âm là nhiễu."
>>>>>>> Stashed changes
   ]
  },
  {
   "cell_type": "code",
<<<<<<< Updated upstream
   "execution_count": 11,
=======
   "execution_count": 14,
>>>>>>> Stashed changes
   "metadata": {
    "colab": {
     "base_uri": "https://localhost:8080/",
     "height": 299
    },
    "id": "9eeEiEA3gDpJ",
<<<<<<< Updated upstream
    "outputId": "4cb2324d-a7ff-42c9-d487-7b5a7fbdf117"
=======
    "outputId": "a5da47e1-b2f4-423f-b27c-a61568ac0392"
>>>>>>> Stashed changes
   },
   "outputs": [
    {
     "data": {
      "text/html": [
       "<div>\n",
       "<style scoped>\n",
       "    .dataframe tbody tr th:only-of-type {\n",
       "        vertical-align: middle;\n",
       "    }\n",
       "\n",
       "    .dataframe tbody tr th {\n",
       "        vertical-align: top;\n",
       "    }\n",
       "\n",
       "    .dataframe thead th {\n",
       "        text-align: right;\n",
       "    }\n",
       "</style>\n",
       "<table border=\"1\" class=\"dataframe\">\n",
       "  <thead>\n",
       "    <tr style=\"text-align: right;\">\n",
       "      <th></th>\n",
       "      <th>submission_date</th>\n",
       "      <th>state</th>\n",
       "      <th>tot_cases</th>\n",
       "      <th>conf_cases</th>\n",
       "      <th>prob_cases</th>\n",
       "      <th>new_case</th>\n",
       "      <th>pnew_case</th>\n",
       "      <th>tot_death</th>\n",
       "      <th>conf_death</th>\n",
       "      <th>prob_death</th>\n",
       "      <th>...</th>\n",
       "      <th>new_case_his_19</th>\n",
       "      <th>new_case_his_20</th>\n",
       "      <th>new_case_his_21</th>\n",
       "      <th>new_case_his_22</th>\n",
       "      <th>new_case_his_23</th>\n",
       "      <th>new_case_his_24</th>\n",
       "      <th>new_case_his_25</th>\n",
       "      <th>new_case_his_26</th>\n",
       "      <th>new_case_his_27</th>\n",
       "      <th>new_case_his_28</th>\n",
       "    </tr>\n",
       "  </thead>\n",
       "  <tbody>\n",
       "    <tr>\n",
<<<<<<< Updated upstream
       "      <th>18512</th>\n",
=======
       "      <th>8286</th>\n",
>>>>>>> Stashed changes
       "      <td>2020-03-13T00:00:00.000</td>\n",
       "      <td>AK</td>\n",
       "      <td>1</td>\n",
       "      <td>NaN</td>\n",
       "      <td>NaN</td>\n",
       "      <td>1.0</td>\n",
       "      <td>NaN</td>\n",
       "      <td>0</td>\n",
       "      <td>NaN</td>\n",
       "      <td>NaN</td>\n",
       "      <td>...</td>\n",
       "      <td>0.0</td>\n",
       "      <td>0.0</td>\n",
       "      <td>0.0</td>\n",
       "      <td>0.0</td>\n",
       "      <td>0.0</td>\n",
       "      <td>0.0</td>\n",
       "      <td>0.0</td>\n",
       "      <td>0.0</td>\n",
       "      <td>0.0</td>\n",
       "      <td>0.0</td>\n",
       "    </tr>\n",
       "    <tr>\n",
<<<<<<< Updated upstream
       "      <th>9152</th>\n",
       "      <td>2020-03-14T00:00:00.000</td>\n",
       "      <td>AK</td>\n",
       "      <td>1</td>\n",
       "      <td>NaN</td>\n",
       "      <td>NaN</td>\n",
       "      <td>0.0</td>\n",
=======
       "      <th>18091</th>\n",
       "      <td>2020-03-17T00:00:00.000</td>\n",
       "      <td>AK</td>\n",
       "      <td>3</td>\n",
       "      <td>NaN</td>\n",
       "      <td>NaN</td>\n",
       "      <td>2.0</td>\n",
>>>>>>> Stashed changes
       "      <td>NaN</td>\n",
       "      <td>0</td>\n",
       "      <td>NaN</td>\n",
       "      <td>NaN</td>\n",
       "      <td>...</td>\n",
       "      <td>0.0</td>\n",
       "      <td>0.0</td>\n",
       "      <td>0.0</td>\n",
       "      <td>0.0</td>\n",
       "      <td>0.0</td>\n",
       "      <td>0.0</td>\n",
       "      <td>0.0</td>\n",
       "      <td>0.0</td>\n",
       "      <td>0.0</td>\n",
       "      <td>0.0</td>\n",
       "    </tr>\n",
       "    <tr>\n",
<<<<<<< Updated upstream
       "      <th>19051</th>\n",
       "      <td>2020-03-15T00:00:00.000</td>\n",
       "      <td>AK</td>\n",
       "      <td>1</td>\n",
       "      <td>NaN</td>\n",
       "      <td>NaN</td>\n",
       "      <td>0.0</td>\n",
=======
       "      <th>17969</th>\n",
       "      <td>2020-03-18T00:00:00.000</td>\n",
       "      <td>AK</td>\n",
       "      <td>6</td>\n",
       "      <td>NaN</td>\n",
       "      <td>NaN</td>\n",
       "      <td>3.0</td>\n",
>>>>>>> Stashed changes
       "      <td>NaN</td>\n",
       "      <td>0</td>\n",
       "      <td>NaN</td>\n",
       "      <td>NaN</td>\n",
       "      <td>...</td>\n",
       "      <td>0.0</td>\n",
       "      <td>0.0</td>\n",
       "      <td>0.0</td>\n",
       "      <td>0.0</td>\n",
       "      <td>0.0</td>\n",
       "      <td>0.0</td>\n",
       "      <td>0.0</td>\n",
       "      <td>0.0</td>\n",
       "      <td>0.0</td>\n",
       "      <td>0.0</td>\n",
       "    </tr>\n",
       "    <tr>\n",
<<<<<<< Updated upstream
       "      <th>17452</th>\n",
       "      <td>2020-03-16T00:00:00.000</td>\n",
       "      <td>AK</td>\n",
       "      <td>1</td>\n",
       "      <td>NaN</td>\n",
       "      <td>NaN</td>\n",
       "      <td>0.0</td>\n",
=======
       "      <th>19972</th>\n",
       "      <td>2020-03-19T00:00:00.000</td>\n",
       "      <td>AK</td>\n",
       "      <td>9</td>\n",
       "      <td>NaN</td>\n",
       "      <td>NaN</td>\n",
       "      <td>3.0</td>\n",
>>>>>>> Stashed changes
       "      <td>NaN</td>\n",
       "      <td>0</td>\n",
       "      <td>NaN</td>\n",
       "      <td>NaN</td>\n",
       "      <td>...</td>\n",
       "      <td>0.0</td>\n",
       "      <td>0.0</td>\n",
       "      <td>0.0</td>\n",
       "      <td>0.0</td>\n",
       "      <td>0.0</td>\n",
       "      <td>0.0</td>\n",
       "      <td>0.0</td>\n",
       "      <td>0.0</td>\n",
       "      <td>0.0</td>\n",
       "      <td>0.0</td>\n",
       "    </tr>\n",
       "    <tr>\n",
<<<<<<< Updated upstream
       "      <th>7738</th>\n",
       "      <td>2020-03-17T00:00:00.000</td>\n",
       "      <td>AK</td>\n",
       "      <td>3</td>\n",
       "      <td>NaN</td>\n",
       "      <td>NaN</td>\n",
       "      <td>2.0</td>\n",
=======
       "      <th>19368</th>\n",
       "      <td>2020-03-20T00:00:00.000</td>\n",
       "      <td>AK</td>\n",
       "      <td>12</td>\n",
       "      <td>NaN</td>\n",
       "      <td>NaN</td>\n",
       "      <td>3.0</td>\n",
>>>>>>> Stashed changes
       "      <td>NaN</td>\n",
       "      <td>0</td>\n",
       "      <td>NaN</td>\n",
       "      <td>NaN</td>\n",
       "      <td>...</td>\n",
       "      <td>0.0</td>\n",
       "      <td>0.0</td>\n",
       "      <td>0.0</td>\n",
       "      <td>0.0</td>\n",
       "      <td>0.0</td>\n",
       "      <td>0.0</td>\n",
       "      <td>0.0</td>\n",
       "      <td>0.0</td>\n",
       "      <td>0.0</td>\n",
       "      <td>0.0</td>\n",
       "    </tr>\n",
       "  </tbody>\n",
       "</table>\n",
       "<p>5 rows × 43 columns</p>\n",
       "</div>"
<<<<<<< Updated upstream
      ],
      "text/plain": [
       "               submission_date state  tot_cases  conf_cases  prob_cases  \\\n",
       "18512  2020-03-13T00:00:00.000    AK          1         NaN         NaN   \n",
       "9152   2020-03-14T00:00:00.000    AK          1         NaN         NaN   \n",
       "19051  2020-03-15T00:00:00.000    AK          1         NaN         NaN   \n",
       "17452  2020-03-16T00:00:00.000    AK          1         NaN         NaN   \n",
       "7738   2020-03-17T00:00:00.000    AK          3         NaN         NaN   \n",
       "\n",
       "       new_case  pnew_case  tot_death  conf_death  prob_death  ...  \\\n",
       "18512       1.0        NaN          0         NaN         NaN  ...   \n",
       "9152        0.0        NaN          0         NaN         NaN  ...   \n",
       "19051       0.0        NaN          0         NaN         NaN  ...   \n",
       "17452       0.0        NaN          0         NaN         NaN  ...   \n",
       "7738        2.0        NaN          0         NaN         NaN  ...   \n",
       "\n",
       "       new_case_his_19  new_case_his_20 new_case_his_21 new_case_his_22  \\\n",
       "18512              0.0              0.0             0.0             0.0   \n",
       "9152               0.0              0.0             0.0             0.0   \n",
       "19051              0.0              0.0             0.0             0.0   \n",
       "17452              0.0              0.0             0.0             0.0   \n",
       "7738               0.0              0.0             0.0             0.0   \n",
       "\n",
       "      new_case_his_23  new_case_his_24  new_case_his_25  new_case_his_26  \\\n",
       "18512             0.0              0.0              0.0              0.0   \n",
       "9152              0.0              0.0              0.0              0.0   \n",
       "19051             0.0              0.0              0.0              0.0   \n",
       "17452             0.0              0.0              0.0              0.0   \n",
       "7738              0.0              0.0              0.0              0.0   \n",
       "\n",
       "       new_case_his_27  new_case_his_28  \n",
       "18512              0.0              0.0  \n",
       "9152               0.0              0.0  \n",
       "19051              0.0              0.0  \n",
       "17452              0.0              0.0  \n",
       "7738               0.0              0.0  \n",
       "\n",
       "[5 rows x 43 columns]"
      ]
     },
     "execution_count": 11,
=======
      ],
      "text/plain": [
       "               submission_date state  tot_cases  conf_cases  prob_cases  \\\n",
       "8286   2020-03-13T00:00:00.000    AK          1         NaN         NaN   \n",
       "18091  2020-03-17T00:00:00.000    AK          3         NaN         NaN   \n",
       "17969  2020-03-18T00:00:00.000    AK          6         NaN         NaN   \n",
       "19972  2020-03-19T00:00:00.000    AK          9         NaN         NaN   \n",
       "19368  2020-03-20T00:00:00.000    AK         12         NaN         NaN   \n",
       "\n",
       "       new_case  pnew_case  tot_death  conf_death  prob_death  ...  \\\n",
       "8286        1.0        NaN          0         NaN         NaN  ...   \n",
       "18091       2.0        NaN          0         NaN         NaN  ...   \n",
       "17969       3.0        NaN          0         NaN         NaN  ...   \n",
       "19972       3.0        NaN          0         NaN         NaN  ...   \n",
       "19368       3.0        NaN          0         NaN         NaN  ...   \n",
       "\n",
       "       new_case_his_19  new_case_his_20 new_case_his_21 new_case_his_22  \\\n",
       "8286               0.0              0.0             0.0             0.0   \n",
       "18091              0.0              0.0             0.0             0.0   \n",
       "17969              0.0              0.0             0.0             0.0   \n",
       "19972              0.0              0.0             0.0             0.0   \n",
       "19368              0.0              0.0             0.0             0.0   \n",
       "\n",
       "      new_case_his_23  new_case_his_24  new_case_his_25  new_case_his_26  \\\n",
       "8286              0.0              0.0              0.0              0.0   \n",
       "18091             0.0              0.0              0.0              0.0   \n",
       "17969             0.0              0.0              0.0              0.0   \n",
       "19972             0.0              0.0              0.0              0.0   \n",
       "19368             0.0              0.0              0.0              0.0   \n",
       "\n",
       "       new_case_his_27  new_case_his_28  \n",
       "8286               0.0              0.0  \n",
       "18091              0.0              0.0  \n",
       "17969              0.0              0.0  \n",
       "19972              0.0              0.0  \n",
       "19368              0.0              0.0  \n",
       "\n",
       "[5 rows x 43 columns]"
      ]
     },
     "execution_count": 14,
     "metadata": {},
     "output_type": "execute_result"
    }
   ],
   "source": [
    "collected_df = collected_df[(collected_df['tot_cases'] > 0) & (collected_df['new_case'] > 0)]\n",
    "collected_df.head()"
   ]
  },
  {
   "cell_type": "code",
   "execution_count": 15,
   "metadata": {
    "colab": {
     "base_uri": "https://localhost:8080/"
    },
    "id": "RJylU4DBuDzE",
    "outputId": "1c8cca76-002a-4af2-ec70-eb0da38d305f"
   },
   "outputs": [
    {
     "data": {
      "text/plain": [
       "(15285, 43)"
      ]
     },
     "execution_count": 15,
     "metadata": {},
     "output_type": "execute_result"
    }
   ],
   "source": [
    "collected_df.shape"
   ]
  },
  {
   "cell_type": "markdown",
   "metadata": {
    "id": "7Ds7VtHBavXk"
   },
   "source": [
    "Đến đây, từ dữ liệu thô, ta đã thu thập đủ dữ liệu (được lưu trong `collected_df`) để có thể khai thác để trả lời câu hỏi."
   ]
  },
  {
   "cell_type": "markdown",
   "metadata": {
    "id": "uUoZnG8hXzMv"
   },
   "source": [
    "## Tiền xử lý (tách tập)"
   ]
  },
  {
   "cell_type": "markdown",
   "metadata": {
    "id": "gAFrHaY28I3i"
   },
   "source": [
    "Input của bài toán sẽ bao gồm một số cột trong dữ liệu. Output chính là cột `new_case`. "
   ]
  },
  {
   "cell_type": "code",
   "execution_count": 16,
   "metadata": {
    "id": "00vcVoi9XaWu"
   },
   "outputs": [],
   "source": [
    "sorted_df = collected_df.sort_values('submission_date', ascending=True)\n",
    "X_df = sorted_df.drop('new_case', axis=1)\n",
    "y_sr = sorted_df['new_case']"
   ]
  },
  {
   "cell_type": "markdown",
   "metadata": {
    "id": "h1Hse-XISNpP"
   },
   "source": [
    "Tách theo tỉ lệ: 80% 10% 10% lần lượt cho bộ train, bộ validation, bộ test."
   ]
  },
  {
   "cell_type": "code",
   "execution_count": 17,
   "metadata": {
    "id": "DMmn7hdgWx2o"
   },
   "outputs": [],
   "source": [
    "# tách bộ (train, validation) và bộ test\n",
    "\n",
    "new_X_df, test_X_df, new_y_sr, test_y_sr = train_test_split(X_df, y_sr, train_size = 0.9, \n",
    "                                                             shuffle=False, random_state=0)"
   ]
  },
  {
   "cell_type": "markdown",
   "metadata": {
    "id": "-l8pE224R4YS"
   },
   "source": [
    "Tách bộ tran và bộ validation."
   ]
  },
  {
   "cell_type": "code",
   "execution_count": 18,
   "metadata": {
    "id": "iWbMUPOtR20r"
   },
   "outputs": [],
   "source": [
    "train_X_df, val_X_df, train_y_sr, val_y_sr = train_test_split(new_X_df, new_y_sr, train_size=(8/9), \n",
    "                                                              random_state=0)"
   ]
  },
  {
   "cell_type": "code",
   "execution_count": 19,
   "metadata": {
    "colab": {
     "base_uri": "https://localhost:8080/"
    },
    "id": "OlIspXe4o0Fq",
    "outputId": "7e768e73-7848-4a9b-f21b-27db63a3be32"
   },
   "outputs": [
    {
     "data": {
      "text/plain": [
       "(12227, 42)"
      ]
     },
     "execution_count": 19,
     "metadata": {},
     "output_type": "execute_result"
    }
   ],
   "source": [
    "train_X_df.shape"
   ]
  },
  {
   "cell_type": "markdown",
   "metadata": {
    "id": "0a01Uxt2Tj7M"
   },
   "source": [
    "## Khám phá dữ liệu (tập huấn luyện)"
   ]
  },
  {
   "cell_type": "markdown",
   "metadata": {
    "id": "LQjYUVgvTsjt"
   },
   "source": [
    "### Mỗi cột input hiện đang có kiểu dữ liệu gì? Có cột nào có kiểu dữ liệu chưa phù hợp để có thể xử lý tiếp không?"
   ]
  },
  {
   "cell_type": "code",
   "execution_count": 20,
   "metadata": {
    "colab": {
     "base_uri": "https://localhost:8080/"
    },
    "id": "g4s5R4ZETpMZ",
    "outputId": "748a1d2e-0e7d-40ff-b1d1-16f8baeb04f0"
   },
   "outputs": [
    {
     "data": {
      "text/plain": [
       "submission_date     object\n",
       "state               object\n",
       "tot_cases            int64\n",
       "conf_cases         float64\n",
       "prob_cases         float64\n",
       "pnew_case          float64\n",
       "tot_death            int64\n",
       "conf_death         float64\n",
       "prob_death         float64\n",
       "new_death          float64\n",
       "pnew_death         float64\n",
       "created_at          object\n",
       "consent_cases       object\n",
       "consent_deaths      object\n",
       "new_case_his_1     float64\n",
       "new_case_his_2     float64\n",
       "new_case_his_3     float64\n",
       "new_case_his_4     float64\n",
       "new_case_his_5     float64\n",
       "new_case_his_6     float64\n",
       "new_case_his_7     float64\n",
       "new_case_his_8     float64\n",
       "new_case_his_9     float64\n",
       "new_case_his_10    float64\n",
       "new_case_his_11    float64\n",
       "new_case_his_12    float64\n",
       "new_case_his_13    float64\n",
       "new_case_his_14    float64\n",
       "new_case_his_15    float64\n",
       "new_case_his_16    float64\n",
       "new_case_his_17    float64\n",
       "new_case_his_18    float64\n",
       "new_case_his_19    float64\n",
       "new_case_his_20    float64\n",
       "new_case_his_21    float64\n",
       "new_case_his_22    float64\n",
       "new_case_his_23    float64\n",
       "new_case_his_24    float64\n",
       "new_case_his_25    float64\n",
       "new_case_his_26    float64\n",
       "new_case_his_27    float64\n",
       "new_case_his_28    float64\n",
       "dtype: object"
      ]
     },
     "execution_count": 20,
     "metadata": {},
     "output_type": "execute_result"
    }
   ],
   "source": [
    "train_X_df.dtypes"
   ]
  },
  {
   "cell_type": "markdown",
   "metadata": {
    "id": "ZMGt8nni-kgh"
   },
   "source": [
    "TODO: NHẬN XÉT"
   ]
  },
  {
   "cell_type": "markdown",
   "metadata": {
    "id": "MbPT8ehLT9yr"
   },
   "source": [
    "### Với mỗi cột input có kiểu dữ liệu dạng số, các giá trị được phân bố như thế nào?"
   ]
  },
  {
   "cell_type": "code",
   "execution_count": 21,
   "metadata": {
    "colab": {
     "base_uri": "https://localhost:8080/",
     "height": 245
    },
    "id": "9AmzF6cYUS-o",
    "outputId": "6ddea70e-3cce-493d-89be-b3611828038a"
   },
   "outputs": [
    {
     "data": {
      "text/html": [
       "<div>\n",
       "<style scoped>\n",
       "    .dataframe tbody tr th:only-of-type {\n",
       "        vertical-align: middle;\n",
       "    }\n",
       "\n",
       "    .dataframe tbody tr th {\n",
       "        vertical-align: top;\n",
       "    }\n",
       "\n",
       "    .dataframe thead th {\n",
       "        text-align: right;\n",
       "    }\n",
       "</style>\n",
       "<table border=\"1\" class=\"dataframe\">\n",
       "  <thead>\n",
       "    <tr style=\"text-align: right;\">\n",
       "      <th></th>\n",
       "      <th>new_case_his_9</th>\n",
       "      <th>new_case_his_28</th>\n",
       "      <th>new_case_his_24</th>\n",
       "      <th>pnew_death</th>\n",
       "      <th>new_case_his_1</th>\n",
       "      <th>prob_death</th>\n",
       "      <th>new_case_his_17</th>\n",
       "      <th>conf_death</th>\n",
       "      <th>new_case_his_13</th>\n",
       "      <th>new_case_his_14</th>\n",
       "      <th>...</th>\n",
       "      <th>new_case_his_25</th>\n",
       "      <th>new_case_his_26</th>\n",
       "      <th>new_case_his_16</th>\n",
       "      <th>tot_cases</th>\n",
       "      <th>new_case_his_21</th>\n",
       "      <th>new_case_his_22</th>\n",
       "      <th>new_case_his_27</th>\n",
       "      <th>prob_cases</th>\n",
       "      <th>new_case_his_12</th>\n",
       "      <th>new_case_his_15</th>\n",
       "    </tr>\n",
       "  </thead>\n",
       "  <tbody>\n",
       "    <tr>\n",
       "      <th>missing_ratio</th>\n",
       "      <td>0.0</td>\n",
       "      <td>0.0</td>\n",
       "      <td>0.0</td>\n",
       "      <td>15.0</td>\n",
       "      <td>0.0</td>\n",
       "      <td>49.4</td>\n",
       "      <td>0.0</td>\n",
       "      <td>49.4</td>\n",
       "      <td>0.0</td>\n",
       "      <td>0.0</td>\n",
       "      <td>...</td>\n",
       "      <td>0.0</td>\n",
       "      <td>0.0</td>\n",
       "      <td>0.0</td>\n",
       "      <td>0.0</td>\n",
       "      <td>0.0</td>\n",
       "      <td>0.0</td>\n",
       "      <td>0.0</td>\n",
       "      <td>52.9</td>\n",
       "      <td>0.0</td>\n",
       "      <td>0.0</td>\n",
       "    </tr>\n",
       "    <tr>\n",
       "      <th>min</th>\n",
       "      <td>-33355.0</td>\n",
       "      <td>-10427.0</td>\n",
       "      <td>-33355.0</td>\n",
       "      <td>-837.0</td>\n",
       "      <td>-33355.0</td>\n",
       "      <td>0.0</td>\n",
       "      <td>-33355.0</td>\n",
       "      <td>0.0</td>\n",
       "      <td>-33355.0</td>\n",
       "      <td>-33355.0</td>\n",
       "      <td>...</td>\n",
       "      <td>-10427.0</td>\n",
       "      <td>-4771.0</td>\n",
       "      <td>-33355.0</td>\n",
       "      <td>1.0</td>\n",
       "      <td>-33355.0</td>\n",
       "      <td>-33355.0</td>\n",
       "      <td>-4755.0</td>\n",
       "      <td>0.0</td>\n",
       "      <td>-33355.0</td>\n",
       "      <td>-33355.0</td>\n",
       "    </tr>\n",
       "    <tr>\n",
       "      <th>lower_quartile</th>\n",
       "      <td>56.0</td>\n",
       "      <td>26.0</td>\n",
       "      <td>26.5</td>\n",
       "      <td>0.0</td>\n",
       "      <td>71.0</td>\n",
       "      <td>0.0</td>\n",
       "      <td>38.0</td>\n",
       "      <td>401.0</td>\n",
       "      <td>46.0</td>\n",
       "      <td>52.0</td>\n",
       "      <td>...</td>\n",
       "      <td>25.0</td>\n",
       "      <td>25.0</td>\n",
       "      <td>41.0</td>\n",
       "      <td>4807.0</td>\n",
       "      <td>36.0</td>\n",
       "      <td>30.0</td>\n",
       "      <td>23.0</td>\n",
       "      <td>93.5</td>\n",
       "      <td>49.0</td>\n",
       "      <td>42.0</td>\n",
       "    </tr>\n",
       "    <tr>\n",
       "      <th>median</th>\n",
       "      <td>332.0</td>\n",
       "      <td>255.0</td>\n",
       "      <td>264.0</td>\n",
       "      <td>0.0</td>\n",
       "      <td>365.0</td>\n",
       "      <td>50.0</td>\n",
       "      <td>295.0</td>\n",
       "      <td>1517.0</td>\n",
       "      <td>311.0</td>\n",
       "      <td>318.0</td>\n",
       "      <td>...</td>\n",
       "      <td>262.0</td>\n",
       "      <td>258.0</td>\n",
       "      <td>301.0</td>\n",
       "      <td>29157.0</td>\n",
       "      <td>288.0</td>\n",
       "      <td>270.0</td>\n",
       "      <td>250.0</td>\n",
       "      <td>1470.0</td>\n",
       "      <td>319.0</td>\n",
       "      <td>304.0</td>\n",
       "    </tr>\n",
       "    <tr>\n",
       "      <th>upper_quartile</th>\n",
       "      <td>938.0</td>\n",
       "      <td>776.0</td>\n",
       "      <td>793.5</td>\n",
       "      <td>0.0</td>\n",
       "      <td>1008.0</td>\n",
       "      <td>211.0</td>\n",
       "      <td>853.0</td>\n",
       "      <td>3728.0</td>\n",
       "      <td>888.0</td>\n",
       "      <td>897.5</td>\n",
       "      <td>...</td>\n",
       "      <td>785.5</td>\n",
       "      <td>784.0</td>\n",
       "      <td>868.0</td>\n",
       "      <td>108872.5</td>\n",
       "      <td>834.0</td>\n",
       "      <td>804.0</td>\n",
       "      <td>763.0</td>\n",
       "      <td>5493.0</td>\n",
       "      <td>912.0</td>\n",
       "      <td>873.5</td>\n",
       "    </tr>\n",
       "    <tr>\n",
       "      <th>max</th>\n",
       "      <td>71734.0</td>\n",
       "      <td>71734.0</td>\n",
       "      <td>71734.0</td>\n",
       "      <td>5482.0</td>\n",
       "      <td>71734.0</td>\n",
       "      <td>5482.0</td>\n",
       "      <td>71734.0</td>\n",
       "      <td>19603.0</td>\n",
       "      <td>71734.0</td>\n",
       "      <td>49458.0</td>\n",
       "      <td>...</td>\n",
       "      <td>71734.0</td>\n",
       "      <td>17844.0</td>\n",
       "      <td>71734.0</td>\n",
       "      <td>1278432.0</td>\n",
       "      <td>17844.0</td>\n",
       "      <td>71734.0</td>\n",
       "      <td>71734.0</td>\n",
       "      <td>49430.0</td>\n",
       "      <td>71734.0</td>\n",
       "      <td>49458.0</td>\n",
       "    </tr>\n",
       "  </tbody>\n",
       "</table>\n",
       "<p>6 rows × 37 columns</p>\n",
       "</div>"
      ],
      "text/plain": [
       "                new_case_his_9  new_case_his_28  new_case_his_24  pnew_death  \\\n",
       "missing_ratio              0.0              0.0              0.0        15.0   \n",
       "min                   -33355.0         -10427.0         -33355.0      -837.0   \n",
       "lower_quartile            56.0             26.0             26.5         0.0   \n",
       "median                   332.0            255.0            264.0         0.0   \n",
       "upper_quartile           938.0            776.0            793.5         0.0   \n",
       "max                    71734.0          71734.0          71734.0      5482.0   \n",
       "\n",
       "                new_case_his_1  prob_death  new_case_his_17  conf_death  \\\n",
       "missing_ratio              0.0        49.4              0.0        49.4   \n",
       "min                   -33355.0         0.0         -33355.0         0.0   \n",
       "lower_quartile            71.0         0.0             38.0       401.0   \n",
       "median                   365.0        50.0            295.0      1517.0   \n",
       "upper_quartile          1008.0       211.0            853.0      3728.0   \n",
       "max                    71734.0      5482.0          71734.0     19603.0   \n",
       "\n",
       "                new_case_his_13  new_case_his_14  ...  new_case_his_25  \\\n",
       "missing_ratio               0.0              0.0  ...              0.0   \n",
       "min                    -33355.0         -33355.0  ...         -10427.0   \n",
       "lower_quartile             46.0             52.0  ...             25.0   \n",
       "median                    311.0            318.0  ...            262.0   \n",
       "upper_quartile            888.0            897.5  ...            785.5   \n",
       "max                     71734.0          49458.0  ...          71734.0   \n",
       "\n",
       "                new_case_his_26  new_case_his_16  tot_cases  new_case_his_21  \\\n",
       "missing_ratio               0.0              0.0        0.0              0.0   \n",
       "min                     -4771.0         -33355.0        1.0         -33355.0   \n",
       "lower_quartile             25.0             41.0     4807.0             36.0   \n",
       "median                    258.0            301.0    29157.0            288.0   \n",
       "upper_quartile            784.0            868.0   108872.5            834.0   \n",
       "max                     17844.0          71734.0  1278432.0          17844.0   \n",
       "\n",
       "                new_case_his_22  new_case_his_27  prob_cases  new_case_his_12  \\\n",
       "missing_ratio               0.0              0.0        52.9              0.0   \n",
       "min                    -33355.0          -4755.0         0.0         -33355.0   \n",
       "lower_quartile             30.0             23.0        93.5             49.0   \n",
       "median                    270.0            250.0      1470.0            319.0   \n",
       "upper_quartile            804.0            763.0      5493.0            912.0   \n",
       "max                     71734.0          71734.0     49430.0          71734.0   \n",
       "\n",
       "                new_case_his_15  \n",
       "missing_ratio               0.0  \n",
       "min                    -33355.0  \n",
       "lower_quartile             42.0  \n",
       "median                    304.0  \n",
       "upper_quartile            873.5  \n",
       "max                     49458.0  \n",
       "\n",
       "[6 rows x 37 columns]"
      ]
     },
     "execution_count": 21,
     "metadata": {},
     "output_type": "execute_result"
    }
   ],
   "source": [
    "num_cols = list(set(train_X_df.columns) - set(whitelist))\n",
    "df = train_X_df[num_cols]\n",
    "def missing_ratio(df):\n",
    "    return (df.isna().mean() * 100).round(1)\n",
    "def lower_quartile(df):\n",
    "    return df.quantile(0.25).round(1)\n",
    "def median(df):\n",
    "    return df.quantile(0.5).round(1)\n",
    "def upper_quartile(df):\n",
    "    return df.quantile(0.75).round(1)\n",
    "df.agg([missing_ratio, 'min', lower_quartile, median, upper_quartile, 'max'])"
   ]
  },
  {
   "cell_type": "markdown",
   "metadata": {
    "id": "MRACWC3v-ep4"
   },
   "source": [
    "TODO: NHẬN XÉT\n",
    "\n",
    "Ta thấy những thuộc tính pnew_case, new_death"
   ]
  },
  {
   "cell_type": "markdown",
   "metadata": {
    "id": "L3ibuXMOVMAk"
   },
   "source": [
    "### Với mỗi cột input có kiểu dữ liệu không phải dạng số, các giá trị được phân bố như thế nào?"
   ]
  },
  {
   "cell_type": "code",
   "execution_count": 22,
   "metadata": {
    "colab": {
     "base_uri": "https://localhost:8080/",
     "height": 220
    },
    "id": "o_WxpobyVirb",
    "outputId": "a31002ea-630d-46eb-92f5-5a6d8d2e8443"
   },
   "outputs": [
    {
     "data": {
      "text/html": [
       "<div>\n",
       "<style scoped>\n",
       "    .dataframe tbody tr th:only-of-type {\n",
       "        vertical-align: middle;\n",
       "    }\n",
       "\n",
       "    .dataframe tbody tr th {\n",
       "        vertical-align: top;\n",
       "    }\n",
       "\n",
       "    .dataframe thead th {\n",
       "        text-align: right;\n",
       "    }\n",
       "</style>\n",
       "<table border=\"1\" class=\"dataframe\">\n",
       "  <thead>\n",
       "    <tr style=\"text-align: right;\">\n",
       "      <th></th>\n",
       "      <th>state</th>\n",
       "      <th>submission_date</th>\n",
       "      <th>consent_cases</th>\n",
       "      <th>consent_deaths</th>\n",
       "      <th>created_at</th>\n",
       "    </tr>\n",
       "  </thead>\n",
       "  <tbody>\n",
       "    <tr>\n",
       "      <th>missing_ratio</th>\n",
       "      <td>0.0</td>\n",
       "      <td>0.0</td>\n",
       "      <td>4.9</td>\n",
       "      <td>4.9</td>\n",
       "      <td>0.0</td>\n",
       "    </tr>\n",
       "    <tr>\n",
       "      <th>num_values</th>\n",
       "      <td>58</td>\n",
       "      <td>287</td>\n",
       "      <td>3</td>\n",
       "      <td>3</td>\n",
       "      <td>456</td>\n",
       "    </tr>\n",
       "    <tr>\n",
       "      <th>value_ratios</th>\n",
       "      <td>{'NY': 2.1, 'MA': 2.0, 'CA': 2.0, 'IN': 2.0, 'PA': 2.0, 'WI': 2.0, 'NJ': 2.0, 'IA': 2.0, 'OR': 2.0, 'NV': 2.0, 'NM': 1.9, 'NE': 1.9, 'CO': 1.9, 'IL': 1.9, 'AR': 1.9, 'GA': 1.9, 'TN': 1.9, 'OH': 1....</td>\n",
       "      <td>{'2020-04-11T00:00:00.000': 0.4, '2020-08-13T00:00:00.000': 0.4, '2020-09-30T00:00:00.000': 0.4, '2020-04-04T00:00:00.000': 0.4, '2020-07-23T00:00:00.000': 0.4, '2020-03-29T00:00:00.000': 0.4, '20...</td>\n",
       "      <td>{'Agree': 57.6, 'Not agree': 30.9, 'N/A': 11.5}</td>\n",
       "      <td>{'Agree': 62.2, 'Not agree': 31.2, 'N/A': 6.6}</td>\n",
       "      <td>{'2020-03-26T16:22:39.452': 6.4, '2020-05-25T15:38:40.000': 1.8, '2020-11-13T19:10:12.893': 1.6, '2020-03-28T16:22:39.452': 0.8, '2020-04-03T16:22:39.452': 0.8, '2020-04-07T16:22:39.452': 0.7, '20...</td>\n",
       "    </tr>\n",
       "  </tbody>\n",
       "</table>\n",
       "</div>"
      ],
      "text/plain": [
       "                                                                                                                                                                                                                 state  \\\n",
       "missing_ratio                                                                                                                                                                                                      0.0   \n",
       "num_values                                                                                                                                                                                                          58   \n",
       "value_ratios   {'NY': 2.1, 'MA': 2.0, 'CA': 2.0, 'IN': 2.0, 'PA': 2.0, 'WI': 2.0, 'NJ': 2.0, 'IA': 2.0, 'OR': 2.0, 'NV': 2.0, 'NM': 1.9, 'NE': 1.9, 'CO': 1.9, 'IL': 1.9, 'AR': 1.9, 'GA': 1.9, 'TN': 1.9, 'OH': 1....   \n",
       "\n",
       "                                                                                                                                                                                                       submission_date  \\\n",
       "missing_ratio                                                                                                                                                                                                      0.0   \n",
       "num_values                                                                                                                                                                                                         287   \n",
       "value_ratios   {'2020-04-11T00:00:00.000': 0.4, '2020-08-13T00:00:00.000': 0.4, '2020-09-30T00:00:00.000': 0.4, '2020-04-04T00:00:00.000': 0.4, '2020-07-23T00:00:00.000': 0.4, '2020-03-29T00:00:00.000': 0.4, '20...   \n",
       "\n",
       "                                                 consent_cases  \\\n",
       "missing_ratio                                              4.9   \n",
       "num_values                                                   3   \n",
       "value_ratios   {'Agree': 57.6, 'Not agree': 30.9, 'N/A': 11.5}   \n",
       "\n",
       "                                               consent_deaths  \\\n",
       "missing_ratio                                             4.9   \n",
       "num_values                                                  3   \n",
       "value_ratios   {'Agree': 62.2, 'Not agree': 31.2, 'N/A': 6.6}   \n",
       "\n",
       "                                                                                                                                                                                                            created_at  \n",
       "missing_ratio                                                                                                                                                                                                      0.0  \n",
       "num_values                                                                                                                                                                                                         456  \n",
       "value_ratios   {'2020-03-26T16:22:39.452': 6.4, '2020-05-25T15:38:40.000': 1.8, '2020-11-13T19:10:12.893': 1.6, '2020-03-28T16:22:39.452': 0.8, '2020-04-03T16:22:39.452': 0.8, '2020-04-07T16:22:39.452': 0.7, '20...  "
      ]
     },
     "execution_count": 22,
>>>>>>> Stashed changes
     "metadata": {},
     "output_type": "execute_result"
    }
   ],
   "source": [
<<<<<<< Updated upstream
    "#add_row_df(results_df)\n",
    "collected_df = collected_df[collected_df['tot_cases'] > 0]\n",
    "collected_df.head()"
   ]
  },
  {
   "cell_type": "markdown",
   "metadata": {
    "id": "7Ds7VtHBavXk"
   },
   "source": [
    "Đến đây ta đã thu thập đủ dữ liệu được lưu trong `collected_df` để có thể đặt câu hỏi."
=======
    "pd.set_option('display.max_colwidth', 200) # Để nhìn rõ hơn\n",
    "cat_cols = list(set(train_X_df.columns) - set(num_cols))\n",
    "df = train_X_df[cat_cols]\n",
    "def missing_ratio(df):\n",
    "    return (df.isna().mean() * 100).round(1)\n",
    "def num_values(df):\n",
    "    return df.nunique()\n",
    "def value_ratios(c):\n",
    "    return dict((c.value_counts(normalize=True) * 100).round(1))\n",
    "df.agg([missing_ratio, num_values, value_ratios])"
>>>>>>> Stashed changes
   ]
  },
  {
   "cell_type": "markdown",
   "metadata": {
<<<<<<< Updated upstream
    "id": "Ecao1uGzXbK2"
   },
   "source": [
    "## Đặt câu hỏi: Số ca mắc mới trong một ngày bất kì (hợp lệ) là bao nhiêu?"
   ]
  },
  {
   "cell_type": "markdown",
   "metadata": {
    "id": "uUoZnG8hXzMv"
   },
   "source": [
    "## Tiền xử lý (tách tập)"
   ]
  },
  {
   "cell_type": "code",
   "execution_count": 12,
   "metadata": {
    "id": "00vcVoi9XaWu"
   },
   "outputs": [],
   "source": [
    "sorted_df = collected_df.sort_values('submission_date', ascending=True)\n",
    "X_df = sorted_df.drop('new_case', axis=1)\n",
    "y_sr = sorted_df['new_case']"
=======
    "id": "vU2y7ngq-wQE"
   },
   "source": [
    "TODO: NHẬN XÉT"
>>>>>>> Stashed changes
   ]
  },
  {
   "cell_type": "markdown",
   "metadata": {
<<<<<<< Updated upstream
    "id": "h1Hse-XISNpP"
   },
   "source": [
    "Tách theo tỉ lệ: 70% 15% 15% lần lượt cho bộ train, bộ validation, bộ test."
   ]
  },
  {
   "cell_type": "code",
   "execution_count": 13,
   "metadata": {
    "id": "DMmn7hdgWx2o"
   },
   "outputs": [],
   "source": [
    "# tách bộ train và bộ (validation, test)\n",
    "\n",
    "# bộ train sẽ dùng dữ liệu của 60 bang trong 300 ngày đầu tiên. \n",
    "# train_size = 60 * 300 \n",
    "\n",
    "train_X_df, new_X_df, train_y_sr, new_y_sr = train_test_split(X_df, y_sr, train_size = 0.7, \n",
    "                                                             random_state=0)"
   ]
  },
  {
   "cell_type": "markdown",
   "metadata": {
    "id": "-l8pE224R4YS"
   },
   "source": [
    "Tách bộ validation và bộ test"
=======
    "id": "oyVeK-1mblFI"
   },
   "source": [
    "## Tiền xử lý tập huấn luyện\n",
    "\n",
    "- Loại bỏ các thuộc tính dự đoán như `pnew_case`, `pnew_death`\n",
    "- Loại bỏ các thuộc tính không có ích cho việc huấn luyện mô hình như `submission_date`, `state`, `conf_death`, `prob_death`, `created_at`, `consent_cases`, `consent_deaths`\n",
    "\n",
    "- Dùng tham số `callback_days` để quy định chỉ lấy số ngày gần nhất của ngày hiện tại.\n",
    "\n",
    "- Hàm `mix_data` dùng để fill lại các giá trị của cột `conf_cases` bằng giá trị tương ứng của cột `tot_cases` nếu nó bị thiếu.\n",
    "\n"
>>>>>>> Stashed changes
   ]
  },
  {
   "cell_type": "code",
<<<<<<< Updated upstream
   "execution_count": 14,
   "metadata": {
    "id": "iWbMUPOtR20r"
   },
   "outputs": [],
   "source": [
    "val_X_df, test_X_df, val_y_sr, test_y_sr = train_test_split(new_X_df, new_y_sr, test_size=0.5, \n",
    "                                                              random_state=0)"
=======
   "execution_count": 23,
   "metadata": {
    "id": "BqUk7Gz3orda"
   },
   "outputs": [],
   "source": [
    "class ColDropper(BaseEstimator, TransformerMixin):\n",
    "    def __init__(self, callback_days=14):\n",
    "        self.callback_days = callback_days\n",
    "\n",
    "    def fit(self, X_df, y=None):\n",
    "        return self\n",
    "    \n",
    "    def mix_data(self, row):\n",
    "        tot_cases = row.loc['tot_cases']\n",
    "        if row.isnull().loc['conf_cases']:\n",
    "            row.loc['conf_cases'] = tot_cases            \n",
    "\n",
    "        return row\n",
    "\n",
    "    def transform(self, X_df, y=None):\n",
    "\n",
    "        # drop unsue attr\n",
    "        df = X_df.drop(['pnew_case', 'pnew_death', 'submission_date', 'state', 'conf_death', 'prob_death', 'created_at',\n",
    "                        'consent_cases', 'consent_deaths'], axis=1, errors = 'ignore')\n",
    "\n",
    "        # regex to match first number in any text\n",
    "        matcher = re.compile(r'.*?(\\d+)')\n",
    "        \n",
    "        columns_sr = df.columns.str.extract(r'(.*?\\d+)', expand=False).dropna().to_series()\n",
    "        list_drop_his = columns_sr.transform(lambda x: x if int(matcher.findall(x)[0]) > self.callback_days else np.nan).dropna().values.tolist()\n",
    "        if len(list_drop_his) > 0:\n",
    "            df = df.drop(list_drop_his, axis=1)\n",
    "            \n",
    "        df['total_new_case_his'] = df.iloc[:, 5:].sum(axis=1)\n",
    "        df = df.drop(df.columns[5:-1],axis=1)\n",
    "\n",
    "        return df.transform(self.mix_data, axis=1)\n"
>>>>>>> Stashed changes
   ]
  },
  {
   "cell_type": "code",
<<<<<<< Updated upstream
   "execution_count": 15,
   "metadata": {
    "colab": {
     "base_uri": "https://localhost:8080/"
    },
    "id": "OlIspXe4o0Fq",
    "outputId": "140e9f76-512d-4ea9-9481-4b8166f27965"
=======
   "execution_count": 24,
   "metadata": {
    "colab": {
     "base_uri": "https://localhost:8080/",
     "height": 71
    },
    "id": "qi2BYpJdu0pI",
    "outputId": "c0bf1231-748e-46b1-eba5-6fb9d169b118"
>>>>>>> Stashed changes
   },
   "outputs": [
    {
     "data": {
<<<<<<< Updated upstream
      "text/plain": [
       "(11820, 42)"
      ]
     },
     "execution_count": 15,
=======
      "text/html": [
       "<style>div.sk-top-container {color: black;background-color: white;}div.sk-toggleable {background-color: white;}label.sk-toggleable__label {cursor: pointer;display: block;width: 100%;margin-bottom: 0;padding: 0.2em 0.3em;box-sizing: border-box;text-align: center;}div.sk-toggleable__content {max-height: 0;max-width: 0;overflow: hidden;text-align: left;background-color: #f0f8ff;}div.sk-toggleable__content pre {margin: 0.2em;color: black;border-radius: 0.25em;background-color: #f0f8ff;}input.sk-toggleable__control:checked~div.sk-toggleable__content {max-height: 200px;max-width: 100%;overflow: auto;}div.sk-estimator input.sk-toggleable__control:checked~label.sk-toggleable__label {background-color: #d4ebff;}div.sk-label input.sk-toggleable__control:checked~label.sk-toggleable__label {background-color: #d4ebff;}input.sk-hidden--visually {border: 0;clip: rect(1px 1px 1px 1px);clip: rect(1px, 1px, 1px, 1px);height: 1px;margin: -1px;overflow: hidden;padding: 0;position: absolute;width: 1px;}div.sk-estimator {font-family: monospace;background-color: #f0f8ff;margin: 0.25em 0.25em;border: 1px dotted black;border-radius: 0.25em;box-sizing: border-box;}div.sk-estimator:hover {background-color: #d4ebff;}div.sk-parallel-item::after {content: \"\";width: 100%;border-bottom: 1px solid gray;flex-grow: 1;}div.sk-label:hover label.sk-toggleable__label {background-color: #d4ebff;}div.sk-serial::before {content: \"\";position: absolute;border-left: 1px solid gray;box-sizing: border-box;top: 2em;bottom: 0;left: 50%;}div.sk-serial {display: flex;flex-direction: column;align-items: center;background-color: white;}div.sk-item {z-index: 1;}div.sk-parallel {display: flex;align-items: stretch;justify-content: center;background-color: white;}div.sk-parallel-item {display: flex;flex-direction: column;position: relative;background-color: white;}div.sk-parallel-item:first-child::after {align-self: flex-end;width: 50%;}div.sk-parallel-item:last-child::after {align-self: flex-start;width: 50%;}div.sk-parallel-item:only-child::after {width: 0;}div.sk-dashed-wrapped {border: 1px dashed gray;margin: 0.2em;box-sizing: border-box;padding-bottom: 0.1em;background-color: white;position: relative;}div.sk-label label {font-family: monospace;font-weight: bold;background-color: white;display: inline-block;line-height: 1.2em;}div.sk-label-container {position: relative;z-index: 2;text-align: center;}div.sk-container {display: inline-block;position: relative;}</style><div class=\"sk-top-container\"><div class=\"sk-container\"><div class=\"sk-item\"><div class=\"sk-estimator sk-toggleable\"><input class=\"sk-toggleable__control sk-hidden--visually\" id=\"e96473d1-2f85-4510-bddc-d98fa5d1e7eb\" type=\"checkbox\" checked><label class=\"sk-toggleable__label\" for=\"e96473d1-2f85-4510-bddc-d98fa5d1e7eb\">ColDropper</label><div class=\"sk-toggleable__content\"><pre>ColDropper(callback_days=5)</pre></div></div></div></div></div>"
      ],
      "text/plain": [
       "ColDropper(callback_days=5)"
      ]
     },
     "execution_count": 24,
>>>>>>> Stashed changes
     "metadata": {},
     "output_type": "execute_result"
    }
   ],
   "source": [
<<<<<<< Updated upstream
    "train_X_df.shape"
   ]
  },
  {
   "cell_type": "markdown",
   "metadata": {
    "id": "0a01Uxt2Tj7M"
   },
   "source": [
    "## Khám phá dữ liệu (tập huấn luyện)"
   ]
  },
  {
   "cell_type": "markdown",
   "metadata": {
    "id": "LQjYUVgvTsjt"
   },
   "source": [
    "### Mỗi cột input hiện đang có kiểu dữ liệu gì? Có cột nào có kiểu dữ liệu chưa phù hợp để có thể xử lý tiếp không?"
   ]
  },
  {
   "cell_type": "code",
   "execution_count": 16,
   "metadata": {
    "id": "g4s5R4ZETpMZ"
   },
   "outputs": [
    {
     "data": {
      "text/plain": [
       "submission_date     object\n",
       "state               object\n",
       "tot_cases            int64\n",
       "conf_cases         float64\n",
       "prob_cases         float64\n",
       "pnew_case          float64\n",
       "tot_death            int64\n",
       "conf_death         float64\n",
       "prob_death         float64\n",
       "new_death          float64\n",
       "pnew_death         float64\n",
       "created_at          object\n",
       "consent_cases       object\n",
       "consent_deaths      object\n",
       "new_case_his_1     float64\n",
       "new_case_his_2     float64\n",
       "new_case_his_3     float64\n",
       "new_case_his_4     float64\n",
       "new_case_his_5     float64\n",
       "new_case_his_6     float64\n",
       "new_case_his_7     float64\n",
       "new_case_his_8     float64\n",
       "new_case_his_9     float64\n",
       "new_case_his_10    float64\n",
       "new_case_his_11    float64\n",
       "new_case_his_12    float64\n",
       "new_case_his_13    float64\n",
       "new_case_his_14    float64\n",
       "new_case_his_15    float64\n",
       "new_case_his_16    float64\n",
       "new_case_his_17    float64\n",
       "new_case_his_18    float64\n",
       "new_case_his_19    float64\n",
       "new_case_his_20    float64\n",
       "new_case_his_21    float64\n",
       "new_case_his_22    float64\n",
       "new_case_his_23    float64\n",
       "new_case_his_24    float64\n",
       "new_case_his_25    float64\n",
       "new_case_his_26    float64\n",
       "new_case_his_27    float64\n",
       "new_case_his_28    float64\n",
       "dtype: object"
      ]
     },
     "execution_count": 16,
     "metadata": {},
     "output_type": "execute_result"
    }
   ],
   "source": [
    "train_X_df.dtypes"
   ]
  },
  {
   "cell_type": "markdown",
   "metadata": {
    "id": "MbPT8ehLT9yr"
   },
   "source": [
    "### Với mỗi cột input có kiểu dữ liệu dạng số, các giá trị được phân bố như thế nào?"
=======
    "estimator = ColDropper(callback_days=5)\n",
    "estimator.fit(train_X_df)"
>>>>>>> Stashed changes
   ]
  },
  {
   "cell_type": "code",
<<<<<<< Updated upstream
   "execution_count": 17,
   "metadata": {
    "id": "N8uGCdOAUDDY"
   },
   "outputs": [
    {
     "data": {
      "text/plain": [
       "tot_cases            int64\n",
       "conf_cases         float64\n",
       "prob_cases         float64\n",
       "pnew_case          float64\n",
       "tot_death            int64\n",
       "conf_death         float64\n",
       "prob_death         float64\n",
       "new_death          float64\n",
       "pnew_death         float64\n",
       "new_case_his_1     float64\n",
       "new_case_his_2     float64\n",
       "new_case_his_3     float64\n",
       "new_case_his_4     float64\n",
       "new_case_his_5     float64\n",
       "new_case_his_6     float64\n",
       "new_case_his_7     float64\n",
       "new_case_his_8     float64\n",
       "new_case_his_9     float64\n",
       "new_case_his_10    float64\n",
       "new_case_his_11    float64\n",
       "new_case_his_12    float64\n",
       "new_case_his_13    float64\n",
       "new_case_his_14    float64\n",
       "new_case_his_15    float64\n",
       "new_case_his_16    float64\n",
       "new_case_his_17    float64\n",
       "new_case_his_18    float64\n",
       "new_case_his_19    float64\n",
       "new_case_his_20    float64\n",
       "new_case_his_21    float64\n",
       "new_case_his_22    float64\n",
       "new_case_his_23    float64\n",
       "new_case_his_24    float64\n",
       "new_case_his_25    float64\n",
       "new_case_his_26    float64\n",
       "new_case_his_27    float64\n",
       "new_case_his_28    float64\n",
       "dtype: object"
      ]
     },
     "execution_count": 17,
     "metadata": {},
     "output_type": "execute_result"
    }
   ],
   "source": [
    "train_X_df.dtypes[train_X_df.dtypes != object]"
=======
   "execution_count": 25,
   "metadata": {
    "id": "1pmLX-jSw6tN"
   },
   "outputs": [],
   "source": [
    "# estimator.transform(train_X_df).duplicated(keep='last').sum()\n",
    "# 262 (if callback_days = 20) How?"
>>>>>>> Stashed changes
   ]
  },
  {
   "cell_type": "code",
<<<<<<< Updated upstream
   "execution_count": 18,
   "metadata": {
    "id": "9AmzF6cYUS-o"
=======
   "execution_count": 26,
   "metadata": {
    "colab": {
     "base_uri": "https://localhost:8080/",
     "height": 402
    },
    "id": "oGwUUuaXwszg",
    "outputId": "ca2d72c8-6501-42a4-98c2-e0be018ed4f5"
>>>>>>> Stashed changes
   },
   "outputs": [
    {
     "data": {
      "text/html": [
       "<div>\n",
       "<style scoped>\n",
       "    .dataframe tbody tr th:only-of-type {\n",
       "        vertical-align: middle;\n",
       "    }\n",
       "\n",
       "    .dataframe tbody tr th {\n",
       "        vertical-align: top;\n",
       "    }\n",
       "\n",
       "    .dataframe thead th {\n",
       "        text-align: right;\n",
       "    }\n",
       "</style>\n",
       "<table border=\"1\" class=\"dataframe\">\n",
       "  <thead>\n",
       "    <tr style=\"text-align: right;\">\n",
       "      <th></th>\n",
<<<<<<< Updated upstream
       "      <th>new_case_his_15</th>\n",
       "      <th>new_case_his_16</th>\n",
       "      <th>new_case_his_5</th>\n",
       "      <th>new_case_his_23</th>\n",
       "      <th>new_case_his_8</th>\n",
       "      <th>new_case_his_11</th>\n",
       "      <th>new_case_his_12</th>\n",
       "      <th>new_case_his_3</th>\n",
       "      <th>new_case_his_22</th>\n",
       "      <th>new_case_his_19</th>\n",
       "      <th>...</th>\n",
       "      <th>new_case_his_4</th>\n",
       "      <th>pnew_death</th>\n",
       "      <th>new_case_his_1</th>\n",
       "      <th>new_case_his_7</th>\n",
       "      <th>new_case_his_10</th>\n",
       "      <th>new_case_his_18</th>\n",
       "      <th>pnew_case</th>\n",
       "      <th>new_case_his_2</th>\n",
       "      <th>new_case_his_14</th>\n",
       "      <th>new_case_his_20</th>\n",
=======
       "      <th>tot_cases</th>\n",
       "      <th>conf_cases</th>\n",
       "      <th>prob_cases</th>\n",
       "      <th>tot_death</th>\n",
       "      <th>new_death</th>\n",
       "      <th>total_new_case_his</th>\n",
>>>>>>> Stashed changes
       "    </tr>\n",
       "  </thead>\n",
       "  <tbody>\n",
       "    <tr>\n",
<<<<<<< Updated upstream
       "      <th>missing_ratio</th>\n",
       "      <td>0.0</td>\n",
       "      <td>0.0</td>\n",
       "      <td>0.0</td>\n",
       "      <td>0.0</td>\n",
       "      <td>0.0</td>\n",
       "      <td>0.0</td>\n",
       "      <td>0.0</td>\n",
       "      <td>0.0</td>\n",
       "      <td>0.0</td>\n",
       "      <td>0.0</td>\n",
       "      <td>...</td>\n",
       "      <td>0.0</td>\n",
       "      <td>14.8</td>\n",
       "      <td>0.0</td>\n",
       "      <td>0.0</td>\n",
       "      <td>0.0</td>\n",
       "      <td>0.0</td>\n",
       "      <td>14.2</td>\n",
       "      <td>0.0</td>\n",
       "      <td>0.0</td>\n",
       "      <td>0.0</td>\n",
       "    </tr>\n",
       "    <tr>\n",
       "      <th>min</th>\n",
       "      <td>-33355.0</td>\n",
       "      <td>-30134.0</td>\n",
       "      <td>-33355.0</td>\n",
       "      <td>-10427.0</td>\n",
       "      <td>-33355.0</td>\n",
       "      <td>-33355.0</td>\n",
       "      <td>-33355.0</td>\n",
       "      <td>-30134.0</td>\n",
       "      <td>-33355.0</td>\n",
       "      <td>-33355.0</td>\n",
       "      <td>...</td>\n",
       "      <td>-33355.0</td>\n",
       "      <td>-675.0</td>\n",
       "      <td>-33355.0</td>\n",
       "      <td>-33355.0</td>\n",
       "      <td>-33355.0</td>\n",
       "      <td>-10427.0</td>\n",
       "      <td>-6259.0</td>\n",
       "      <td>-33355.0</td>\n",
       "      <td>-33355.0</td>\n",
       "      <td>-30134.0</td>\n",
       "    </tr>\n",
       "    <tr>\n",
       "      <th>lower_quartile</th>\n",
       "      <td>28.0</td>\n",
       "      <td>26.0</td>\n",
       "      <td>45.0</td>\n",
       "      <td>17.0</td>\n",
       "      <td>38.0</td>\n",
       "      <td>35.0</td>\n",
       "      <td>33.0</td>\n",
       "      <td>48.0</td>\n",
       "      <td>18.0</td>\n",
       "      <td>23.0</td>\n",
       "      <td>...</td>\n",
       "      <td>45.0</td>\n",
       "      <td>0.0</td>\n",
       "      <td>52.0</td>\n",
       "      <td>40.0</td>\n",
       "      <td>35.0</td>\n",
       "      <td>23.0</td>\n",
       "      <td>0.0</td>\n",
       "      <td>49.0</td>\n",
       "      <td>29.0</td>\n",
       "      <td>21.0</td>\n",
       "    </tr>\n",
       "    <tr>\n",
       "      <th>median</th>\n",
       "      <td>306.5</td>\n",
       "      <td>297.0</td>\n",
       "      <td>352.5</td>\n",
       "      <td>268.0</td>\n",
       "      <td>333.0</td>\n",
       "      <td>323.0</td>\n",
       "      <td>319.0</td>\n",
       "      <td>360.0</td>\n",
       "      <td>273.0</td>\n",
       "      <td>292.5</td>\n",
       "      <td>...</td>\n",
       "      <td>355.0</td>\n",
       "      <td>0.0</td>\n",
       "      <td>370.0</td>\n",
       "      <td>337.5</td>\n",
       "      <td>328.0</td>\n",
       "      <td>294.0</td>\n",
       "      <td>0.0</td>\n",
       "      <td>360.5</td>\n",
       "      <td>307.0</td>\n",
       "      <td>284.0</td>\n",
       "    </tr>\n",
       "    <tr>\n",
       "      <th>upper_quartile</th>\n",
       "      <td>989.2</td>\n",
       "      <td>972.0</td>\n",
       "      <td>1099.0</td>\n",
       "      <td>924.0</td>\n",
       "      <td>1075.2</td>\n",
       "      <td>1032.0</td>\n",
       "      <td>1022.0</td>\n",
       "      <td>1116.0</td>\n",
       "      <td>931.2</td>\n",
       "      <td>961.0</td>\n",
       "      <td>...</td>\n",
       "      <td>1113.2</td>\n",
       "      <td>0.0</td>\n",
       "      <td>1144.2</td>\n",
       "      <td>1083.0</td>\n",
       "      <td>1041.2</td>\n",
       "      <td>967.0</td>\n",
       "      <td>38.0</td>\n",
       "      <td>1134.2</td>\n",
       "      <td>1000.2</td>\n",
       "      <td>947.2</td>\n",
       "    </tr>\n",
       "    <tr>\n",
       "      <th>max</th>\n",
       "      <td>71734.0</td>\n",
       "      <td>71734.0</td>\n",
       "      <td>71734.0</td>\n",
       "      <td>71734.0</td>\n",
       "      <td>71734.0</td>\n",
       "      <td>71734.0</td>\n",
       "      <td>53711.0</td>\n",
       "      <td>71734.0</td>\n",
       "      <td>49458.0</td>\n",
       "      <td>30851.0</td>\n",
       "      <td>...</td>\n",
       "      <td>71734.0</td>\n",
       "      <td>5482.0</td>\n",
       "      <td>53711.0</td>\n",
       "      <td>71734.0</td>\n",
       "      <td>53711.0</td>\n",
       "      <td>49458.0</td>\n",
       "      <td>67475.0</td>\n",
       "      <td>71734.0</td>\n",
       "      <td>71734.0</td>\n",
       "      <td>71734.0</td>\n",
       "    </tr>\n",
       "  </tbody>\n",
       "</table>\n",
       "<p>6 rows × 37 columns</p>\n",
       "</div>"
      ],
      "text/plain": [
       "                new_case_his_15  new_case_his_16  new_case_his_5  \\\n",
       "missing_ratio               0.0              0.0             0.0   \n",
       "min                    -33355.0         -30134.0        -33355.0   \n",
       "lower_quartile             28.0             26.0            45.0   \n",
       "median                    306.5            297.0           352.5   \n",
       "upper_quartile            989.2            972.0          1099.0   \n",
       "max                     71734.0          71734.0         71734.0   \n",
       "\n",
       "                new_case_his_23  new_case_his_8  new_case_his_11  \\\n",
       "missing_ratio               0.0             0.0              0.0   \n",
       "min                    -10427.0        -33355.0         -33355.0   \n",
       "lower_quartile             17.0            38.0             35.0   \n",
       "median                    268.0           333.0            323.0   \n",
       "upper_quartile            924.0          1075.2           1032.0   \n",
       "max                     71734.0         71734.0          71734.0   \n",
       "\n",
       "                new_case_his_12  new_case_his_3  new_case_his_22  \\\n",
       "missing_ratio               0.0             0.0              0.0   \n",
       "min                    -33355.0        -30134.0         -33355.0   \n",
       "lower_quartile             33.0            48.0             18.0   \n",
       "median                    319.0           360.0            273.0   \n",
       "upper_quartile           1022.0          1116.0            931.2   \n",
       "max                     53711.0         71734.0          49458.0   \n",
       "\n",
       "                new_case_his_19  ...  new_case_his_4  pnew_death  \\\n",
       "missing_ratio               0.0  ...             0.0        14.8   \n",
       "min                    -33355.0  ...        -33355.0      -675.0   \n",
       "lower_quartile             23.0  ...            45.0         0.0   \n",
       "median                    292.5  ...           355.0         0.0   \n",
       "upper_quartile            961.0  ...          1113.2         0.0   \n",
       "max                     30851.0  ...         71734.0      5482.0   \n",
       "\n",
       "                new_case_his_1  new_case_his_7  new_case_his_10  \\\n",
       "missing_ratio              0.0             0.0              0.0   \n",
       "min                   -33355.0        -33355.0         -33355.0   \n",
       "lower_quartile            52.0            40.0             35.0   \n",
       "median                   370.0           337.5            328.0   \n",
       "upper_quartile          1144.2          1083.0           1041.2   \n",
       "max                    53711.0         71734.0          53711.0   \n",
       "\n",
       "                new_case_his_18  pnew_case  new_case_his_2  new_case_his_14  \\\n",
       "missing_ratio               0.0       14.2             0.0              0.0   \n",
       "min                    -10427.0    -6259.0        -33355.0         -33355.0   \n",
       "lower_quartile             23.0        0.0            49.0             29.0   \n",
       "median                    294.0        0.0           360.5            307.0   \n",
       "upper_quartile            967.0       38.0          1134.2           1000.2   \n",
       "max                     49458.0    67475.0         71734.0          71734.0   \n",
       "\n",
       "                new_case_his_20  \n",
       "missing_ratio               0.0  \n",
       "min                    -30134.0  \n",
       "lower_quartile             21.0  \n",
       "median                    284.0  \n",
       "upper_quartile            947.2  \n",
       "max                     71734.0  \n",
       "\n",
       "[6 rows x 37 columns]"
      ]
     },
     "execution_count": 18,
=======
       "      <th>7851</th>\n",
       "      <td>8317.0</td>\n",
       "      <td>8317.0</td>\n",
       "      <td>NaN</td>\n",
       "      <td>441.0</td>\n",
       "      <td>2.0</td>\n",
       "      <td>181.0</td>\n",
       "    </tr>\n",
       "    <tr>\n",
       "      <th>15942</th>\n",
       "      <td>18646.0</td>\n",
       "      <td>18532.0</td>\n",
       "      <td>114.0</td>\n",
       "      <td>310.0</td>\n",
       "      <td>5.0</td>\n",
       "      <td>1707.0</td>\n",
       "    </tr>\n",
       "    <tr>\n",
       "      <th>6231</th>\n",
       "      <td>220214.0</td>\n",
       "      <td>215598.0</td>\n",
       "      <td>4616.0</td>\n",
       "      <td>23278.0</td>\n",
       "      <td>11.0</td>\n",
       "      <td>1425.0</td>\n",
       "    </tr>\n",
       "    <tr>\n",
       "      <th>13820</th>\n",
       "      <td>9090.0</td>\n",
       "      <td>9090.0</td>\n",
       "      <td>0.0</td>\n",
       "      <td>409.0</td>\n",
       "      <td>35.0</td>\n",
       "      <td>1212.0</td>\n",
       "    </tr>\n",
       "    <tr>\n",
       "      <th>12557</th>\n",
       "      <td>704085.0</td>\n",
       "      <td>704085.0</td>\n",
       "      <td>NaN</td>\n",
       "      <td>12933.0</td>\n",
       "      <td>28.0</td>\n",
       "      <td>26814.0</td>\n",
       "    </tr>\n",
       "    <tr>\n",
       "      <th>...</th>\n",
       "      <td>...</td>\n",
       "      <td>...</td>\n",
       "      <td>...</td>\n",
       "      <td>...</td>\n",
       "      <td>...</td>\n",
       "      <td>...</td>\n",
       "    </tr>\n",
       "    <tr>\n",
       "      <th>13691</th>\n",
       "      <td>1140861.0</td>\n",
       "      <td>1140861.0</td>\n",
       "      <td>NaN</td>\n",
       "      <td>19883.0</td>\n",
       "      <td>187.0</td>\n",
       "      <td>54222.0</td>\n",
       "    </tr>\n",
       "    <tr>\n",
       "      <th>17013</th>\n",
       "      <td>32005.0</td>\n",
       "      <td>31988.0</td>\n",
       "      <td>17.0</td>\n",
       "      <td>1442.0</td>\n",
       "      <td>38.0</td>\n",
       "      <td>3350.0</td>\n",
       "    </tr>\n",
       "    <tr>\n",
       "      <th>6392</th>\n",
       "      <td>36093.0</td>\n",
       "      <td>33154.0</td>\n",
       "      <td>2939.0</td>\n",
       "      <td>429.0</td>\n",
       "      <td>6.0</td>\n",
       "      <td>1193.0</td>\n",
       "    </tr>\n",
       "    <tr>\n",
       "      <th>5144</th>\n",
       "      <td>47807.0</td>\n",
       "      <td>47807.0</td>\n",
       "      <td>NaN</td>\n",
       "      <td>501.0</td>\n",
       "      <td>4.0</td>\n",
       "      <td>2825.0</td>\n",
       "    </tr>\n",
       "    <tr>\n",
       "      <th>7639</th>\n",
       "      <td>146.0</td>\n",
       "      <td>146.0</td>\n",
       "      <td>NaN</td>\n",
       "      <td>5.0</td>\n",
       "      <td>0.0</td>\n",
       "      <td>4.0</td>\n",
       "    </tr>\n",
       "  </tbody>\n",
       "</table>\n",
       "<p>12227 rows × 6 columns</p>\n",
       "</div>"
      ],
      "text/plain": [
       "       tot_cases  conf_cases  prob_cases  tot_death  new_death  \\\n",
       "7851      8317.0      8317.0         NaN      441.0        2.0   \n",
       "15942    18646.0     18532.0       114.0      310.0        5.0   \n",
       "6231    220214.0    215598.0      4616.0    23278.0       11.0   \n",
       "13820     9090.0      9090.0         0.0      409.0       35.0   \n",
       "12557   704085.0    704085.0         NaN    12933.0       28.0   \n",
       "...          ...         ...         ...        ...        ...   \n",
       "13691  1140861.0   1140861.0         NaN    19883.0      187.0   \n",
       "17013    32005.0     31988.0        17.0     1442.0       38.0   \n",
       "6392     36093.0     33154.0      2939.0      429.0        6.0   \n",
       "5144     47807.0     47807.0         NaN      501.0        4.0   \n",
       "7639       146.0       146.0         NaN        5.0        0.0   \n",
       "\n",
       "       total_new_case_his  \n",
       "7851                181.0  \n",
       "15942              1707.0  \n",
       "6231               1425.0  \n",
       "13820              1212.0  \n",
       "12557             26814.0  \n",
       "...                   ...  \n",
       "13691             54222.0  \n",
       "17013              3350.0  \n",
       "6392               1193.0  \n",
       "5144               2825.0  \n",
       "7639                  4.0  \n",
       "\n",
       "[12227 rows x 6 columns]"
      ]
     },
     "execution_count": 26,
>>>>>>> Stashed changes
     "metadata": {},
     "output_type": "execute_result"
    }
   ],
   "source": [
<<<<<<< Updated upstream
    "num_cols = list(set(train_X_df.columns) - set(whitelist))\n",
    "df = train_X_df[num_cols]\n",
    "def missing_ratio(df):\n",
    "    return (df.isna().mean() * 100).round(1)\n",
    "def lower_quartile(df):\n",
    "    return df.quantile(0.25).round(1)\n",
    "def median(df):\n",
    "    return df.quantile(0.5).round(1)\n",
    "def upper_quartile(df):\n",
    "    return df.quantile(0.75).round(1)\n",
    "df.agg([missing_ratio, 'min', lower_quartile, median, upper_quartile, 'max'])"
=======
    "# TEST\n",
    "tmp = estimator.transform(train_X_df)\n",
    "tmp"
   ]
  },
  {
   "cell_type": "markdown",
   "metadata": {
    "id": "WtICMrfQwyQh"
   },
   "source": [
    "### Xây dựng pipeline\n",
    "\n"
   ]
  },
  {
   "cell_type": "markdown",
   "metadata": {
    "id": "Qug1v-6ZJZP7"
   },
   "source": [
    "Các thuộc tính sẽ được fill bằng `mean` nhằm đảm bảo không còn nơi nào bị thiếu dữ liệu kể cả trên bộ test mới."
>>>>>>> Stashed changes
   ]
  },
  {
   "cell_type": "markdown",
   "metadata": {
<<<<<<< Updated upstream
    "id": "L3ibuXMOVMAk"
   },
   "source": [
    "### Với mỗi cột input có kiểu dữ liệu không phải dạng số, các giá trị được phân bố như thế nào?"
=======
    "id": "siTPr8oHWUU7"
   },
   "source": [
    "## Tiền xử lý + mô hình hóa"
   ]
  },
  {
   "cell_type": "markdown",
   "metadata": {
    "id": "cHE82zKXWZLF"
   },
   "source": [
    "### Tìm mô hình tốt nhất"
   ]
  },
  {
   "cell_type": "markdown",
   "metadata": {
    "id": "nYUKxgB9xQiP"
   },
   "source": [
    "#### Thử nhiệm 1: Mô hình MLP"
   ]
  },
  {
   "cell_type": "code",
   "execution_count": 27,
   "metadata": {
    "id": "eP6Q1kjAxXTA"
   },
   "outputs": [],
   "source": [
    "pipe_line = make_pipeline(ColDropper(), SimpleImputer(strategy='mean'),\n",
    "            StandardScaler(),\n",
    "            MLPRegressor(hidden_layer_sizes=(30,), activation='relu', solver='adam', max_iter=3000, random_state=0))"
   ]
  },
  {
   "cell_type": "code",
   "execution_count": 28,
   "metadata": {
    "colab": {
     "base_uri": "https://localhost:8080/",
     "height": 539
    },
    "id": "77T-qj7JJYmo",
    "outputId": "6b8846cf-631d-428e-de88-8d50309f2572"
   },
   "outputs": [
    {
     "name": "stdout",
     "output_type": "stream",
     "text": [
      "Processing alpha=0.1\tcallback_days=6...\ttrain_err: 25.938830961422543\t val_err: 15.71479767806231\n",
      "Processing alpha=0.1\tcallback_days=8...\ttrain_err: 25.814516898913375\t val_err: 15.549447331741707\n",
      "Processing alpha=0.1\tcallback_days=10...\ttrain_err: 26.23553390349953\t val_err: 16.907540566472555\n",
      "Processing alpha=0.1\tcallback_days=12...\ttrain_err: 26.62551509050011\t val_err: 16.976444019127236\n",
      "Processing alpha=0.1\tcallback_days=14...\ttrain_err: 26.11619234789664\t val_err: 18.760989746527613\n",
      "Processing alpha=0.1\tcallback_days=16...\ttrain_err: 26.840387410574284\t val_err: 19.78946530523038\n",
      "Processing alpha=1\tcallback_days=6...\ttrain_err: 25.92664153406188\t val_err: 15.73486165360023\n",
      "Processing alpha=1\tcallback_days=8...\ttrain_err: 25.815578117100245\t val_err: 15.548397510842104\n",
      "Processing alpha=1\tcallback_days=10...\ttrain_err: 26.23535252807678\t val_err: 16.90712384240074\n",
      "Processing alpha=1\tcallback_days=12...\ttrain_err: 26.62584657132625\t val_err: 16.977093684857092\n",
      "Processing alpha=1\tcallback_days=14...\ttrain_err: 26.11585751075549\t val_err: 18.760877602613757\n",
      "Processing alpha=1\tcallback_days=16...\ttrain_err: 27.049294818104443\t val_err: 20.18525287807913\n",
      "Processing alpha=10\tcallback_days=6...\ttrain_err: 25.86809523300426\t val_err: 15.644115304504735\n",
      "Processing alpha=10\tcallback_days=8...\ttrain_err: 25.815853423545654\t val_err: 15.547667656854047\n",
      "Processing alpha=10\tcallback_days=10...\ttrain_err: 26.23513321293729\t val_err: 16.904769022258193\n",
      "Processing alpha=10\tcallback_days=12...\ttrain_err: 26.39208950224001\t val_err: 16.592937019126808\n",
      "Processing alpha=10\tcallback_days=14...\ttrain_err: 26.116869628394802\t val_err: 18.76061182822508\n",
      "Processing alpha=10\tcallback_days=16...\ttrain_err: 27.065491173824153\t val_err: 20.19415290186981\n",
      "Processing alpha=100\tcallback_days=6...\ttrain_err: 26.028730634038865\t val_err: 15.758371540247417\n",
      "Processing alpha=100\tcallback_days=8...\ttrain_err: 25.814387737317933\t val_err: 15.539383577096222\n",
      "Processing alpha=100\tcallback_days=10...\ttrain_err: 26.18087426210454\t val_err: 16.86285287908117\n",
      "Processing alpha=100\tcallback_days=12...\ttrain_err: 26.378931366154667\t val_err: 16.55791450084021\n",
      "Processing alpha=100\tcallback_days=14...\ttrain_err: 25.94892267216483\t val_err: 18.35343410628202\n",
      "Processing alpha=100\tcallback_days=16...\ttrain_err: 27.04729294347834\t val_err: 20.165458545697447\n",
      "Processing alpha=1000\tcallback_days=6...\ttrain_err: 26.24200205006606\t val_err: 15.901200744386024\n",
      "Processing alpha=1000\tcallback_days=8...\ttrain_err: 25.788894052258392\t val_err: 15.506770921836498\n",
      "Processing alpha=1000\tcallback_days=10...\ttrain_err: 26.206968368758066\t val_err: 16.81574759977612\n",
      "Processing alpha=1000\tcallback_days=12...\ttrain_err: 26.60550445770069\t val_err: 16.921775350529234\n",
      "Processing alpha=1000\tcallback_days=14...\ttrain_err: 26.16169586320658\t val_err: 18.6964329202447\n",
      "Processing alpha=1000\tcallback_days=16...\ttrain_err: 27.104768085217756\t val_err: 20.15683835284564\n"
     ]
    },
    {
     "data": {
      "text/plain": [
       "'Finish!'"
      ]
     },
     "execution_count": 28,
     "metadata": {},
     "output_type": "execute_result"
    }
   ],
   "source": [
    "# Thử nghiệm với các giá trị khác nhau của các siêu tham số\n",
    "# và chọn ra các giá trị tốt nhất\n",
    "train_errs = []\n",
    "val_errs = []\n",
    "alphas = [0.1, 1, 10, 100, 1000]\n",
    "callback_days_s = [6, 8, 10, 12, 14, 16]\n",
    "best_val_err = float('inf'); best_alpha = None; best_callback_days = None\n",
    "for alpha in alphas:\n",
    "    for callback_days in callback_days_s:\n",
    "        \n",
    "        print(f\"Processing alpha={alpha}\\tcallback_days={callback_days}...\", end=\"\\t\")\n",
    "        pipe_line.set_params(coldropper__callback_days=callback_days, mlpregressor__alpha=alpha)\n",
    "\n",
    "        pipe_line.fit(train_X_df, train_y_sr)\n",
    "        \n",
    "        train_err = (1 - r2_score(train_y_sr, pipe_line.predict(train_X_df))) * 100\n",
    "        val_err = (1 - r2_score(val_y_sr, pipe_line.predict(val_X_df))) * 100\n",
    "        \n",
    "        train_errs.append(train_err)\n",
    "        val_errs.append(val_err)\n",
    "        \n",
    "        if val_err < best_val_err:\n",
    "            best_val_err = val_err \n",
    "            best_alpha = alpha\n",
    "            best_callback_days = callback_days        \n",
    "\n",
    "        print(f\"train_err: {train_err}\\t val_err: {val_err}\")  \n",
    "'Finish!'"
   ]
  },
  {
   "cell_type": "code",
   "execution_count": 29,
   "metadata": {
    "colab": {
     "base_uri": "https://localhost:8080/",
     "height": 290
    },
    "id": "s26F18FWOhrb",
    "outputId": "41c93940-f04f-489f-dc37-2763593ff6fd"
   },
   "outputs": [
    {
     "data": {
      "image/png": "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\n",
      "text/plain": [
       "<Figure size 720x360 with 2 Axes>"
      ]
     },
     "metadata": {
      "needs_background": "light"
     },
     "output_type": "display_data"
    }
   ],
   "source": [
    "# Trực quan hóa kết quả\n",
    "train_errs_df = pd.DataFrame(data=np.array(train_errs).reshape(len(alphas), -1),\n",
    "                             index=alphas, columns=callback_days_s)\n",
    "val_errs_df = pd.DataFrame(data=np.array(val_errs).reshape(len(alphas), -1), \n",
    "                           index=alphas, columns=callback_days_s)\n",
    "min_err = min(min(train_errs), min(val_errs))\n",
    "max_err = max(max(train_errs), max(val_errs))\n",
    "plt.figure(figsize=(10, 5))\n",
    "plt.subplot(1, 2, 1)\n",
    "sns.heatmap(train_errs_df, vmin=min_err, vmax=max_err, square=True, annot=True, \n",
    "            cbar=False, fmt='.1f', cmap='Reds')\n",
    "plt.title('train errors'); plt.xlabel('callback_days'); plt.ylabel('alpha')\n",
    "plt.subplot(1, 2, 2)\n",
    "sns.heatmap(val_errs_df, vmin=min_err, vmax=max_err, square=True, annot=True, \n",
    "            cbar=False, fmt='.1f', cmap='Reds')\n",
    "plt.title('validation errors'); plt.xlabel('callback_days'); plt.ylabel('alpha');"
>>>>>>> Stashed changes
   ]
  },
  {
   "cell_type": "code",
<<<<<<< Updated upstream
   "execution_count": 19,
   "metadata": {
    "id": "o_WxpobyVirb"
=======
   "execution_count": 30,
   "metadata": {
    "colab": {
     "base_uri": "https://localhost:8080/",
     "height": 174
    },
    "id": "gJRtYf_gO2yV",
    "outputId": "b5054f9f-7fc1-422f-8b8d-f3c6942d93b3"
>>>>>>> Stashed changes
   },
   "outputs": [
    {
     "data": {
      "text/html": [
<<<<<<< Updated upstream
       "<div>\n",
       "<style scoped>\n",
       "    .dataframe tbody tr th:only-of-type {\n",
       "        vertical-align: middle;\n",
       "    }\n",
       "\n",
       "    .dataframe tbody tr th {\n",
       "        vertical-align: top;\n",
       "    }\n",
       "\n",
       "    .dataframe thead th {\n",
       "        text-align: right;\n",
       "    }\n",
       "</style>\n",
       "<table border=\"1\" class=\"dataframe\">\n",
       "  <thead>\n",
       "    <tr style=\"text-align: right;\">\n",
       "      <th></th>\n",
       "      <th>created_at</th>\n",
       "      <th>submission_date</th>\n",
       "      <th>consent_deaths</th>\n",
       "      <th>consent_cases</th>\n",
       "      <th>state</th>\n",
       "    </tr>\n",
       "  </thead>\n",
       "  <tbody>\n",
       "    <tr>\n",
       "      <th>missing_ratio</th>\n",
       "      <td>0.0</td>\n",
       "      <td>0.0</td>\n",
       "      <td>5.6</td>\n",
       "      <td>5.6</td>\n",
       "      <td>0.0</td>\n",
       "    </tr>\n",
       "    <tr>\n",
       "      <th>num_values</th>\n",
       "      <td>470</td>\n",
       "      <td>342</td>\n",
       "      <td>3</td>\n",
       "      <td>3</td>\n",
       "      <td>58</td>\n",
       "    </tr>\n",
       "    <tr>\n",
       "      <th>value_ratios</th>\n",
       "      <td>{'2020-03-26T16:22:39.452': 7.4, '2020-05-25T15:38:40.000': 1.6, '2020-11-13T19:10:12.893': 1.2, '2020-04-03T16:22:39.452': 0.6, '2020-03-28T16:22:39.452': 0.6, '2020-04-07T16:22:39.452': 0.6, '20...</td>\n",
       "      <td>{'2020-11-10T00:00:00.000': 0.4, '2020-11-06T00:00:00.000': 0.4, '2020-12-11T00:00:00.000': 0.4, '2020-11-14T00:00:00.000': 0.4, '2020-10-11T00:00:00.000': 0.4, '2020-04-30T00:00:00.000': 0.4, '20...</td>\n",
       "      <td>{'Agree': 62.3, 'Not agree': 30.0, 'N/A': 7.7}</td>\n",
       "      <td>{'Agree': 58.3, 'Not agree': 30.3, 'N/A': 11.4}</td>\n",
       "      <td>{'AZ': 2.1, 'WA': 2.1, 'CA': 2.1, 'IL': 2.0, 'MA': 2.0, 'NJ': 1.9, 'NE': 1.9, 'NV': 1.9, 'VA': 1.9, 'NYC': 1.9, 'MD': 1.8, 'ND': 1.8, 'HI': 1.8, 'FL': 1.8, 'GA': 1.8, 'MO': 1.8, 'IN': 1.8, 'WI': 1...</td>\n",
       "    </tr>\n",
       "  </tbody>\n",
       "</table>\n",
       "</div>"
      ],
      "text/plain": [
       "                                                                                                                                                                                                            created_at  \\\n",
       "missing_ratio                                                                                                                                                                                                      0.0   \n",
       "num_values                                                                                                                                                                                                         470   \n",
       "value_ratios   {'2020-03-26T16:22:39.452': 7.4, '2020-05-25T15:38:40.000': 1.6, '2020-11-13T19:10:12.893': 1.2, '2020-04-03T16:22:39.452': 0.6, '2020-03-28T16:22:39.452': 0.6, '2020-04-07T16:22:39.452': 0.6, '20...   \n",
       "\n",
       "                                                                                                                                                                                                       submission_date  \\\n",
       "missing_ratio                                                                                                                                                                                                      0.0   \n",
       "num_values                                                                                                                                                                                                         342   \n",
       "value_ratios   {'2020-11-10T00:00:00.000': 0.4, '2020-11-06T00:00:00.000': 0.4, '2020-12-11T00:00:00.000': 0.4, '2020-11-14T00:00:00.000': 0.4, '2020-10-11T00:00:00.000': 0.4, '2020-04-30T00:00:00.000': 0.4, '20...   \n",
       "\n",
       "                                               consent_deaths  \\\n",
       "missing_ratio                                             5.6   \n",
       "num_values                                                  3   \n",
       "value_ratios   {'Agree': 62.3, 'Not agree': 30.0, 'N/A': 7.7}   \n",
       "\n",
       "                                                 consent_cases  \\\n",
       "missing_ratio                                              5.6   \n",
       "num_values                                                   3   \n",
       "value_ratios   {'Agree': 58.3, 'Not agree': 30.3, 'N/A': 11.4}   \n",
       "\n",
       "                                                                                                                                                                                                                 state  \n",
       "missing_ratio                                                                                                                                                                                                      0.0  \n",
       "num_values                                                                                                                                                                                                          58  \n",
       "value_ratios   {'AZ': 2.1, 'WA': 2.1, 'CA': 2.1, 'IL': 2.0, 'MA': 2.0, 'NJ': 1.9, 'NE': 1.9, 'NV': 1.9, 'VA': 1.9, 'NYC': 1.9, 'MD': 1.8, 'ND': 1.8, 'HI': 1.8, 'FL': 1.8, 'GA': 1.8, 'MO': 1.8, 'IN': 1.8, 'WI': 1...  "
      ]
     },
     "execution_count": 19,
=======
       "<style>div.sk-top-container {color: black;background-color: white;}div.sk-toggleable {background-color: white;}label.sk-toggleable__label {cursor: pointer;display: block;width: 100%;margin-bottom: 0;padding: 0.2em 0.3em;box-sizing: border-box;text-align: center;}div.sk-toggleable__content {max-height: 0;max-width: 0;overflow: hidden;text-align: left;background-color: #f0f8ff;}div.sk-toggleable__content pre {margin: 0.2em;color: black;border-radius: 0.25em;background-color: #f0f8ff;}input.sk-toggleable__control:checked~div.sk-toggleable__content {max-height: 200px;max-width: 100%;overflow: auto;}div.sk-estimator input.sk-toggleable__control:checked~label.sk-toggleable__label {background-color: #d4ebff;}div.sk-label input.sk-toggleable__control:checked~label.sk-toggleable__label {background-color: #d4ebff;}input.sk-hidden--visually {border: 0;clip: rect(1px 1px 1px 1px);clip: rect(1px, 1px, 1px, 1px);height: 1px;margin: -1px;overflow: hidden;padding: 0;position: absolute;width: 1px;}div.sk-estimator {font-family: monospace;background-color: #f0f8ff;margin: 0.25em 0.25em;border: 1px dotted black;border-radius: 0.25em;box-sizing: border-box;}div.sk-estimator:hover {background-color: #d4ebff;}div.sk-parallel-item::after {content: \"\";width: 100%;border-bottom: 1px solid gray;flex-grow: 1;}div.sk-label:hover label.sk-toggleable__label {background-color: #d4ebff;}div.sk-serial::before {content: \"\";position: absolute;border-left: 1px solid gray;box-sizing: border-box;top: 2em;bottom: 0;left: 50%;}div.sk-serial {display: flex;flex-direction: column;align-items: center;background-color: white;}div.sk-item {z-index: 1;}div.sk-parallel {display: flex;align-items: stretch;justify-content: center;background-color: white;}div.sk-parallel-item {display: flex;flex-direction: column;position: relative;background-color: white;}div.sk-parallel-item:first-child::after {align-self: flex-end;width: 50%;}div.sk-parallel-item:last-child::after {align-self: flex-start;width: 50%;}div.sk-parallel-item:only-child::after {width: 0;}div.sk-dashed-wrapped {border: 1px dashed gray;margin: 0.2em;box-sizing: border-box;padding-bottom: 0.1em;background-color: white;position: relative;}div.sk-label label {font-family: monospace;font-weight: bold;background-color: white;display: inline-block;line-height: 1.2em;}div.sk-label-container {position: relative;z-index: 2;text-align: center;}div.sk-container {display: inline-block;position: relative;}</style><div class=\"sk-top-container\"><div class=\"sk-container\"><div class=\"sk-item sk-dashed-wrapped\"><div class=\"sk-label-container\"><div class=\"sk-label sk-toggleable\"><input class=\"sk-toggleable__control sk-hidden--visually\" id=\"72f3d54d-ddb9-472f-abcc-584e37bc8c99\" type=\"checkbox\" ><label class=\"sk-toggleable__label\" for=\"72f3d54d-ddb9-472f-abcc-584e37bc8c99\">Pipeline</label><div class=\"sk-toggleable__content\"><pre>Pipeline(steps=[('coldropper', ColDropper(callback_days=8)),\n",
       "                ('simpleimputer', SimpleImputer()),\n",
       "                ('standardscaler', StandardScaler()),\n",
       "                ('mlpregressor',\n",
       "                 MLPRegressor(alpha=1000, hidden_layer_sizes=(30,),\n",
       "                              max_iter=3000, random_state=0))])</pre></div></div></div><div class=\"sk-serial\"><div class=\"sk-item\"><div class=\"sk-estimator sk-toggleable\"><input class=\"sk-toggleable__control sk-hidden--visually\" id=\"0d0b8113-9ca8-4ad4-85aa-e4baf2b22730\" type=\"checkbox\" ><label class=\"sk-toggleable__label\" for=\"0d0b8113-9ca8-4ad4-85aa-e4baf2b22730\">ColDropper</label><div class=\"sk-toggleable__content\"><pre>ColDropper(callback_days=8)</pre></div></div></div><div class=\"sk-item\"><div class=\"sk-estimator sk-toggleable\"><input class=\"sk-toggleable__control sk-hidden--visually\" id=\"4bd431eb-c82d-46d7-abb3-14b08eb5bb25\" type=\"checkbox\" ><label class=\"sk-toggleable__label\" for=\"4bd431eb-c82d-46d7-abb3-14b08eb5bb25\">SimpleImputer</label><div class=\"sk-toggleable__content\"><pre>SimpleImputer()</pre></div></div></div><div class=\"sk-item\"><div class=\"sk-estimator sk-toggleable\"><input class=\"sk-toggleable__control sk-hidden--visually\" id=\"530c899a-99ec-4ca9-9c3d-81732be3b3f9\" type=\"checkbox\" ><label class=\"sk-toggleable__label\" for=\"530c899a-99ec-4ca9-9c3d-81732be3b3f9\">StandardScaler</label><div class=\"sk-toggleable__content\"><pre>StandardScaler()</pre></div></div></div><div class=\"sk-item\"><div class=\"sk-estimator sk-toggleable\"><input class=\"sk-toggleable__control sk-hidden--visually\" id=\"10fe8ad2-66b8-48ee-87eb-eeaaf4e124fd\" type=\"checkbox\" ><label class=\"sk-toggleable__label\" for=\"10fe8ad2-66b8-48ee-87eb-eeaaf4e124fd\">MLPRegressor</label><div class=\"sk-toggleable__content\"><pre>MLPRegressor(alpha=1000, hidden_layer_sizes=(30,), max_iter=3000,\n",
       "             random_state=0)</pre></div></div></div></div></div></div></div>"
      ],
      "text/plain": [
       "Pipeline(steps=[('coldropper', ColDropper(callback_days=8)),\n",
       "                ('simpleimputer', SimpleImputer()),\n",
       "                ('standardscaler', StandardScaler()),\n",
       "                ('mlpregressor',\n",
       "                 MLPRegressor(alpha=1000, hidden_layer_sizes=(30,),\n",
       "                              max_iter=3000, random_state=0))])"
      ]
     },
     "execution_count": 30,
>>>>>>> Stashed changes
     "metadata": {},
     "output_type": "execute_result"
    }
   ],
   "source": [
<<<<<<< Updated upstream
    "pd.set_option('display.max_colwidth', 200) # Để nhìn rõ hơn\n",
    "cat_cols = list(set(train_X_df.columns) - set(num_cols))\n",
    "df = train_X_df[cat_cols]\n",
    "def missing_ratio(df):\n",
    "    return (df.isna().mean() * 100).round(1)\n",
    "def num_values(df):\n",
    "    return df.nunique()\n",
    "def value_ratios(c):\n",
    "    return dict((c.value_counts(normalize=True) * 100).round(1))\n",
    "df.agg([missing_ratio, num_values, value_ratios])"
=======
    "pipe_line.set_params(coldropper__callback_days=best_callback_days, mlpregressor__alpha=best_alpha)\n",
    " \n",
    "pipe_line.fit(pd.concat([train_X_df, val_X_df]), pd.concat([train_y_sr, val_y_sr]))\n",
    "#pipe_line.fit(train_X_df, train_y_sr)"
>>>>>>> Stashed changes
   ]
  },
  {
   "cell_type": "markdown",
   "metadata": {
<<<<<<< Updated upstream
    "id": "oyVeK-1mblFI"
   },
   "source": [
    "## Tiền xử lý tập huấn luyện\n",
    "\n",
    "- Loại bỏ các thuộc tính dự đoán như `pnew_case`, `pnew_death`\n",
    "- Loại bỏ các thuộc tính không có ích cho việc huấn luyện mô hình như `submission_date`, `state`, `conf_death`, `prob_death`, `created_at`, `consent_cases`, `consent_deaths`\n",
    "\n",
    "- Dùng tham số `callback_days` để quy định chỉ lấy số ngày gần nhất của ngày hiện tại.\n",
    "\n",
    "\n"
=======
    "id": "hhp9s70M1Kg3"
   },
   "source": [
    "Đánh giá độ lỗi trên bộ test"
>>>>>>> Stashed changes
   ]
  },
  {
   "cell_type": "code",
<<<<<<< Updated upstream
   "execution_count": 20,
   "metadata": {
    "id": "BqUk7Gz3orda"
   },
   "outputs": [],
   "source": [
    "class ColDropper(BaseEstimator, TransformerMixin):\n",
    "    def __init__(self, callback_days=14):\n",
    "        self.callback_days = callback_days\n",
    "\n",
    "    def fit(self, X_df, y=None):\n",
    "        return self\n",
    "    \n",
    "    def mix_data(self, row):\n",
    "        tot_cases = row.loc['tot_cases']\n",
    "        if row.isnull().loc['conf_cases']:\n",
    "            row.loc['conf_cases'] = tot_cases            \n",
    "\n",
    "        return row\n",
    "\n",
    "    def transform(self, X_df, y=None):\n",
    "\n",
    "        # drop unsue attr\n",
    "        df = X_df.drop(['pnew_case', 'pnew_death', 'submission_date', 'state', 'conf_death', 'prob_death', 'created_at',\n",
    "                        'consent_cases', 'consent_deaths'], axis=1)\n",
    "\n",
    "        # regex to match first number in any text\n",
    "        matcher = re.compile(r'.*?(\\d+)')\n",
    "        \n",
    "        columns_sr = df.columns.str.extract(r'(.*?\\d+)', expand=False).dropna().to_series()\n",
    "        list_drop_his = columns_sr.transform(lambda x: x if int(matcher.findall(x)[0]) > self.callback_days else np.nan).dropna().values.tolist()\n",
    "        if len(list_drop_his) > 0:\n",
    "            df = df.drop(list_drop_his, axis=1)\n",
    "\n",
    "        return df.transform(self.mix_data, axis=1)\n"
   ]
  },
  {
   "cell_type": "code",
   "execution_count": 21,
   "metadata": {
    "colab": {
     "base_uri": "https://localhost:8080/",
     "height": 71
    },
    "id": "qi2BYpJdu0pI",
    "outputId": "ed403d59-60b2-404a-9b46-938dcf4088fa"
=======
   "execution_count": 31,
   "metadata": {
    "colab": {
     "base_uri": "https://localhost:8080/"
    },
    "id": "yxeGQs8K1PV9",
    "outputId": "244e6f36-e1a0-43fc-ab2e-411abc51aec3"
>>>>>>> Stashed changes
   },
   "outputs": [
    {
     "data": {
<<<<<<< Updated upstream
      "text/html": [
       "<style>div.sk-top-container {color: black;background-color: white;}div.sk-toggleable {background-color: white;}label.sk-toggleable__label {cursor: pointer;display: block;width: 100%;margin-bottom: 0;padding: 0.2em 0.3em;box-sizing: border-box;text-align: center;}div.sk-toggleable__content {max-height: 0;max-width: 0;overflow: hidden;text-align: left;background-color: #f0f8ff;}div.sk-toggleable__content pre {margin: 0.2em;color: black;border-radius: 0.25em;background-color: #f0f8ff;}input.sk-toggleable__control:checked~div.sk-toggleable__content {max-height: 200px;max-width: 100%;overflow: auto;}div.sk-estimator input.sk-toggleable__control:checked~label.sk-toggleable__label {background-color: #d4ebff;}div.sk-label input.sk-toggleable__control:checked~label.sk-toggleable__label {background-color: #d4ebff;}input.sk-hidden--visually {border: 0;clip: rect(1px 1px 1px 1px);clip: rect(1px, 1px, 1px, 1px);height: 1px;margin: -1px;overflow: hidden;padding: 0;position: absolute;width: 1px;}div.sk-estimator {font-family: monospace;background-color: #f0f8ff;margin: 0.25em 0.25em;border: 1px dotted black;border-radius: 0.25em;box-sizing: border-box;}div.sk-estimator:hover {background-color: #d4ebff;}div.sk-parallel-item::after {content: \"\";width: 100%;border-bottom: 1px solid gray;flex-grow: 1;}div.sk-label:hover label.sk-toggleable__label {background-color: #d4ebff;}div.sk-serial::before {content: \"\";position: absolute;border-left: 1px solid gray;box-sizing: border-box;top: 2em;bottom: 0;left: 50%;}div.sk-serial {display: flex;flex-direction: column;align-items: center;background-color: white;}div.sk-item {z-index: 1;}div.sk-parallel {display: flex;align-items: stretch;justify-content: center;background-color: white;}div.sk-parallel-item {display: flex;flex-direction: column;position: relative;background-color: white;}div.sk-parallel-item:first-child::after {align-self: flex-end;width: 50%;}div.sk-parallel-item:last-child::after {align-self: flex-start;width: 50%;}div.sk-parallel-item:only-child::after {width: 0;}div.sk-dashed-wrapped {border: 1px dashed gray;margin: 0.2em;box-sizing: border-box;padding-bottom: 0.1em;background-color: white;position: relative;}div.sk-label label {font-family: monospace;font-weight: bold;background-color: white;display: inline-block;line-height: 1.2em;}div.sk-label-container {position: relative;z-index: 2;text-align: center;}div.sk-container {display: inline-block;position: relative;}</style><div class=\"sk-top-container\"><div class=\"sk-container\"><div class=\"sk-item\"><div class=\"sk-estimator sk-toggleable\"><input class=\"sk-toggleable__control sk-hidden--visually\" id=\"e5dc238d-8a69-46c6-af7e-b4714738d056\" type=\"checkbox\" checked><label class=\"sk-toggleable__label\" for=\"e5dc238d-8a69-46c6-af7e-b4714738d056\">ColDropper</label><div class=\"sk-toggleable__content\"><pre>ColDropper()</pre></div></div></div></div></div>"
      ],
      "text/plain": [
       "ColDropper()"
      ]
     },
     "execution_count": 21,
=======
      "text/plain": [
       "13.90102002089668"
      ]
     },
     "execution_count": 31,
>>>>>>> Stashed changes
     "metadata": {},
     "output_type": "execute_result"
    }
   ],
   "source": [
<<<<<<< Updated upstream
    "# TEST\n",
    "elimator = ColDropper(callback_days=14)\n",
    "elimator.fit(X_df)"
=======
    "(1 - r2_score(test_y_sr, pipe_line.predict(test_X_df))) * 100"
   ]
  },
  {
   "cell_type": "markdown",
   "metadata": {
    "id": "lmnQexKF1XUA"
   },
   "source": [
    "Đánh giá độ lỗi trên bộ dữ liệu của cả nước Mỹ"
>>>>>>> Stashed changes
   ]
  },
  {
   "cell_type": "code",
<<<<<<< Updated upstream
   "execution_count": 22,
   "metadata": {
    "id": "1pmLX-jSw6tN"
   },
   "outputs": [],
   "source": [
    "# elimator.transform(train_X_df).duplicated(keep='last').sum()\n",
    "# 262 (if callback_days = 20) How?"
=======
   "execution_count": 32,
   "metadata": {
    "colab": {
     "base_uri": "https://localhost:8080/"
    },
    "id": "K1020CJ62Vfo",
    "outputId": "ac08a600-7965-49d5-ad18-ca265fd56d3e"
   },
   "outputs": [
    {
     "data": {
      "text/plain": [
       "4.699848055141831"
      ]
     },
     "execution_count": 32,
     "metadata": {},
     "output_type": "execute_result"
    }
   ],
   "source": [
    "(1 - r2_score(usa_y_sr, pipe_line.predict(usa_X_df))) * 100"
   ]
  },
  {
   "cell_type": "markdown",
   "metadata": {
    "id": "FGKjOELuyV5B"
   },
   "source": [
    "#### Thử nhiệm 2: Mô hình Ridge (Linear)"
   ]
  },
  {
   "cell_type": "code",
   "execution_count": 33,
   "metadata": {
    "id": "uL1tvsZMadio"
   },
   "outputs": [],
   "source": [
    "pipe_line1 = make_pipeline(ColDropper(), SimpleImputer(strategy='mean'),\n",
    "            StandardScaler(),\n",
    "            Ridge())"
   ]
  },
  {
   "cell_type": "code",
   "execution_count": 34,
   "metadata": {
    "colab": {
     "base_uri": "https://localhost:8080/",
     "height": 539
    },
    "id": "AeDoWLmJSjBi",
    "outputId": "37dcae90-ad9f-4c3f-f799-8ae49da47e6d"
   },
   "outputs": [
    {
     "name": "stdout",
     "output_type": "stream",
     "text": [
      "Processing alpha=0.1\tcallback_days=8...\ttrain_err: 25.78438684587887\t val_err: 15.319983666280901\n",
      "Processing alpha=0.1\tcallback_days=10...\ttrain_err: 25.78438684587887\t val_err: 15.319983666280901\n",
      "Processing alpha=0.1\tcallback_days=12...\ttrain_err: 25.78438684587887\t val_err: 15.319983666280901\n",
      "Processing alpha=10\tcallback_days=8...\ttrain_err: 25.78438684587887\t val_err: 15.319983666280901\n",
      "Processing alpha=10\tcallback_days=10...\ttrain_err: 25.78438684587887\t val_err: 15.319983666280901\n",
      "Processing alpha=10\tcallback_days=12...\ttrain_err: 25.78438684587887\t val_err: 15.319983666280901\n",
      "Processing alpha=1000\tcallback_days=8...\ttrain_err: 25.78438684587887\t val_err: 15.319983666280901\n",
      "Processing alpha=1000\tcallback_days=10...\ttrain_err: 25.78438684587887\t val_err: 15.319983666280901\n",
      "Processing alpha=1000\tcallback_days=12...\ttrain_err: 25.78438684587887\t val_err: 15.319983666280901\n"
     ]
    },
    {
     "data": {
      "text/plain": [
       "'Finish!'"
      ]
     },
     "execution_count": 34,
     "metadata": {},
     "output_type": "execute_result"
    }
   ],
   "source": [
    "# Thử nghiệm với các giá trị khác nhau của các siêu tham số\n",
    "# và chọn ra các giá trị tốt nhất\n",
    "\n",
    "train_errs = []\n",
    "val_errs = []\n",
    "alphas = [0.1, 10, 1000]\n",
    "callback_days_s = [8, 10, 12]\n",
    "best_val_err1 = float('inf'); best_alpha1 = None; best_callback_days1 = None\n",
    "for alpha in alphas:\n",
    "    for callback_days in callback_days_s:\n",
    "        \n",
    "        print(f\"Processing alpha={alpha}\\tcallback_days={callback_days}...\", end=\"\\t\")\n",
    "        pipe_line1.set_params(coldropper__callback_days=callback_days, ridge__alpha=alpha)\n",
    "\n",
    "        pipe_line1.fit(train_X_df, train_y_sr)\n",
    "        \n",
    "        train_err = (1 - r2_score(train_y_sr, pipe_line.predict(train_X_df))) * 100\n",
    "        val_err = (1 - r2_score(val_y_sr, pipe_line.predict(val_X_df))) * 100\n",
    "        \n",
    "        train_errs.append(train_err)\n",
    "        val_errs.append(val_err)\n",
    "        \n",
    "        if val_err < best_val_err1:\n",
    "            best_val_err1 = val_err \n",
    "            best_alpha1 = alpha\n",
    "            best_callback_days1 = callback_days        \n",
    "\n",
    "        print(f\"train_err: {train_err}\\t val_err: {val_err}\")  \n",
    "'Finish!'"
   ]
  },
  {
   "cell_type": "code",
   "execution_count": 35,
   "metadata": {
    "colab": {
     "base_uri": "https://localhost:8080/",
     "height": 290
    },
    "id": "XF-ykoHwSWsJ",
    "outputId": "86418cdf-721c-49f4-cc55-8935cfd46eb3"
   },
   "outputs": [
    {
     "data": {
      "image/png": "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\n",
      "text/plain": [
       "<Figure size 720x360 with 2 Axes>"
      ]
     },
     "metadata": {
      "needs_background": "light"
     },
     "output_type": "display_data"
    }
   ],
   "source": [
    "# Trực quan hóa kết quả\n",
    "train_errs_df = pd.DataFrame(data=np.array(train_errs).reshape(len(alphas), -1),\n",
    "                             index=alphas, columns=callback_days_s)\n",
    "val_errs_df = pd.DataFrame(data=np.array(val_errs).reshape(len(alphas), -1), \n",
    "                           index=alphas, columns=callback_days_s)\n",
    "min_err = min(min(train_errs), min(val_errs))\n",
    "max_err = max(max(train_errs), max(val_errs))\n",
    "plt.figure(figsize=(10, 5))\n",
    "plt.subplot(1, 2, 1)\n",
    "sns.heatmap(train_errs_df, vmin=min_err, vmax=max_err, square=True, annot=True, \n",
    "            cbar=False, fmt='.1f', cmap='Reds')\n",
    "plt.title('train errors'); plt.xlabel('callback_days'); plt.ylabel('alpha')\n",
    "plt.subplot(1, 2, 2)\n",
    "sns.heatmap(val_errs_df, vmin=min_err, vmax=max_err, square=True, annot=True, \n",
    "            cbar=False, fmt='.1f', cmap='Reds')\n",
    "plt.title('validation errors'); plt.xlabel('callback_days'); plt.ylabel('alpha');"
>>>>>>> Stashed changes
   ]
  },
  {
   "cell_type": "code",
<<<<<<< Updated upstream
   "execution_count": 23,
   "metadata": {
    "colab": {
     "base_uri": "https://localhost:8080/",
     "height": 422
    },
    "id": "oGwUUuaXwszg",
    "outputId": "49f4ff31-042f-4a3c-d5b1-e59f920a43ed"
=======
   "execution_count": 36,
   "metadata": {
    "colab": {
     "base_uri": "https://localhost:8080/",
     "height": 174
    },
    "id": "0IxJeVGAn_7b",
    "outputId": "34187ab8-2dee-4c1d-dfb9-c5f227df59aa"
>>>>>>> Stashed changes
   },
   "outputs": [
    {
     "data": {
      "text/html": [
<<<<<<< Updated upstream
       "<div>\n",
       "<style scoped>\n",
       "    .dataframe tbody tr th:only-of-type {\n",
       "        vertical-align: middle;\n",
       "    }\n",
       "\n",
       "    .dataframe tbody tr th {\n",
       "        vertical-align: top;\n",
       "    }\n",
       "\n",
       "    .dataframe thead th {\n",
       "        text-align: right;\n",
       "    }\n",
       "</style>\n",
       "<table border=\"1\" class=\"dataframe\">\n",
       "  <thead>\n",
       "    <tr style=\"text-align: right;\">\n",
       "      <th></th>\n",
       "      <th>tot_cases</th>\n",
       "      <th>conf_cases</th>\n",
       "      <th>prob_cases</th>\n",
       "      <th>tot_death</th>\n",
       "      <th>new_death</th>\n",
       "      <th>new_case_his_1</th>\n",
       "      <th>new_case_his_2</th>\n",
       "      <th>new_case_his_3</th>\n",
       "      <th>new_case_his_4</th>\n",
       "      <th>new_case_his_5</th>\n",
       "      <th>new_case_his_6</th>\n",
       "      <th>new_case_his_7</th>\n",
       "      <th>new_case_his_8</th>\n",
       "      <th>new_case_his_9</th>\n",
       "      <th>new_case_his_10</th>\n",
       "      <th>new_case_his_11</th>\n",
       "      <th>new_case_his_12</th>\n",
       "      <th>new_case_his_13</th>\n",
       "      <th>new_case_his_14</th>\n",
       "    </tr>\n",
       "  </thead>\n",
       "  <tbody>\n",
       "    <tr>\n",
       "      <th>7410</th>\n",
       "      <td>24.0</td>\n",
       "      <td>24.0</td>\n",
       "      <td>NaN</td>\n",
       "      <td>0.0</td>\n",
       "      <td>0.0</td>\n",
       "      <td>5.0</td>\n",
       "      <td>4.0</td>\n",
       "      <td>1.0</td>\n",
       "      <td>0.0</td>\n",
       "      <td>7.0</td>\n",
       "      <td>4.0</td>\n",
       "      <td>0.0</td>\n",
       "      <td>0.0</td>\n",
       "      <td>0.0</td>\n",
       "      <td>0.0</td>\n",
       "      <td>2.0</td>\n",
       "      <td>0.0</td>\n",
       "      <td>1.0</td>\n",
       "      <td>0.0</td>\n",
       "    </tr>\n",
       "    <tr>\n",
       "      <th>9764</th>\n",
       "      <td>7116.0</td>\n",
       "      <td>7116.0</td>\n",
       "      <td>0.0</td>\n",
       "      <td>158.0</td>\n",
       "      <td>0.0</td>\n",
       "      <td>132.0</td>\n",
       "      <td>233.0</td>\n",
       "      <td>250.0</td>\n",
       "      <td>357.0</td>\n",
       "      <td>410.0</td>\n",
       "      <td>276.0</td>\n",
       "      <td>213.0</td>\n",
       "      <td>215.0</td>\n",
       "      <td>284.0</td>\n",
       "      <td>297.0</td>\n",
       "      <td>211.0</td>\n",
       "      <td>500.0</td>\n",
       "      <td>247.0</td>\n",
       "      <td>163.0</td>\n",
       "    </tr>\n",
       "    <tr>\n",
       "      <th>13639</th>\n",
       "      <td>33439.0</td>\n",
       "      <td>31191.0</td>\n",
       "      <td>2248.0</td>\n",
       "      <td>2044.0</td>\n",
       "      <td>42.0</td>\n",
       "      <td>529.0</td>\n",
       "      <td>566.0</td>\n",
       "      <td>503.0</td>\n",
       "      <td>614.0</td>\n",
       "      <td>627.0</td>\n",
       "      <td>731.0</td>\n",
       "      <td>484.0</td>\n",
       "      <td>680.0</td>\n",
       "      <td>349.0</td>\n",
       "      <td>449.0</td>\n",
       "      <td>520.0</td>\n",
       "      <td>597.0</td>\n",
       "      <td>636.0</td>\n",
       "      <td>471.0</td>\n",
       "    </tr>\n",
       "    <tr>\n",
       "      <th>17306</th>\n",
       "      <td>57504.0</td>\n",
       "      <td>57504.0</td>\n",
       "      <td>0.0</td>\n",
       "      <td>630.0</td>\n",
       "      <td>16.0</td>\n",
       "      <td>701.0</td>\n",
       "      <td>1138.0</td>\n",
       "      <td>1249.0</td>\n",
       "      <td>1475.0</td>\n",
       "      <td>1236.0</td>\n",
       "      <td>1184.0</td>\n",
       "      <td>1371.0</td>\n",
       "      <td>869.0</td>\n",
       "      <td>1272.0</td>\n",
       "      <td>1642.0</td>\n",
       "      <td>1213.0</td>\n",
       "      <td>961.0</td>\n",
       "      <td>919.0</td>\n",
       "      <td>1098.0</td>\n",
       "    </tr>\n",
       "    <tr>\n",
       "      <th>20180</th>\n",
       "      <td>5215.0</td>\n",
       "      <td>4677.0</td>\n",
       "      <td>538.0</td>\n",
       "      <td>140.0</td>\n",
       "      <td>0.0</td>\n",
       "      <td>25.0</td>\n",
       "      <td>40.0</td>\n",
       "      <td>27.0</td>\n",
       "      <td>44.0</td>\n",
       "      <td>30.0</td>\n",
       "      <td>43.0</td>\n",
       "      <td>21.0</td>\n",
       "      <td>23.0</td>\n",
       "      <td>55.0</td>\n",
       "      <td>0.0</td>\n",
       "      <td>29.0</td>\n",
       "      <td>42.0</td>\n",
       "      <td>31.0</td>\n",
       "      <td>27.0</td>\n",
       "    </tr>\n",
       "    <tr>\n",
       "      <th>...</th>\n",
       "      <td>...</td>\n",
       "      <td>...</td>\n",
       "      <td>...</td>\n",
       "      <td>...</td>\n",
       "      <td>...</td>\n",
       "      <td>...</td>\n",
       "      <td>...</td>\n",
       "      <td>...</td>\n",
       "      <td>...</td>\n",
       "      <td>...</td>\n",
       "      <td>...</td>\n",
       "      <td>...</td>\n",
       "      <td>...</td>\n",
       "      <td>...</td>\n",
       "      <td>...</td>\n",
       "      <td>...</td>\n",
       "      <td>...</td>\n",
       "      <td>...</td>\n",
       "      <td>...</td>\n",
       "    </tr>\n",
       "    <tr>\n",
       "      <th>20160</th>\n",
       "      <td>4197.0</td>\n",
       "      <td>3767.0</td>\n",
       "      <td>430.0</td>\n",
       "      <td>127.0</td>\n",
       "      <td>0.0</td>\n",
       "      <td>24.0</td>\n",
       "      <td>29.0</td>\n",
       "      <td>26.0</td>\n",
       "      <td>20.0</td>\n",
       "      <td>19.0</td>\n",
       "      <td>-1.0</td>\n",
       "      <td>9.0</td>\n",
       "      <td>16.0</td>\n",
       "      <td>11.0</td>\n",
       "      <td>18.0</td>\n",
       "      <td>5.0</td>\n",
       "      <td>17.0</td>\n",
       "      <td>5.0</td>\n",
       "      <td>12.0</td>\n",
       "    </tr>\n",
       "    <tr>\n",
       "      <th>4950</th>\n",
       "      <td>58694.0</td>\n",
       "      <td>51736.0</td>\n",
       "      <td>6958.0</td>\n",
       "      <td>572.0</td>\n",
       "      <td>10.0</td>\n",
       "      <td>1073.0</td>\n",
       "      <td>950.0</td>\n",
       "      <td>987.0</td>\n",
       "      <td>873.0</td>\n",
       "      <td>698.0</td>\n",
       "      <td>510.0</td>\n",
       "      <td>878.0</td>\n",
       "      <td>1094.0</td>\n",
       "      <td>718.0</td>\n",
       "      <td>645.0</td>\n",
       "      <td>584.0</td>\n",
       "      <td>597.0</td>\n",
       "      <td>365.0</td>\n",
       "      <td>613.0</td>\n",
       "    </tr>\n",
       "    <tr>\n",
       "      <th>13760</th>\n",
       "      <td>126868.0</td>\n",
       "      <td>117450.0</td>\n",
       "      <td>9418.0</td>\n",
       "      <td>9008.0</td>\n",
       "      <td>21.0</td>\n",
       "      <td>315.0</td>\n",
       "      <td>349.0</td>\n",
       "      <td>571.0</td>\n",
       "      <td>0.0</td>\n",
       "      <td>109.0</td>\n",
       "      <td>431.0</td>\n",
       "      <td>313.0</td>\n",
       "      <td>352.0</td>\n",
       "      <td>221.0</td>\n",
       "      <td>249.0</td>\n",
       "      <td>394.0</td>\n",
       "      <td>-882.0</td>\n",
       "      <td>1826.0</td>\n",
       "      <td>319.0</td>\n",
       "    </tr>\n",
       "    <tr>\n",
       "      <th>796</th>\n",
       "      <td>74506.0</td>\n",
       "      <td>74506.0</td>\n",
       "      <td>NaN</td>\n",
       "      <td>1218.0</td>\n",
       "      <td>1.0</td>\n",
       "      <td>627.0</td>\n",
       "      <td>795.0</td>\n",
       "      <td>1010.0</td>\n",
       "      <td>400.0</td>\n",
       "      <td>462.0</td>\n",
       "      <td>393.0</td>\n",
       "      <td>763.0</td>\n",
       "      <td>991.0</td>\n",
       "      <td>1105.0</td>\n",
       "      <td>885.0</td>\n",
       "      <td>818.0</td>\n",
       "      <td>625.0</td>\n",
       "      <td>615.0</td>\n",
       "      <td>1009.0</td>\n",
       "    </tr>\n",
       "    <tr>\n",
       "      <th>18464</th>\n",
       "      <td>138.0</td>\n",
       "      <td>138.0</td>\n",
       "      <td>NaN</td>\n",
       "      <td>5.0</td>\n",
       "      <td>0.0</td>\n",
       "      <td>0.0</td>\n",
       "      <td>0.0</td>\n",
       "      <td>0.0</td>\n",
       "      <td>0.0</td>\n",
       "      <td>1.0</td>\n",
       "      <td>0.0</td>\n",
       "      <td>0.0</td>\n",
       "      <td>0.0</td>\n",
       "      <td>2.0</td>\n",
       "      <td>0.0</td>\n",
       "      <td>3.0</td>\n",
       "      <td>2.0</td>\n",
       "      <td>5.0</td>\n",
       "      <td>1.0</td>\n",
       "    </tr>\n",
       "  </tbody>\n",
       "</table>\n",
       "<p>11820 rows × 19 columns</p>\n",
       "</div>"
      ],
      "text/plain": [
       "       tot_cases  conf_cases  prob_cases  tot_death  new_death  \\\n",
       "7410        24.0        24.0         NaN        0.0        0.0   \n",
       "9764      7116.0      7116.0         0.0      158.0        0.0   \n",
       "13639    33439.0     31191.0      2248.0     2044.0       42.0   \n",
       "17306    57504.0     57504.0         0.0      630.0       16.0   \n",
       "20180     5215.0      4677.0       538.0      140.0        0.0   \n",
       "...          ...         ...         ...        ...        ...   \n",
       "20160     4197.0      3767.0       430.0      127.0        0.0   \n",
       "4950     58694.0     51736.0      6958.0      572.0       10.0   \n",
       "13760   126868.0    117450.0      9418.0     9008.0       21.0   \n",
       "796      74506.0     74506.0         NaN     1218.0        1.0   \n",
       "18464      138.0       138.0         NaN        5.0        0.0   \n",
       "\n",
       "       new_case_his_1  new_case_his_2  new_case_his_3  new_case_his_4  \\\n",
       "7410              5.0             4.0             1.0             0.0   \n",
       "9764            132.0           233.0           250.0           357.0   \n",
       "13639           529.0           566.0           503.0           614.0   \n",
       "17306           701.0          1138.0          1249.0          1475.0   \n",
       "20180            25.0            40.0            27.0            44.0   \n",
       "...               ...             ...             ...             ...   \n",
       "20160            24.0            29.0            26.0            20.0   \n",
       "4950           1073.0           950.0           987.0           873.0   \n",
       "13760           315.0           349.0           571.0             0.0   \n",
       "796             627.0           795.0          1010.0           400.0   \n",
       "18464             0.0             0.0             0.0             0.0   \n",
       "\n",
       "       new_case_his_5  new_case_his_6  new_case_his_7  new_case_his_8  \\\n",
       "7410              7.0             4.0             0.0             0.0   \n",
       "9764            410.0           276.0           213.0           215.0   \n",
       "13639           627.0           731.0           484.0           680.0   \n",
       "17306          1236.0          1184.0          1371.0           869.0   \n",
       "20180            30.0            43.0            21.0            23.0   \n",
       "...               ...             ...             ...             ...   \n",
       "20160            19.0            -1.0             9.0            16.0   \n",
       "4950            698.0           510.0           878.0          1094.0   \n",
       "13760           109.0           431.0           313.0           352.0   \n",
       "796             462.0           393.0           763.0           991.0   \n",
       "18464             1.0             0.0             0.0             0.0   \n",
       "\n",
       "       new_case_his_9  new_case_his_10  new_case_his_11  new_case_his_12  \\\n",
       "7410              0.0              0.0              2.0              0.0   \n",
       "9764            284.0            297.0            211.0            500.0   \n",
       "13639           349.0            449.0            520.0            597.0   \n",
       "17306          1272.0           1642.0           1213.0            961.0   \n",
       "20180            55.0              0.0             29.0             42.0   \n",
       "...               ...              ...              ...              ...   \n",
       "20160            11.0             18.0              5.0             17.0   \n",
       "4950            718.0            645.0            584.0            597.0   \n",
       "13760           221.0            249.0            394.0           -882.0   \n",
       "796            1105.0            885.0            818.0            625.0   \n",
       "18464             2.0              0.0              3.0              2.0   \n",
       "\n",
       "       new_case_his_13  new_case_his_14  \n",
       "7410               1.0              0.0  \n",
       "9764             247.0            163.0  \n",
       "13639            636.0            471.0  \n",
       "17306            919.0           1098.0  \n",
       "20180             31.0             27.0  \n",
       "...                ...              ...  \n",
       "20160              5.0             12.0  \n",
       "4950             365.0            613.0  \n",
       "13760           1826.0            319.0  \n",
       "796              615.0           1009.0  \n",
       "18464              5.0              1.0  \n",
       "\n",
       "[11820 rows x 19 columns]"
      ]
     },
     "execution_count": 23,
=======
       "<style>div.sk-top-container {color: black;background-color: white;}div.sk-toggleable {background-color: white;}label.sk-toggleable__label {cursor: pointer;display: block;width: 100%;margin-bottom: 0;padding: 0.2em 0.3em;box-sizing: border-box;text-align: center;}div.sk-toggleable__content {max-height: 0;max-width: 0;overflow: hidden;text-align: left;background-color: #f0f8ff;}div.sk-toggleable__content pre {margin: 0.2em;color: black;border-radius: 0.25em;background-color: #f0f8ff;}input.sk-toggleable__control:checked~div.sk-toggleable__content {max-height: 200px;max-width: 100%;overflow: auto;}div.sk-estimator input.sk-toggleable__control:checked~label.sk-toggleable__label {background-color: #d4ebff;}div.sk-label input.sk-toggleable__control:checked~label.sk-toggleable__label {background-color: #d4ebff;}input.sk-hidden--visually {border: 0;clip: rect(1px 1px 1px 1px);clip: rect(1px, 1px, 1px, 1px);height: 1px;margin: -1px;overflow: hidden;padding: 0;position: absolute;width: 1px;}div.sk-estimator {font-family: monospace;background-color: #f0f8ff;margin: 0.25em 0.25em;border: 1px dotted black;border-radius: 0.25em;box-sizing: border-box;}div.sk-estimator:hover {background-color: #d4ebff;}div.sk-parallel-item::after {content: \"\";width: 100%;border-bottom: 1px solid gray;flex-grow: 1;}div.sk-label:hover label.sk-toggleable__label {background-color: #d4ebff;}div.sk-serial::before {content: \"\";position: absolute;border-left: 1px solid gray;box-sizing: border-box;top: 2em;bottom: 0;left: 50%;}div.sk-serial {display: flex;flex-direction: column;align-items: center;background-color: white;}div.sk-item {z-index: 1;}div.sk-parallel {display: flex;align-items: stretch;justify-content: center;background-color: white;}div.sk-parallel-item {display: flex;flex-direction: column;position: relative;background-color: white;}div.sk-parallel-item:first-child::after {align-self: flex-end;width: 50%;}div.sk-parallel-item:last-child::after {align-self: flex-start;width: 50%;}div.sk-parallel-item:only-child::after {width: 0;}div.sk-dashed-wrapped {border: 1px dashed gray;margin: 0.2em;box-sizing: border-box;padding-bottom: 0.1em;background-color: white;position: relative;}div.sk-label label {font-family: monospace;font-weight: bold;background-color: white;display: inline-block;line-height: 1.2em;}div.sk-label-container {position: relative;z-index: 2;text-align: center;}div.sk-container {display: inline-block;position: relative;}</style><div class=\"sk-top-container\"><div class=\"sk-container\"><div class=\"sk-item sk-dashed-wrapped\"><div class=\"sk-label-container\"><div class=\"sk-label sk-toggleable\"><input class=\"sk-toggleable__control sk-hidden--visually\" id=\"f2bfb2e8-52c0-4b6b-bec1-379b3809bee2\" type=\"checkbox\" ><label class=\"sk-toggleable__label\" for=\"f2bfb2e8-52c0-4b6b-bec1-379b3809bee2\">Pipeline</label><div class=\"sk-toggleable__content\"><pre>Pipeline(steps=[('coldropper', ColDropper(callback_days=8)),\n",
       "                ('simpleimputer', SimpleImputer()),\n",
       "                ('standardscaler', StandardScaler()),\n",
       "                ('ridge', Ridge(alpha=0.1))])</pre></div></div></div><div class=\"sk-serial\"><div class=\"sk-item\"><div class=\"sk-estimator sk-toggleable\"><input class=\"sk-toggleable__control sk-hidden--visually\" id=\"00833ff0-866c-4b02-876c-c2c6969734f2\" type=\"checkbox\" ><label class=\"sk-toggleable__label\" for=\"00833ff0-866c-4b02-876c-c2c6969734f2\">ColDropper</label><div class=\"sk-toggleable__content\"><pre>ColDropper(callback_days=8)</pre></div></div></div><div class=\"sk-item\"><div class=\"sk-estimator sk-toggleable\"><input class=\"sk-toggleable__control sk-hidden--visually\" id=\"bccb6acc-589a-4390-a21a-490894ab6506\" type=\"checkbox\" ><label class=\"sk-toggleable__label\" for=\"bccb6acc-589a-4390-a21a-490894ab6506\">SimpleImputer</label><div class=\"sk-toggleable__content\"><pre>SimpleImputer()</pre></div></div></div><div class=\"sk-item\"><div class=\"sk-estimator sk-toggleable\"><input class=\"sk-toggleable__control sk-hidden--visually\" id=\"5d572e46-2a1a-4d6a-8723-b41597174ce2\" type=\"checkbox\" ><label class=\"sk-toggleable__label\" for=\"5d572e46-2a1a-4d6a-8723-b41597174ce2\">StandardScaler</label><div class=\"sk-toggleable__content\"><pre>StandardScaler()</pre></div></div></div><div class=\"sk-item\"><div class=\"sk-estimator sk-toggleable\"><input class=\"sk-toggleable__control sk-hidden--visually\" id=\"212aaa84-e52a-4647-bede-22bb80c92453\" type=\"checkbox\" ><label class=\"sk-toggleable__label\" for=\"212aaa84-e52a-4647-bede-22bb80c92453\">Ridge</label><div class=\"sk-toggleable__content\"><pre>Ridge(alpha=0.1)</pre></div></div></div></div></div></div></div>"
      ],
      "text/plain": [
       "Pipeline(steps=[('coldropper', ColDropper(callback_days=8)),\n",
       "                ('simpleimputer', SimpleImputer()),\n",
       "                ('standardscaler', StandardScaler()),\n",
       "                ('ridge', Ridge(alpha=0.1))])"
      ]
     },
     "execution_count": 36,
>>>>>>> Stashed changes
     "metadata": {},
     "output_type": "execute_result"
    }
   ],
   "source": [
<<<<<<< Updated upstream
    "\n",
    "tmp = elimator.transform(train_X_df)\n",
    "tmp"
   ]
  },
  {
   "cell_type": "markdown",
   "metadata": {
    "id": "WtICMrfQwyQh"
   },
   "source": [
    "### Xây dựng pipeline\n",
    "\n"
   ]
  },
  {
   "cell_type": "markdown",
   "metadata": {
    "id": "Qug1v-6ZJZP7"
   },
   "source": [
    "Các thuộc tính sẽ được fill bằng `mean` nhằm đảm bảo không còn nơi nào bị thiếu dữ liệu kể cả trên bộ test mới."
   ]
  },
  {
   "cell_type": "markdown",
   "metadata": {
    "id": "siTPr8oHWUU7"
   },
   "source": [
    "## Tiền xử lý + mô hình hóa"
=======
    "pipe_line1.set_params(coldropper__callback_days=best_callback_days1, ridge__alpha=best_alpha1)\n",
    " \n",
    "pipe_line1.fit(pd.concat([train_X_df, val_X_df]), pd.concat([train_y_sr, val_y_sr]))"
>>>>>>> Stashed changes
   ]
  },
  {
   "cell_type": "markdown",
   "metadata": {
<<<<<<< Updated upstream
    "id": "cHE82zKXWZLF"
   },
   "source": [
    "### Tìm mô hình tốt nhất"
=======
    "id": "6A7GxQwL2uCe"
   },
   "source": [
    "Đánh giá độ lỗi trên bộ test"
>>>>>>> Stashed changes
   ]
  },
  {
   "cell_type": "code",
<<<<<<< Updated upstream
   "execution_count": 24,
=======
   "execution_count": 37,
>>>>>>> Stashed changes
   "metadata": {
    "colab": {
     "base_uri": "https://localhost:8080/"
    },
<<<<<<< Updated upstream
    "id": "77T-qj7JJYmo",
    "outputId": "2b38e13f-54a6-4ddd-dd2c-68c40319f4bc"
   },
   "outputs": [
    {
     "name": "stderr",
     "output_type": "stream",
     "text": [
      "/home/codespace/.local/lib/python3.8/site-packages/sklearn/neural_network/_multilayer_perceptron.py:500: ConvergenceWarning: lbfgs failed to converge (status=1):\n",
      "STOP: TOTAL NO. of ITERATIONS REACHED LIMIT.\n",
      "\n",
      "Increase the number of iterations (max_iter) or scale the data as shown in:\n",
      "    https://scikit-learn.org/stable/modules/preprocessing.html\n",
      "  self.n_iter_ = _check_optimize_result(\"lbfgs\", opt_res, self.max_iter)\n"
     ]
    },
    {
     "data": {
      "text/html": [
       "<style>div.sk-top-container {color: black;background-color: white;}div.sk-toggleable {background-color: white;}label.sk-toggleable__label {cursor: pointer;display: block;width: 100%;margin-bottom: 0;padding: 0.2em 0.3em;box-sizing: border-box;text-align: center;}div.sk-toggleable__content {max-height: 0;max-width: 0;overflow: hidden;text-align: left;background-color: #f0f8ff;}div.sk-toggleable__content pre {margin: 0.2em;color: black;border-radius: 0.25em;background-color: #f0f8ff;}input.sk-toggleable__control:checked~div.sk-toggleable__content {max-height: 200px;max-width: 100%;overflow: auto;}div.sk-estimator input.sk-toggleable__control:checked~label.sk-toggleable__label {background-color: #d4ebff;}div.sk-label input.sk-toggleable__control:checked~label.sk-toggleable__label {background-color: #d4ebff;}input.sk-hidden--visually {border: 0;clip: rect(1px 1px 1px 1px);clip: rect(1px, 1px, 1px, 1px);height: 1px;margin: -1px;overflow: hidden;padding: 0;position: absolute;width: 1px;}div.sk-estimator {font-family: monospace;background-color: #f0f8ff;margin: 0.25em 0.25em;border: 1px dotted black;border-radius: 0.25em;box-sizing: border-box;}div.sk-estimator:hover {background-color: #d4ebff;}div.sk-parallel-item::after {content: \"\";width: 100%;border-bottom: 1px solid gray;flex-grow: 1;}div.sk-label:hover label.sk-toggleable__label {background-color: #d4ebff;}div.sk-serial::before {content: \"\";position: absolute;border-left: 1px solid gray;box-sizing: border-box;top: 2em;bottom: 0;left: 50%;}div.sk-serial {display: flex;flex-direction: column;align-items: center;background-color: white;}div.sk-item {z-index: 1;}div.sk-parallel {display: flex;align-items: stretch;justify-content: center;background-color: white;}div.sk-parallel-item {display: flex;flex-direction: column;position: relative;background-color: white;}div.sk-parallel-item:first-child::after {align-self: flex-end;width: 50%;}div.sk-parallel-item:last-child::after {align-self: flex-start;width: 50%;}div.sk-parallel-item:only-child::after {width: 0;}div.sk-dashed-wrapped {border: 1px dashed gray;margin: 0.2em;box-sizing: border-box;padding-bottom: 0.1em;background-color: white;position: relative;}div.sk-label label {font-family: monospace;font-weight: bold;background-color: white;display: inline-block;line-height: 1.2em;}div.sk-label-container {position: relative;z-index: 2;text-align: center;}div.sk-container {display: inline-block;position: relative;}</style><div class=\"sk-top-container\"><div class=\"sk-container\"><div class=\"sk-item sk-dashed-wrapped\"><div class=\"sk-label-container\"><div class=\"sk-label sk-toggleable\"><input class=\"sk-toggleable__control sk-hidden--visually\" id=\"a3c62f06-9ef5-4a4b-9657-721f68d8f5a3\" type=\"checkbox\" ><label class=\"sk-toggleable__label\" for=\"a3c62f06-9ef5-4a4b-9657-721f68d8f5a3\">Pipeline</label><div class=\"sk-toggleable__content\"><pre>Pipeline(steps=[('coldropper', ColDropper()),\n",
       "                ('simpleimputer', SimpleImputer()),\n",
       "                ('standardscaler', StandardScaler()),\n",
       "                ('mlpregressor',\n",
       "                 MLPRegressor(activation='tanh', hidden_layer_sizes=30,\n",
       "                              max_iter=5000, random_state=0, solver='lbfgs'))])</pre></div></div></div><div class=\"sk-serial\"><div class=\"sk-item\"><div class=\"sk-estimator sk-toggleable\"><input class=\"sk-toggleable__control sk-hidden--visually\" id=\"bb448039-761b-420f-accc-30b8279b8a8e\" type=\"checkbox\" ><label class=\"sk-toggleable__label\" for=\"bb448039-761b-420f-accc-30b8279b8a8e\">ColDropper</label><div class=\"sk-toggleable__content\"><pre>ColDropper()</pre></div></div></div><div class=\"sk-item\"><div class=\"sk-estimator sk-toggleable\"><input class=\"sk-toggleable__control sk-hidden--visually\" id=\"63228426-bd7b-448c-9317-f9f508983174\" type=\"checkbox\" ><label class=\"sk-toggleable__label\" for=\"63228426-bd7b-448c-9317-f9f508983174\">SimpleImputer</label><div class=\"sk-toggleable__content\"><pre>SimpleImputer()</pre></div></div></div><div class=\"sk-item\"><div class=\"sk-estimator sk-toggleable\"><input class=\"sk-toggleable__control sk-hidden--visually\" id=\"9c259cd8-4f49-4b69-9f55-2198be9d1cb1\" type=\"checkbox\" ><label class=\"sk-toggleable__label\" for=\"9c259cd8-4f49-4b69-9f55-2198be9d1cb1\">StandardScaler</label><div class=\"sk-toggleable__content\"><pre>StandardScaler()</pre></div></div></div><div class=\"sk-item\"><div class=\"sk-estimator sk-toggleable\"><input class=\"sk-toggleable__control sk-hidden--visually\" id=\"0a114d18-e95b-4038-b29d-2e5dd03c830f\" type=\"checkbox\" ><label class=\"sk-toggleable__label\" for=\"0a114d18-e95b-4038-b29d-2e5dd03c830f\">MLPRegressor</label><div class=\"sk-toggleable__content\"><pre>MLPRegressor(activation='tanh', hidden_layer_sizes=30, max_iter=5000,\n",
       "             random_state=0, solver='lbfgs')</pre></div></div></div></div></div></div></div>"
      ],
      "text/plain": [
       "Pipeline(steps=[('coldropper', ColDropper()),\n",
       "                ('simpleimputer', SimpleImputer()),\n",
       "                ('standardscaler', StandardScaler()),\n",
       "                ('mlpregressor',\n",
       "                 MLPRegressor(activation='tanh', hidden_layer_sizes=30,\n",
       "                              max_iter=5000, random_state=0, solver='lbfgs'))])"
      ]
     },
     "execution_count": 24,
=======
    "id": "ul8H9EFPtgxS",
    "outputId": "4f6aa75b-8546-4e7e-c469-3ad34290b659"
   },
   "outputs": [
    {
     "data": {
      "text/plain": [
       "13.95284297965469"
      ]
     },
     "execution_count": 37,
>>>>>>> Stashed changes
     "metadata": {},
     "output_type": "execute_result"
    }
   ],
   "source": [
<<<<<<< Updated upstream
    "pipe_line = make_pipeline(ColDropper(), SimpleImputer(strategy='mean'),\n",
    "            StandardScaler(),\n",
    "            MLPRegressor(hidden_layer_sizes=(30), activation='tanh', solver='lbfgs', max_iter=5000, random_state=0))\n",
    "\n",
    "\n",
    "pipe_line.fit(train_X_df, train_y_sr)"
=======
    "(1 - r2_score(test_y_sr, pipe_line1.predict(test_X_df))) * 100"
>>>>>>> Stashed changes
   ]
  },
  {
   "cell_type": "markdown",
   "metadata": {
<<<<<<< Updated upstream
    "id": "gTKMNZBrSvSK"
   },
   "source": [
    "Thử validation xem sao"
   ]
  },
  {
   "cell_type": "code",
   "execution_count": 25,
   "metadata": {},
   "outputs": [
    {
     "data": {
      "text/plain": [
       "28.055196603750776"
      ]
     },
     "execution_count": 25,
     "metadata": {},
     "output_type": "execute_result"
    }
   ],
   "source": [
    "train_err = (1 - r2_score(train_y_sr, pipe_line.predict(train_X_df))) * 100\n",
    "train_err"
=======
    "id": "IHJcxM9222LV"
   },
   "source": [
    "Đánh giá độ lỗi trên bộ dữ liệu của cả nước Mỹ"
>>>>>>> Stashed changes
   ]
  },
  {
   "cell_type": "code",
<<<<<<< Updated upstream
   "execution_count": 26,
=======
   "execution_count": 38,
>>>>>>> Stashed changes
   "metadata": {
    "colab": {
     "base_uri": "https://localhost:8080/"
    },
<<<<<<< Updated upstream
    "id": "35Wm0C46RL2H",
    "outputId": "cad5e386-adb2-48f1-86dc-937b3bd8fdc9"
=======
    "id": "vHOJWgGx2lqE",
    "outputId": "9f5ef41e-5062-497b-9387-ba803ab05d51"
>>>>>>> Stashed changes
   },
   "outputs": [
    {
     "data": {
      "text/plain": [
<<<<<<< Updated upstream
       "32.482707942425534"
      ]
     },
     "execution_count": 26,
     "metadata": {},
     "output_type": "execute_result"
    }
   ],
   "source": [
    "val_err = (1 - r2_score(val_y_sr, pipe_line.predict(val_X_df))) * 100        \n",
    "val_err"
   ]
  },
  {
   "cell_type": "markdown",
   "metadata": {
    "id": "FoPZ0ekm9dWJ"
   },
   "source": [
    "### Đánh giá mô hình tìm được"
   ]
=======
       "19.892249840392573"
      ]
     },
     "execution_count": 38,
     "metadata": {},
     "output_type": "execute_result"
    }
   ],
   "source": [
    "(1 - r2_score(usa_y_sr, pipe_line1.predict(usa_X_df))) * 100"
   ]
  },
  {
   "cell_type": "markdown",
   "metadata": {
    "id": "FoPZ0ekm9dWJ"
   },
   "source": [
    "### Đánh giá mô hình tìm được"
   ]
  },
  {
   "cell_type": "markdown",
   "metadata": {
    "id": "0ubkRtg62_sW"
   },
   "source": [
    "TODO: Chọn mô hình nào, giải thích"
   ]
  },
  {
   "cell_type": "code",
   "execution_count": 39,
   "metadata": {
    "colab": {
     "base_uri": "https://localhost:8080/",
     "height": 282
    },
    "id": "Saj4Xs9ehB4h",
    "outputId": "3da9efe5-e17e-4b7c-ae8c-a5e28fc126b4"
   },
   "outputs": [
    {
     "data": {
      "text/plain": [
       "<matplotlib.legend.Legend at 0x7fb7aba24730>"
      ]
     },
     "execution_count": 39,
     "metadata": {},
     "output_type": "execute_result"
    },
    {
     "data": {
      "image/png": "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\n",
      "text/plain": [
       "<Figure size 432x288 with 1 Axes>"
      ]
     },
     "metadata": {
      "needs_background": "light"
     },
     "output_type": "display_data"
    }
   ],
   "source": [
    "plt.plot(usa_y_sr)\n",
    "plt.plot(pipe_line.predict(usa_X_df))\n",
    "plt.legend(['y_test', 'y_test_pred'])"
   ]
  },
  {
   "cell_type": "code",
   "execution_count": 40,
   "metadata": {
    "colab": {
     "base_uri": "https://localhost:8080/",
     "height": 282
    },
    "id": "r3XXUUq7jLLl",
    "outputId": "d936d88a-2129-4524-bd74-a71611aee419"
   },
   "outputs": [
    {
     "data": {
      "text/plain": [
       "<matplotlib.legend.Legend at 0x7fb7a9e7cc10>"
      ]
     },
     "execution_count": 40,
     "metadata": {},
     "output_type": "execute_result"
    },
    {
     "data": {
      "image/png": "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\n",
      "text/plain": [
       "<Figure size 432x288 with 1 Axes>"
      ]
     },
     "metadata": {
      "needs_background": "light"
     },
     "output_type": "display_data"
    }
   ],
   "source": [
    "plt.plot(test_y_sr.reset_index(drop=True))\n",
    "plt.plot(pipe_line.predict(test_X_df))\n",
    "plt.legend(['y_test', 'y_test_pred'])"
   ]
  },
  {
   "cell_type": "code",
   "execution_count": null,
   "metadata": {
    "id": "RCmEVu7Glxa-"
   },
   "outputs": [],
   "source": []
>>>>>>> Stashed changes
  }
 ],
 "metadata": {
  "colab": {
   "collapsed_sections": [],
<<<<<<< Updated upstream
   "name": "LabFinal.ipynb",
=======
   "name": "ProjectFinal.ipynb",
>>>>>>> Stashed changes
   "provenance": [],
   "toc_visible": true
  },
  "kernelspec": {
   "display_name": "Python 3",
   "language": "python",
   "name": "python3"
  },
  "language_info": {
   "codemirror_mode": {
    "name": "ipython",
    "version": 3
   },
   "file_extension": ".py",
   "mimetype": "text/x-python",
   "name": "python",
   "nbconvert_exporter": "python",
   "pygments_lexer": "ipython3",
<<<<<<< Updated upstream
   "version": "3.8.6-final"
=======
   "version": "3.8.5"
>>>>>>> Stashed changes
  }
 },
 "nbformat": 4,
 "nbformat_minor": 1
}